{
  "cells": [
    {
      "cell_type": "markdown",
      "id": "1a40531c-f295-43c3-98dc-3eea9a1355b4",
      "metadata": {
        "id": "1a40531c-f295-43c3-98dc-3eea9a1355b4"
      },
      "source": [
        "# 0. Data Loading and Libraries"
      ]
    },
    {
      "cell_type": "code",
      "execution_count": 159,
      "id": "691d3f4b-d832-49d5-92f2-5d080465fcb7",
      "metadata": {
        "id": "691d3f4b-d832-49d5-92f2-5d080465fcb7"
      },
      "outputs": [],
      "source": [
        "import pandas as pd\n",
        "import numpy as np\n",
        "import sklearn as sk\n",
        "import matplotlib.pyplot as plt\n",
        "import seaborn as sns\n",
        "from scipy.stats import chi2_contingency\n",
        "from sklearn.model_selection import train_test_split"
      ]
    },
    {
      "cell_type": "code",
      "execution_count": 160,
      "id": "3c3ce6e7-f642-4eaf-9350-eb888aadfc93",
      "metadata": {
        "id": "3c3ce6e7-f642-4eaf-9350-eb888aadfc93",
        "outputId": "ddb64442-20a9-47e5-cfaf-1b65ad383efa",
        "colab": {
          "base_uri": "https://localhost:8080/"
        }
      },
      "outputs": [
        {
          "output_type": "stream",
          "name": "stderr",
          "text": [
            "<ipython-input-160-d68ed3152127>:2: DtypeWarning: Columns (29) have mixed types. Specify dtype option on import or set low_memory=False.\n",
            "  df_train = pd.read_csv(\"/content/train_data.csv\")\n"
          ]
        }
      ],
      "source": [
        "# Loading data\n",
        "df_train = pd.read_csv(\"/content/train_data.csv\")\n",
        "df_test = pd.read_csv(\"/content/test_data.csv\")"
      ]
    },
    {
      "cell_type": "markdown",
      "id": "dd1a99c5-ddbe-40ab-b774-81817814de63",
      "metadata": {
        "id": "dd1a99c5-ddbe-40ab-b774-81817814de63"
      },
      "source": [
        "# 1. Exploratory Analysis"
      ]
    },
    {
      "cell_type": "markdown",
      "id": "a75c424a-f8ad-412d-924b-528b353e92dd",
      "metadata": {
        "id": "a75c424a-f8ad-412d-924b-528b353e92dd"
      },
      "source": [
        "## Helper functions"
      ]
    },
    {
      "cell_type": "code",
      "execution_count": 161,
      "id": "14f11558-e7ba-4c9f-8143-84f1a0e8115f",
      "metadata": {
        "id": "14f11558-e7ba-4c9f-8143-84f1a0e8115f"
      },
      "outputs": [],
      "source": [
        "def convert_dates(df, date_columns):\n",
        "    \"\"\"Convert specified columns to datetime.\"\"\"\n",
        "    for col in date_columns:\n",
        "        df[col] = pd.to_datetime(df[col], errors='coerce')"
      ]
    },
    {
      "cell_type": "code",
      "execution_count": 162,
      "id": "a5fcc01c-c0c6-4a49-80fa-6efb9f752bd6",
      "metadata": {
        "id": "a5fcc01c-c0c6-4a49-80fa-6efb9f752bd6"
      },
      "outputs": [],
      "source": [
        "def basic_descriptive_stats(df):\n",
        "    \"\"\"Display basic descriptive statistics for a DataFrame.\"\"\"\n",
        "    print(\"First 5 rows:\")\n",
        "    display(df.head())\n",
        "    print(\"\\nData Info:\")\n",
        "    display(df.info())\n",
        "    print(\"\\nNumerical Features Description:\")\n",
        "    display(df.describe())\n",
        "    print(\"\\nCategorical Features Description:\")\n",
        "    display(df.describe(include=['object', 'category']))\n",
        "    print(\"\\nMissing Values Summary:\")\n",
        "    print(df.isna().sum())\n",
        "    print(\"\\nDuplicate Check:\")\n",
        "    print(f\"Number of duplicates: {df.duplicated().sum()}\")\n"
      ]
    },
    {
      "cell_type": "code",
      "execution_count": 163,
      "id": "300da466-d292-489d-834e-51bb86311718",
      "metadata": {
        "id": "300da466-d292-489d-834e-51bb86311718",
        "outputId": "2ae3b387-9243-4683-c6e3-c72f790249f7",
        "colab": {
          "base_uri": "https://localhost:8080/"
        }
      },
      "outputs": [
        {
          "output_type": "stream",
          "name": "stdout",
          "text": [
            "Non-metric (Categorical) features: ['Accident Date', 'Alternative Dispute Resolution', 'Assembly Date', 'Attorney/Representative', 'C-2 Date', 'C-3 Date', 'Carrier Name', 'Carrier Type', 'Claim Injury Type', 'County of Injury', 'COVID-19 Indicator', 'District Name', 'First Hearing Date', 'Gender', 'Industry Code Description', 'Medical Fee Region', 'WCIO Cause of Injury Description', 'WCIO Nature of Injury Description', 'WCIO Part Of Body Description', 'Zip Code', 'WCB Decision']\n",
            "Non-metric (High Cardinality) features: ['Accident Date', 'Assembly Date', 'C-2 Date', 'C-3 Date', 'Carrier Name', 'County of Injury', 'First Hearing Date', 'WCIO Cause of Injury Description', 'WCIO Nature of Injury Description', 'WCIO Part Of Body Description', 'Zip Code']\n",
            "Metric (Numerical) features: ['Age at Injury', 'Average Weekly Wage', 'Birth Year', 'Claim Identifier', 'IME-4 Count', 'Industry Code', 'OIICS Nature of Injury Description', 'WCIO Cause of Injury Code', 'WCIO Nature of Injury Code', 'WCIO Part Of Body Code', 'Agreement Reached', 'Number of Dependents']\n"
          ]
        }
      ],
      "source": [
        "def feature_splitting(df, threshold=25):\n",
        "    \"\"\"Splits the DataFrame columns into date, categorical, high cardinality categorical, and numerical features.\"\"\"\n",
        "    date_features = [col for col in df.columns if 'Date' in col]\n",
        "    non_metric_features = df.select_dtypes(include=['object', 'category']).columns.tolist()\n",
        "    non_metric_high_cardinality = [col for col in non_metric_features if df[col].nunique() > threshold]\n",
        "    metric_features = df.select_dtypes(include=[np.number]).columns.tolist()\n",
        "\n",
        "    print(\"Non-metric (Categorical) features:\", non_metric_features)\n",
        "    print(\"Non-metric (High Cardinality) features:\", non_metric_high_cardinality)\n",
        "    print(\"Metric (Numerical) features:\", metric_features)\n",
        "\n",
        "    return date_features, non_metric_features, non_metric_high_cardinality, metric_features\n",
        "\n",
        "# Use for both train and test sets\n",
        "date_features, non_metric_features, non_metric_high_cardinality, metric_features = feature_splitting(df_train)\n"
      ]
    },
    {
      "cell_type": "code",
      "execution_count": 164,
      "id": "f1839d28-b59e-4ee5-879e-2bd33762f089",
      "metadata": {
        "id": "f1839d28-b59e-4ee5-879e-2bd33762f089"
      },
      "outputs": [],
      "source": [
        "def check_missing_patterns(df, columns_to_check):\n",
        "    \"\"\"Checks if certain variables have all their missing values in the same rows.\"\"\"\n",
        "    for col in columns_to_check:\n",
        "        missing_rows = df[df[col].isna()][columns_to_check]\n",
        "        display(missing_rows.info())\n"
      ]
    },
    {
      "cell_type": "code",
      "execution_count": 165,
      "id": "bbb0a347-97e1-44cd-b8f9-78a674fe00c8",
      "metadata": {
        "id": "bbb0a347-97e1-44cd-b8f9-78a674fe00c8"
      },
      "outputs": [],
      "source": [
        "def num_dist(df, metric_features, bins=30):\n",
        "    \"\"\"Display histograms of numerical features.\"\"\"\n",
        "    df[metric_features].hist(bins=bins, figsize=(15, 10))\n",
        "    plt.suptitle(\"Distribution of Numerical Variables\")\n",
        "    plt.show()\n"
      ]
    },
    {
      "cell_type": "code",
      "execution_count": 166,
      "id": "c10b5d2e-1410-4dd7-963e-9483e2ab2011",
      "metadata": {
        "id": "c10b5d2e-1410-4dd7-963e-9483e2ab2011"
      },
      "outputs": [],
      "source": [
        "def cat_counts_and_plots(df, excl_feat=[]):\n",
        "    \"\"\"Display value counts and plots for categorical features, excluding high cardinality features if needed.\"\"\"\n",
        "    for column in df.select_dtypes(include='object').columns:\n",
        "        if column not in excl_feat:\n",
        "            print(f\"Value counts for {column}:\")\n",
        "            print(df[column].value_counts())\n",
        "            print(\"\\n\")\n",
        "\n",
        "            plt.figure(figsize=(10, 6))\n",
        "            sns.countplot(data=df, x=column, order=df[column].value_counts().index)\n",
        "            plt.title(f\"Count of {column}\")\n",
        "            plt.xticks(rotation=90)\n",
        "            plt.show()\n"
      ]
    },
    {
      "cell_type": "code",
      "execution_count": 167,
      "id": "f2b5ceab-507b-4911-8b50-f1c0df20bdcc",
      "metadata": {
        "id": "f2b5ceab-507b-4911-8b50-f1c0df20bdcc"
      },
      "outputs": [],
      "source": [
        "def plot_bar(df, col, degrees=0):\n",
        "    \"\"\"Plot a bar chart for a specified column.\"\"\"\n",
        "    column = df[col].value_counts()\n",
        "    plt.figure(figsize=(10, 6))\n",
        "    sns.barplot(x=column.index.astype(str), y=column.values)\n",
        "    plt.xlabel(col)\n",
        "    plt.ylabel(\"Frequency\")\n",
        "    plt.xticks(rotation=degrees)\n",
        "    plt.show()\n",
        "\n",
        "def plot_hist(df, col, rotate=False):\n",
        "    \"\"\"Plot a histogram for a specified column with KDE.\"\"\"\n",
        "    plt.figure(figsize=(10, 6))\n",
        "    sns.histplot(df[col], bins=30, kde=True)\n",
        "    plt.xlabel(col)\n",
        "    plt.ylabel(\"Frequency\")\n",
        "    if rotate:\n",
        "        plt.xticks(rotation=45)\n",
        "    plt.show()\n",
        "\n",
        "def plot_box(df, col):\n",
        "    \"\"\"Plot a boxplot for a specified column.\"\"\"\n",
        "    plt.figure(figsize=(10, 6))\n",
        "    sns.boxplot(x=df[col])\n",
        "    plt.xlabel(col)\n",
        "    plt.show()\n",
        "\n",
        "def plot_pie(df, col):\n",
        "    \"\"\"Plot a pie chart for a specified column with percentage thresholds.\"\"\"\n",
        "    value_counts = df[col].value_counts()\n",
        "    total = value_counts.sum()\n",
        "    percentages = (value_counts / total) * 100\n",
        "\n",
        "    above_threshold = percentages[percentages >= 2]\n",
        "    below_threshold = percentages[percentages < 2]\n",
        "\n",
        "    if len(below_threshold) > 0:\n",
        "        other_percentage = below_threshold.sum()\n",
        "        above_threshold['Others'] = other_percentage\n",
        "\n",
        "    plt.figure(figsize=(8, 8))\n",
        "    above_threshold.plot.pie(autopct='%1.1f%%', startangle=90, labels=above_threshold.index)\n",
        "    plt.ylabel(\"\")\n",
        "    plt.xlabel(col)\n",
        "    plt.legend(title=\"Legend\", loc='upper left')\n",
        "    plt.show()\n",
        "\n",
        "def plot_heatmap(df, numerical_features):\n",
        "    \"\"\"Display heatmap of correlation among numerical features.\"\"\"\n",
        "    plt.figure(figsize=(12, 10))\n",
        "    sns.heatmap(data=df[numerical_features].corr(method='spearman'), annot=True, cmap=\"coolwarm\", fmt='.1f')\n",
        "    plt.show()\n"
      ]
    },
    {
      "cell_type": "code",
      "execution_count": 167,
      "id": "e058304e-f35d-47ce-8a6d-d57abb661c9a",
      "metadata": {
        "id": "e058304e-f35d-47ce-8a6d-d57abb661c9a"
      },
      "outputs": [],
      "source": []
    },
    {
      "cell_type": "code",
      "execution_count": 168,
      "id": "797516ad-539f-48dd-8dd4-bb8618f5dd08",
      "metadata": {
        "id": "797516ad-539f-48dd-8dd4-bb8618f5dd08"
      },
      "outputs": [],
      "source": [
        "# Define date columns\n",
        "date_columns = ['Accident Date', 'Assembly Date', 'C-2 Date', 'C-3 Date', 'First Hearing Date']\n",
        "convert_dates(df_train, date_columns)\n",
        "convert_dates(df_test, date_columns)"
      ]
    },
    {
      "cell_type": "markdown",
      "id": "1c615de7-7c9b-49ca-b1a7-1cb9c010ae18",
      "metadata": {
        "id": "1c615de7-7c9b-49ca-b1a7-1cb9c010ae18"
      },
      "source": [
        "## Step 1: General descr. stats"
      ]
    },
    {
      "cell_type": "code",
      "execution_count": 169,
      "id": "c56f6dcc-9c92-4f3f-abe4-58a25c72b966",
      "metadata": {
        "scrolled": true,
        "id": "c56f6dcc-9c92-4f3f-abe4-58a25c72b966",
        "outputId": "c15e676a-7bb2-4c0d-896a-b7212d096777",
        "colab": {
          "base_uri": "https://localhost:8080/",
          "height": 1000
        }
      },
      "outputs": [
        {
          "output_type": "stream",
          "name": "stdout",
          "text": [
            "First 5 rows:\n"
          ]
        },
        {
          "output_type": "display_data",
          "data": {
            "text/plain": [
              "  Accident Date  Age at Injury Alternative Dispute Resolution Assembly Date  \\\n",
              "0    2019-12-30           31.0                              N    2020-01-01   \n",
              "1    2019-08-30           46.0                              N    2020-01-01   \n",
              "2    2019-12-06           40.0                              N    2020-01-01   \n",
              "3           NaT            NaN                            NaN    2020-01-01   \n",
              "4    2019-12-30           61.0                              N    2020-01-01   \n",
              "\n",
              "  Attorney/Representative  Average Weekly Wage  Birth Year   C-2 Date  \\\n",
              "0                       N                 0.00      1988.0 2019-12-31   \n",
              "1                       Y              1745.93      1973.0 2020-01-01   \n",
              "2                       N              1434.80      1979.0 2020-01-01   \n",
              "3                     NaN                  NaN         NaN        NaT   \n",
              "4                       N                  NaN      1958.0 2019-12-31   \n",
              "\n",
              "    C-3 Date                  Carrier Name  ... WCIO Cause of Injury Code  \\\n",
              "0        NaT    NEW HAMPSHIRE INSURANCE CO  ...                      27.0   \n",
              "1 2020-01-14  ZURICH AMERICAN INSURANCE CO  ...                      97.0   \n",
              "2        NaT     INDEMNITY INSURANCE CO OF  ...                      79.0   \n",
              "3        NaT                           NaN  ...                       NaN   \n",
              "4        NaT          STATE INSURANCE FUND  ...                      16.0   \n",
              "\n",
              "   WCIO Cause of Injury Description WCIO Nature of Injury Code  \\\n",
              "0      FROM LIQUID OR GREASE SPILLS                       10.0   \n",
              "1                 REPETITIVE MOTION                       49.0   \n",
              "2    OBJECT BEING LIFTED OR HANDLED                        7.0   \n",
              "3                               NaN                        NaN   \n",
              "4   HAND TOOL, UTENSIL; NOT POWERED                       43.0   \n",
              "\n",
              "  WCIO Nature of Injury Description WCIO Part Of Body Code  \\\n",
              "0                         CONTUSION                   62.0   \n",
              "1                    SPRAIN OR TEAR                   38.0   \n",
              "2                        CONCUSSION                   10.0   \n",
              "3                               NaN                    NaN   \n",
              "4                          PUNCTURE                   36.0   \n",
              "\n",
              "  WCIO Part Of Body Description Zip Code Agreement Reached      WCB Decision  \\\n",
              "0                      BUTTOCKS    13662               0.0  Not Work Related   \n",
              "1                   SHOULDER(S)    14569               1.0  Not Work Related   \n",
              "2          MULTIPLE HEAD INJURY    12589               0.0  Not Work Related   \n",
              "3                           NaN      NaN               NaN               NaN   \n",
              "4                     FINGER(S)    12603               0.0  Not Work Related   \n",
              "\n",
              "   Number of Dependents  \n",
              "0                   1.0  \n",
              "1                   4.0  \n",
              "2                   6.0  \n",
              "3                   NaN  \n",
              "4                   1.0  \n",
              "\n",
              "[5 rows x 33 columns]"
            ],
            "text/html": [
              "\n",
              "  <div id=\"df-a77e0e3f-394f-44a8-b3a7-897f907f00e3\" class=\"colab-df-container\">\n",
              "    <div>\n",
              "<style scoped>\n",
              "    .dataframe tbody tr th:only-of-type {\n",
              "        vertical-align: middle;\n",
              "    }\n",
              "\n",
              "    .dataframe tbody tr th {\n",
              "        vertical-align: top;\n",
              "    }\n",
              "\n",
              "    .dataframe thead th {\n",
              "        text-align: right;\n",
              "    }\n",
              "</style>\n",
              "<table border=\"1\" class=\"dataframe\">\n",
              "  <thead>\n",
              "    <tr style=\"text-align: right;\">\n",
              "      <th></th>\n",
              "      <th>Accident Date</th>\n",
              "      <th>Age at Injury</th>\n",
              "      <th>Alternative Dispute Resolution</th>\n",
              "      <th>Assembly Date</th>\n",
              "      <th>Attorney/Representative</th>\n",
              "      <th>Average Weekly Wage</th>\n",
              "      <th>Birth Year</th>\n",
              "      <th>C-2 Date</th>\n",
              "      <th>C-3 Date</th>\n",
              "      <th>Carrier Name</th>\n",
              "      <th>...</th>\n",
              "      <th>WCIO Cause of Injury Code</th>\n",
              "      <th>WCIO Cause of Injury Description</th>\n",
              "      <th>WCIO Nature of Injury Code</th>\n",
              "      <th>WCIO Nature of Injury Description</th>\n",
              "      <th>WCIO Part Of Body Code</th>\n",
              "      <th>WCIO Part Of Body Description</th>\n",
              "      <th>Zip Code</th>\n",
              "      <th>Agreement Reached</th>\n",
              "      <th>WCB Decision</th>\n",
              "      <th>Number of Dependents</th>\n",
              "    </tr>\n",
              "  </thead>\n",
              "  <tbody>\n",
              "    <tr>\n",
              "      <th>0</th>\n",
              "      <td>2019-12-30</td>\n",
              "      <td>31.0</td>\n",
              "      <td>N</td>\n",
              "      <td>2020-01-01</td>\n",
              "      <td>N</td>\n",
              "      <td>0.00</td>\n",
              "      <td>1988.0</td>\n",
              "      <td>2019-12-31</td>\n",
              "      <td>NaT</td>\n",
              "      <td>NEW HAMPSHIRE INSURANCE CO</td>\n",
              "      <td>...</td>\n",
              "      <td>27.0</td>\n",
              "      <td>FROM LIQUID OR GREASE SPILLS</td>\n",
              "      <td>10.0</td>\n",
              "      <td>CONTUSION</td>\n",
              "      <td>62.0</td>\n",
              "      <td>BUTTOCKS</td>\n",
              "      <td>13662</td>\n",
              "      <td>0.0</td>\n",
              "      <td>Not Work Related</td>\n",
              "      <td>1.0</td>\n",
              "    </tr>\n",
              "    <tr>\n",
              "      <th>1</th>\n",
              "      <td>2019-08-30</td>\n",
              "      <td>46.0</td>\n",
              "      <td>N</td>\n",
              "      <td>2020-01-01</td>\n",
              "      <td>Y</td>\n",
              "      <td>1745.93</td>\n",
              "      <td>1973.0</td>\n",
              "      <td>2020-01-01</td>\n",
              "      <td>2020-01-14</td>\n",
              "      <td>ZURICH AMERICAN INSURANCE CO</td>\n",
              "      <td>...</td>\n",
              "      <td>97.0</td>\n",
              "      <td>REPETITIVE MOTION</td>\n",
              "      <td>49.0</td>\n",
              "      <td>SPRAIN OR TEAR</td>\n",
              "      <td>38.0</td>\n",
              "      <td>SHOULDER(S)</td>\n",
              "      <td>14569</td>\n",
              "      <td>1.0</td>\n",
              "      <td>Not Work Related</td>\n",
              "      <td>4.0</td>\n",
              "    </tr>\n",
              "    <tr>\n",
              "      <th>2</th>\n",
              "      <td>2019-12-06</td>\n",
              "      <td>40.0</td>\n",
              "      <td>N</td>\n",
              "      <td>2020-01-01</td>\n",
              "      <td>N</td>\n",
              "      <td>1434.80</td>\n",
              "      <td>1979.0</td>\n",
              "      <td>2020-01-01</td>\n",
              "      <td>NaT</td>\n",
              "      <td>INDEMNITY INSURANCE CO OF</td>\n",
              "      <td>...</td>\n",
              "      <td>79.0</td>\n",
              "      <td>OBJECT BEING LIFTED OR HANDLED</td>\n",
              "      <td>7.0</td>\n",
              "      <td>CONCUSSION</td>\n",
              "      <td>10.0</td>\n",
              "      <td>MULTIPLE HEAD INJURY</td>\n",
              "      <td>12589</td>\n",
              "      <td>0.0</td>\n",
              "      <td>Not Work Related</td>\n",
              "      <td>6.0</td>\n",
              "    </tr>\n",
              "    <tr>\n",
              "      <th>3</th>\n",
              "      <td>NaT</td>\n",
              "      <td>NaN</td>\n",
              "      <td>NaN</td>\n",
              "      <td>2020-01-01</td>\n",
              "      <td>NaN</td>\n",
              "      <td>NaN</td>\n",
              "      <td>NaN</td>\n",
              "      <td>NaT</td>\n",
              "      <td>NaT</td>\n",
              "      <td>NaN</td>\n",
              "      <td>...</td>\n",
              "      <td>NaN</td>\n",
              "      <td>NaN</td>\n",
              "      <td>NaN</td>\n",
              "      <td>NaN</td>\n",
              "      <td>NaN</td>\n",
              "      <td>NaN</td>\n",
              "      <td>NaN</td>\n",
              "      <td>NaN</td>\n",
              "      <td>NaN</td>\n",
              "      <td>NaN</td>\n",
              "    </tr>\n",
              "    <tr>\n",
              "      <th>4</th>\n",
              "      <td>2019-12-30</td>\n",
              "      <td>61.0</td>\n",
              "      <td>N</td>\n",
              "      <td>2020-01-01</td>\n",
              "      <td>N</td>\n",
              "      <td>NaN</td>\n",
              "      <td>1958.0</td>\n",
              "      <td>2019-12-31</td>\n",
              "      <td>NaT</td>\n",
              "      <td>STATE INSURANCE FUND</td>\n",
              "      <td>...</td>\n",
              "      <td>16.0</td>\n",
              "      <td>HAND TOOL, UTENSIL; NOT POWERED</td>\n",
              "      <td>43.0</td>\n",
              "      <td>PUNCTURE</td>\n",
              "      <td>36.0</td>\n",
              "      <td>FINGER(S)</td>\n",
              "      <td>12603</td>\n",
              "      <td>0.0</td>\n",
              "      <td>Not Work Related</td>\n",
              "      <td>1.0</td>\n",
              "    </tr>\n",
              "  </tbody>\n",
              "</table>\n",
              "<p>5 rows × 33 columns</p>\n",
              "</div>\n",
              "    <div class=\"colab-df-buttons\">\n",
              "\n",
              "  <div class=\"colab-df-container\">\n",
              "    <button class=\"colab-df-convert\" onclick=\"convertToInteractive('df-a77e0e3f-394f-44a8-b3a7-897f907f00e3')\"\n",
              "            title=\"Convert this dataframe to an interactive table.\"\n",
              "            style=\"display:none;\">\n",
              "\n",
              "  <svg xmlns=\"http://www.w3.org/2000/svg\" height=\"24px\" viewBox=\"0 -960 960 960\">\n",
              "    <path d=\"M120-120v-720h720v720H120Zm60-500h600v-160H180v160Zm220 220h160v-160H400v160Zm0 220h160v-160H400v160ZM180-400h160v-160H180v160Zm440 0h160v-160H620v160ZM180-180h160v-160H180v160Zm440 0h160v-160H620v160Z\"/>\n",
              "  </svg>\n",
              "    </button>\n",
              "\n",
              "  <style>\n",
              "    .colab-df-container {\n",
              "      display:flex;\n",
              "      gap: 12px;\n",
              "    }\n",
              "\n",
              "    .colab-df-convert {\n",
              "      background-color: #E8F0FE;\n",
              "      border: none;\n",
              "      border-radius: 50%;\n",
              "      cursor: pointer;\n",
              "      display: none;\n",
              "      fill: #1967D2;\n",
              "      height: 32px;\n",
              "      padding: 0 0 0 0;\n",
              "      width: 32px;\n",
              "    }\n",
              "\n",
              "    .colab-df-convert:hover {\n",
              "      background-color: #E2EBFA;\n",
              "      box-shadow: 0px 1px 2px rgba(60, 64, 67, 0.3), 0px 1px 3px 1px rgba(60, 64, 67, 0.15);\n",
              "      fill: #174EA6;\n",
              "    }\n",
              "\n",
              "    .colab-df-buttons div {\n",
              "      margin-bottom: 4px;\n",
              "    }\n",
              "\n",
              "    [theme=dark] .colab-df-convert {\n",
              "      background-color: #3B4455;\n",
              "      fill: #D2E3FC;\n",
              "    }\n",
              "\n",
              "    [theme=dark] .colab-df-convert:hover {\n",
              "      background-color: #434B5C;\n",
              "      box-shadow: 0px 1px 3px 1px rgba(0, 0, 0, 0.15);\n",
              "      filter: drop-shadow(0px 1px 2px rgba(0, 0, 0, 0.3));\n",
              "      fill: #FFFFFF;\n",
              "    }\n",
              "  </style>\n",
              "\n",
              "    <script>\n",
              "      const buttonEl =\n",
              "        document.querySelector('#df-a77e0e3f-394f-44a8-b3a7-897f907f00e3 button.colab-df-convert');\n",
              "      buttonEl.style.display =\n",
              "        google.colab.kernel.accessAllowed ? 'block' : 'none';\n",
              "\n",
              "      async function convertToInteractive(key) {\n",
              "        const element = document.querySelector('#df-a77e0e3f-394f-44a8-b3a7-897f907f00e3');\n",
              "        const dataTable =\n",
              "          await google.colab.kernel.invokeFunction('convertToInteractive',\n",
              "                                                    [key], {});\n",
              "        if (!dataTable) return;\n",
              "\n",
              "        const docLinkHtml = 'Like what you see? Visit the ' +\n",
              "          '<a target=\"_blank\" href=https://colab.research.google.com/notebooks/data_table.ipynb>data table notebook</a>'\n",
              "          + ' to learn more about interactive tables.';\n",
              "        element.innerHTML = '';\n",
              "        dataTable['output_type'] = 'display_data';\n",
              "        await google.colab.output.renderOutput(dataTable, element);\n",
              "        const docLink = document.createElement('div');\n",
              "        docLink.innerHTML = docLinkHtml;\n",
              "        element.appendChild(docLink);\n",
              "      }\n",
              "    </script>\n",
              "  </div>\n",
              "\n",
              "\n",
              "<div id=\"df-a4aad503-1ddd-425f-9dcd-ffc5236149b7\">\n",
              "  <button class=\"colab-df-quickchart\" onclick=\"quickchart('df-a4aad503-1ddd-425f-9dcd-ffc5236149b7')\"\n",
              "            title=\"Suggest charts\"\n",
              "            style=\"display:none;\">\n",
              "\n",
              "<svg xmlns=\"http://www.w3.org/2000/svg\" height=\"24px\"viewBox=\"0 0 24 24\"\n",
              "     width=\"24px\">\n",
              "    <g>\n",
              "        <path d=\"M19 3H5c-1.1 0-2 .9-2 2v14c0 1.1.9 2 2 2h14c1.1 0 2-.9 2-2V5c0-1.1-.9-2-2-2zM9 17H7v-7h2v7zm4 0h-2V7h2v10zm4 0h-2v-4h2v4z\"/>\n",
              "    </g>\n",
              "</svg>\n",
              "  </button>\n",
              "\n",
              "<style>\n",
              "  .colab-df-quickchart {\n",
              "      --bg-color: #E8F0FE;\n",
              "      --fill-color: #1967D2;\n",
              "      --hover-bg-color: #E2EBFA;\n",
              "      --hover-fill-color: #174EA6;\n",
              "      --disabled-fill-color: #AAA;\n",
              "      --disabled-bg-color: #DDD;\n",
              "  }\n",
              "\n",
              "  [theme=dark] .colab-df-quickchart {\n",
              "      --bg-color: #3B4455;\n",
              "      --fill-color: #D2E3FC;\n",
              "      --hover-bg-color: #434B5C;\n",
              "      --hover-fill-color: #FFFFFF;\n",
              "      --disabled-bg-color: #3B4455;\n",
              "      --disabled-fill-color: #666;\n",
              "  }\n",
              "\n",
              "  .colab-df-quickchart {\n",
              "    background-color: var(--bg-color);\n",
              "    border: none;\n",
              "    border-radius: 50%;\n",
              "    cursor: pointer;\n",
              "    display: none;\n",
              "    fill: var(--fill-color);\n",
              "    height: 32px;\n",
              "    padding: 0;\n",
              "    width: 32px;\n",
              "  }\n",
              "\n",
              "  .colab-df-quickchart:hover {\n",
              "    background-color: var(--hover-bg-color);\n",
              "    box-shadow: 0 1px 2px rgba(60, 64, 67, 0.3), 0 1px 3px 1px rgba(60, 64, 67, 0.15);\n",
              "    fill: var(--button-hover-fill-color);\n",
              "  }\n",
              "\n",
              "  .colab-df-quickchart-complete:disabled,\n",
              "  .colab-df-quickchart-complete:disabled:hover {\n",
              "    background-color: var(--disabled-bg-color);\n",
              "    fill: var(--disabled-fill-color);\n",
              "    box-shadow: none;\n",
              "  }\n",
              "\n",
              "  .colab-df-spinner {\n",
              "    border: 2px solid var(--fill-color);\n",
              "    border-color: transparent;\n",
              "    border-bottom-color: var(--fill-color);\n",
              "    animation:\n",
              "      spin 1s steps(1) infinite;\n",
              "  }\n",
              "\n",
              "  @keyframes spin {\n",
              "    0% {\n",
              "      border-color: transparent;\n",
              "      border-bottom-color: var(--fill-color);\n",
              "      border-left-color: var(--fill-color);\n",
              "    }\n",
              "    20% {\n",
              "      border-color: transparent;\n",
              "      border-left-color: var(--fill-color);\n",
              "      border-top-color: var(--fill-color);\n",
              "    }\n",
              "    30% {\n",
              "      border-color: transparent;\n",
              "      border-left-color: var(--fill-color);\n",
              "      border-top-color: var(--fill-color);\n",
              "      border-right-color: var(--fill-color);\n",
              "    }\n",
              "    40% {\n",
              "      border-color: transparent;\n",
              "      border-right-color: var(--fill-color);\n",
              "      border-top-color: var(--fill-color);\n",
              "    }\n",
              "    60% {\n",
              "      border-color: transparent;\n",
              "      border-right-color: var(--fill-color);\n",
              "    }\n",
              "    80% {\n",
              "      border-color: transparent;\n",
              "      border-right-color: var(--fill-color);\n",
              "      border-bottom-color: var(--fill-color);\n",
              "    }\n",
              "    90% {\n",
              "      border-color: transparent;\n",
              "      border-bottom-color: var(--fill-color);\n",
              "    }\n",
              "  }\n",
              "</style>\n",
              "\n",
              "  <script>\n",
              "    async function quickchart(key) {\n",
              "      const quickchartButtonEl =\n",
              "        document.querySelector('#' + key + ' button');\n",
              "      quickchartButtonEl.disabled = true;  // To prevent multiple clicks.\n",
              "      quickchartButtonEl.classList.add('colab-df-spinner');\n",
              "      try {\n",
              "        const charts = await google.colab.kernel.invokeFunction(\n",
              "            'suggestCharts', [key], {});\n",
              "      } catch (error) {\n",
              "        console.error('Error during call to suggestCharts:', error);\n",
              "      }\n",
              "      quickchartButtonEl.classList.remove('colab-df-spinner');\n",
              "      quickchartButtonEl.classList.add('colab-df-quickchart-complete');\n",
              "    }\n",
              "    (() => {\n",
              "      let quickchartButtonEl =\n",
              "        document.querySelector('#df-a4aad503-1ddd-425f-9dcd-ffc5236149b7 button');\n",
              "      quickchartButtonEl.style.display =\n",
              "        google.colab.kernel.accessAllowed ? 'block' : 'none';\n",
              "    })();\n",
              "  </script>\n",
              "</div>\n",
              "\n",
              "    </div>\n",
              "  </div>\n"
            ],
            "application/vnd.google.colaboratory.intrinsic+json": {
              "type": "dataframe"
            }
          },
          "metadata": {}
        },
        {
          "output_type": "stream",
          "name": "stdout",
          "text": [
            "\n",
            "Data Info:\n",
            "<class 'pandas.core.frame.DataFrame'>\n",
            "RangeIndex: 593471 entries, 0 to 593470\n",
            "Data columns (total 33 columns):\n",
            " #   Column                              Non-Null Count   Dtype         \n",
            "---  ------                              --------------   -----         \n",
            " 0   Accident Date                       570337 non-null  datetime64[ns]\n",
            " 1   Age at Injury                       574026 non-null  float64       \n",
            " 2   Alternative Dispute Resolution      574026 non-null  object        \n",
            " 3   Assembly Date                       593471 non-null  datetime64[ns]\n",
            " 4   Attorney/Representative             574026 non-null  object        \n",
            " 5   Average Weekly Wage                 545375 non-null  float64       \n",
            " 6   Birth Year                          544948 non-null  float64       \n",
            " 7   C-2 Date                            559466 non-null  datetime64[ns]\n",
            " 8   C-3 Date                            187245 non-null  datetime64[ns]\n",
            " 9   Carrier Name                        574026 non-null  object        \n",
            " 10  Carrier Type                        574026 non-null  object        \n",
            " 11  Claim Identifier                    593471 non-null  int64         \n",
            " 12  Claim Injury Type                   574026 non-null  object        \n",
            " 13  County of Injury                    574026 non-null  object        \n",
            " 14  COVID-19 Indicator                  574026 non-null  object        \n",
            " 15  District Name                       574026 non-null  object        \n",
            " 16  First Hearing Date                  150798 non-null  datetime64[ns]\n",
            " 17  Gender                              574026 non-null  object        \n",
            " 18  IME-4 Count                         132803 non-null  float64       \n",
            " 19  Industry Code                       564068 non-null  float64       \n",
            " 20  Industry Code Description           564068 non-null  object        \n",
            " 21  Medical Fee Region                  574026 non-null  object        \n",
            " 22  OIICS Nature of Injury Description  0 non-null       float64       \n",
            " 23  WCIO Cause of Injury Code           558386 non-null  float64       \n",
            " 24  WCIO Cause of Injury Description    558386 non-null  object        \n",
            " 25  WCIO Nature of Injury Code          558369 non-null  float64       \n",
            " 26  WCIO Nature of Injury Description   558369 non-null  object        \n",
            " 27  WCIO Part Of Body Code              556944 non-null  float64       \n",
            " 28  WCIO Part Of Body Description       556944 non-null  object        \n",
            " 29  Zip Code                            545389 non-null  object        \n",
            " 30  Agreement Reached                   574026 non-null  float64       \n",
            " 31  WCB Decision                        574026 non-null  object        \n",
            " 32  Number of Dependents                574026 non-null  float64       \n",
            "dtypes: datetime64[ns](5), float64(11), int64(1), object(16)\n",
            "memory usage: 149.4+ MB\n"
          ]
        },
        {
          "output_type": "display_data",
          "data": {
            "text/plain": [
              "None"
            ]
          },
          "metadata": {}
        },
        {
          "output_type": "stream",
          "name": "stdout",
          "text": [
            "\n",
            "Numerical Features Description:\n"
          ]
        },
        {
          "output_type": "display_data",
          "data": {
            "text/plain": [
              "                       Accident Date  Age at Injury  \\\n",
              "count                         570337  574026.000000   \n",
              "mean   2021-04-28 21:00:27.892982784      42.114270   \n",
              "min              1961-09-06 00:00:00       0.000000   \n",
              "25%              2020-09-14 00:00:00      31.000000   \n",
              "50%              2021-06-27 00:00:00      42.000000   \n",
              "75%              2022-03-21 00:00:00      54.000000   \n",
              "max              2023-09-29 00:00:00     117.000000   \n",
              "std                              NaN      14.256432   \n",
              "\n",
              "                       Assembly Date  Average Weekly Wage     Birth Year  \\\n",
              "count                         593471         5.453750e+05  544948.000000   \n",
              "mean   2021-07-19 03:25:38.260841728         4.910883e+02    1886.767604   \n",
              "min              2020-01-01 00:00:00         0.000000e+00       0.000000   \n",
              "25%              2020-10-26 00:00:00         0.000000e+00    1965.000000   \n",
              "50%              2021-07-29 00:00:00         0.000000e+00    1977.000000   \n",
              "75%              2022-04-19 00:00:00         8.410000e+02    1989.000000   \n",
              "max              2022-12-31 00:00:00         2.828079e+06    2018.000000   \n",
              "std                              NaN         6.092918e+03     414.644423   \n",
              "\n",
              "                            C-2 Date                       C-3 Date  \\\n",
              "count                         559466                         187245   \n",
              "mean   2021-07-16 20:11:19.865443328  2021-07-26 21:31:28.449891840   \n",
              "min              1996-01-12 00:00:00            1992-11-13 00:00:00   \n",
              "25%              2020-11-06 00:00:00            2020-10-27 00:00:00   \n",
              "50%              2021-08-09 00:00:00            2021-07-21 00:00:00   \n",
              "75%              2022-04-26 00:00:00            2022-04-20 00:00:00   \n",
              "max              2024-06-01 00:00:00            2024-05-31 00:00:00   \n",
              "std                              NaN                            NaN   \n",
              "\n",
              "       Claim Identifier             First Hearing Date    IME-4 Count  \\\n",
              "count      5.934710e+05                         150798  132803.000000   \n",
              "mean       2.366760e+07  2022-03-19 05:07:38.218278400       3.207337   \n",
              "min        5.393066e+06            2020-01-30 00:00:00       1.000000   \n",
              "25%        5.593414e+06            2021-06-01 00:00:00       1.000000   \n",
              "50%        5.791212e+06            2022-03-09 00:00:00       2.000000   \n",
              "75%        5.991000e+06            2023-01-11 00:00:00       4.000000   \n",
              "max        9.998917e+08            2024-06-07 00:00:00      73.000000   \n",
              "std        1.079271e+08                            NaN       2.832303   \n",
              "\n",
              "       Industry Code  OIICS Nature of Injury Description  \\\n",
              "count  564068.000000                                 0.0   \n",
              "mean       58.645305                                 NaN   \n",
              "min        11.000000                                 NaN   \n",
              "25%        45.000000                                 NaN   \n",
              "50%        61.000000                                 NaN   \n",
              "75%        71.000000                                 NaN   \n",
              "max        92.000000                                 NaN   \n",
              "std        19.644175                                 NaN   \n",
              "\n",
              "       WCIO Cause of Injury Code  WCIO Nature of Injury Code  \\\n",
              "count              558386.000000               558369.000000   \n",
              "mean                   54.381143                   41.013839   \n",
              "min                     1.000000                    1.000000   \n",
              "25%                    31.000000                   16.000000   \n",
              "50%                    56.000000                   49.000000   \n",
              "75%                    75.000000                   52.000000   \n",
              "max                    99.000000                   91.000000   \n",
              "std                    25.874281                   22.207521   \n",
              "\n",
              "       WCIO Part Of Body Code  Agreement Reached  Number of Dependents  \n",
              "count           556944.000000      574026.000000         574026.000000  \n",
              "mean                39.738146           0.046665              3.006559  \n",
              "min                 -9.000000           0.000000              0.000000  \n",
              "25%                 33.000000           0.000000              1.000000  \n",
              "50%                 38.000000           0.000000              3.000000  \n",
              "75%                 53.000000           0.000000              5.000000  \n",
              "max                 99.000000           1.000000              6.000000  \n",
              "std                 22.365940           0.210921              2.000801  "
            ],
            "text/html": [
              "\n",
              "  <div id=\"df-fa0f8fee-8af2-4871-b1e6-62015ad4526d\" class=\"colab-df-container\">\n",
              "    <div>\n",
              "<style scoped>\n",
              "    .dataframe tbody tr th:only-of-type {\n",
              "        vertical-align: middle;\n",
              "    }\n",
              "\n",
              "    .dataframe tbody tr th {\n",
              "        vertical-align: top;\n",
              "    }\n",
              "\n",
              "    .dataframe thead th {\n",
              "        text-align: right;\n",
              "    }\n",
              "</style>\n",
              "<table border=\"1\" class=\"dataframe\">\n",
              "  <thead>\n",
              "    <tr style=\"text-align: right;\">\n",
              "      <th></th>\n",
              "      <th>Accident Date</th>\n",
              "      <th>Age at Injury</th>\n",
              "      <th>Assembly Date</th>\n",
              "      <th>Average Weekly Wage</th>\n",
              "      <th>Birth Year</th>\n",
              "      <th>C-2 Date</th>\n",
              "      <th>C-3 Date</th>\n",
              "      <th>Claim Identifier</th>\n",
              "      <th>First Hearing Date</th>\n",
              "      <th>IME-4 Count</th>\n",
              "      <th>Industry Code</th>\n",
              "      <th>OIICS Nature of Injury Description</th>\n",
              "      <th>WCIO Cause of Injury Code</th>\n",
              "      <th>WCIO Nature of Injury Code</th>\n",
              "      <th>WCIO Part Of Body Code</th>\n",
              "      <th>Agreement Reached</th>\n",
              "      <th>Number of Dependents</th>\n",
              "    </tr>\n",
              "  </thead>\n",
              "  <tbody>\n",
              "    <tr>\n",
              "      <th>count</th>\n",
              "      <td>570337</td>\n",
              "      <td>574026.000000</td>\n",
              "      <td>593471</td>\n",
              "      <td>5.453750e+05</td>\n",
              "      <td>544948.000000</td>\n",
              "      <td>559466</td>\n",
              "      <td>187245</td>\n",
              "      <td>5.934710e+05</td>\n",
              "      <td>150798</td>\n",
              "      <td>132803.000000</td>\n",
              "      <td>564068.000000</td>\n",
              "      <td>0.0</td>\n",
              "      <td>558386.000000</td>\n",
              "      <td>558369.000000</td>\n",
              "      <td>556944.000000</td>\n",
              "      <td>574026.000000</td>\n",
              "      <td>574026.000000</td>\n",
              "    </tr>\n",
              "    <tr>\n",
              "      <th>mean</th>\n",
              "      <td>2021-04-28 21:00:27.892982784</td>\n",
              "      <td>42.114270</td>\n",
              "      <td>2021-07-19 03:25:38.260841728</td>\n",
              "      <td>4.910883e+02</td>\n",
              "      <td>1886.767604</td>\n",
              "      <td>2021-07-16 20:11:19.865443328</td>\n",
              "      <td>2021-07-26 21:31:28.449891840</td>\n",
              "      <td>2.366760e+07</td>\n",
              "      <td>2022-03-19 05:07:38.218278400</td>\n",
              "      <td>3.207337</td>\n",
              "      <td>58.645305</td>\n",
              "      <td>NaN</td>\n",
              "      <td>54.381143</td>\n",
              "      <td>41.013839</td>\n",
              "      <td>39.738146</td>\n",
              "      <td>0.046665</td>\n",
              "      <td>3.006559</td>\n",
              "    </tr>\n",
              "    <tr>\n",
              "      <th>min</th>\n",
              "      <td>1961-09-06 00:00:00</td>\n",
              "      <td>0.000000</td>\n",
              "      <td>2020-01-01 00:00:00</td>\n",
              "      <td>0.000000e+00</td>\n",
              "      <td>0.000000</td>\n",
              "      <td>1996-01-12 00:00:00</td>\n",
              "      <td>1992-11-13 00:00:00</td>\n",
              "      <td>5.393066e+06</td>\n",
              "      <td>2020-01-30 00:00:00</td>\n",
              "      <td>1.000000</td>\n",
              "      <td>11.000000</td>\n",
              "      <td>NaN</td>\n",
              "      <td>1.000000</td>\n",
              "      <td>1.000000</td>\n",
              "      <td>-9.000000</td>\n",
              "      <td>0.000000</td>\n",
              "      <td>0.000000</td>\n",
              "    </tr>\n",
              "    <tr>\n",
              "      <th>25%</th>\n",
              "      <td>2020-09-14 00:00:00</td>\n",
              "      <td>31.000000</td>\n",
              "      <td>2020-10-26 00:00:00</td>\n",
              "      <td>0.000000e+00</td>\n",
              "      <td>1965.000000</td>\n",
              "      <td>2020-11-06 00:00:00</td>\n",
              "      <td>2020-10-27 00:00:00</td>\n",
              "      <td>5.593414e+06</td>\n",
              "      <td>2021-06-01 00:00:00</td>\n",
              "      <td>1.000000</td>\n",
              "      <td>45.000000</td>\n",
              "      <td>NaN</td>\n",
              "      <td>31.000000</td>\n",
              "      <td>16.000000</td>\n",
              "      <td>33.000000</td>\n",
              "      <td>0.000000</td>\n",
              "      <td>1.000000</td>\n",
              "    </tr>\n",
              "    <tr>\n",
              "      <th>50%</th>\n",
              "      <td>2021-06-27 00:00:00</td>\n",
              "      <td>42.000000</td>\n",
              "      <td>2021-07-29 00:00:00</td>\n",
              "      <td>0.000000e+00</td>\n",
              "      <td>1977.000000</td>\n",
              "      <td>2021-08-09 00:00:00</td>\n",
              "      <td>2021-07-21 00:00:00</td>\n",
              "      <td>5.791212e+06</td>\n",
              "      <td>2022-03-09 00:00:00</td>\n",
              "      <td>2.000000</td>\n",
              "      <td>61.000000</td>\n",
              "      <td>NaN</td>\n",
              "      <td>56.000000</td>\n",
              "      <td>49.000000</td>\n",
              "      <td>38.000000</td>\n",
              "      <td>0.000000</td>\n",
              "      <td>3.000000</td>\n",
              "    </tr>\n",
              "    <tr>\n",
              "      <th>75%</th>\n",
              "      <td>2022-03-21 00:00:00</td>\n",
              "      <td>54.000000</td>\n",
              "      <td>2022-04-19 00:00:00</td>\n",
              "      <td>8.410000e+02</td>\n",
              "      <td>1989.000000</td>\n",
              "      <td>2022-04-26 00:00:00</td>\n",
              "      <td>2022-04-20 00:00:00</td>\n",
              "      <td>5.991000e+06</td>\n",
              "      <td>2023-01-11 00:00:00</td>\n",
              "      <td>4.000000</td>\n",
              "      <td>71.000000</td>\n",
              "      <td>NaN</td>\n",
              "      <td>75.000000</td>\n",
              "      <td>52.000000</td>\n",
              "      <td>53.000000</td>\n",
              "      <td>0.000000</td>\n",
              "      <td>5.000000</td>\n",
              "    </tr>\n",
              "    <tr>\n",
              "      <th>max</th>\n",
              "      <td>2023-09-29 00:00:00</td>\n",
              "      <td>117.000000</td>\n",
              "      <td>2022-12-31 00:00:00</td>\n",
              "      <td>2.828079e+06</td>\n",
              "      <td>2018.000000</td>\n",
              "      <td>2024-06-01 00:00:00</td>\n",
              "      <td>2024-05-31 00:00:00</td>\n",
              "      <td>9.998917e+08</td>\n",
              "      <td>2024-06-07 00:00:00</td>\n",
              "      <td>73.000000</td>\n",
              "      <td>92.000000</td>\n",
              "      <td>NaN</td>\n",
              "      <td>99.000000</td>\n",
              "      <td>91.000000</td>\n",
              "      <td>99.000000</td>\n",
              "      <td>1.000000</td>\n",
              "      <td>6.000000</td>\n",
              "    </tr>\n",
              "    <tr>\n",
              "      <th>std</th>\n",
              "      <td>NaN</td>\n",
              "      <td>14.256432</td>\n",
              "      <td>NaN</td>\n",
              "      <td>6.092918e+03</td>\n",
              "      <td>414.644423</td>\n",
              "      <td>NaN</td>\n",
              "      <td>NaN</td>\n",
              "      <td>1.079271e+08</td>\n",
              "      <td>NaN</td>\n",
              "      <td>2.832303</td>\n",
              "      <td>19.644175</td>\n",
              "      <td>NaN</td>\n",
              "      <td>25.874281</td>\n",
              "      <td>22.207521</td>\n",
              "      <td>22.365940</td>\n",
              "      <td>0.210921</td>\n",
              "      <td>2.000801</td>\n",
              "    </tr>\n",
              "  </tbody>\n",
              "</table>\n",
              "</div>\n",
              "    <div class=\"colab-df-buttons\">\n",
              "\n",
              "  <div class=\"colab-df-container\">\n",
              "    <button class=\"colab-df-convert\" onclick=\"convertToInteractive('df-fa0f8fee-8af2-4871-b1e6-62015ad4526d')\"\n",
              "            title=\"Convert this dataframe to an interactive table.\"\n",
              "            style=\"display:none;\">\n",
              "\n",
              "  <svg xmlns=\"http://www.w3.org/2000/svg\" height=\"24px\" viewBox=\"0 -960 960 960\">\n",
              "    <path d=\"M120-120v-720h720v720H120Zm60-500h600v-160H180v160Zm220 220h160v-160H400v160Zm0 220h160v-160H400v160ZM180-400h160v-160H180v160Zm440 0h160v-160H620v160ZM180-180h160v-160H180v160Zm440 0h160v-160H620v160Z\"/>\n",
              "  </svg>\n",
              "    </button>\n",
              "\n",
              "  <style>\n",
              "    .colab-df-container {\n",
              "      display:flex;\n",
              "      gap: 12px;\n",
              "    }\n",
              "\n",
              "    .colab-df-convert {\n",
              "      background-color: #E8F0FE;\n",
              "      border: none;\n",
              "      border-radius: 50%;\n",
              "      cursor: pointer;\n",
              "      display: none;\n",
              "      fill: #1967D2;\n",
              "      height: 32px;\n",
              "      padding: 0 0 0 0;\n",
              "      width: 32px;\n",
              "    }\n",
              "\n",
              "    .colab-df-convert:hover {\n",
              "      background-color: #E2EBFA;\n",
              "      box-shadow: 0px 1px 2px rgba(60, 64, 67, 0.3), 0px 1px 3px 1px rgba(60, 64, 67, 0.15);\n",
              "      fill: #174EA6;\n",
              "    }\n",
              "\n",
              "    .colab-df-buttons div {\n",
              "      margin-bottom: 4px;\n",
              "    }\n",
              "\n",
              "    [theme=dark] .colab-df-convert {\n",
              "      background-color: #3B4455;\n",
              "      fill: #D2E3FC;\n",
              "    }\n",
              "\n",
              "    [theme=dark] .colab-df-convert:hover {\n",
              "      background-color: #434B5C;\n",
              "      box-shadow: 0px 1px 3px 1px rgba(0, 0, 0, 0.15);\n",
              "      filter: drop-shadow(0px 1px 2px rgba(0, 0, 0, 0.3));\n",
              "      fill: #FFFFFF;\n",
              "    }\n",
              "  </style>\n",
              "\n",
              "    <script>\n",
              "      const buttonEl =\n",
              "        document.querySelector('#df-fa0f8fee-8af2-4871-b1e6-62015ad4526d button.colab-df-convert');\n",
              "      buttonEl.style.display =\n",
              "        google.colab.kernel.accessAllowed ? 'block' : 'none';\n",
              "\n",
              "      async function convertToInteractive(key) {\n",
              "        const element = document.querySelector('#df-fa0f8fee-8af2-4871-b1e6-62015ad4526d');\n",
              "        const dataTable =\n",
              "          await google.colab.kernel.invokeFunction('convertToInteractive',\n",
              "                                                    [key], {});\n",
              "        if (!dataTable) return;\n",
              "\n",
              "        const docLinkHtml = 'Like what you see? Visit the ' +\n",
              "          '<a target=\"_blank\" href=https://colab.research.google.com/notebooks/data_table.ipynb>data table notebook</a>'\n",
              "          + ' to learn more about interactive tables.';\n",
              "        element.innerHTML = '';\n",
              "        dataTable['output_type'] = 'display_data';\n",
              "        await google.colab.output.renderOutput(dataTable, element);\n",
              "        const docLink = document.createElement('div');\n",
              "        docLink.innerHTML = docLinkHtml;\n",
              "        element.appendChild(docLink);\n",
              "      }\n",
              "    </script>\n",
              "  </div>\n",
              "\n",
              "\n",
              "<div id=\"df-177560f2-7d5f-4476-81b7-d74b328f2915\">\n",
              "  <button class=\"colab-df-quickchart\" onclick=\"quickchart('df-177560f2-7d5f-4476-81b7-d74b328f2915')\"\n",
              "            title=\"Suggest charts\"\n",
              "            style=\"display:none;\">\n",
              "\n",
              "<svg xmlns=\"http://www.w3.org/2000/svg\" height=\"24px\"viewBox=\"0 0 24 24\"\n",
              "     width=\"24px\">\n",
              "    <g>\n",
              "        <path d=\"M19 3H5c-1.1 0-2 .9-2 2v14c0 1.1.9 2 2 2h14c1.1 0 2-.9 2-2V5c0-1.1-.9-2-2-2zM9 17H7v-7h2v7zm4 0h-2V7h2v10zm4 0h-2v-4h2v4z\"/>\n",
              "    </g>\n",
              "</svg>\n",
              "  </button>\n",
              "\n",
              "<style>\n",
              "  .colab-df-quickchart {\n",
              "      --bg-color: #E8F0FE;\n",
              "      --fill-color: #1967D2;\n",
              "      --hover-bg-color: #E2EBFA;\n",
              "      --hover-fill-color: #174EA6;\n",
              "      --disabled-fill-color: #AAA;\n",
              "      --disabled-bg-color: #DDD;\n",
              "  }\n",
              "\n",
              "  [theme=dark] .colab-df-quickchart {\n",
              "      --bg-color: #3B4455;\n",
              "      --fill-color: #D2E3FC;\n",
              "      --hover-bg-color: #434B5C;\n",
              "      --hover-fill-color: #FFFFFF;\n",
              "      --disabled-bg-color: #3B4455;\n",
              "      --disabled-fill-color: #666;\n",
              "  }\n",
              "\n",
              "  .colab-df-quickchart {\n",
              "    background-color: var(--bg-color);\n",
              "    border: none;\n",
              "    border-radius: 50%;\n",
              "    cursor: pointer;\n",
              "    display: none;\n",
              "    fill: var(--fill-color);\n",
              "    height: 32px;\n",
              "    padding: 0;\n",
              "    width: 32px;\n",
              "  }\n",
              "\n",
              "  .colab-df-quickchart:hover {\n",
              "    background-color: var(--hover-bg-color);\n",
              "    box-shadow: 0 1px 2px rgba(60, 64, 67, 0.3), 0 1px 3px 1px rgba(60, 64, 67, 0.15);\n",
              "    fill: var(--button-hover-fill-color);\n",
              "  }\n",
              "\n",
              "  .colab-df-quickchart-complete:disabled,\n",
              "  .colab-df-quickchart-complete:disabled:hover {\n",
              "    background-color: var(--disabled-bg-color);\n",
              "    fill: var(--disabled-fill-color);\n",
              "    box-shadow: none;\n",
              "  }\n",
              "\n",
              "  .colab-df-spinner {\n",
              "    border: 2px solid var(--fill-color);\n",
              "    border-color: transparent;\n",
              "    border-bottom-color: var(--fill-color);\n",
              "    animation:\n",
              "      spin 1s steps(1) infinite;\n",
              "  }\n",
              "\n",
              "  @keyframes spin {\n",
              "    0% {\n",
              "      border-color: transparent;\n",
              "      border-bottom-color: var(--fill-color);\n",
              "      border-left-color: var(--fill-color);\n",
              "    }\n",
              "    20% {\n",
              "      border-color: transparent;\n",
              "      border-left-color: var(--fill-color);\n",
              "      border-top-color: var(--fill-color);\n",
              "    }\n",
              "    30% {\n",
              "      border-color: transparent;\n",
              "      border-left-color: var(--fill-color);\n",
              "      border-top-color: var(--fill-color);\n",
              "      border-right-color: var(--fill-color);\n",
              "    }\n",
              "    40% {\n",
              "      border-color: transparent;\n",
              "      border-right-color: var(--fill-color);\n",
              "      border-top-color: var(--fill-color);\n",
              "    }\n",
              "    60% {\n",
              "      border-color: transparent;\n",
              "      border-right-color: var(--fill-color);\n",
              "    }\n",
              "    80% {\n",
              "      border-color: transparent;\n",
              "      border-right-color: var(--fill-color);\n",
              "      border-bottom-color: var(--fill-color);\n",
              "    }\n",
              "    90% {\n",
              "      border-color: transparent;\n",
              "      border-bottom-color: var(--fill-color);\n",
              "    }\n",
              "  }\n",
              "</style>\n",
              "\n",
              "  <script>\n",
              "    async function quickchart(key) {\n",
              "      const quickchartButtonEl =\n",
              "        document.querySelector('#' + key + ' button');\n",
              "      quickchartButtonEl.disabled = true;  // To prevent multiple clicks.\n",
              "      quickchartButtonEl.classList.add('colab-df-spinner');\n",
              "      try {\n",
              "        const charts = await google.colab.kernel.invokeFunction(\n",
              "            'suggestCharts', [key], {});\n",
              "      } catch (error) {\n",
              "        console.error('Error during call to suggestCharts:', error);\n",
              "      }\n",
              "      quickchartButtonEl.classList.remove('colab-df-spinner');\n",
              "      quickchartButtonEl.classList.add('colab-df-quickchart-complete');\n",
              "    }\n",
              "    (() => {\n",
              "      let quickchartButtonEl =\n",
              "        document.querySelector('#df-177560f2-7d5f-4476-81b7-d74b328f2915 button');\n",
              "      quickchartButtonEl.style.display =\n",
              "        google.colab.kernel.accessAllowed ? 'block' : 'none';\n",
              "    })();\n",
              "  </script>\n",
              "</div>\n",
              "\n",
              "    </div>\n",
              "  </div>\n"
            ],
            "application/vnd.google.colaboratory.intrinsic+json": {
              "type": "dataframe",
              "summary": "{\n  \"name\": \"basic_descriptive_stats(df_train)\",\n  \"rows\": 8,\n  \"fields\": [\n    {\n      \"column\": \"Accident Date\",\n      \"properties\": {\n        \"dtype\": \"date\",\n        \"min\": \"1961-09-06 00:00:00\",\n        \"max\": \"2023-09-29 00:00:00\",\n        \"num_unique_values\": 7,\n        \"samples\": [\n          \"570337\",\n          \"2021-04-28 21:00:27.892982784\",\n          \"2022-03-21 00:00:00\"\n        ],\n        \"semantic_type\": \"\",\n        \"description\": \"\"\n      }\n    },\n    {\n      \"column\": \"Age at Injury\",\n      \"properties\": {\n        \"dtype\": \"number\",\n        \"std\": 202933.67054018367,\n        \"min\": 0.0,\n        \"max\": 574026.0,\n        \"num_unique_values\": 8,\n        \"samples\": [\n          42.11427008532714,\n          54.0,\n          574026.0\n        ],\n        \"semantic_type\": \"\",\n        \"description\": \"\"\n      }\n    },\n    {\n      \"column\": \"Assembly Date\",\n      \"properties\": {\n        \"dtype\": \"date\",\n        \"min\": \"1970-01-01 00:00:00.000593471\",\n        \"max\": \"2022-12-31 00:00:00\",\n        \"num_unique_values\": 7,\n        \"samples\": [\n          \"593471\",\n          \"2021-07-19 03:25:38.260841728\",\n          \"2022-04-19 00:00:00\"\n        ],\n        \"semantic_type\": \"\",\n        \"description\": \"\"\n      }\n    },\n    {\n      \"column\": \"Average Weekly Wage\",\n      \"properties\": {\n        \"dtype\": \"number\",\n        \"std\": 990433.5223917806,\n        \"min\": 0.0,\n        \"max\": 2828079.0,\n        \"num_unique_values\": 6,\n        \"samples\": [\n          545375.0,\n          491.08832067843224,\n          6092.9181203761655\n        ],\n        \"semantic_type\": \"\",\n        \"description\": \"\"\n      }\n    },\n    {\n      \"column\": \"Birth Year\",\n      \"properties\": {\n        \"dtype\": \"number\",\n        \"std\": 192152.16928827405,\n        \"min\": 0.0,\n        \"max\": 544948.0,\n        \"num_unique_values\": 8,\n        \"samples\": [\n          1886.7676035144639,\n          1989.0,\n          544948.0\n        ],\n        \"semantic_type\": \"\",\n        \"description\": \"\"\n      }\n    },\n    {\n      \"column\": \"C-2 Date\",\n      \"properties\": {\n        \"dtype\": \"date\",\n        \"min\": \"1970-01-01 00:00:00.000559466\",\n        \"max\": \"2024-06-01 00:00:00\",\n        \"num_unique_values\": 7,\n        \"samples\": [\n          \"559466\",\n          \"2021-07-16 20:11:19.865443328\",\n          \"2022-04-26 00:00:00\"\n        ],\n        \"semantic_type\": \"\",\n        \"description\": \"\"\n      }\n    },\n    {\n      \"column\": \"C-3 Date\",\n      \"properties\": {\n        \"dtype\": \"date\",\n        \"min\": \"1970-01-01 00:00:00.000187245\",\n        \"max\": \"2024-05-31 00:00:00\",\n        \"num_unique_values\": 7,\n        \"samples\": [\n          \"187245\",\n          \"2021-07-26 21:31:28.449891840\",\n          \"2022-04-20 00:00:00\"\n        ],\n        \"semantic_type\": \"\",\n        \"description\": \"\"\n      }\n    },\n    {\n      \"column\": \"Claim Identifier\",\n      \"properties\": {\n        \"dtype\": \"number\",\n        \"std\": 347524412.3292552,\n        \"min\": 593471.0,\n        \"max\": 999891667.0,\n        \"num_unique_values\": 8,\n        \"samples\": [\n          23667598.792812116,\n          5991000.5,\n          593471.0\n        ],\n        \"semantic_type\": \"\",\n        \"description\": \"\"\n      }\n    },\n    {\n      \"column\": \"First Hearing Date\",\n      \"properties\": {\n        \"dtype\": \"date\",\n        \"min\": \"1970-01-01 00:00:00.000150798\",\n        \"max\": \"2024-06-07 00:00:00\",\n        \"num_unique_values\": 7,\n        \"samples\": [\n          \"150798\",\n          \"2022-03-19 05:07:38.218278400\",\n          \"2023-01-11 00:00:00\"\n        ],\n        \"semantic_type\": \"\",\n        \"description\": \"\"\n      }\n    },\n    {\n      \"column\": \"IME-4 Count\",\n      \"properties\": {\n        \"dtype\": \"number\",\n        \"std\": 46948.56128763449,\n        \"min\": 1.0,\n        \"max\": 132803.0,\n        \"num_unique_values\": 7,\n        \"samples\": [\n          132803.0,\n          3.20733718364796,\n          73.0\n        ],\n        \"semantic_type\": \"\",\n        \"description\": \"\"\n      }\n    },\n    {\n      \"column\": \"Industry Code\",\n      \"properties\": {\n        \"dtype\": \"number\",\n        \"std\": 199410.05931396224,\n        \"min\": 11.0,\n        \"max\": 564068.0,\n        \"num_unique_values\": 8,\n        \"samples\": [\n          58.64530517597169,\n          71.0,\n          564068.0\n        ],\n        \"semantic_type\": \"\",\n        \"description\": \"\"\n      }\n    },\n    {\n      \"column\": \"OIICS Nature of Injury Description\",\n      \"properties\": {\n        \"dtype\": \"number\",\n        \"std\": null,\n        \"min\": 0.0,\n        \"max\": 0.0,\n        \"num_unique_values\": 1,\n        \"samples\": [\n          0.0\n        ],\n        \"semantic_type\": \"\",\n        \"description\": \"\"\n      }\n    },\n    {\n      \"column\": \"WCIO Cause of Injury Code\",\n      \"properties\": {\n        \"dtype\": \"number\",\n        \"std\": 197401.97937224575,\n        \"min\": 1.0,\n        \"max\": 558386.0,\n        \"num_unique_values\": 8,\n        \"samples\": [\n          54.38114315186986\n        ],\n        \"semantic_type\": \"\",\n        \"description\": \"\"\n      }\n    },\n    {\n      \"column\": \"WCIO Nature of Injury Code\",\n      \"properties\": {\n        \"dtype\": \"number\",\n        \"std\": 197399.50579040925,\n        \"min\": 1.0,\n        \"max\": 558369.0,\n        \"num_unique_values\": 8,\n        \"samples\": [\n          41.01383851897222\n        ],\n        \"semantic_type\": \"\",\n        \"description\": \"\"\n      }\n    },\n    {\n      \"column\": \"WCIO Part Of Body Code\",\n      \"properties\": {\n        \"dtype\": \"number\",\n        \"std\": 196895.49653474116,\n        \"min\": -9.0,\n        \"max\": 556944.0,\n        \"num_unique_values\": 8,\n        \"samples\": [\n          39.73814602545319\n        ],\n        \"semantic_type\": \"\",\n        \"description\": \"\"\n      }\n    },\n    {\n      \"column\": \"Agreement Reached\",\n      \"properties\": {\n        \"dtype\": \"number\",\n        \"std\": 202948.77507130278,\n        \"min\": 0.0,\n        \"max\": 574026.0,\n        \"num_unique_values\": 5,\n        \"samples\": [\n          0.04666513363506183\n        ],\n        \"semantic_type\": \"\",\n        \"description\": \"\"\n      }\n    },\n    {\n      \"column\": \"Number of Dependents\",\n      \"properties\": {\n        \"dtype\": \"number\",\n        \"std\": 202947.82807385304,\n        \"min\": 0.0,\n        \"max\": 574026.0,\n        \"num_unique_values\": 8,\n        \"samples\": [\n          3.006558936354799\n        ],\n        \"semantic_type\": \"\",\n        \"description\": \"\"\n      }\n    }\n  ]\n}"
            }
          },
          "metadata": {}
        },
        {
          "output_type": "stream",
          "name": "stdout",
          "text": [
            "\n",
            "Categorical Features Description:\n"
          ]
        },
        {
          "output_type": "display_data",
          "data": {
            "text/plain": [
              "       Alternative Dispute Resolution Attorney/Representative  \\\n",
              "count                          574026                  574026   \n",
              "unique                              3                       2   \n",
              "top                                 N                       N   \n",
              "freq                           571412                  392291   \n",
              "\n",
              "                Carrier Name Carrier Type Claim Injury Type County of Injury  \\\n",
              "count                 574026       574026            574026           574026   \n",
              "unique                  2046            8                 8               63   \n",
              "top     STATE INSURANCE FUND  1A. PRIVATE       2. NON-COMP          SUFFOLK   \n",
              "freq                  111144       285368            291078            60430   \n",
              "\n",
              "       COVID-19 Indicator District Name  Gender  \\\n",
              "count              574026        574026  574026   \n",
              "unique                  2             8       4   \n",
              "top                     N           NYC       M   \n",
              "freq               546505        270779  335218   \n",
              "\n",
              "                Industry Code Description Medical Fee Region  \\\n",
              "count                              564068             574026   \n",
              "unique                                 20                  5   \n",
              "top     HEALTH CARE AND SOCIAL ASSISTANCE                 IV   \n",
              "freq                               114339             265981   \n",
              "\n",
              "       WCIO Cause of Injury Description WCIO Nature of Injury Description  \\\n",
              "count                            558386                            558369   \n",
              "unique                               74                                56   \n",
              "top                             LIFTING                    STRAIN OR TEAR   \n",
              "freq                              46610                            153373   \n",
              "\n",
              "       WCIO Part Of Body Description Zip Code      WCB Decision  \n",
              "count                         556944   545389            574026  \n",
              "unique                            54    10060                 1  \n",
              "top                  LOWER BACK AREA    11236  Not Work Related  \n",
              "freq                           51862     3302            574026  "
            ],
            "text/html": [
              "\n",
              "  <div id=\"df-55560ae5-885d-4a55-9d7a-f1e59f0d7e09\" class=\"colab-df-container\">\n",
              "    <div>\n",
              "<style scoped>\n",
              "    .dataframe tbody tr th:only-of-type {\n",
              "        vertical-align: middle;\n",
              "    }\n",
              "\n",
              "    .dataframe tbody tr th {\n",
              "        vertical-align: top;\n",
              "    }\n",
              "\n",
              "    .dataframe thead th {\n",
              "        text-align: right;\n",
              "    }\n",
              "</style>\n",
              "<table border=\"1\" class=\"dataframe\">\n",
              "  <thead>\n",
              "    <tr style=\"text-align: right;\">\n",
              "      <th></th>\n",
              "      <th>Alternative Dispute Resolution</th>\n",
              "      <th>Attorney/Representative</th>\n",
              "      <th>Carrier Name</th>\n",
              "      <th>Carrier Type</th>\n",
              "      <th>Claim Injury Type</th>\n",
              "      <th>County of Injury</th>\n",
              "      <th>COVID-19 Indicator</th>\n",
              "      <th>District Name</th>\n",
              "      <th>Gender</th>\n",
              "      <th>Industry Code Description</th>\n",
              "      <th>Medical Fee Region</th>\n",
              "      <th>WCIO Cause of Injury Description</th>\n",
              "      <th>WCIO Nature of Injury Description</th>\n",
              "      <th>WCIO Part Of Body Description</th>\n",
              "      <th>Zip Code</th>\n",
              "      <th>WCB Decision</th>\n",
              "    </tr>\n",
              "  </thead>\n",
              "  <tbody>\n",
              "    <tr>\n",
              "      <th>count</th>\n",
              "      <td>574026</td>\n",
              "      <td>574026</td>\n",
              "      <td>574026</td>\n",
              "      <td>574026</td>\n",
              "      <td>574026</td>\n",
              "      <td>574026</td>\n",
              "      <td>574026</td>\n",
              "      <td>574026</td>\n",
              "      <td>574026</td>\n",
              "      <td>564068</td>\n",
              "      <td>574026</td>\n",
              "      <td>558386</td>\n",
              "      <td>558369</td>\n",
              "      <td>556944</td>\n",
              "      <td>545389</td>\n",
              "      <td>574026</td>\n",
              "    </tr>\n",
              "    <tr>\n",
              "      <th>unique</th>\n",
              "      <td>3</td>\n",
              "      <td>2</td>\n",
              "      <td>2046</td>\n",
              "      <td>8</td>\n",
              "      <td>8</td>\n",
              "      <td>63</td>\n",
              "      <td>2</td>\n",
              "      <td>8</td>\n",
              "      <td>4</td>\n",
              "      <td>20</td>\n",
              "      <td>5</td>\n",
              "      <td>74</td>\n",
              "      <td>56</td>\n",
              "      <td>54</td>\n",
              "      <td>10060</td>\n",
              "      <td>1</td>\n",
              "    </tr>\n",
              "    <tr>\n",
              "      <th>top</th>\n",
              "      <td>N</td>\n",
              "      <td>N</td>\n",
              "      <td>STATE INSURANCE FUND</td>\n",
              "      <td>1A. PRIVATE</td>\n",
              "      <td>2. NON-COMP</td>\n",
              "      <td>SUFFOLK</td>\n",
              "      <td>N</td>\n",
              "      <td>NYC</td>\n",
              "      <td>M</td>\n",
              "      <td>HEALTH CARE AND SOCIAL ASSISTANCE</td>\n",
              "      <td>IV</td>\n",
              "      <td>LIFTING</td>\n",
              "      <td>STRAIN OR TEAR</td>\n",
              "      <td>LOWER BACK AREA</td>\n",
              "      <td>11236</td>\n",
              "      <td>Not Work Related</td>\n",
              "    </tr>\n",
              "    <tr>\n",
              "      <th>freq</th>\n",
              "      <td>571412</td>\n",
              "      <td>392291</td>\n",
              "      <td>111144</td>\n",
              "      <td>285368</td>\n",
              "      <td>291078</td>\n",
              "      <td>60430</td>\n",
              "      <td>546505</td>\n",
              "      <td>270779</td>\n",
              "      <td>335218</td>\n",
              "      <td>114339</td>\n",
              "      <td>265981</td>\n",
              "      <td>46610</td>\n",
              "      <td>153373</td>\n",
              "      <td>51862</td>\n",
              "      <td>3302</td>\n",
              "      <td>574026</td>\n",
              "    </tr>\n",
              "  </tbody>\n",
              "</table>\n",
              "</div>\n",
              "    <div class=\"colab-df-buttons\">\n",
              "\n",
              "  <div class=\"colab-df-container\">\n",
              "    <button class=\"colab-df-convert\" onclick=\"convertToInteractive('df-55560ae5-885d-4a55-9d7a-f1e59f0d7e09')\"\n",
              "            title=\"Convert this dataframe to an interactive table.\"\n",
              "            style=\"display:none;\">\n",
              "\n",
              "  <svg xmlns=\"http://www.w3.org/2000/svg\" height=\"24px\" viewBox=\"0 -960 960 960\">\n",
              "    <path d=\"M120-120v-720h720v720H120Zm60-500h600v-160H180v160Zm220 220h160v-160H400v160Zm0 220h160v-160H400v160ZM180-400h160v-160H180v160Zm440 0h160v-160H620v160ZM180-180h160v-160H180v160Zm440 0h160v-160H620v160Z\"/>\n",
              "  </svg>\n",
              "    </button>\n",
              "\n",
              "  <style>\n",
              "    .colab-df-container {\n",
              "      display:flex;\n",
              "      gap: 12px;\n",
              "    }\n",
              "\n",
              "    .colab-df-convert {\n",
              "      background-color: #E8F0FE;\n",
              "      border: none;\n",
              "      border-radius: 50%;\n",
              "      cursor: pointer;\n",
              "      display: none;\n",
              "      fill: #1967D2;\n",
              "      height: 32px;\n",
              "      padding: 0 0 0 0;\n",
              "      width: 32px;\n",
              "    }\n",
              "\n",
              "    .colab-df-convert:hover {\n",
              "      background-color: #E2EBFA;\n",
              "      box-shadow: 0px 1px 2px rgba(60, 64, 67, 0.3), 0px 1px 3px 1px rgba(60, 64, 67, 0.15);\n",
              "      fill: #174EA6;\n",
              "    }\n",
              "\n",
              "    .colab-df-buttons div {\n",
              "      margin-bottom: 4px;\n",
              "    }\n",
              "\n",
              "    [theme=dark] .colab-df-convert {\n",
              "      background-color: #3B4455;\n",
              "      fill: #D2E3FC;\n",
              "    }\n",
              "\n",
              "    [theme=dark] .colab-df-convert:hover {\n",
              "      background-color: #434B5C;\n",
              "      box-shadow: 0px 1px 3px 1px rgba(0, 0, 0, 0.15);\n",
              "      filter: drop-shadow(0px 1px 2px rgba(0, 0, 0, 0.3));\n",
              "      fill: #FFFFFF;\n",
              "    }\n",
              "  </style>\n",
              "\n",
              "    <script>\n",
              "      const buttonEl =\n",
              "        document.querySelector('#df-55560ae5-885d-4a55-9d7a-f1e59f0d7e09 button.colab-df-convert');\n",
              "      buttonEl.style.display =\n",
              "        google.colab.kernel.accessAllowed ? 'block' : 'none';\n",
              "\n",
              "      async function convertToInteractive(key) {\n",
              "        const element = document.querySelector('#df-55560ae5-885d-4a55-9d7a-f1e59f0d7e09');\n",
              "        const dataTable =\n",
              "          await google.colab.kernel.invokeFunction('convertToInteractive',\n",
              "                                                    [key], {});\n",
              "        if (!dataTable) return;\n",
              "\n",
              "        const docLinkHtml = 'Like what you see? Visit the ' +\n",
              "          '<a target=\"_blank\" href=https://colab.research.google.com/notebooks/data_table.ipynb>data table notebook</a>'\n",
              "          + ' to learn more about interactive tables.';\n",
              "        element.innerHTML = '';\n",
              "        dataTable['output_type'] = 'display_data';\n",
              "        await google.colab.output.renderOutput(dataTable, element);\n",
              "        const docLink = document.createElement('div');\n",
              "        docLink.innerHTML = docLinkHtml;\n",
              "        element.appendChild(docLink);\n",
              "      }\n",
              "    </script>\n",
              "  </div>\n",
              "\n",
              "\n",
              "<div id=\"df-a0a72b38-92e4-4b5c-8748-b0059da4feb8\">\n",
              "  <button class=\"colab-df-quickchart\" onclick=\"quickchart('df-a0a72b38-92e4-4b5c-8748-b0059da4feb8')\"\n",
              "            title=\"Suggest charts\"\n",
              "            style=\"display:none;\">\n",
              "\n",
              "<svg xmlns=\"http://www.w3.org/2000/svg\" height=\"24px\"viewBox=\"0 0 24 24\"\n",
              "     width=\"24px\">\n",
              "    <g>\n",
              "        <path d=\"M19 3H5c-1.1 0-2 .9-2 2v14c0 1.1.9 2 2 2h14c1.1 0 2-.9 2-2V5c0-1.1-.9-2-2-2zM9 17H7v-7h2v7zm4 0h-2V7h2v10zm4 0h-2v-4h2v4z\"/>\n",
              "    </g>\n",
              "</svg>\n",
              "  </button>\n",
              "\n",
              "<style>\n",
              "  .colab-df-quickchart {\n",
              "      --bg-color: #E8F0FE;\n",
              "      --fill-color: #1967D2;\n",
              "      --hover-bg-color: #E2EBFA;\n",
              "      --hover-fill-color: #174EA6;\n",
              "      --disabled-fill-color: #AAA;\n",
              "      --disabled-bg-color: #DDD;\n",
              "  }\n",
              "\n",
              "  [theme=dark] .colab-df-quickchart {\n",
              "      --bg-color: #3B4455;\n",
              "      --fill-color: #D2E3FC;\n",
              "      --hover-bg-color: #434B5C;\n",
              "      --hover-fill-color: #FFFFFF;\n",
              "      --disabled-bg-color: #3B4455;\n",
              "      --disabled-fill-color: #666;\n",
              "  }\n",
              "\n",
              "  .colab-df-quickchart {\n",
              "    background-color: var(--bg-color);\n",
              "    border: none;\n",
              "    border-radius: 50%;\n",
              "    cursor: pointer;\n",
              "    display: none;\n",
              "    fill: var(--fill-color);\n",
              "    height: 32px;\n",
              "    padding: 0;\n",
              "    width: 32px;\n",
              "  }\n",
              "\n",
              "  .colab-df-quickchart:hover {\n",
              "    background-color: var(--hover-bg-color);\n",
              "    box-shadow: 0 1px 2px rgba(60, 64, 67, 0.3), 0 1px 3px 1px rgba(60, 64, 67, 0.15);\n",
              "    fill: var(--button-hover-fill-color);\n",
              "  }\n",
              "\n",
              "  .colab-df-quickchart-complete:disabled,\n",
              "  .colab-df-quickchart-complete:disabled:hover {\n",
              "    background-color: var(--disabled-bg-color);\n",
              "    fill: var(--disabled-fill-color);\n",
              "    box-shadow: none;\n",
              "  }\n",
              "\n",
              "  .colab-df-spinner {\n",
              "    border: 2px solid var(--fill-color);\n",
              "    border-color: transparent;\n",
              "    border-bottom-color: var(--fill-color);\n",
              "    animation:\n",
              "      spin 1s steps(1) infinite;\n",
              "  }\n",
              "\n",
              "  @keyframes spin {\n",
              "    0% {\n",
              "      border-color: transparent;\n",
              "      border-bottom-color: var(--fill-color);\n",
              "      border-left-color: var(--fill-color);\n",
              "    }\n",
              "    20% {\n",
              "      border-color: transparent;\n",
              "      border-left-color: var(--fill-color);\n",
              "      border-top-color: var(--fill-color);\n",
              "    }\n",
              "    30% {\n",
              "      border-color: transparent;\n",
              "      border-left-color: var(--fill-color);\n",
              "      border-top-color: var(--fill-color);\n",
              "      border-right-color: var(--fill-color);\n",
              "    }\n",
              "    40% {\n",
              "      border-color: transparent;\n",
              "      border-right-color: var(--fill-color);\n",
              "      border-top-color: var(--fill-color);\n",
              "    }\n",
              "    60% {\n",
              "      border-color: transparent;\n",
              "      border-right-color: var(--fill-color);\n",
              "    }\n",
              "    80% {\n",
              "      border-color: transparent;\n",
              "      border-right-color: var(--fill-color);\n",
              "      border-bottom-color: var(--fill-color);\n",
              "    }\n",
              "    90% {\n",
              "      border-color: transparent;\n",
              "      border-bottom-color: var(--fill-color);\n",
              "    }\n",
              "  }\n",
              "</style>\n",
              "\n",
              "  <script>\n",
              "    async function quickchart(key) {\n",
              "      const quickchartButtonEl =\n",
              "        document.querySelector('#' + key + ' button');\n",
              "      quickchartButtonEl.disabled = true;  // To prevent multiple clicks.\n",
              "      quickchartButtonEl.classList.add('colab-df-spinner');\n",
              "      try {\n",
              "        const charts = await google.colab.kernel.invokeFunction(\n",
              "            'suggestCharts', [key], {});\n",
              "      } catch (error) {\n",
              "        console.error('Error during call to suggestCharts:', error);\n",
              "      }\n",
              "      quickchartButtonEl.classList.remove('colab-df-spinner');\n",
              "      quickchartButtonEl.classList.add('colab-df-quickchart-complete');\n",
              "    }\n",
              "    (() => {\n",
              "      let quickchartButtonEl =\n",
              "        document.querySelector('#df-a0a72b38-92e4-4b5c-8748-b0059da4feb8 button');\n",
              "      quickchartButtonEl.style.display =\n",
              "        google.colab.kernel.accessAllowed ? 'block' : 'none';\n",
              "    })();\n",
              "  </script>\n",
              "</div>\n",
              "\n",
              "    </div>\n",
              "  </div>\n"
            ],
            "application/vnd.google.colaboratory.intrinsic+json": {
              "type": "dataframe",
              "summary": "{\n  \"name\": \"basic_descriptive_stats(df_train)\",\n  \"rows\": 4,\n  \"fields\": [\n    {\n      \"column\": \"Alternative Dispute Resolution\",\n      \"properties\": {\n        \"dtype\": \"string\",\n        \"num_unique_values\": 4,\n        \"samples\": [\n          3,\n          \"571412\",\n          \"574026\"\n        ],\n        \"semantic_type\": \"\",\n        \"description\": \"\"\n      }\n    },\n    {\n      \"column\": \"Attorney/Representative\",\n      \"properties\": {\n        \"dtype\": \"string\",\n        \"num_unique_values\": 4,\n        \"samples\": [\n          2,\n          \"392291\",\n          \"574026\"\n        ],\n        \"semantic_type\": \"\",\n        \"description\": \"\"\n      }\n    },\n    {\n      \"column\": \"Carrier Name\",\n      \"properties\": {\n        \"dtype\": \"string\",\n        \"num_unique_values\": 4,\n        \"samples\": [\n          2046,\n          \"111144\",\n          \"574026\"\n        ],\n        \"semantic_type\": \"\",\n        \"description\": \"\"\n      }\n    },\n    {\n      \"column\": \"Carrier Type\",\n      \"properties\": {\n        \"dtype\": \"string\",\n        \"num_unique_values\": 4,\n        \"samples\": [\n          8,\n          \"285368\",\n          \"574026\"\n        ],\n        \"semantic_type\": \"\",\n        \"description\": \"\"\n      }\n    },\n    {\n      \"column\": \"Claim Injury Type\",\n      \"properties\": {\n        \"dtype\": \"string\",\n        \"num_unique_values\": 4,\n        \"samples\": [\n          8,\n          \"291078\",\n          \"574026\"\n        ],\n        \"semantic_type\": \"\",\n        \"description\": \"\"\n      }\n    },\n    {\n      \"column\": \"County of Injury\",\n      \"properties\": {\n        \"dtype\": \"string\",\n        \"num_unique_values\": 4,\n        \"samples\": [\n          63,\n          \"60430\",\n          \"574026\"\n        ],\n        \"semantic_type\": \"\",\n        \"description\": \"\"\n      }\n    },\n    {\n      \"column\": \"COVID-19 Indicator\",\n      \"properties\": {\n        \"dtype\": \"string\",\n        \"num_unique_values\": 4,\n        \"samples\": [\n          2,\n          \"546505\",\n          \"574026\"\n        ],\n        \"semantic_type\": \"\",\n        \"description\": \"\"\n      }\n    },\n    {\n      \"column\": \"District Name\",\n      \"properties\": {\n        \"dtype\": \"string\",\n        \"num_unique_values\": 4,\n        \"samples\": [\n          8,\n          \"270779\",\n          \"574026\"\n        ],\n        \"semantic_type\": \"\",\n        \"description\": \"\"\n      }\n    },\n    {\n      \"column\": \"Gender\",\n      \"properties\": {\n        \"dtype\": \"string\",\n        \"num_unique_values\": 4,\n        \"samples\": [\n          4,\n          \"335218\",\n          \"574026\"\n        ],\n        \"semantic_type\": \"\",\n        \"description\": \"\"\n      }\n    },\n    {\n      \"column\": \"Industry Code Description\",\n      \"properties\": {\n        \"dtype\": \"string\",\n        \"num_unique_values\": 4,\n        \"samples\": [\n          20,\n          \"114339\",\n          \"564068\"\n        ],\n        \"semantic_type\": \"\",\n        \"description\": \"\"\n      }\n    },\n    {\n      \"column\": \"Medical Fee Region\",\n      \"properties\": {\n        \"dtype\": \"string\",\n        \"num_unique_values\": 4,\n        \"samples\": [\n          5,\n          \"265981\",\n          \"574026\"\n        ],\n        \"semantic_type\": \"\",\n        \"description\": \"\"\n      }\n    },\n    {\n      \"column\": \"WCIO Cause of Injury Description\",\n      \"properties\": {\n        \"dtype\": \"string\",\n        \"num_unique_values\": 4,\n        \"samples\": [\n          74,\n          \"46610\",\n          \"558386\"\n        ],\n        \"semantic_type\": \"\",\n        \"description\": \"\"\n      }\n    },\n    {\n      \"column\": \"WCIO Nature of Injury Description\",\n      \"properties\": {\n        \"dtype\": \"string\",\n        \"num_unique_values\": 4,\n        \"samples\": [\n          56,\n          \"153373\",\n          \"558369\"\n        ],\n        \"semantic_type\": \"\",\n        \"description\": \"\"\n      }\n    },\n    {\n      \"column\": \"WCIO Part Of Body Description\",\n      \"properties\": {\n        \"dtype\": \"string\",\n        \"num_unique_values\": 4,\n        \"samples\": [\n          54,\n          \"51862\",\n          \"556944\"\n        ],\n        \"semantic_type\": \"\",\n        \"description\": \"\"\n      }\n    },\n    {\n      \"column\": \"Zip Code\",\n      \"properties\": {\n        \"dtype\": \"string\",\n        \"num_unique_values\": 4,\n        \"samples\": [\n          10060,\n          \"3302\",\n          \"545389\"\n        ],\n        \"semantic_type\": \"\",\n        \"description\": \"\"\n      }\n    },\n    {\n      \"column\": \"WCB Decision\",\n      \"properties\": {\n        \"dtype\": \"string\",\n        \"num_unique_values\": 3,\n        \"samples\": [\n          \"574026\",\n          1,\n          \"Not Work Related\"\n        ],\n        \"semantic_type\": \"\",\n        \"description\": \"\"\n      }\n    }\n  ]\n}"
            }
          },
          "metadata": {}
        },
        {
          "output_type": "stream",
          "name": "stdout",
          "text": [
            "\n",
            "Missing Values Summary:\n",
            "Accident Date                          23134\n",
            "Age at Injury                          19445\n",
            "Alternative Dispute Resolution         19445\n",
            "Assembly Date                              0\n",
            "Attorney/Representative                19445\n",
            "Average Weekly Wage                    48096\n",
            "Birth Year                             48523\n",
            "C-2 Date                               34005\n",
            "C-3 Date                              406226\n",
            "Carrier Name                           19445\n",
            "Carrier Type                           19445\n",
            "Claim Identifier                           0\n",
            "Claim Injury Type                      19445\n",
            "County of Injury                       19445\n",
            "COVID-19 Indicator                     19445\n",
            "District Name                          19445\n",
            "First Hearing Date                    442673\n",
            "Gender                                 19445\n",
            "IME-4 Count                           460668\n",
            "Industry Code                          29403\n",
            "Industry Code Description              29403\n",
            "Medical Fee Region                     19445\n",
            "OIICS Nature of Injury Description    593471\n",
            "WCIO Cause of Injury Code              35085\n",
            "WCIO Cause of Injury Description       35085\n",
            "WCIO Nature of Injury Code             35102\n",
            "WCIO Nature of Injury Description      35102\n",
            "WCIO Part Of Body Code                 36527\n",
            "WCIO Part Of Body Description          36527\n",
            "Zip Code                               48082\n",
            "Agreement Reached                      19445\n",
            "WCB Decision                           19445\n",
            "Number of Dependents                   19445\n",
            "dtype: int64\n",
            "\n",
            "Duplicate Check:\n",
            "Number of duplicates: 0\n"
          ]
        }
      ],
      "source": [
        "basic_descriptive_stats(df_train)"
      ]
    },
    {
      "cell_type": "markdown",
      "id": "6c4236d0-3b0b-486d-ab87-83bb8e151d3b",
      "metadata": {
        "id": "6c4236d0-3b0b-486d-ab87-83bb8e151d3b"
      },
      "source": [
        "## Step 2: Single Feature analysis"
      ]
    },
    {
      "cell_type": "markdown",
      "source": [
        "### Acident date variable"
      ],
      "metadata": {
        "id": "B_ixddXyKxt-"
      },
      "id": "B_ixddXyKxt-"
    },
    {
      "cell_type": "markdown",
      "source": [
        "First, we need to ensure that this variable is in the correct date format."
      ],
      "metadata": {
        "id": "dJpf2uw8LD1h"
      },
      "id": "dJpf2uw8LD1h"
    },
    {
      "cell_type": "code",
      "source": [
        "df_train['Accident Date'] = pd.to_datetime(df_train['Accident Date'])"
      ],
      "metadata": {
        "id": "zva804blLB17"
      },
      "id": "zva804blLB17",
      "execution_count": 256,
      "outputs": []
    },
    {
      "cell_type": "markdown",
      "source": [
        "Let's examine the key statistics for this variable:"
      ],
      "metadata": {
        "id": "PIvLK_xoLJdC"
      },
      "id": "PIvLK_xoLJdC"
    },
    {
      "cell_type": "markdown",
      "source": [
        "### Attorney Representation variable"
      ],
      "metadata": {
        "id": "mggCA0Co7YBp"
      },
      "id": "mggCA0Co7YBp"
    },
    {
      "cell_type": "code",
      "source": [
        "df_train['Attorney/Representative'].describe()"
      ],
      "metadata": {
        "id": "5y6_-Bv77xDi",
        "outputId": "16ef77fb-a5ef-4a7c-b891-2978105da261",
        "colab": {
          "base_uri": "https://localhost:8080/",
          "height": 210
        }
      },
      "id": "5y6_-Bv77xDi",
      "execution_count": 221,
      "outputs": [
        {
          "output_type": "execute_result",
          "data": {
            "text/plain": [
              "count     574021\n",
              "unique         2\n",
              "top            N\n",
              "freq      392287\n",
              "Name: Attorney/Representative, dtype: object"
            ],
            "text/html": [
              "<div>\n",
              "<style scoped>\n",
              "    .dataframe tbody tr th:only-of-type {\n",
              "        vertical-align: middle;\n",
              "    }\n",
              "\n",
              "    .dataframe tbody tr th {\n",
              "        vertical-align: top;\n",
              "    }\n",
              "\n",
              "    .dataframe thead th {\n",
              "        text-align: right;\n",
              "    }\n",
              "</style>\n",
              "<table border=\"1\" class=\"dataframe\">\n",
              "  <thead>\n",
              "    <tr style=\"text-align: right;\">\n",
              "      <th></th>\n",
              "      <th>Attorney/Representative</th>\n",
              "    </tr>\n",
              "  </thead>\n",
              "  <tbody>\n",
              "    <tr>\n",
              "      <th>count</th>\n",
              "      <td>574021</td>\n",
              "    </tr>\n",
              "    <tr>\n",
              "      <th>unique</th>\n",
              "      <td>2</td>\n",
              "    </tr>\n",
              "    <tr>\n",
              "      <th>top</th>\n",
              "      <td>N</td>\n",
              "    </tr>\n",
              "    <tr>\n",
              "      <th>freq</th>\n",
              "      <td>392287</td>\n",
              "    </tr>\n",
              "  </tbody>\n",
              "</table>\n",
              "</div><br><label><b>dtype:</b> object</label>"
            ]
          },
          "metadata": {},
          "execution_count": 221
        }
      ]
    },
    {
      "cell_type": "code",
      "source": [
        "df_train['Attorney/Representative'].value_counts()"
      ],
      "metadata": {
        "id": "fPhtqsbX7b6x",
        "outputId": "9772d4e9-2be3-4972-8bab-a7ce84064d37",
        "colab": {
          "base_uri": "https://localhost:8080/",
          "height": 178
        }
      },
      "id": "fPhtqsbX7b6x",
      "execution_count": 220,
      "outputs": [
        {
          "output_type": "execute_result",
          "data": {
            "text/plain": [
              "Attorney/Representative\n",
              "N    392287\n",
              "Y    181734\n",
              "Name: count, dtype: int64"
            ],
            "text/html": [
              "<div>\n",
              "<style scoped>\n",
              "    .dataframe tbody tr th:only-of-type {\n",
              "        vertical-align: middle;\n",
              "    }\n",
              "\n",
              "    .dataframe tbody tr th {\n",
              "        vertical-align: top;\n",
              "    }\n",
              "\n",
              "    .dataframe thead th {\n",
              "        text-align: right;\n",
              "    }\n",
              "</style>\n",
              "<table border=\"1\" class=\"dataframe\">\n",
              "  <thead>\n",
              "    <tr style=\"text-align: right;\">\n",
              "      <th></th>\n",
              "      <th>count</th>\n",
              "    </tr>\n",
              "    <tr>\n",
              "      <th>Attorney/Representative</th>\n",
              "      <th></th>\n",
              "    </tr>\n",
              "  </thead>\n",
              "  <tbody>\n",
              "    <tr>\n",
              "      <th>N</th>\n",
              "      <td>392287</td>\n",
              "    </tr>\n",
              "    <tr>\n",
              "      <th>Y</th>\n",
              "      <td>181734</td>\n",
              "    </tr>\n",
              "  </tbody>\n",
              "</table>\n",
              "</div><br><label><b>dtype:</b> int64</label>"
            ]
          },
          "metadata": {},
          "execution_count": 220
        }
      ]
    },
    {
      "cell_type": "code",
      "source": [
        "# Replace 'Y' with True, 'N' with False, and preserve NaNs\n",
        "df_train['Attorney/Representative'] = df_train['Attorney/Representative'].replace({'Y': True, 'N': False})\n",
        "\n",
        "# Now convert to nullable boolean type\n",
        "df_train['Attorney/Representative'] = df_train['Attorney/Representative'].astype(\"boolean\")"
      ],
      "metadata": {
        "id": "X_8uQZqq74CW"
      },
      "id": "X_8uQZqq74CW",
      "execution_count": 224,
      "outputs": []
    },
    {
      "cell_type": "code",
      "source": [
        "# Replace 'Y' with True, 'N' with False, and preserve NaNs\n",
        "df_test['Attorney/Representative'] = df_test['Attorney/Representative'].replace({'Y': True, 'N': False})\n",
        "\n",
        "# Now convert to nullable boolean type\n",
        "df_test['Attorney/Representative'] = df_test['Attorney/Representative'].astype(\"boolean\")"
      ],
      "metadata": {
        "id": "IpMwWMWx-tPA",
        "outputId": "25359b23-f82c-44cb-9f6d-20827397e66d",
        "colab": {
          "base_uri": "https://localhost:8080/"
        }
      },
      "id": "IpMwWMWx-tPA",
      "execution_count": 225,
      "outputs": [
        {
          "output_type": "stream",
          "name": "stderr",
          "text": [
            "<ipython-input-225-1594995a33a5>:2: FutureWarning: Downcasting behavior in `replace` is deprecated and will be removed in a future version. To retain the old behavior, explicitly call `result.infer_objects(copy=False)`. To opt-in to the future behavior, set `pd.set_option('future.no_silent_downcasting', True)`\n",
            "  df_test['Attorney/Representative'] = df_test['Attorney/Representative'].replace({'Y': True, 'N': False})\n"
          ]
        }
      ]
    },
    {
      "cell_type": "code",
      "source": [
        "plot_bar(df_train, 'Attorney/Representative')"
      ],
      "metadata": {
        "id": "bknQN38R-6hn",
        "outputId": "a39b78c9-a461-49ed-8904-0c6782565653",
        "colab": {
          "base_uri": "https://localhost:8080/",
          "height": 550
        }
      },
      "id": "bknQN38R-6hn",
      "execution_count": 226,
      "outputs": [
        {
          "output_type": "display_data",
          "data": {
            "text/plain": [
              "<Figure size 1000x600 with 1 Axes>"
            ],
            "image/png": "[encoded data removed]"
          },
          "metadata": {}
        }
      ]
    },
    {
      "cell_type": "markdown",
      "source": [
        "### Alternative Dispute Resolution variable"
      ],
      "metadata": {
        "id": "yMKdeO6Fz3NO"
      },
      "id": "yMKdeO6Fz3NO"
    },
    {
      "cell_type": "code",
      "source": [
        "df_train['Alternative Dispute Resolution'].value_counts()"
      ],
      "metadata": {
        "id": "TxQAcEJQz_RH",
        "outputId": "b3de91cb-4e35-4eeb-ad6a-938aa25b62a3",
        "colab": {
          "base_uri": "https://localhost:8080/",
          "height": 178
        }
      },
      "id": "TxQAcEJQz_RH",
      "execution_count": 186,
      "outputs": [
        {
          "output_type": "execute_result",
          "data": {
            "text/plain": [
              "Alternative Dispute Resolution\n",
              "False    571412\n",
              "True       2609\n",
              "Name: count, dtype: Int64"
            ],
            "text/html": [
              "<div>\n",
              "<style scoped>\n",
              "    .dataframe tbody tr th:only-of-type {\n",
              "        vertical-align: middle;\n",
              "    }\n",
              "\n",
              "    .dataframe tbody tr th {\n",
              "        vertical-align: top;\n",
              "    }\n",
              "\n",
              "    .dataframe thead th {\n",
              "        text-align: right;\n",
              "    }\n",
              "</style>\n",
              "<table border=\"1\" class=\"dataframe\">\n",
              "  <thead>\n",
              "    <tr style=\"text-align: right;\">\n",
              "      <th></th>\n",
              "      <th>count</th>\n",
              "    </tr>\n",
              "    <tr>\n",
              "      <th>Alternative Dispute Resolution</th>\n",
              "      <th></th>\n",
              "    </tr>\n",
              "  </thead>\n",
              "  <tbody>\n",
              "    <tr>\n",
              "      <th>False</th>\n",
              "      <td>571412</td>\n",
              "    </tr>\n",
              "    <tr>\n",
              "      <th>True</th>\n",
              "      <td>2609</td>\n",
              "    </tr>\n",
              "  </tbody>\n",
              "</table>\n",
              "</div><br><label><b>dtype:</b> Int64</label>"
            ]
          },
          "metadata": {},
          "execution_count": 186
        }
      ]
    },
    {
      "cell_type": "markdown",
      "source": [
        "The 5 cases recorded with 'U' should be an error. They are likely meant to be 'Y', since the Y and U keys are located next to each other. In fact, the 'Alternative Dispute Resolution' variable should be a boolean. Since 5 cases represent a minority in the data and contain errors, we can safely remove these rows."
      ],
      "metadata": {
        "id": "jSq3QOPG0B2K"
      },
      "id": "jSq3QOPG0B2K"
    },
    {
      "cell_type": "code",
      "source": [
        "df_train = df_train.drop(df_train[df_train['Alternative Dispute Resolution'] == 'U'].index)\n",
        "df_train['Alternative Dispute Resolution'] = df_train['Alternative Dispute Resolution'].replace({'Y': True, 'N': False})\n",
        "df_train['Alternative Dispute Resolution'] = df_train['Alternative Dispute Resolution'].astype(\"boolean\")"
      ],
      "metadata": {
        "id": "NPegu_kn0Kqi"
      },
      "id": "NPegu_kn0Kqi",
      "execution_count": 188,
      "outputs": []
    },
    {
      "cell_type": "code",
      "source": [
        "df_test= df_test.drop(df_test[df_test['Alternative Dispute Resolution'] == 'U'].index)\n",
        "df_test['Alternative Dispute Resolution'] = df_test['Alternative Dispute Resolution'].replace({'Y': True, 'N': False})\n",
        "df_test['Alternative Dispute Resolution'] = df_test['Alternative Dispute Resolution'].astype(\"boolean\")"
      ],
      "metadata": {
        "id": "uMUXvfg61Qwz",
        "outputId": "8044a2a4-f7b1-4cf3-81e3-1f7adb6560de",
        "colab": {
          "base_uri": "https://localhost:8080/"
        }
      },
      "id": "uMUXvfg61Qwz",
      "execution_count": 187,
      "outputs": [
        {
          "output_type": "stream",
          "name": "stderr",
          "text": [
            "<ipython-input-187-c25953457653>:2: FutureWarning: Downcasting behavior in `replace` is deprecated and will be removed in a future version. To retain the old behavior, explicitly call `result.infer_objects(copy=False)`. To opt-in to the future behavior, set `pd.set_option('future.no_silent_downcasting', True)`\n",
            "  df_test['Alternative Dispute Resolution'] = df_test['Alternative Dispute Resolution'].replace({'Y': True, 'N': False})\n"
          ]
        }
      ]
    },
    {
      "cell_type": "code",
      "source": [
        "plot_bar(df_train, 'Alternative Dispute Resolution')"
      ],
      "metadata": {
        "id": "oIdamlYn0lBl",
        "outputId": "73371fbf-2899-415b-b605-e2fa101d1b28",
        "colab": {
          "base_uri": "https://localhost:8080/",
          "height": 542
        }
      },
      "id": "oIdamlYn0lBl",
      "execution_count": 184,
      "outputs": [
        {
          "output_type": "display_data",
          "data": {
            "text/plain": [
              "<Figure size 1000x600 with 1 Axes>"
            ],
            "image/png": "[encoded data removed]"
          },
          "metadata": {}
        }
      ]
    },
    {
      "cell_type": "markdown",
      "source": [
        "### Carrier Name variable"
      ],
      "metadata": {
        "id": "V_-xT6mh1fse"
      },
      "id": "V_-xT6mh1fse"
    },
    {
      "cell_type": "code",
      "source": [
        "df_train['Carrier Name'].describe()"
      ],
      "metadata": {
        "id": "YsZWtEJ51zv0",
        "outputId": "8e74f5f1-bec1-4502-c602-3e6b9c757c5b",
        "colab": {
          "base_uri": "https://localhost:8080/",
          "height": 210
        }
      },
      "id": "YsZWtEJ51zv0",
      "execution_count": 190,
      "outputs": [
        {
          "output_type": "execute_result",
          "data": {
            "text/plain": [
              "count                   574021\n",
              "unique                    2046\n",
              "top       STATE INSURANCE FUND\n",
              "freq                    111144\n",
              "Name: Carrier Name, dtype: object"
            ],
            "text/html": [
              "<div>\n",
              "<style scoped>\n",
              "    .dataframe tbody tr th:only-of-type {\n",
              "        vertical-align: middle;\n",
              "    }\n",
              "\n",
              "    .dataframe tbody tr th {\n",
              "        vertical-align: top;\n",
              "    }\n",
              "\n",
              "    .dataframe thead th {\n",
              "        text-align: right;\n",
              "    }\n",
              "</style>\n",
              "<table border=\"1\" class=\"dataframe\">\n",
              "  <thead>\n",
              "    <tr style=\"text-align: right;\">\n",
              "      <th></th>\n",
              "      <th>Carrier Name</th>\n",
              "    </tr>\n",
              "  </thead>\n",
              "  <tbody>\n",
              "    <tr>\n",
              "      <th>count</th>\n",
              "      <td>574021</td>\n",
              "    </tr>\n",
              "    <tr>\n",
              "      <th>unique</th>\n",
              "      <td>2046</td>\n",
              "    </tr>\n",
              "    <tr>\n",
              "      <th>top</th>\n",
              "      <td>STATE INSURANCE FUND</td>\n",
              "    </tr>\n",
              "    <tr>\n",
              "      <th>freq</th>\n",
              "      <td>111144</td>\n",
              "    </tr>\n",
              "  </tbody>\n",
              "</table>\n",
              "</div><br><label><b>dtype:</b> object</label>"
            ]
          },
          "metadata": {},
          "execution_count": 190
        }
      ]
    },
    {
      "cell_type": "code",
      "source": [
        "df_train['Carrier Name'].isna().sum()"
      ],
      "metadata": {
        "id": "fqYRyvCs2B9-",
        "outputId": "3e204492-e7b0-4bbb-f2bc-8acf81de74b6",
        "colab": {
          "base_uri": "https://localhost:8080/"
        }
      },
      "id": "fqYRyvCs2B9-",
      "execution_count": 192,
      "outputs": [
        {
          "output_type": "execute_result",
          "data": {
            "text/plain": [
              "19445"
            ]
          },
          "metadata": {},
          "execution_count": 192
        }
      ]
    },
    {
      "cell_type": "code",
      "source": [
        "top_carriers = df_train['Carrier Name'].value_counts().nlargest(20)\n",
        "sns.barplot(x=top_carriers.values, y=top_carriers.index)\n",
        "plt.title('Top 20 Carrier Names')\n",
        "plt.xlabel('Frequency')\n",
        "plt.ylabel('Carrier Name')\n",
        "plt.show()"
      ],
      "metadata": {
        "id": "IQ_1zGcD2JM9",
        "outputId": "cf36709c-8bda-4b97-96b8-5ad55c58ca46",
        "colab": {
          "base_uri": "https://localhost:8080/",
          "height": 472
        }
      },
      "id": "IQ_1zGcD2JM9",
      "execution_count": 194,
      "outputs": [
        {
          "output_type": "display_data",
          "data": {
            "text/plain": [
              "<Figure size 640x480 with 1 Axes>"
            ],
            "image/png": "[encoded data removed]"
          },
          "metadata": {}
        }
      ]
    },
    {
      "cell_type": "markdown",
      "source": [
        "### Claim Identifier variable"
      ],
      "metadata": {
        "id": "G8_UCQpy3-1i"
      },
      "id": "G8_UCQpy3-1i"
    },
    {
      "cell_type": "code",
      "source": [
        "df_train['Claim Identifier'].describe()"
      ],
      "metadata": {
        "id": "dEjx_ZbM4FPu",
        "outputId": "5bfafa0e-250e-46b1-9dbb-b7e424313fb4",
        "colab": {
          "base_uri": "https://localhost:8080/",
          "height": 335
        }
      },
      "id": "dEjx_ZbM4FPu",
      "execution_count": 195,
      "outputs": [
        {
          "output_type": "execute_result",
          "data": {
            "text/plain": [
              "count    5.934660e+05\n",
              "mean     2.366775e+07\n",
              "std      1.079276e+08\n",
              "min      5.393066e+06\n",
              "25%      5.593414e+06\n",
              "50%      5.791210e+06\n",
              "75%      5.990995e+06\n",
              "max      9.998917e+08\n",
              "Name: Claim Identifier, dtype: float64"
            ],
            "text/html": [
              "<div>\n",
              "<style scoped>\n",
              "    .dataframe tbody tr th:only-of-type {\n",
              "        vertical-align: middle;\n",
              "    }\n",
              "\n",
              "    .dataframe tbody tr th {\n",
              "        vertical-align: top;\n",
              "    }\n",
              "\n",
              "    .dataframe thead th {\n",
              "        text-align: right;\n",
              "    }\n",
              "</style>\n",
              "<table border=\"1\" class=\"dataframe\">\n",
              "  <thead>\n",
              "    <tr style=\"text-align: right;\">\n",
              "      <th></th>\n",
              "      <th>Claim Identifier</th>\n",
              "    </tr>\n",
              "  </thead>\n",
              "  <tbody>\n",
              "    <tr>\n",
              "      <th>count</th>\n",
              "      <td>5.934660e+05</td>\n",
              "    </tr>\n",
              "    <tr>\n",
              "      <th>mean</th>\n",
              "      <td>2.366775e+07</td>\n",
              "    </tr>\n",
              "    <tr>\n",
              "      <th>std</th>\n",
              "      <td>1.079276e+08</td>\n",
              "    </tr>\n",
              "    <tr>\n",
              "      <th>min</th>\n",
              "      <td>5.393066e+06</td>\n",
              "    </tr>\n",
              "    <tr>\n",
              "      <th>25%</th>\n",
              "      <td>5.593414e+06</td>\n",
              "    </tr>\n",
              "    <tr>\n",
              "      <th>50%</th>\n",
              "      <td>5.791210e+06</td>\n",
              "    </tr>\n",
              "    <tr>\n",
              "      <th>75%</th>\n",
              "      <td>5.990995e+06</td>\n",
              "    </tr>\n",
              "    <tr>\n",
              "      <th>max</th>\n",
              "      <td>9.998917e+08</td>\n",
              "    </tr>\n",
              "  </tbody>\n",
              "</table>\n",
              "</div><br><label><b>dtype:</b> float64</label>"
            ]
          },
          "metadata": {},
          "execution_count": 195
        }
      ]
    },
    {
      "cell_type": "code",
      "source": [
        "df_train['Claim Identifier'].nunique()"
      ],
      "metadata": {
        "id": "b6cTknVr4SjZ",
        "outputId": "f3892b19-d644-4640-8724-c65b9ae4a8d7",
        "colab": {
          "base_uri": "https://localhost:8080/"
        }
      },
      "id": "b6cTknVr4SjZ",
      "execution_count": 197,
      "outputs": [
        {
          "output_type": "execute_result",
          "data": {
            "text/plain": [
              "593465"
            ]
          },
          "metadata": {},
          "execution_count": 197
        }
      ]
    },
    {
      "cell_type": "code",
      "source": [
        "df_train['Claim Identifier'].size"
      ],
      "metadata": {
        "id": "piy-KTFT4dmD",
        "outputId": "ca940700-a373-45df-95ab-045bdc393679",
        "colab": {
          "base_uri": "https://localhost:8080/"
        }
      },
      "id": "piy-KTFT4dmD",
      "execution_count": 200,
      "outputs": [
        {
          "output_type": "execute_result",
          "data": {
            "text/plain": [
              "593466"
            ]
          },
          "metadata": {},
          "execution_count": 200
        }
      ]
    },
    {
      "cell_type": "code",
      "source": [
        "df_train['Claim Identifier'].isna().sum()"
      ],
      "metadata": {
        "id": "CTeeOpZw4aX0",
        "outputId": "fc2a2925-be56-4ed0-96db-5a9b07a45fd8",
        "colab": {
          "base_uri": "https://localhost:8080/"
        }
      },
      "id": "CTeeOpZw4aX0",
      "execution_count": 198,
      "outputs": [
        {
          "output_type": "execute_result",
          "data": {
            "text/plain": [
              "0"
            ]
          },
          "metadata": {},
          "execution_count": 198
        }
      ]
    },
    {
      "cell_type": "markdown",
      "source": [
        "### District Name variable"
      ],
      "metadata": {
        "id": "ti63nrhM4vcp"
      },
      "id": "ti63nrhM4vcp"
    },
    {
      "cell_type": "code",
      "source": [
        "df_train['District Name'] = df_train['District Name'].astype('category')\n",
        "df_test['District Name'] = df_test['District Name'].astype('category')"
      ],
      "metadata": {
        "id": "rKVspA_b4x9u"
      },
      "id": "rKVspA_b4x9u",
      "execution_count": 204,
      "outputs": []
    },
    {
      "cell_type": "code",
      "source": [
        "df_train['District Name'].describe()"
      ],
      "metadata": {
        "id": "fHKFezhx5ctt",
        "outputId": "44f8ca66-bbe8-4e0d-de78-dabb43ea3adf",
        "colab": {
          "base_uri": "https://localhost:8080/",
          "height": 210
        }
      },
      "id": "fHKFezhx5ctt",
      "execution_count": 205,
      "outputs": [
        {
          "output_type": "execute_result",
          "data": {
            "text/plain": [
              "count     574021\n",
              "unique         8\n",
              "top          NYC\n",
              "freq      270776\n",
              "Name: District Name, dtype: object"
            ],
            "text/html": [
              "<div>\n",
              "<style scoped>\n",
              "    .dataframe tbody tr th:only-of-type {\n",
              "        vertical-align: middle;\n",
              "    }\n",
              "\n",
              "    .dataframe tbody tr th {\n",
              "        vertical-align: top;\n",
              "    }\n",
              "\n",
              "    .dataframe thead th {\n",
              "        text-align: right;\n",
              "    }\n",
              "</style>\n",
              "<table border=\"1\" class=\"dataframe\">\n",
              "  <thead>\n",
              "    <tr style=\"text-align: right;\">\n",
              "      <th></th>\n",
              "      <th>District Name</th>\n",
              "    </tr>\n",
              "  </thead>\n",
              "  <tbody>\n",
              "    <tr>\n",
              "      <th>count</th>\n",
              "      <td>574021</td>\n",
              "    </tr>\n",
              "    <tr>\n",
              "      <th>unique</th>\n",
              "      <td>8</td>\n",
              "    </tr>\n",
              "    <tr>\n",
              "      <th>top</th>\n",
              "      <td>NYC</td>\n",
              "    </tr>\n",
              "    <tr>\n",
              "      <th>freq</th>\n",
              "      <td>270776</td>\n",
              "    </tr>\n",
              "  </tbody>\n",
              "</table>\n",
              "</div><br><label><b>dtype:</b> object</label>"
            ]
          },
          "metadata": {},
          "execution_count": 205
        }
      ]
    },
    {
      "cell_type": "code",
      "source": [
        "df_train['District Name'].isna().sum()"
      ],
      "metadata": {
        "id": "ySxhx0RM5koR",
        "outputId": "9b3c01d7-7d3a-4893-a980-8d3d8c7474a8",
        "colab": {
          "base_uri": "https://localhost:8080/"
        }
      },
      "id": "ySxhx0RM5koR",
      "execution_count": 207,
      "outputs": [
        {
          "output_type": "execute_result",
          "data": {
            "text/plain": [
              "19445"
            ]
          },
          "metadata": {},
          "execution_count": 207
        }
      ]
    },
    {
      "cell_type": "code",
      "source": [
        "# Set the style for the plots\n",
        "sns.set(style=\"whitegrid\")\n",
        "\n",
        "# Create a count plot for 'District Name'\n",
        "plt.figure(figsize=(12, 6))\n",
        "sns.countplot(data=df_train, y='District Name', order=df_train['District Name'].value_counts().index)\n",
        "plt.title('Count of District Names')\n",
        "plt.xlabel('Count')\n",
        "plt.ylabel('District Name')\n",
        "plt.xticks(rotation=45)  # Rotate x labels if needed\n",
        "plt.show()"
      ],
      "metadata": {
        "id": "LdYNrbYJ5pqj",
        "outputId": "8a53ec35-d151-4af3-e970-7230822264e2",
        "colab": {
          "base_uri": "https://localhost:8080/",
          "height": 609
        }
      },
      "id": "LdYNrbYJ5pqj",
      "execution_count": 210,
      "outputs": [
        {
          "output_type": "display_data",
          "data": {
            "text/plain": [
              "<Figure size 1200x600 with 1 Axes>"
            ],
            "image/png": "[encoded data removed]"
          },
          "metadata": {}
        }
      ]
    },
    {
      "cell_type": "markdown",
      "source": [
        "### IME-4 Count variable"
      ],
      "metadata": {
        "id": "e5VGwlH-51s5"
      },
      "id": "e5VGwlH-51s5"
    },
    {
      "cell_type": "code",
      "source": [
        "df_train['IME-4 Count'].describe()"
      ],
      "metadata": {
        "id": "bGzVW-FTAFf7",
        "outputId": "4c7bfaf8-8cce-461e-a06c-0849b62e6373",
        "colab": {
          "base_uri": "https://localhost:8080/",
          "height": 335
        }
      },
      "id": "bGzVW-FTAFf7",
      "execution_count": 227,
      "outputs": [
        {
          "output_type": "execute_result",
          "data": {
            "text/plain": [
              "count    132802.000000\n",
              "mean          3.207354\n",
              "std           2.832308\n",
              "min           1.000000\n",
              "25%           1.000000\n",
              "50%           2.000000\n",
              "75%           4.000000\n",
              "max          73.000000\n",
              "Name: IME-4 Count, dtype: float64"
            ],
            "text/html": [
              "<div>\n",
              "<style scoped>\n",
              "    .dataframe tbody tr th:only-of-type {\n",
              "        vertical-align: middle;\n",
              "    }\n",
              "\n",
              "    .dataframe tbody tr th {\n",
              "        vertical-align: top;\n",
              "    }\n",
              "\n",
              "    .dataframe thead th {\n",
              "        text-align: right;\n",
              "    }\n",
              "</style>\n",
              "<table border=\"1\" class=\"dataframe\">\n",
              "  <thead>\n",
              "    <tr style=\"text-align: right;\">\n",
              "      <th></th>\n",
              "      <th>IME-4 Count</th>\n",
              "    </tr>\n",
              "  </thead>\n",
              "  <tbody>\n",
              "    <tr>\n",
              "      <th>count</th>\n",
              "      <td>132802.000000</td>\n",
              "    </tr>\n",
              "    <tr>\n",
              "      <th>mean</th>\n",
              "      <td>3.207354</td>\n",
              "    </tr>\n",
              "    <tr>\n",
              "      <th>std</th>\n",
              "      <td>2.832308</td>\n",
              "    </tr>\n",
              "    <tr>\n",
              "      <th>min</th>\n",
              "      <td>1.000000</td>\n",
              "    </tr>\n",
              "    <tr>\n",
              "      <th>25%</th>\n",
              "      <td>1.000000</td>\n",
              "    </tr>\n",
              "    <tr>\n",
              "      <th>50%</th>\n",
              "      <td>2.000000</td>\n",
              "    </tr>\n",
              "    <tr>\n",
              "      <th>75%</th>\n",
              "      <td>4.000000</td>\n",
              "    </tr>\n",
              "    <tr>\n",
              "      <th>max</th>\n",
              "      <td>73.000000</td>\n",
              "    </tr>\n",
              "  </tbody>\n",
              "</table>\n",
              "</div><br><label><b>dtype:</b> float64</label>"
            ]
          },
          "metadata": {},
          "execution_count": 227
        }
      ]
    },
    {
      "cell_type": "code",
      "source": [
        "(df_train['IME-4 Count'].isna().mean())*100"
      ],
      "metadata": {
        "id": "vkCegr95AJc1",
        "outputId": "e942bedc-ec71-4fcc-be04-d2eb6a11daa3",
        "colab": {
          "base_uri": "https://localhost:8080/"
        }
      },
      "id": "vkCegr95AJc1",
      "execution_count": 228,
      "outputs": [
        {
          "output_type": "execute_result",
          "data": {
            "text/plain": [
              "77.62264392568403"
            ]
          },
          "metadata": {},
          "execution_count": 228
        }
      ]
    },
    {
      "cell_type": "markdown",
      "source": [
        "With ~78% of the IME-4 Count column values missing maybe does not make sense to retain the column in our analysis.\n"
      ],
      "metadata": {
        "id": "TiSpsZbwAVN8"
      },
      "id": "TiSpsZbwAVN8"
    },
    {
      "cell_type": "markdown",
      "source": [
        "But let's analyse it anyway\n"
      ],
      "metadata": {
        "id": "DiNsU9niAZ2Y"
      },
      "id": "DiNsU9niAZ2Y"
    },
    {
      "cell_type": "markdown",
      "source": [
        "Number of IME-4 forms received per claim. The IME-4 form is the “Independent Examiner's Report of Independent Medical Examination” form."
      ],
      "metadata": {
        "id": "tb16RmSO56KL"
      },
      "id": "tb16RmSO56KL"
    },
    {
      "cell_type": "code",
      "source": [
        "# Set the style of seaborn\n",
        "sns.set(style=\"whitegrid\")\n",
        "\n",
        "# Create a figure with two subplots\n",
        "fig, axs = plt.subplots(1, 2, figsize=(14, 6))\n",
        "\n",
        "# Create a histogram for 'IME-4 Count'\n",
        "sns.histplot(df_train['IME-4 Count'], bins=30, ax=axs[0], stat='density', alpha=0.5)\n",
        "axs[0].set_title('Histogram of IME-4 Count')\n",
        "axs[0].set_xlabel('IME-4 Count')\n",
        "axs[0].set_ylabel('Density/Frequency')\n",
        "\n",
        "# Create a boxplot for 'IME-4 Count'\n",
        "sns.boxplot(x=df_train['IME-4 Count'], ax=axs[1],)\n",
        "axs[1].set_title('Boxplot of IME-4 Count')\n",
        "axs[1].set_xlabel('IME-4 Count')\n",
        "\n",
        "# Adjust layout\n",
        "plt.tight_layout()\n",
        "\n",
        "# Display the plots\n",
        "plt.show()"
      ],
      "metadata": {
        "id": "Xeob0eu-6C88",
        "outputId": "a68b2216-fa1c-4dad-848c-048d9fab20fe",
        "colab": {
          "base_uri": "https://localhost:8080/",
          "height": 601
        }
      },
      "id": "Xeob0eu-6C88",
      "execution_count": 213,
      "outputs": [
        {
          "output_type": "display_data",
          "data": {
            "text/plain": [
              "<Figure size 1400x600 with 2 Axes>"
            ],
            "image/png": "[encoded data removed]"
          },
          "metadata": {}
        }
      ]
    },
    {
      "cell_type": "markdown",
      "source": [
        "Having more than 10 filled IME-4 forms per claim does raise some concerns and could indicate potential errors or unusual circumstances."
      ],
      "metadata": {
        "id": "SQCQyEwN6XKK"
      },
      "id": "SQCQyEwN6XKK"
    },
    {
      "cell_type": "code",
      "source": [
        "df_train[df_train['IME-4 Count'] > 10]['IME-4 Count'].count()"
      ],
      "metadata": {
        "id": "mN5CpznZ6Ywl",
        "outputId": "539e9d0a-08d6-4113-b102-941305989962",
        "colab": {
          "base_uri": "https://localhost:8080/"
        }
      },
      "id": "mN5CpznZ6Ywl",
      "execution_count": 215,
      "outputs": [
        {
          "output_type": "execute_result",
          "data": {
            "text/plain": [
              "3794"
            ]
          },
          "metadata": {},
          "execution_count": 215
        }
      ]
    },
    {
      "cell_type": "code",
      "source": [
        "high_submission_claims = df_train[df_train['IME-4 Count'] > 10]\n",
        "high_submission_claims.head()"
      ],
      "metadata": {
        "id": "sfrX3g6-6hY9",
        "outputId": "9afcf5e6-2006-457d-b78c-5c2b9fcd904d",
        "colab": {
          "base_uri": "https://localhost:8080/",
          "height": 603
        }
      },
      "id": "sfrX3g6-6hY9",
      "execution_count": 218,
      "outputs": [
        {
          "output_type": "execute_result",
          "data": {
            "text/plain": [
              "    Accident Date  Age at Injury  Alternative Dispute Resolution  \\\n",
              "269    2019-12-22           22.0                           False   \n",
              "441    2019-12-10           49.0                           False   \n",
              "452    2019-12-20           50.0                           False   \n",
              "460    2019-12-31           56.0                           False   \n",
              "741    2019-12-20           39.0                           False   \n",
              "\n",
              "    Assembly Date Attorney/Representative  Average Weekly Wage  Birth Year  \\\n",
              "269    2020-01-02                       Y               443.40      1997.0   \n",
              "441    2020-01-02                       Y               909.39      1970.0   \n",
              "452    2020-01-02                       Y              1383.50         0.0   \n",
              "460    2020-01-02                       Y               900.20      1964.0   \n",
              "741    2020-01-03                       Y               756.78      1980.0   \n",
              "\n",
              "      C-2 Date   C-3 Date                    Carrier Name  ...  \\\n",
              "269 2020-01-02        NaT    AMERICAN ZURICH INSURANCE CO  ...   \n",
              "441 2020-05-29 2019-12-23  EVEREST NATIONAL INSURANCE CO.  ...   \n",
              "452 2020-01-02        NaT          MANUFACTURERS ALLIANCE  ...   \n",
              "460 2020-01-02        NaT            STATE INSURANCE FUND  ...   \n",
              "741 2020-01-03 2020-01-24   HARTFORD ACCIDENT & INDEMNITY  ...   \n",
              "\n",
              "    WCIO Cause of Injury Code             WCIO Cause of Injury Description  \\\n",
              "269                      74.0       FELLOW WORKER, PATIENT OR OTHER PERSON   \n",
              "441                      45.0  COLLISION OR SIDESWIPE WITH ANOTHER VEHICLE   \n",
              "452                      56.0                                      LIFTING   \n",
              "460                      29.0                                ON SAME LEVEL   \n",
              "741                      45.0  COLLISION OR SIDESWIPE WITH ANOTHER VEHICLE   \n",
              "\n",
              "    WCIO Nature of Injury Code WCIO Nature of Injury Description  \\\n",
              "269                       16.0                       DISLOCATION   \n",
              "441                       52.0                    STRAIN OR TEAR   \n",
              "452                       52.0                    STRAIN OR TEAR   \n",
              "460                       28.0                          FRACTURE   \n",
              "741                       52.0                    STRAIN OR TEAR   \n",
              "\n",
              "    WCIO Part Of Body Code        WCIO Part Of Body Description Zip Code  \\\n",
              "269                   53.0                                 KNEE    11210   \n",
              "441                   90.0  MULTIPLE BODY PARTS (INCLUDING BODY    11208   \n",
              "452                   42.0                      LOWER BACK AREA    12419   \n",
              "460                   55.0                                ANKLE    12458   \n",
              "741                   42.0                      LOWER BACK AREA    10460   \n",
              "\n",
              "    Agreement Reached      WCB Decision  Number of Dependents  \n",
              "269               1.0  Not Work Related                   2.0  \n",
              "441               0.0  Not Work Related                   1.0  \n",
              "452               1.0  Not Work Related                   0.0  \n",
              "460               0.0  Not Work Related                   1.0  \n",
              "741               0.0  Not Work Related                   3.0  \n",
              "\n",
              "[5 rows x 33 columns]"
            ],
            "text/html": [
              "\n",
              "  <div id=\"df-c70e6688-0d6d-4574-8b35-ef12e6a6cf49\" class=\"colab-df-container\">\n",
              "    <div>\n",
              "<style scoped>\n",
              "    .dataframe tbody tr th:only-of-type {\n",
              "        vertical-align: middle;\n",
              "    }\n",
              "\n",
              "    .dataframe tbody tr th {\n",
              "        vertical-align: top;\n",
              "    }\n",
              "\n",
              "    .dataframe thead th {\n",
              "        text-align: right;\n",
              "    }\n",
              "</style>\n",
              "<table border=\"1\" class=\"dataframe\">\n",
              "  <thead>\n",
              "    <tr style=\"text-align: right;\">\n",
              "      <th></th>\n",
              "      <th>Accident Date</th>\n",
              "      <th>Age at Injury</th>\n",
              "      <th>Alternative Dispute Resolution</th>\n",
              "      <th>Assembly Date</th>\n",
              "      <th>Attorney/Representative</th>\n",
              "      <th>Average Weekly Wage</th>\n",
              "      <th>Birth Year</th>\n",
              "      <th>C-2 Date</th>\n",
              "      <th>C-3 Date</th>\n",
              "      <th>Carrier Name</th>\n",
              "      <th>...</th>\n",
              "      <th>WCIO Cause of Injury Code</th>\n",
              "      <th>WCIO Cause of Injury Description</th>\n",
              "      <th>WCIO Nature of Injury Code</th>\n",
              "      <th>WCIO Nature of Injury Description</th>\n",
              "      <th>WCIO Part Of Body Code</th>\n",
              "      <th>WCIO Part Of Body Description</th>\n",
              "      <th>Zip Code</th>\n",
              "      <th>Agreement Reached</th>\n",
              "      <th>WCB Decision</th>\n",
              "      <th>Number of Dependents</th>\n",
              "    </tr>\n",
              "  </thead>\n",
              "  <tbody>\n",
              "    <tr>\n",
              "      <th>269</th>\n",
              "      <td>2019-12-22</td>\n",
              "      <td>22.0</td>\n",
              "      <td>False</td>\n",
              "      <td>2020-01-02</td>\n",
              "      <td>Y</td>\n",
              "      <td>443.40</td>\n",
              "      <td>1997.0</td>\n",
              "      <td>2020-01-02</td>\n",
              "      <td>NaT</td>\n",
              "      <td>AMERICAN ZURICH INSURANCE CO</td>\n",
              "      <td>...</td>\n",
              "      <td>74.0</td>\n",
              "      <td>FELLOW WORKER, PATIENT OR OTHER PERSON</td>\n",
              "      <td>16.0</td>\n",
              "      <td>DISLOCATION</td>\n",
              "      <td>53.0</td>\n",
              "      <td>KNEE</td>\n",
              "      <td>11210</td>\n",
              "      <td>1.0</td>\n",
              "      <td>Not Work Related</td>\n",
              "      <td>2.0</td>\n",
              "    </tr>\n",
              "    <tr>\n",
              "      <th>441</th>\n",
              "      <td>2019-12-10</td>\n",
              "      <td>49.0</td>\n",
              "      <td>False</td>\n",
              "      <td>2020-01-02</td>\n",
              "      <td>Y</td>\n",
              "      <td>909.39</td>\n",
              "      <td>1970.0</td>\n",
              "      <td>2020-05-29</td>\n",
              "      <td>2019-12-23</td>\n",
              "      <td>EVEREST NATIONAL INSURANCE CO.</td>\n",
              "      <td>...</td>\n",
              "      <td>45.0</td>\n",
              "      <td>COLLISION OR SIDESWIPE WITH ANOTHER VEHICLE</td>\n",
              "      <td>52.0</td>\n",
              "      <td>STRAIN OR TEAR</td>\n",
              "      <td>90.0</td>\n",
              "      <td>MULTIPLE BODY PARTS (INCLUDING BODY</td>\n",
              "      <td>11208</td>\n",
              "      <td>0.0</td>\n",
              "      <td>Not Work Related</td>\n",
              "      <td>1.0</td>\n",
              "    </tr>\n",
              "    <tr>\n",
              "      <th>452</th>\n",
              "      <td>2019-12-20</td>\n",
              "      <td>50.0</td>\n",
              "      <td>False</td>\n",
              "      <td>2020-01-02</td>\n",
              "      <td>Y</td>\n",
              "      <td>1383.50</td>\n",
              "      <td>0.0</td>\n",
              "      <td>2020-01-02</td>\n",
              "      <td>NaT</td>\n",
              "      <td>MANUFACTURERS ALLIANCE</td>\n",
              "      <td>...</td>\n",
              "      <td>56.0</td>\n",
              "      <td>LIFTING</td>\n",
              "      <td>52.0</td>\n",
              "      <td>STRAIN OR TEAR</td>\n",
              "      <td>42.0</td>\n",
              "      <td>LOWER BACK AREA</td>\n",
              "      <td>12419</td>\n",
              "      <td>1.0</td>\n",
              "      <td>Not Work Related</td>\n",
              "      <td>0.0</td>\n",
              "    </tr>\n",
              "    <tr>\n",
              "      <th>460</th>\n",
              "      <td>2019-12-31</td>\n",
              "      <td>56.0</td>\n",
              "      <td>False</td>\n",
              "      <td>2020-01-02</td>\n",
              "      <td>Y</td>\n",
              "      <td>900.20</td>\n",
              "      <td>1964.0</td>\n",
              "      <td>2020-01-02</td>\n",
              "      <td>NaT</td>\n",
              "      <td>STATE INSURANCE FUND</td>\n",
              "      <td>...</td>\n",
              "      <td>29.0</td>\n",
              "      <td>ON SAME LEVEL</td>\n",
              "      <td>28.0</td>\n",
              "      <td>FRACTURE</td>\n",
              "      <td>55.0</td>\n",
              "      <td>ANKLE</td>\n",
              "      <td>12458</td>\n",
              "      <td>0.0</td>\n",
              "      <td>Not Work Related</td>\n",
              "      <td>1.0</td>\n",
              "    </tr>\n",
              "    <tr>\n",
              "      <th>741</th>\n",
              "      <td>2019-12-20</td>\n",
              "      <td>39.0</td>\n",
              "      <td>False</td>\n",
              "      <td>2020-01-03</td>\n",
              "      <td>Y</td>\n",
              "      <td>756.78</td>\n",
              "      <td>1980.0</td>\n",
              "      <td>2020-01-03</td>\n",
              "      <td>2020-01-24</td>\n",
              "      <td>HARTFORD ACCIDENT &amp; INDEMNITY</td>\n",
              "      <td>...</td>\n",
              "      <td>45.0</td>\n",
              "      <td>COLLISION OR SIDESWIPE WITH ANOTHER VEHICLE</td>\n",
              "      <td>52.0</td>\n",
              "      <td>STRAIN OR TEAR</td>\n",
              "      <td>42.0</td>\n",
              "      <td>LOWER BACK AREA</td>\n",
              "      <td>10460</td>\n",
              "      <td>0.0</td>\n",
              "      <td>Not Work Related</td>\n",
              "      <td>3.0</td>\n",
              "    </tr>\n",
              "  </tbody>\n",
              "</table>\n",
              "<p>5 rows × 33 columns</p>\n",
              "</div>\n",
              "    <div class=\"colab-df-buttons\">\n",
              "\n",
              "  <div class=\"colab-df-container\">\n",
              "    <button class=\"colab-df-convert\" onclick=\"convertToInteractive('df-c70e6688-0d6d-4574-8b35-ef12e6a6cf49')\"\n",
              "            title=\"Convert this dataframe to an interactive table.\"\n",
              "            style=\"display:none;\">\n",
              "\n",
              "  <svg xmlns=\"http://www.w3.org/2000/svg\" height=\"24px\" viewBox=\"0 -960 960 960\">\n",
              "    <path d=\"M120-120v-720h720v720H120Zm60-500h600v-160H180v160Zm220 220h160v-160H400v160Zm0 220h160v-160H400v160ZM180-400h160v-160H180v160Zm440 0h160v-160H620v160ZM180-180h160v-160H180v160Zm440 0h160v-160H620v160Z\"/>\n",
              "  </svg>\n",
              "    </button>\n",
              "\n",
              "  <style>\n",
              "    .colab-df-container {\n",
              "      display:flex;\n",
              "      gap: 12px;\n",
              "    }\n",
              "\n",
              "    .colab-df-convert {\n",
              "      background-color: #E8F0FE;\n",
              "      border: none;\n",
              "      border-radius: 50%;\n",
              "      cursor: pointer;\n",
              "      display: none;\n",
              "      fill: #1967D2;\n",
              "      height: 32px;\n",
              "      padding: 0 0 0 0;\n",
              "      width: 32px;\n",
              "    }\n",
              "\n",
              "    .colab-df-convert:hover {\n",
              "      background-color: #E2EBFA;\n",
              "      box-shadow: 0px 1px 2px rgba(60, 64, 67, 0.3), 0px 1px 3px 1px rgba(60, 64, 67, 0.15);\n",
              "      fill: #174EA6;\n",
              "    }\n",
              "\n",
              "    .colab-df-buttons div {\n",
              "      margin-bottom: 4px;\n",
              "    }\n",
              "\n",
              "    [theme=dark] .colab-df-convert {\n",
              "      background-color: #3B4455;\n",
              "      fill: #D2E3FC;\n",
              "    }\n",
              "\n",
              "    [theme=dark] .colab-df-convert:hover {\n",
              "      background-color: #434B5C;\n",
              "      box-shadow: 0px 1px 3px 1px rgba(0, 0, 0, 0.15);\n",
              "      filter: drop-shadow(0px 1px 2px rgba(0, 0, 0, 0.3));\n",
              "      fill: #FFFFFF;\n",
              "    }\n",
              "  </style>\n",
              "\n",
              "    <script>\n",
              "      const buttonEl =\n",
              "        document.querySelector('#df-c70e6688-0d6d-4574-8b35-ef12e6a6cf49 button.colab-df-convert');\n",
              "      buttonEl.style.display =\n",
              "        google.colab.kernel.accessAllowed ? 'block' : 'none';\n",
              "\n",
              "      async function convertToInteractive(key) {\n",
              "        const element = document.querySelector('#df-c70e6688-0d6d-4574-8b35-ef12e6a6cf49');\n",
              "        const dataTable =\n",
              "          await google.colab.kernel.invokeFunction('convertToInteractive',\n",
              "                                                    [key], {});\n",
              "        if (!dataTable) return;\n",
              "\n",
              "        const docLinkHtml = 'Like what you see? Visit the ' +\n",
              "          '<a target=\"_blank\" href=https://colab.research.google.com/notebooks/data_table.ipynb>data table notebook</a>'\n",
              "          + ' to learn more about interactive tables.';\n",
              "        element.innerHTML = '';\n",
              "        dataTable['output_type'] = 'display_data';\n",
              "        await google.colab.output.renderOutput(dataTable, element);\n",
              "        const docLink = document.createElement('div');\n",
              "        docLink.innerHTML = docLinkHtml;\n",
              "        element.appendChild(docLink);\n",
              "      }\n",
              "    </script>\n",
              "  </div>\n",
              "\n",
              "\n",
              "<div id=\"df-f9be65de-fc76-4ad5-bc8e-d034e44159f3\">\n",
              "  <button class=\"colab-df-quickchart\" onclick=\"quickchart('df-f9be65de-fc76-4ad5-bc8e-d034e44159f3')\"\n",
              "            title=\"Suggest charts\"\n",
              "            style=\"display:none;\">\n",
              "\n",
              "<svg xmlns=\"http://www.w3.org/2000/svg\" height=\"24px\"viewBox=\"0 0 24 24\"\n",
              "     width=\"24px\">\n",
              "    <g>\n",
              "        <path d=\"M19 3H5c-1.1 0-2 .9-2 2v14c0 1.1.9 2 2 2h14c1.1 0 2-.9 2-2V5c0-1.1-.9-2-2-2zM9 17H7v-7h2v7zm4 0h-2V7h2v10zm4 0h-2v-4h2v4z\"/>\n",
              "    </g>\n",
              "</svg>\n",
              "  </button>\n",
              "\n",
              "<style>\n",
              "  .colab-df-quickchart {\n",
              "      --bg-color: #E8F0FE;\n",
              "      --fill-color: #1967D2;\n",
              "      --hover-bg-color: #E2EBFA;\n",
              "      --hover-fill-color: #174EA6;\n",
              "      --disabled-fill-color: #AAA;\n",
              "      --disabled-bg-color: #DDD;\n",
              "  }\n",
              "\n",
              "  [theme=dark] .colab-df-quickchart {\n",
              "      --bg-color: #3B4455;\n",
              "      --fill-color: #D2E3FC;\n",
              "      --hover-bg-color: #434B5C;\n",
              "      --hover-fill-color: #FFFFFF;\n",
              "      --disabled-bg-color: #3B4455;\n",
              "      --disabled-fill-color: #666;\n",
              "  }\n",
              "\n",
              "  .colab-df-quickchart {\n",
              "    background-color: var(--bg-color);\n",
              "    border: none;\n",
              "    border-radius: 50%;\n",
              "    cursor: pointer;\n",
              "    display: none;\n",
              "    fill: var(--fill-color);\n",
              "    height: 32px;\n",
              "    padding: 0;\n",
              "    width: 32px;\n",
              "  }\n",
              "\n",
              "  .colab-df-quickchart:hover {\n",
              "    background-color: var(--hover-bg-color);\n",
              "    box-shadow: 0 1px 2px rgba(60, 64, 67, 0.3), 0 1px 3px 1px rgba(60, 64, 67, 0.15);\n",
              "    fill: var(--button-hover-fill-color);\n",
              "  }\n",
              "\n",
              "  .colab-df-quickchart-complete:disabled,\n",
              "  .colab-df-quickchart-complete:disabled:hover {\n",
              "    background-color: var(--disabled-bg-color);\n",
              "    fill: var(--disabled-fill-color);\n",
              "    box-shadow: none;\n",
              "  }\n",
              "\n",
              "  .colab-df-spinner {\n",
              "    border: 2px solid var(--fill-color);\n",
              "    border-color: transparent;\n",
              "    border-bottom-color: var(--fill-color);\n",
              "    animation:\n",
              "      spin 1s steps(1) infinite;\n",
              "  }\n",
              "\n",
              "  @keyframes spin {\n",
              "    0% {\n",
              "      border-color: transparent;\n",
              "      border-bottom-color: var(--fill-color);\n",
              "      border-left-color: var(--fill-color);\n",
              "    }\n",
              "    20% {\n",
              "      border-color: transparent;\n",
              "      border-left-color: var(--fill-color);\n",
              "      border-top-color: var(--fill-color);\n",
              "    }\n",
              "    30% {\n",
              "      border-color: transparent;\n",
              "      border-left-color: var(--fill-color);\n",
              "      border-top-color: var(--fill-color);\n",
              "      border-right-color: var(--fill-color);\n",
              "    }\n",
              "    40% {\n",
              "      border-color: transparent;\n",
              "      border-right-color: var(--fill-color);\n",
              "      border-top-color: var(--fill-color);\n",
              "    }\n",
              "    60% {\n",
              "      border-color: transparent;\n",
              "      border-right-color: var(--fill-color);\n",
              "    }\n",
              "    80% {\n",
              "      border-color: transparent;\n",
              "      border-right-color: var(--fill-color);\n",
              "      border-bottom-color: var(--fill-color);\n",
              "    }\n",
              "    90% {\n",
              "      border-color: transparent;\n",
              "      border-bottom-color: var(--fill-color);\n",
              "    }\n",
              "  }\n",
              "</style>\n",
              "\n",
              "  <script>\n",
              "    async function quickchart(key) {\n",
              "      const quickchartButtonEl =\n",
              "        document.querySelector('#' + key + ' button');\n",
              "      quickchartButtonEl.disabled = true;  // To prevent multiple clicks.\n",
              "      quickchartButtonEl.classList.add('colab-df-spinner');\n",
              "      try {\n",
              "        const charts = await google.colab.kernel.invokeFunction(\n",
              "            'suggestCharts', [key], {});\n",
              "      } catch (error) {\n",
              "        console.error('Error during call to suggestCharts:', error);\n",
              "      }\n",
              "      quickchartButtonEl.classList.remove('colab-df-spinner');\n",
              "      quickchartButtonEl.classList.add('colab-df-quickchart-complete');\n",
              "    }\n",
              "    (() => {\n",
              "      let quickchartButtonEl =\n",
              "        document.querySelector('#df-f9be65de-fc76-4ad5-bc8e-d034e44159f3 button');\n",
              "      quickchartButtonEl.style.display =\n",
              "        google.colab.kernel.accessAllowed ? 'block' : 'none';\n",
              "    })();\n",
              "  </script>\n",
              "</div>\n",
              "\n",
              "    </div>\n",
              "  </div>\n"
            ],
            "application/vnd.google.colaboratory.intrinsic+json": {
              "type": "dataframe",
              "variable_name": "high_submission_claims"
            }
          },
          "metadata": {},
          "execution_count": 218
        }
      ]
    },
    {
      "cell_type": "markdown",
      "source": [
        "Appears that:\n",
        "\n",
        "\n",
        "*   Alternative Dispute Resolution: The mayjor of the claims have a value of False for the Alternative Dispute Resolution field. This indicates that none of these claims have utilized any alternative methods to resolve the disputes. This might suggest a tendency towards litigation or other formal processes rather than reaching settlements or agreements outside the courtroom.\n",
        "*   Attorney Representation: The mayjor of the claims have True in the Attorney/Representative field, indicating that all individuals involved in these cases have legal representation. This may suggest that the complexity or severity of these cases warranted the involvement of attorneys.\n"
      ],
      "metadata": {
        "id": "WpHlPT-1A1bO"
      },
      "id": "WpHlPT-1A1bO"
    },
    {
      "cell_type": "code",
      "source": [
        "adr_counts = high_submission_claims['Alternative Dispute Resolution'].value_counts().rename_axis('ADR').reset_index(name='ADR Count')\n",
        "\n",
        "attorney_counts = high_submission_claims['Attorney/Representative'].value_counts().rename_axis('Attorney').reset_index(name='Attorney Count')\n",
        "\n",
        "result_df = pd.merge(adr_counts, attorney_counts, left_on='ADR', right_on='Attorney', how='outer')\n",
        "\n",
        "result_df"
      ],
      "metadata": {
        "id": "08pKA6yeBJq0",
        "outputId": "243cd529-55f5-4d14-bbf7-b4208354a657",
        "colab": {
          "base_uri": "https://localhost:8080/",
          "height": 143
        }
      },
      "id": "08pKA6yeBJq0",
      "execution_count": 231,
      "outputs": [
        {
          "output_type": "execute_result",
          "data": {
            "text/plain": [
              "     ADR  ADR Count Attorney  Attorney Count\n",
              "0  False       3794      NaN             NaN\n",
              "1    NaN       <NA>        N            22.0\n",
              "2    NaN       <NA>        Y          3772.0"
            ],
            "text/html": [
              "\n",
              "  <div id=\"df-822713b2-878e-45d2-8d4f-d36b34df4e6d\" class=\"colab-df-container\">\n",
              "    <div>\n",
              "<style scoped>\n",
              "    .dataframe tbody tr th:only-of-type {\n",
              "        vertical-align: middle;\n",
              "    }\n",
              "\n",
              "    .dataframe tbody tr th {\n",
              "        vertical-align: top;\n",
              "    }\n",
              "\n",
              "    .dataframe thead th {\n",
              "        text-align: right;\n",
              "    }\n",
              "</style>\n",
              "<table border=\"1\" class=\"dataframe\">\n",
              "  <thead>\n",
              "    <tr style=\"text-align: right;\">\n",
              "      <th></th>\n",
              "      <th>ADR</th>\n",
              "      <th>ADR Count</th>\n",
              "      <th>Attorney</th>\n",
              "      <th>Attorney Count</th>\n",
              "    </tr>\n",
              "  </thead>\n",
              "  <tbody>\n",
              "    <tr>\n",
              "      <th>0</th>\n",
              "      <td>False</td>\n",
              "      <td>3794</td>\n",
              "      <td>NaN</td>\n",
              "      <td>NaN</td>\n",
              "    </tr>\n",
              "    <tr>\n",
              "      <th>1</th>\n",
              "      <td>NaN</td>\n",
              "      <td>&lt;NA&gt;</td>\n",
              "      <td>N</td>\n",
              "      <td>22.0</td>\n",
              "    </tr>\n",
              "    <tr>\n",
              "      <th>2</th>\n",
              "      <td>NaN</td>\n",
              "      <td>&lt;NA&gt;</td>\n",
              "      <td>Y</td>\n",
              "      <td>3772.0</td>\n",
              "    </tr>\n",
              "  </tbody>\n",
              "</table>\n",
              "</div>\n",
              "    <div class=\"colab-df-buttons\">\n",
              "\n",
              "  <div class=\"colab-df-container\">\n",
              "    <button class=\"colab-df-convert\" onclick=\"convertToInteractive('df-822713b2-878e-45d2-8d4f-d36b34df4e6d')\"\n",
              "            title=\"Convert this dataframe to an interactive table.\"\n",
              "            style=\"display:none;\">\n",
              "\n",
              "  <svg xmlns=\"http://www.w3.org/2000/svg\" height=\"24px\" viewBox=\"0 -960 960 960\">\n",
              "    <path d=\"M120-120v-720h720v720H120Zm60-500h600v-160H180v160Zm220 220h160v-160H400v160Zm0 220h160v-160H400v160ZM180-400h160v-160H180v160Zm440 0h160v-160H620v160ZM180-180h160v-160H180v160Zm440 0h160v-160H620v160Z\"/>\n",
              "  </svg>\n",
              "    </button>\n",
              "\n",
              "  <style>\n",
              "    .colab-df-container {\n",
              "      display:flex;\n",
              "      gap: 12px;\n",
              "    }\n",
              "\n",
              "    .colab-df-convert {\n",
              "      background-color: #E8F0FE;\n",
              "      border: none;\n",
              "      border-radius: 50%;\n",
              "      cursor: pointer;\n",
              "      display: none;\n",
              "      fill: #1967D2;\n",
              "      height: 32px;\n",
              "      padding: 0 0 0 0;\n",
              "      width: 32px;\n",
              "    }\n",
              "\n",
              "    .colab-df-convert:hover {\n",
              "      background-color: #E2EBFA;\n",
              "      box-shadow: 0px 1px 2px rgba(60, 64, 67, 0.3), 0px 1px 3px 1px rgba(60, 64, 67, 0.15);\n",
              "      fill: #174EA6;\n",
              "    }\n",
              "\n",
              "    .colab-df-buttons div {\n",
              "      margin-bottom: 4px;\n",
              "    }\n",
              "\n",
              "    [theme=dark] .colab-df-convert {\n",
              "      background-color: #3B4455;\n",
              "      fill: #D2E3FC;\n",
              "    }\n",
              "\n",
              "    [theme=dark] .colab-df-convert:hover {\n",
              "      background-color: #434B5C;\n",
              "      box-shadow: 0px 1px 3px 1px rgba(0, 0, 0, 0.15);\n",
              "      filter: drop-shadow(0px 1px 2px rgba(0, 0, 0, 0.3));\n",
              "      fill: #FFFFFF;\n",
              "    }\n",
              "  </style>\n",
              "\n",
              "    <script>\n",
              "      const buttonEl =\n",
              "        document.querySelector('#df-822713b2-878e-45d2-8d4f-d36b34df4e6d button.colab-df-convert');\n",
              "      buttonEl.style.display =\n",
              "        google.colab.kernel.accessAllowed ? 'block' : 'none';\n",
              "\n",
              "      async function convertToInteractive(key) {\n",
              "        const element = document.querySelector('#df-822713b2-878e-45d2-8d4f-d36b34df4e6d');\n",
              "        const dataTable =\n",
              "          await google.colab.kernel.invokeFunction('convertToInteractive',\n",
              "                                                    [key], {});\n",
              "        if (!dataTable) return;\n",
              "\n",
              "        const docLinkHtml = 'Like what you see? Visit the ' +\n",
              "          '<a target=\"_blank\" href=https://colab.research.google.com/notebooks/data_table.ipynb>data table notebook</a>'\n",
              "          + ' to learn more about interactive tables.';\n",
              "        element.innerHTML = '';\n",
              "        dataTable['output_type'] = 'display_data';\n",
              "        await google.colab.output.renderOutput(dataTable, element);\n",
              "        const docLink = document.createElement('div');\n",
              "        docLink.innerHTML = docLinkHtml;\n",
              "        element.appendChild(docLink);\n",
              "      }\n",
              "    </script>\n",
              "  </div>\n",
              "\n",
              "\n",
              "<div id=\"df-93a0d461-6895-42da-bd7d-c5f13cd67bac\">\n",
              "  <button class=\"colab-df-quickchart\" onclick=\"quickchart('df-93a0d461-6895-42da-bd7d-c5f13cd67bac')\"\n",
              "            title=\"Suggest charts\"\n",
              "            style=\"display:none;\">\n",
              "\n",
              "<svg xmlns=\"http://www.w3.org/2000/svg\" height=\"24px\"viewBox=\"0 0 24 24\"\n",
              "     width=\"24px\">\n",
              "    <g>\n",
              "        <path d=\"M19 3H5c-1.1 0-2 .9-2 2v14c0 1.1.9 2 2 2h14c1.1 0 2-.9 2-2V5c0-1.1-.9-2-2-2zM9 17H7v-7h2v7zm4 0h-2V7h2v10zm4 0h-2v-4h2v4z\"/>\n",
              "    </g>\n",
              "</svg>\n",
              "  </button>\n",
              "\n",
              "<style>\n",
              "  .colab-df-quickchart {\n",
              "      --bg-color: #E8F0FE;\n",
              "      --fill-color: #1967D2;\n",
              "      --hover-bg-color: #E2EBFA;\n",
              "      --hover-fill-color: #174EA6;\n",
              "      --disabled-fill-color: #AAA;\n",
              "      --disabled-bg-color: #DDD;\n",
              "  }\n",
              "\n",
              "  [theme=dark] .colab-df-quickchart {\n",
              "      --bg-color: #3B4455;\n",
              "      --fill-color: #D2E3FC;\n",
              "      --hover-bg-color: #434B5C;\n",
              "      --hover-fill-color: #FFFFFF;\n",
              "      --disabled-bg-color: #3B4455;\n",
              "      --disabled-fill-color: #666;\n",
              "  }\n",
              "\n",
              "  .colab-df-quickchart {\n",
              "    background-color: var(--bg-color);\n",
              "    border: none;\n",
              "    border-radius: 50%;\n",
              "    cursor: pointer;\n",
              "    display: none;\n",
              "    fill: var(--fill-color);\n",
              "    height: 32px;\n",
              "    padding: 0;\n",
              "    width: 32px;\n",
              "  }\n",
              "\n",
              "  .colab-df-quickchart:hover {\n",
              "    background-color: var(--hover-bg-color);\n",
              "    box-shadow: 0 1px 2px rgba(60, 64, 67, 0.3), 0 1px 3px 1px rgba(60, 64, 67, 0.15);\n",
              "    fill: var(--button-hover-fill-color);\n",
              "  }\n",
              "\n",
              "  .colab-df-quickchart-complete:disabled,\n",
              "  .colab-df-quickchart-complete:disabled:hover {\n",
              "    background-color: var(--disabled-bg-color);\n",
              "    fill: var(--disabled-fill-color);\n",
              "    box-shadow: none;\n",
              "  }\n",
              "\n",
              "  .colab-df-spinner {\n",
              "    border: 2px solid var(--fill-color);\n",
              "    border-color: transparent;\n",
              "    border-bottom-color: var(--fill-color);\n",
              "    animation:\n",
              "      spin 1s steps(1) infinite;\n",
              "  }\n",
              "\n",
              "  @keyframes spin {\n",
              "    0% {\n",
              "      border-color: transparent;\n",
              "      border-bottom-color: var(--fill-color);\n",
              "      border-left-color: var(--fill-color);\n",
              "    }\n",
              "    20% {\n",
              "      border-color: transparent;\n",
              "      border-left-color: var(--fill-color);\n",
              "      border-top-color: var(--fill-color);\n",
              "    }\n",
              "    30% {\n",
              "      border-color: transparent;\n",
              "      border-left-color: var(--fill-color);\n",
              "      border-top-color: var(--fill-color);\n",
              "      border-right-color: var(--fill-color);\n",
              "    }\n",
              "    40% {\n",
              "      border-color: transparent;\n",
              "      border-right-color: var(--fill-color);\n",
              "      border-top-color: var(--fill-color);\n",
              "    }\n",
              "    60% {\n",
              "      border-color: transparent;\n",
              "      border-right-color: var(--fill-color);\n",
              "    }\n",
              "    80% {\n",
              "      border-color: transparent;\n",
              "      border-right-color: var(--fill-color);\n",
              "      border-bottom-color: var(--fill-color);\n",
              "    }\n",
              "    90% {\n",
              "      border-color: transparent;\n",
              "      border-bottom-color: var(--fill-color);\n",
              "    }\n",
              "  }\n",
              "</style>\n",
              "\n",
              "  <script>\n",
              "    async function quickchart(key) {\n",
              "      const quickchartButtonEl =\n",
              "        document.querySelector('#' + key + ' button');\n",
              "      quickchartButtonEl.disabled = true;  // To prevent multiple clicks.\n",
              "      quickchartButtonEl.classList.add('colab-df-spinner');\n",
              "      try {\n",
              "        const charts = await google.colab.kernel.invokeFunction(\n",
              "            'suggestCharts', [key], {});\n",
              "      } catch (error) {\n",
              "        console.error('Error during call to suggestCharts:', error);\n",
              "      }\n",
              "      quickchartButtonEl.classList.remove('colab-df-spinner');\n",
              "      quickchartButtonEl.classList.add('colab-df-quickchart-complete');\n",
              "    }\n",
              "    (() => {\n",
              "      let quickchartButtonEl =\n",
              "        document.querySelector('#df-93a0d461-6895-42da-bd7d-c5f13cd67bac button');\n",
              "      quickchartButtonEl.style.display =\n",
              "        google.colab.kernel.accessAllowed ? 'block' : 'none';\n",
              "    })();\n",
              "  </script>\n",
              "</div>\n",
              "\n",
              "  <div id=\"id_0eb0886f-0032-49c9-b869-a8dd53c8f803\">\n",
              "    <style>\n",
              "      .colab-df-generate {\n",
              "        background-color: #E8F0FE;\n",
              "        border: none;\n",
              "        border-radius: 50%;\n",
              "        cursor: pointer;\n",
              "        display: none;\n",
              "        fill: #1967D2;\n",
              "        height: 32px;\n",
              "        padding: 0 0 0 0;\n",
              "        width: 32px;\n",
              "      }\n",
              "\n",
              "      .colab-df-generate:hover {\n",
              "        background-color: #E2EBFA;\n",
              "        box-shadow: 0px 1px 2px rgba(60, 64, 67, 0.3), 0px 1px 3px 1px rgba(60, 64, 67, 0.15);\n",
              "        fill: #174EA6;\n",
              "      }\n",
              "\n",
              "      [theme=dark] .colab-df-generate {\n",
              "        background-color: #3B4455;\n",
              "        fill: #D2E3FC;\n",
              "      }\n",
              "\n",
              "      [theme=dark] .colab-df-generate:hover {\n",
              "        background-color: #434B5C;\n",
              "        box-shadow: 0px 1px 3px 1px rgba(0, 0, 0, 0.15);\n",
              "        filter: drop-shadow(0px 1px 2px rgba(0, 0, 0, 0.3));\n",
              "        fill: #FFFFFF;\n",
              "      }\n",
              "    </style>\n",
              "    <button class=\"colab-df-generate\" onclick=\"generateWithVariable('result_df')\"\n",
              "            title=\"Generate code using this dataframe.\"\n",
              "            style=\"display:none;\">\n",
              "\n",
              "  <svg xmlns=\"http://www.w3.org/2000/svg\" height=\"24px\"viewBox=\"0 0 24 24\"\n",
              "       width=\"24px\">\n",
              "    <path d=\"M7,19H8.4L18.45,9,17,7.55,7,17.6ZM5,21V16.75L18.45,3.32a2,2,0,0,1,2.83,0l1.4,1.43a1.91,1.91,0,0,1,.58,1.4,1.91,1.91,0,0,1-.58,1.4L9.25,21ZM18.45,9,17,7.55Zm-12,3A5.31,5.31,0,0,0,4.9,8.1,5.31,5.31,0,0,0,1,6.5,5.31,5.31,0,0,0,4.9,4.9,5.31,5.31,0,0,0,6.5,1,5.31,5.31,0,0,0,8.1,4.9,5.31,5.31,0,0,0,12,6.5,5.46,5.46,0,0,0,6.5,12Z\"/>\n",
              "  </svg>\n",
              "    </button>\n",
              "    <script>\n",
              "      (() => {\n",
              "      const buttonEl =\n",
              "        document.querySelector('#id_0eb0886f-0032-49c9-b869-a8dd53c8f803 button.colab-df-generate');\n",
              "      buttonEl.style.display =\n",
              "        google.colab.kernel.accessAllowed ? 'block' : 'none';\n",
              "\n",
              "      buttonEl.onclick = () => {\n",
              "        google.colab.notebook.generateWithVariable('result_df');\n",
              "      }\n",
              "      })();\n",
              "    </script>\n",
              "  </div>\n",
              "\n",
              "    </div>\n",
              "  </div>\n"
            ],
            "application/vnd.google.colaboratory.intrinsic+json": {
              "type": "dataframe",
              "variable_name": "result_df",
              "summary": "{\n  \"name\": \"result_df\",\n  \"rows\": 3,\n  \"fields\": [\n    {\n      \"column\": \"ADR\",\n      \"properties\": {\n        \"dtype\": \"category\",\n        \"num_unique_values\": 1,\n        \"samples\": [\n          false\n        ],\n        \"semantic_type\": \"\",\n        \"description\": \"\"\n      }\n    },\n    {\n      \"column\": \"ADR Count\",\n      \"properties\": {\n        \"dtype\": \"Int64\",\n        \"num_unique_values\": 1,\n        \"samples\": [\n          3794\n        ],\n        \"semantic_type\": \"\",\n        \"description\": \"\"\n      }\n    },\n    {\n      \"column\": \"Attorney\",\n      \"properties\": {\n        \"dtype\": \"string\",\n        \"num_unique_values\": 2,\n        \"samples\": [\n          \"Y\"\n        ],\n        \"semantic_type\": \"\",\n        \"description\": \"\"\n      }\n    },\n    {\n      \"column\": \"Attorney Count\",\n      \"properties\": {\n        \"dtype\": \"number\",\n        \"std\": 2651.650429449553,\n        \"min\": 22.0,\n        \"max\": 3772.0,\n        \"num_unique_values\": 2,\n        \"samples\": [\n          3772.0\n        ],\n        \"semantic_type\": \"\",\n        \"description\": \"\"\n      }\n    }\n  ]\n}"
            }
          },
          "metadata": {},
          "execution_count": 231
        }
      ]
    },
    {
      "cell_type": "markdown",
      "source": [
        "\n",
        "\n",
        "*   The absence of ADR in the majority of cases coupled with the high percentage of cases with attorney representation suggests that these cases may involve intricate legal matters that require formal adjudication rather than informal resolution methods.\n",
        "*   This could indicate a trend where claimants opt for legal counsel to ensure their interests are adequately represented, especially when they perceive the claims to be more complicated or when the potential outcomes carry significant implications.\n",
        "*   The overall situation might reflect a judicial landscape where claimants feel the need to prepare thoroughly for potential litigation rather than resolving disputes outside the courtroom.\n",
        "*   In conclusion, while the numbers don't necessarily indicate errors, they do highlight a pattern of complexity in the cases being analyzed, warranting further investigation into the nature and outcomes of these claims.\n",
        "\n",
        "\n",
        "\n"
      ],
      "metadata": {
        "id": "YJrqZecHBV7v"
      },
      "id": "YJrqZecHBV7v"
    },
    {
      "cell_type": "code",
      "source": [
        "# Filter only the cases with more than 10 IME-4 forms\n",
        "high_ime4_cases = df_train[df_train['IME-4 Count'] > 10]\n",
        "\n",
        "# Create a bar plot\n",
        "plt.figure(figsize=(12, 6))\n",
        "sns.countplot(data=high_ime4_cases, x='IME-4 Count')\n",
        "\n",
        "# Set up the plot labels\n",
        "plt.title('Count of Cases with More than 10 IME-4 Forms', fontsize=16)\n",
        "plt.xlabel('Number of IME-4 Forms', fontsize=14)\n",
        "plt.ylabel('Number of Cases', fontsize=14)\n",
        "plt.xticks(rotation=45)\n",
        "plt.grid(axis='y')\n",
        "\n",
        "# Show the plot\n",
        "plt.show()"
      ],
      "metadata": {
        "id": "jLpLv1LmBnDt",
        "outputId": "d229b2d2-d919-4b14-87b0-b8aee0a65efd",
        "colab": {
          "base_uri": "https://localhost:8080/",
          "height": 595
        }
      },
      "id": "jLpLv1LmBnDt",
      "execution_count": 232,
      "outputs": [
        {
          "output_type": "display_data",
          "data": {
            "text/plain": [
              "<Figure size 1200x600 with 1 Axes>"
            ],
            "image/png": "[encoded data removed]"
          },
          "metadata": {}
        }
      ]
    },
    {
      "cell_type": "markdown",
      "source": [
        "### Number of Dependents variable"
      ],
      "metadata": {
        "id": "lQ1Tz3NlBzAa"
      },
      "id": "lQ1Tz3NlBzAa"
    },
    {
      "cell_type": "code",
      "source": [
        "df_train['Number of Dependents'].describe()"
      ],
      "metadata": {
        "id": "fEtlP_7iCduR",
        "outputId": "005cac76-5a81-4b66-c74a-8603d7255793",
        "colab": {
          "base_uri": "https://localhost:8080/",
          "height": 335
        }
      },
      "id": "fEtlP_7iCduR",
      "execution_count": 233,
      "outputs": [
        {
          "output_type": "execute_result",
          "data": {
            "text/plain": [
              "count    574021.000000\n",
              "mean          3.006549\n",
              "std           2.000797\n",
              "min           0.000000\n",
              "25%           1.000000\n",
              "50%           3.000000\n",
              "75%           5.000000\n",
              "max           6.000000\n",
              "Name: Number of Dependents, dtype: float64"
            ],
            "text/html": [
              "<div>\n",
              "<style scoped>\n",
              "    .dataframe tbody tr th:only-of-type {\n",
              "        vertical-align: middle;\n",
              "    }\n",
              "\n",
              "    .dataframe tbody tr th {\n",
              "        vertical-align: top;\n",
              "    }\n",
              "\n",
              "    .dataframe thead th {\n",
              "        text-align: right;\n",
              "    }\n",
              "</style>\n",
              "<table border=\"1\" class=\"dataframe\">\n",
              "  <thead>\n",
              "    <tr style=\"text-align: right;\">\n",
              "      <th></th>\n",
              "      <th>Number of Dependents</th>\n",
              "    </tr>\n",
              "  </thead>\n",
              "  <tbody>\n",
              "    <tr>\n",
              "      <th>count</th>\n",
              "      <td>574021.000000</td>\n",
              "    </tr>\n",
              "    <tr>\n",
              "      <th>mean</th>\n",
              "      <td>3.006549</td>\n",
              "    </tr>\n",
              "    <tr>\n",
              "      <th>std</th>\n",
              "      <td>2.000797</td>\n",
              "    </tr>\n",
              "    <tr>\n",
              "      <th>min</th>\n",
              "      <td>0.000000</td>\n",
              "    </tr>\n",
              "    <tr>\n",
              "      <th>25%</th>\n",
              "      <td>1.000000</td>\n",
              "    </tr>\n",
              "    <tr>\n",
              "      <th>50%</th>\n",
              "      <td>3.000000</td>\n",
              "    </tr>\n",
              "    <tr>\n",
              "      <th>75%</th>\n",
              "      <td>5.000000</td>\n",
              "    </tr>\n",
              "    <tr>\n",
              "      <th>max</th>\n",
              "      <td>6.000000</td>\n",
              "    </tr>\n",
              "  </tbody>\n",
              "</table>\n",
              "</div><br><label><b>dtype:</b> float64</label>"
            ]
          },
          "metadata": {},
          "execution_count": 233
        }
      ]
    },
    {
      "cell_type": "code",
      "source": [
        "(df_train['Number of Dependents'].isna().mean())*100"
      ],
      "metadata": {
        "id": "MWOxOGOoClzd",
        "outputId": "ede07a81-fae9-4e33-c365-229b9c389375",
        "colab": {
          "base_uri": "https://localhost:8080/"
        }
      },
      "id": "MWOxOGOoClzd",
      "execution_count": 236,
      "outputs": [
        {
          "output_type": "execute_result",
          "data": {
            "text/plain": [
              "3.2765145770777098"
            ]
          },
          "metadata": {},
          "execution_count": 236
        }
      ]
    },
    {
      "cell_type": "code",
      "source": [
        "plot_bar(df_train, 'Number of Dependents')"
      ],
      "metadata": {
        "id": "YmWohZLqC61l",
        "outputId": "0e22b591-1cf0-490c-9b61-8c1f0bb87c03",
        "colab": {
          "base_uri": "https://localhost:8080/",
          "height": 550
        }
      },
      "id": "YmWohZLqC61l",
      "execution_count": 237,
      "outputs": [
        {
          "output_type": "display_data",
          "data": {
            "text/plain": [
              "<Figure size 1000x600 with 1 Axes>"
            ],
            "image/png": "[encoded data removed]"
          },
          "metadata": {}
        }
      ]
    },
    {
      "cell_type": "markdown",
      "source": [
        "### COVID-19 Indicator"
      ],
      "metadata": {
        "id": "fhIlUMWhEDgj"
      },
      "id": "fhIlUMWhEDgj"
    },
    {
      "cell_type": "code",
      "source": [
        "df_train['COVID-19 Indicator'].describe()"
      ],
      "metadata": {
        "id": "ETtWWB8aEHhZ",
        "outputId": "00c12a56-83e8-40c5-f54b-e1a8f86b1262",
        "colab": {
          "base_uri": "https://localhost:8080/",
          "height": 210
        }
      },
      "id": "ETtWWB8aEHhZ",
      "execution_count": 239,
      "outputs": [
        {
          "output_type": "execute_result",
          "data": {
            "text/plain": [
              "count     574021\n",
              "unique         2\n",
              "top            N\n",
              "freq      546500\n",
              "Name: COVID-19 Indicator, dtype: object"
            ],
            "text/html": [
              "<div>\n",
              "<style scoped>\n",
              "    .dataframe tbody tr th:only-of-type {\n",
              "        vertical-align: middle;\n",
              "    }\n",
              "\n",
              "    .dataframe tbody tr th {\n",
              "        vertical-align: top;\n",
              "    }\n",
              "\n",
              "    .dataframe thead th {\n",
              "        text-align: right;\n",
              "    }\n",
              "</style>\n",
              "<table border=\"1\" class=\"dataframe\">\n",
              "  <thead>\n",
              "    <tr style=\"text-align: right;\">\n",
              "      <th></th>\n",
              "      <th>COVID-19 Indicator</th>\n",
              "    </tr>\n",
              "  </thead>\n",
              "  <tbody>\n",
              "    <tr>\n",
              "      <th>count</th>\n",
              "      <td>574021</td>\n",
              "    </tr>\n",
              "    <tr>\n",
              "      <th>unique</th>\n",
              "      <td>2</td>\n",
              "    </tr>\n",
              "    <tr>\n",
              "      <th>top</th>\n",
              "      <td>N</td>\n",
              "    </tr>\n",
              "    <tr>\n",
              "      <th>freq</th>\n",
              "      <td>546500</td>\n",
              "    </tr>\n",
              "  </tbody>\n",
              "</table>\n",
              "</div><br><label><b>dtype:</b> object</label>"
            ]
          },
          "metadata": {},
          "execution_count": 239
        }
      ]
    },
    {
      "cell_type": "code",
      "source": [
        "df_train['COVID-19 Indicator'].value_counts()"
      ],
      "metadata": {
        "id": "mo-ttQBMEQZR",
        "outputId": "e887187a-4cdf-424f-813f-6859f19294a7",
        "colab": {
          "base_uri": "https://localhost:8080/",
          "height": 178
        }
      },
      "id": "mo-ttQBMEQZR",
      "execution_count": 241,
      "outputs": [
        {
          "output_type": "execute_result",
          "data": {
            "text/plain": [
              "COVID-19 Indicator\n",
              "N    546500\n",
              "Y     27521\n",
              "Name: count, dtype: int64"
            ],
            "text/html": [
              "<div>\n",
              "<style scoped>\n",
              "    .dataframe tbody tr th:only-of-type {\n",
              "        vertical-align: middle;\n",
              "    }\n",
              "\n",
              "    .dataframe tbody tr th {\n",
              "        vertical-align: top;\n",
              "    }\n",
              "\n",
              "    .dataframe thead th {\n",
              "        text-align: right;\n",
              "    }\n",
              "</style>\n",
              "<table border=\"1\" class=\"dataframe\">\n",
              "  <thead>\n",
              "    <tr style=\"text-align: right;\">\n",
              "      <th></th>\n",
              "      <th>count</th>\n",
              "    </tr>\n",
              "    <tr>\n",
              "      <th>COVID-19 Indicator</th>\n",
              "      <th></th>\n",
              "    </tr>\n",
              "  </thead>\n",
              "  <tbody>\n",
              "    <tr>\n",
              "      <th>N</th>\n",
              "      <td>546500</td>\n",
              "    </tr>\n",
              "    <tr>\n",
              "      <th>Y</th>\n",
              "      <td>27521</td>\n",
              "    </tr>\n",
              "  </tbody>\n",
              "</table>\n",
              "</div><br><label><b>dtype:</b> int64</label>"
            ]
          },
          "metadata": {},
          "execution_count": 241
        }
      ]
    },
    {
      "cell_type": "code",
      "source": [
        "df_train['COVID-19 Indicator'].isna().sum()"
      ],
      "metadata": {
        "id": "ulZ7fdcKEOCB",
        "outputId": "87112c01-01dc-4442-efcf-feecce9f84f5",
        "colab": {
          "base_uri": "https://localhost:8080/"
        }
      },
      "id": "ulZ7fdcKEOCB",
      "execution_count": 240,
      "outputs": [
        {
          "output_type": "execute_result",
          "data": {
            "text/plain": [
              "19445"
            ]
          },
          "metadata": {},
          "execution_count": 240
        }
      ]
    },
    {
      "cell_type": "code",
      "source": [
        "df_train['COVID-19 Indicator'] = df_train['COVID-19 Indicator'].replace({'Y': True, 'N': False})\n",
        "\n",
        "# Now convert to nullable boolean type\n",
        "df_train['COVID-19 Indicator'] = df_train['COVID-19 Indicator'].astype(\"boolean\")\n",
        "\n",
        "df_test['COVID-19 Indicator'] = df_test['COVID-19 Indicator'].replace({'Y': True, 'N': False})\n",
        "\n",
        "# Now convert to nullable boolean type\n",
        "df_test['COVID-19 Indicator'] = df_test['COVID-19 Indicator'].astype(\"boolean\")"
      ],
      "metadata": {
        "id": "SKO2C4irEUWW",
        "outputId": "1c616cad-6491-4bfe-92fd-d2434fa40345",
        "colab": {
          "base_uri": "https://localhost:8080/"
        }
      },
      "id": "SKO2C4irEUWW",
      "execution_count": 244,
      "outputs": [
        {
          "output_type": "stream",
          "name": "stderr",
          "text": [
            "<ipython-input-244-46c2de5b6eeb>:6: FutureWarning: Downcasting behavior in `replace` is deprecated and will be removed in a future version. To retain the old behavior, explicitly call `result.infer_objects(copy=False)`. To opt-in to the future behavior, set `pd.set_option('future.no_silent_downcasting', True)`\n",
            "  df_test['COVID-19 Indicator'] = df_test['COVID-19 Indicator'].replace({'Y': True, 'N': False})\n"
          ]
        }
      ]
    },
    {
      "cell_type": "code",
      "source": [
        "plot_bar(df_train, 'COVID-19 Indicator')"
      ],
      "metadata": {
        "id": "bjJP77EJEvRi",
        "outputId": "f6b0db4f-5d5a-4133-bd40-174633773803",
        "colab": {
          "base_uri": "https://localhost:8080/",
          "height": 550
        }
      },
      "id": "bjJP77EJEvRi",
      "execution_count": 245,
      "outputs": [
        {
          "output_type": "display_data",
          "data": {
            "text/plain": [
              "<Figure size 1000x600 with 1 Axes>"
            ],
            "image/png": "[encoded data removed]"
          },
          "metadata": {}
        }
      ]
    },
    {
      "cell_type": "markdown",
      "source": [
        "### Average Weekly Wage variable"
      ],
      "metadata": {
        "id": "LXsyUsnJG0Ty"
      },
      "id": "LXsyUsnJG0Ty"
    },
    {
      "cell_type": "code",
      "source": [
        "df_train['Average Weekly Wage'].describe()"
      ],
      "metadata": {
        "id": "BEOZvtoQG8js",
        "outputId": "448e7c57-e251-4c9e-ed07-5bc4fc1866d0",
        "colab": {
          "base_uri": "https://localhost:8080/",
          "height": 335
        }
      },
      "id": "BEOZvtoQG8js",
      "execution_count": 246,
      "outputs": [
        {
          "output_type": "execute_result",
          "data": {
            "text/plain": [
              "count    5.453710e+05\n",
              "mean     4.910919e+02\n",
              "std      6.092940e+03\n",
              "min      0.000000e+00\n",
              "25%      0.000000e+00\n",
              "50%      0.000000e+00\n",
              "75%      8.410000e+02\n",
              "max      2.828079e+06\n",
              "Name: Average Weekly Wage, dtype: float64"
            ],
            "text/html": [
              "<div>\n",
              "<style scoped>\n",
              "    .dataframe tbody tr th:only-of-type {\n",
              "        vertical-align: middle;\n",
              "    }\n",
              "\n",
              "    .dataframe tbody tr th {\n",
              "        vertical-align: top;\n",
              "    }\n",
              "\n",
              "    .dataframe thead th {\n",
              "        text-align: right;\n",
              "    }\n",
              "</style>\n",
              "<table border=\"1\" class=\"dataframe\">\n",
              "  <thead>\n",
              "    <tr style=\"text-align: right;\">\n",
              "      <th></th>\n",
              "      <th>Average Weekly Wage</th>\n",
              "    </tr>\n",
              "  </thead>\n",
              "  <tbody>\n",
              "    <tr>\n",
              "      <th>count</th>\n",
              "      <td>5.453710e+05</td>\n",
              "    </tr>\n",
              "    <tr>\n",
              "      <th>mean</th>\n",
              "      <td>4.910919e+02</td>\n",
              "    </tr>\n",
              "    <tr>\n",
              "      <th>std</th>\n",
              "      <td>6.092940e+03</td>\n",
              "    </tr>\n",
              "    <tr>\n",
              "      <th>min</th>\n",
              "      <td>0.000000e+00</td>\n",
              "    </tr>\n",
              "    <tr>\n",
              "      <th>25%</th>\n",
              "      <td>0.000000e+00</td>\n",
              "    </tr>\n",
              "    <tr>\n",
              "      <th>50%</th>\n",
              "      <td>0.000000e+00</td>\n",
              "    </tr>\n",
              "    <tr>\n",
              "      <th>75%</th>\n",
              "      <td>8.410000e+02</td>\n",
              "    </tr>\n",
              "    <tr>\n",
              "      <th>max</th>\n",
              "      <td>2.828079e+06</td>\n",
              "    </tr>\n",
              "  </tbody>\n",
              "</table>\n",
              "</div><br><label><b>dtype:</b> float64</label>"
            ]
          },
          "metadata": {},
          "execution_count": 246
        }
      ]
    },
    {
      "cell_type": "code",
      "source": [
        "(df_train['Average Weekly Wage'] == 0).sum()"
      ],
      "metadata": {
        "id": "GPzXWtveIu5I",
        "outputId": "e1d3ac3f-d926-4ab1-a0b4-9422bdbac3ad",
        "colab": {
          "base_uri": "https://localhost:8080/"
        }
      },
      "id": "GPzXWtveIu5I",
      "execution_count": 248,
      "outputs": [
        {
          "output_type": "execute_result",
          "data": {
            "text/plain": [
              "335446"
            ]
          },
          "metadata": {},
          "execution_count": 248
        }
      ]
    },
    {
      "cell_type": "markdown",
      "source": [
        "It is not possible to have values in 'Average Weekly Wage' recorded as zero since we are talking about workers. Since there are 333933 values recorded as zero, it is very unlikely that this is an error. We should replace the zeros with NaN values."
      ],
      "metadata": {
        "id": "8SofTJvSI1d7"
      },
      "id": "8SofTJvSI1d7"
    },
    {
      "cell_type": "code",
      "source": [
        "df_train['Average Weekly Wage'] = df_train['Average Weekly Wage'].replace(0, np.nan)"
      ],
      "metadata": {
        "id": "_QBMWlV-JBWv"
      },
      "id": "_QBMWlV-JBWv",
      "execution_count": 252,
      "outputs": []
    },
    {
      "cell_type": "code",
      "source": [
        "(df_train['Average Weekly Wage'].isna().mean())*100\n"
      ],
      "metadata": {
        "id": "ISxRE0J5I3dy",
        "outputId": "9f38a436-e7d3-4e54-9657-26723d349a38",
        "colab": {
          "base_uri": "https://localhost:8080/"
        }
      },
      "id": "ISxRE0J5I3dy",
      "execution_count": 253,
      "outputs": [
        {
          "output_type": "execute_result",
          "data": {
            "text/plain": [
              "64.62729120118085"
            ]
          },
          "metadata": {},
          "execution_count": 253
        }
      ]
    },
    {
      "cell_type": "markdown",
      "source": [
        "More than 60% of the Average Weekly Wage column has unknown information. This gonna produce issues in analysis and modeling. Replacing those missing values with statistical measures like the mean or median can skew results and introduce bias, especially if the data is not missing at random. Using methods like KNN can also lead to unreliable estimates if the underlying distribution is not well understood.\n"
      ],
      "metadata": {
        "id": "xrTN56RpJJts"
      },
      "id": "xrTN56RpJJts"
    },
    {
      "cell_type": "markdown",
      "source": [
        "Given these circumstances, removing the column might be the most prudent approach.\n"
      ],
      "metadata": {
        "id": "kFR2jpnDJdJv"
      },
      "id": "kFR2jpnDJdJv"
    },
    {
      "cell_type": "markdown",
      "source": [
        "Let's explore the variable anyway"
      ],
      "metadata": {
        "id": "UM9l3pBGKFVg"
      },
      "id": "UM9l3pBGKFVg"
    },
    {
      "cell_type": "code",
      "source": [
        "sns.set(style=\"whitegrid\")\n",
        "\n",
        "fig, axs = plt.subplots(1, 2, figsize=(14, 6))\n",
        "\n",
        "sns.histplot(df_train['Average Weekly Wage'], bins=30, kde=True, ax=axs[0])\n",
        "axs[0].set_title('Histogram of Average Weekly Wage')\n",
        "axs[0].set_xlabel('Average Weekly Wage')\n",
        "axs[0].set_ylabel('Frequency')\n",
        "\n",
        "sns.boxplot(x=df_train['Average Weekly Wage'], ax=axs[1])\n",
        "axs[1].set_title('Boxplot of Average Weekly Wage')\n",
        "axs[1].set_xlabel('Average Weekly Wage')\n",
        "\n",
        "plt.tight_layout()\n",
        "plt.show()"
      ],
      "metadata": {
        "id": "UKcI33LLKG7E",
        "outputId": "60bd7022-8015-4d62-87d5-5901825d2135",
        "colab": {
          "base_uri": "https://localhost:8080/",
          "height": 601
        }
      },
      "id": "UKcI33LLKG7E",
      "execution_count": 255,
      "outputs": [
        {
          "output_type": "display_data",
          "data": {
            "text/plain": [
              "<Figure size 1400x600 with 2 Axes>"
            ],
            "image/png": "[encoded data removed]"
          },
          "metadata": {}
        }
      ]
    },
    {
      "cell_type": "code",
      "execution_count": 170,
      "id": "bcba0041-9baf-45b9-a6d6-d92a510acfd5",
      "metadata": {
        "id": "bcba0041-9baf-45b9-a6d6-d92a510acfd5"
      },
      "outputs": [],
      "source": [
        "# For each column\n",
        "    # Descriptive stats\n",
        "    # Visualization (Bar, hist, boxplot, .., whatever makes sense)\n",
        "        # Use above helper function\n",
        "    # Problems (missing values, invalid values etc.)\n",
        "        # show examples etc.\n",
        "    # how to deal with the problems\n",
        "        # remove rows? replace with null? what happens to null values (replace with median, knN, mode etc)?\n",
        "        # analyse and find solution with train -> apply solution to train and test"
      ]
    },
    {
      "cell_type": "code",
      "execution_count": 171,
      "id": "258d04a7-c04e-4923-be96-79c04b19cda5",
      "metadata": {
        "id": "258d04a7-c04e-4923-be96-79c04b19cda5"
      },
      "outputs": [],
      "source": [
        "# Empty columns: WCB Decision (in test), OIICS Nature of Injury Description, Agreement Reached\n",
        "    # Ignore those"
      ]
    },
    {
      "cell_type": "code",
      "execution_count": 172,
      "id": "144c2367-09ee-4eaf-8ebe-02eb25169735",
      "metadata": {
        "id": "144c2367-09ee-4eaf-8ebe-02eb25169735",
        "outputId": "0fc3f463-9244-475d-fc4a-5a8016a0a8aa",
        "colab": {
          "base_uri": "https://localhost:8080/",
          "height": 105
        }
      },
      "outputs": [
        {
          "output_type": "execute_result",
          "data": {
            "text/plain": [
              "'\\n 0   Accident Date                       570337 non-null  datetime64[ns]\\n 1   Age at Injury                       574026 non-null  float64    \\n 3   Assembly Date                       593471 non-null  datetime64[ns]\\n 6   Birth Year                          544948 non-null  float64    \\n 7   C-2 Date                            559466 non-null  datetime64[ns] \\n 8   C-3 Date                            187245 non-null  datetime64[ns]\\n 16  First Hearing Date                  150798 non-null  datetime64[ns]\\n 2   Alternative Dispute Resolution      574026 non-null  object    \\n 4   Attorney/Representative             574026 non-null  object       \\n 10  Carrier Type                        574026 non-null  object        \\n 13  County of Injury                    574026 non-null  object         \\n '"
            ],
            "application/vnd.google.colaboratory.intrinsic+json": {
              "type": "string"
            }
          },
          "metadata": {},
          "execution_count": 172
        }
      ],
      "source": [
        "# Daniel:\n",
        "\"\"\"\n",
        " 0   Accident Date                       570337 non-null  datetime64[ns]\n",
        " 1   Age at Injury                       574026 non-null  float64\n",
        " 3   Assembly Date                       593471 non-null  datetime64[ns]\n",
        " 6   Birth Year                          544948 non-null  float64\n",
        " 7   C-2 Date                            559466 non-null  datetime64[ns]\n",
        " 8   C-3 Date                            187245 non-null  datetime64[ns]\n",
        " 16  First Hearing Date                  150798 non-null  datetime64[ns]\n",
        " 2   Alternative Dispute Resolution      574026 non-null  object\n",
        " 4   Attorney/Representative             574026 non-null  object\n",
        " 10  Carrier Type                        574026 non-null  object\n",
        " 13  County of Injury                    574026 non-null  object\n",
        " \"\"\""
      ]
    },
    {
      "cell_type": "code",
      "execution_count": 173,
      "id": "25c3693e-be22-4d91-bc12-9ead21219488",
      "metadata": {
        "id": "25c3693e-be22-4d91-bc12-9ead21219488",
        "outputId": "a1629156-3bac-4f25-9c07-ab36b8ff35e3",
        "colab": {
          "base_uri": "https://localhost:8080/",
          "height": 105
        }
      },
      "outputs": [
        {
          "output_type": "execute_result",
          "data": {
            "text/plain": [
              "'\\n 19  Industry Code                       564068 non-null  float64       \\n 20  Industry Code Description           564068 non-null  object        \\n 21  Medical Fee Region                  574026 non-null  object     \\n 23  WCIO Cause of Injury Code           558386 non-null  float64       \\n 24  WCIO Cause of Injury Description    558386 non-null  object        \\n 25  WCIO Nature of Injury Code          558369 non-null  float64       \\n 26  WCIO Nature of Injury Description   558369 non-null  object        \\n 27  WCIO Part Of Body Code              556944 non-null  float64       \\n 28  WCIO Part Of Body Description       556944 non-null  object        \\n 29  Zip Code                            545389 non-null  object \\n 12  Claim Injury Type                   574026 non-null  object\\n 17  Gender                              574026 non-null  object        \\n'"
            ],
            "application/vnd.google.colaboratory.intrinsic+json": {
              "type": "string"
            }
          },
          "metadata": {},
          "execution_count": 173
        }
      ],
      "source": [
        "# Louis:\n",
        "\"\"\"\n",
        " 19  Industry Code                       564068 non-null  float64\n",
        " 20  Industry Code Description           564068 non-null  object\n",
        " 21  Medical Fee Region                  574026 non-null  object\n",
        " 23  WCIO Cause of Injury Code           558386 non-null  float64\n",
        " 24  WCIO Cause of Injury Description    558386 non-null  object\n",
        " 25  WCIO Nature of Injury Code          558369 non-null  float64\n",
        " 26  WCIO Nature of Injury Description   558369 non-null  object\n",
        " 27  WCIO Part Of Body Code              556944 non-null  float64\n",
        " 28  WCIO Part Of Body Description       556944 non-null  object\n",
        " 29  Zip Code                            545389 non-null  object\n",
        " 12  Claim Injury Type                   574026 non-null  object\n",
        " 17  Gender                              574026 non-null  object\n",
        "\"\"\""
      ]
    },
    {
      "cell_type": "code",
      "execution_count": 174,
      "id": "19981b7c-bd7a-4ac1-878c-7f1da87e9e39",
      "metadata": {
        "id": "19981b7c-bd7a-4ac1-878c-7f1da87e9e39",
        "outputId": "40098e65-9122-41b6-9932-165869710516",
        "colab": {
          "base_uri": "https://localhost:8080/",
          "height": 70
        }
      },
      "outputs": [
        {
          "output_type": "execute_result",
          "data": {
            "text/plain": [
              "'\\n 5   Average Weekly Wage                 545375 non-null  float64       \\n 9   Carrier Name                        574026 non-null  object        \\n 11  Claim Identifier                    593471 non-null  int64         \\n 14  COVID-19 Indicator                  574026 non-null  object        \\n 15  District Name                       574026 non-null  object        \\n 18  IME-4 Count                         132803 non-null  float64       \\n 22  Number of Dependents                574026 non-null  float64       \\n'"
            ],
            "application/vnd.google.colaboratory.intrinsic+json": {
              "type": "string"
            }
          },
          "metadata": {},
          "execution_count": 174
        }
      ],
      "source": [
        "# Rita:\n",
        "\"\"\"\n",
        " 5   Average Weekly Wage                 545375 non-null  float64\n",
        " 9   Carrier Name                        574026 non-null  object\n",
        " 11  Claim Identifier                    593471 non-null  int64\n",
        " 14  COVID-19 Indicator                  574026 non-null  object\n",
        " 15  District Name                       574026 non-null  object\n",
        " 18  IME-4 Count                         132803 non-null  float64\n",
        " 22  Number of Dependents                574026 non-null  float64\n",
        "\"\"\""
      ]
    },
    {
      "cell_type": "markdown",
      "id": "14dc1098-7784-4392-80e8-c5b9fc4014a8",
      "metadata": {
        "id": "14dc1098-7784-4392-80e8-c5b9fc4014a8"
      },
      "source": [
        "## Step 3: Cross-Feature analysis"
      ]
    },
    {
      "cell_type": "code",
      "execution_count": 175,
      "id": "20025781-9ff3-4a8e-8b39-82b61ab096ab",
      "metadata": {
        "id": "20025781-9ff3-4a8e-8b39-82b61ab096ab"
      },
      "outputs": [],
      "source": [
        "# cross-feature inconsistencies\n",
        "    # all dates have to be after incident date\n",
        "    # if covid code -> covid has to be true\n",
        "    # code vs description (just check, we will ignore the descriptions later)\n",
        "    # How to deal with inconsistencies\n",
        "# cross-feature visualisations\n",
        "    # Write down Visualisation insights"
      ]
    },
    {
      "cell_type": "markdown",
      "id": "e90a48dd-fed9-4097-af68-3a4bf235bc22",
      "metadata": {
        "id": "e90a48dd-fed9-4097-af68-3a4bf235bc22"
      },
      "source": [
        "# Re-Run of Exploratory Analysis"
      ]
    },
    {
      "cell_type": "code",
      "execution_count": 175,
      "id": "89f06148-9583-43c2-92db-72baa7367117",
      "metadata": {
        "id": "89f06148-9583-43c2-92db-72baa7367117"
      },
      "outputs": [],
      "source": []
    }
  ],
  "metadata": {
    "kernelspec": {
      "display_name": "Python 3 (ipykernel)",
      "language": "python",
      "name": "python3"
    },
    "language_info": {
      "codemirror_mode": {
        "name": "ipython",
        "version": 3
      },
      "file_extension": ".py",
      "mimetype": "text/x-python",
      "name": "python",
      "nbconvert_exporter": "python",
      "pygments_lexer": "ipython3",
      "version": "3.12.5"
    },
    "colab": {
      "provenance": [],
      "toc_visible": true
    }
  },
  "nbformat": 4,
  "nbformat_minor": 5
}
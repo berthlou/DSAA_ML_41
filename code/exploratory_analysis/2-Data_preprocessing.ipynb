{
 "cells": [
  {
   "cell_type": "markdown",
   "id": "e75793a0-91fe-4a25-bb66-e5f66111ef87",
   "metadata": {
    "id": "e75793a0-91fe-4a25-bb66-e5f66111ef87"
   },
   "source": [
    "# Preprocessing\n",
    "This notebook contains code to preprocess the dataset dealing with some missing values (some others will have to be dealt with after splitting the data since they will use a model for inputation) and feature creation. (no scaling or outlier removal was performed here because some of the models we used are robust to outliers and don't need any scaling so these steps where only performed on the models notebook)"
   ]
  },
  {
   "cell_type": "code",
   "execution_count": 1,
   "id": "665702f6-2066-4a96-a2b4-40fe6f615c81",
   "metadata": {
    "id": "665702f6-2066-4a96-a2b4-40fe6f615c81"
   },
   "outputs": [],
   "source": [
    "import pandas as pd\n",
    "import numpy as np\n",
    "import matplotlib.pyplot as plt\n",
    "import seaborn as sns\n",
    "from collections import Counter"
   ]
  },
  {
   "cell_type": "markdown",
   "id": "39a6f12d-25e1-429b-a0d3-f5d1ff7db900",
   "metadata": {
    "id": "39a6f12d-25e1-429b-a0d3-f5d1ff7db900"
   },
   "source": [
    "## Data Loading"
   ]
  },
  {
   "cell_type": "code",
   "execution_count": 2,
   "id": "386351dc-bb0c-467d-ae63-08a9808c885b",
   "metadata": {
    "id": "386351dc-bb0c-467d-ae63-08a9808c885b",
    "outputId": "2cc1c4b0-a12e-4d0f-afdd-924c02a4a4bc"
   },
   "outputs": [
    {
     "name": "stderr",
     "output_type": "stream",
     "text": [
      "C:\\Users\\Louis\\AppData\\Local\\Temp\\ipykernel_14584\\3698058545.py:2: DtypeWarning: Columns (29) have mixed types. Specify dtype option on import or set low_memory=False.\n",
      "  df_train = pd.read_csv(\"../../data/train_data.csv\")\n"
     ]
    }
   ],
   "source": [
    "# Loading data\n",
    "df_train = pd.read_csv(\"../../data/train_data.csv\")\n",
    "df_test = pd.read_csv(\"../../data/test_data.csv\")"
   ]
  },
  {
   "cell_type": "code",
   "execution_count": 3,
   "id": "c4952660-74bd-4d72-a892-c1f4a345659c",
   "metadata": {
    "id": "c4952660-74bd-4d72-a892-c1f4a345659c"
   },
   "outputs": [],
   "source": [
    "def prepare(df, date_columns=None, code_identifiers=['Code']):\n",
    "    \"\"\"\n",
    "    Prepare the DataFrame by:\n",
    "      - Converting specified date columns to datetime.\n",
    "      - Casting columns with specified keywords (e.g., 'Code') in their names to categorical data type.\n",
    "\n",
    "    Parameters:\n",
    "        df (pd.DataFrame): The DataFrame to prepare.\n",
    "        date_columns (list): List of columns to convert to datetime. Default is None.\n",
    "        code_identifiers (list): List of keywords to identify code columns. Default is ['Code'].\n",
    "\n",
    "    Returns:\n",
    "        pd.DataFrame: The modified DataFrame with date conversions and categorical castings applied.\n",
    "    \"\"\"\n",
    "    # Convert specified columns to datetime\n",
    "    if date_columns:\n",
    "        for col in date_columns:\n",
    "            df[col] = pd.to_datetime(df[col], errors='coerce')\n",
    "\n",
    "    # Convert code_identifiers to lowercase for case-insensitive matching\n",
    "    code_identifiers = [keyword.lower() for keyword in code_identifiers]\n",
    "\n",
    "    # Cast columns with keywords in their names to categorical\n",
    "    for col in df.columns:\n",
    "        if any(keyword in col.lower() for keyword in code_identifiers):\n",
    "            if pd.api.types.is_numeric_dtype(df[col]):\n",
    "                df[col] = df[col].astype('object')\n",
    "                print(f\"Column '{col}' cast to 'object' data type.\")\n",
    "            else:\n",
    "                print(f\"Column '{col}' already non-numeric, no casting applied.\")\n",
    "\n",
    "    return df"
   ]
  },
  {
   "cell_type": "code",
   "execution_count": 4,
   "id": "e080f522-f518-42e7-a83d-7622d76b10af",
   "metadata": {
    "id": "e080f522-f518-42e7-a83d-7622d76b10af",
    "outputId": "a831240d-26d1-48cd-d52f-8ad87f3d5a16"
   },
   "outputs": [
    {
     "name": "stdout",
     "output_type": "stream",
     "text": [
      "Column 'Industry Code' cast to 'object' data type.\n",
      "Column 'Industry Code Description' already non-numeric, no casting applied.\n",
      "Column 'WCIO Cause of Injury Code' cast to 'object' data type.\n",
      "Column 'WCIO Nature of Injury Code' cast to 'object' data type.\n",
      "Column 'WCIO Part Of Body Code' cast to 'object' data type.\n",
      "Column 'Zip Code' already non-numeric, no casting applied.\n",
      "Column 'Industry Code' cast to 'object' data type.\n",
      "Column 'Industry Code Description' already non-numeric, no casting applied.\n",
      "Column 'WCIO Cause of Injury Code' cast to 'object' data type.\n",
      "Column 'WCIO Nature of Injury Code' cast to 'object' data type.\n",
      "Column 'WCIO Part Of Body Code' cast to 'object' data type.\n",
      "Column 'Zip Code' already non-numeric, no casting applied.\n"
     ]
    }
   ],
   "source": [
    "# Define columns for date conversion\n",
    "date_columns = ['Accident Date', 'Assembly Date', 'C-2 Date', 'C-3 Date', 'First Hearing Date']\n",
    "\n",
    "# Prepare the training and test DataFrames\n",
    "df_train = prepare(df_train, date_columns=date_columns)\n",
    "df_test = prepare(df_test, date_columns=date_columns)"
   ]
  },
  {
   "cell_type": "markdown",
   "id": "00278c8b-b3b5-4a7d-82ee-6faade9f297a",
   "metadata": {
    "id": "00278c8b-b3b5-4a7d-82ee-6faade9f297a"
   },
   "source": [
    "## Individual Feature Processing\n",
    "- Unifying missing data with NaN\n",
    "\n",
    "\n",
    "Missing data will be handled in a later step (Imputer)"
   ]
  },
  {
   "cell_type": "code",
   "execution_count": 5,
   "id": "e92604d8-8af8-4903-8e47-98b42b59f8f7",
   "metadata": {
    "id": "e92604d8-8af8-4903-8e47-98b42b59f8f7",
    "outputId": "49d0e164-7165-45e9-d674-62262f5fa53e",
    "scrolled": true
   },
   "outputs": [
    {
     "data": {
      "text/plain": [
       "Accident Date                         datetime64[ns]\n",
       "Age at Injury                                float64\n",
       "Alternative Dispute Resolution                object\n",
       "Assembly Date                         datetime64[ns]\n",
       "Attorney/Representative                       object\n",
       "Average Weekly Wage                          float64\n",
       "Birth Year                                   float64\n",
       "C-2 Date                              datetime64[ns]\n",
       "C-3 Date                              datetime64[ns]\n",
       "Carrier Name                                  object\n",
       "Carrier Type                                  object\n",
       "Claim Identifier                               int64\n",
       "Claim Injury Type                             object\n",
       "County of Injury                              object\n",
       "COVID-19 Indicator                            object\n",
       "District Name                                 object\n",
       "First Hearing Date                    datetime64[ns]\n",
       "Gender                                        object\n",
       "IME-4 Count                                  float64\n",
       "Industry Code                                 object\n",
       "Industry Code Description                     object\n",
       "Medical Fee Region                            object\n",
       "OIICS Nature of Injury Description           float64\n",
       "WCIO Cause of Injury Code                     object\n",
       "WCIO Cause of Injury Description              object\n",
       "WCIO Nature of Injury Code                    object\n",
       "WCIO Nature of Injury Description             object\n",
       "WCIO Part Of Body Code                        object\n",
       "WCIO Part Of Body Description                 object\n",
       "Zip Code                                      object\n",
       "Agreement Reached                            float64\n",
       "WCB Decision                                  object\n",
       "Number of Dependents                         float64\n",
       "dtype: object"
      ]
     },
     "execution_count": 5,
     "metadata": {},
     "output_type": "execute_result"
    }
   ],
   "source": [
    "df_train.dtypes"
   ]
  },
  {
   "cell_type": "markdown",
   "id": "0c76e6be-9275-43d1-b2d5-91082cb99ec6",
   "metadata": {
    "id": "0c76e6be-9275-43d1-b2d5-91082cb99ec6"
   },
   "source": [
    "**Age at injury**:\n",
    "Impossible age of 0 replace with missing value (NaN)"
   ]
  },
  {
   "cell_type": "code",
   "execution_count": 6,
   "id": "614c05ee-2736-4316-a708-318038414046",
   "metadata": {
    "id": "614c05ee-2736-4316-a708-318038414046"
   },
   "outputs": [],
   "source": [
    "df_train['Age at Injury'] = df_train['Age at Injury'].replace(0, np.nan)\n",
    "df_test['Age at Injury'] = df_test['Age at Injury'].replace(0, np.nan)"
   ]
  },
  {
   "cell_type": "markdown",
   "id": "9ede0004-bdf0-4b26-8ae1-326841acba29",
   "metadata": {
    "id": "9ede0004-bdf0-4b26-8ae1-326841acba29"
   },
   "source": [
    "**Birth year**: Impossible birth year of 0 replace with missing value (NaN)"
   ]
  },
  {
   "cell_type": "code",
   "execution_count": 7,
   "id": "1045b4cb-c44f-4abb-975b-282ae3257b33",
   "metadata": {
    "id": "1045b4cb-c44f-4abb-975b-282ae3257b33"
   },
   "outputs": [],
   "source": [
    "df_train['Birth Year'] = df_train['Birth Year'].replace(0, np.nan)\n",
    "df_test[\"Birth Year\"] = df_test[\"Birth Year\"].replace(0,np.nan)"
   ]
  },
  {
   "cell_type": "markdown",
   "id": "49f32f76-fcb8-44a7-8ad3-c703285c4187",
   "metadata": {
    "id": "49f32f76-fcb8-44a7-8ad3-c703285c4187"
   },
   "source": [
    "**Attorney representation**: Replace Y/N Strings with 1 and 0."
   ]
  },
  {
   "cell_type": "code",
   "execution_count": 8,
   "id": "d8b61b6c-6b38-43d4-b4fb-ebe575b46f70",
   "metadata": {
    "id": "d8b61b6c-6b38-43d4-b4fb-ebe575b46f70",
    "outputId": "dc13895b-b84b-4732-87f9-5ca95300f6fb"
   },
   "outputs": [
    {
     "name": "stderr",
     "output_type": "stream",
     "text": [
      "C:\\Users\\Louis\\AppData\\Local\\Temp\\ipykernel_14584\\2925562128.py:2: FutureWarning: Downcasting behavior in `replace` is deprecated and will be removed in a future version. To retain the old behavior, explicitly call `result.infer_objects(copy=False)`. To opt-in to the future behavior, set `pd.set_option('future.no_silent_downcasting', True)`\n",
      "  df_train['Attorney/Representative'] = df_train['Attorney/Representative'].replace({'Y': 1, 'N': 0})\n"
     ]
    }
   ],
   "source": [
    "# Replace 'Y' with 1, 'N' with 0, and preserve NaNs\n",
    "df_train['Attorney/Representative'] = df_train['Attorney/Representative'].replace({'Y': 1, 'N': 0})\n"
   ]
  },
  {
   "cell_type": "code",
   "execution_count": 9,
   "id": "26f9407d-1d20-41a9-8e1e-b0bafc37fc3d",
   "metadata": {
    "id": "26f9407d-1d20-41a9-8e1e-b0bafc37fc3d",
    "outputId": "117ed965-fbb3-4407-ad98-e2474e7ad0b3"
   },
   "outputs": [
    {
     "name": "stderr",
     "output_type": "stream",
     "text": [
      "C:\\Users\\Louis\\AppData\\Local\\Temp\\ipykernel_14584\\812589412.py:2: FutureWarning: Downcasting behavior in `replace` is deprecated and will be removed in a future version. To retain the old behavior, explicitly call `result.infer_objects(copy=False)`. To opt-in to the future behavior, set `pd.set_option('future.no_silent_downcasting', True)`\n",
      "  df_test['Attorney/Representative'] = df_test['Attorney/Representative'].replace({'Y': 1, 'N': 0})\n"
     ]
    }
   ],
   "source": [
    "# Replace 'Y' with 1, 'N' with 0, and preserve NaNs\n",
    "df_test['Attorney/Representative'] = df_test['Attorney/Representative'].replace({'Y': 1, 'N': 0})\n"
   ]
  },
  {
   "cell_type": "markdown",
   "id": "3ec29580-a2c6-46ba-b1b6-4838d517d5d9",
   "metadata": {
    "id": "3ec29580-a2c6-46ba-b1b6-4838d517d5d9"
   },
   "source": [
    "**Alternative Dispute Resolution**: Replace Y/N Strings with 1 and 0 remove Unkown values since there are only 5 on the train (out of 574026) and we can change them to the most common category in the test."
   ]
  },
  {
   "cell_type": "code",
   "execution_count": 10,
   "id": "f569c75d-64a6-4c84-9e6a-b75f3b407105",
   "metadata": {},
   "outputs": [],
   "source": [
    "df_train = df_train[df_train['Alternative Dispute Resolution'] != 'U']"
   ]
  },
  {
   "cell_type": "code",
   "execution_count": 11,
   "id": "e8b0cab1-888e-4e15-977b-e7c15778cf5f",
   "metadata": {
    "id": "e8b0cab1-888e-4e15-977b-e7c15778cf5f",
    "outputId": "51e8195b-d216-4291-e085-dbd84b006c3b"
   },
   "outputs": [
    {
     "name": "stderr",
     "output_type": "stream",
     "text": [
      "C:\\Users\\Louis\\AppData\\Local\\Temp\\ipykernel_14584\\1340865366.py:1: FutureWarning: Downcasting behavior in `replace` is deprecated and will be removed in a future version. To retain the old behavior, explicitly call `result.infer_objects(copy=False)`. To opt-in to the future behavior, set `pd.set_option('future.no_silent_downcasting', True)`\n",
      "  df_train['Alternative Dispute Resolution'] = df_train['Alternative Dispute Resolution'].replace({'Y': 1, 'N': 0})\n"
     ]
    }
   ],
   "source": [
    "df_train['Alternative Dispute Resolution'] = df_train['Alternative Dispute Resolution'].replace({'Y': 1, 'N': 0})"
   ]
  },
  {
   "cell_type": "code",
   "execution_count": 12,
   "id": "1e760a14-7cc5-42a3-a380-093585337ef3",
   "metadata": {
    "id": "1e760a14-7cc5-42a3-a380-093585337ef3",
    "outputId": "4bc257f7-70fd-45e2-95b6-4af2609f6a6f"
   },
   "outputs": [
    {
     "name": "stderr",
     "output_type": "stream",
     "text": [
      "C:\\Users\\Louis\\AppData\\Local\\Temp\\ipykernel_14584\\2095164741.py:2: FutureWarning: Downcasting behavior in `replace` is deprecated and will be removed in a future version. To retain the old behavior, explicitly call `result.infer_objects(copy=False)`. To opt-in to the future behavior, set `pd.set_option('future.no_silent_downcasting', True)`\n",
      "  df_test['Alternative Dispute Resolution'] = df_test['Alternative Dispute Resolution'].replace({'Y': 1, 'N': 0})\n"
     ]
    }
   ],
   "source": [
    "df_test['Alternative Dispute Resolution'] = df_test['Alternative Dispute Resolution'].replace(\"U\", 0)\n",
    "df_test['Alternative Dispute Resolution'] = df_test['Alternative Dispute Resolution'].replace({'Y': 1, 'N': 0})"
   ]
  },
  {
   "cell_type": "markdown",
   "id": "ce4ffee6-b521-4cd7-8719-fa287a4ffce1",
   "metadata": {
    "id": "ce4ffee6-b521-4cd7-8719-fa287a4ffce1"
   },
   "source": [
    "**Claim Identifier**: Contains duplicates - is the ID column of the dataset"
   ]
  },
  {
   "cell_type": "code",
   "execution_count": 13,
   "id": "243325aa-f1fc-4875-8330-35aa716365b5",
   "metadata": {
    "id": "243325aa-f1fc-4875-8330-35aa716365b5"
   },
   "outputs": [],
   "source": [
    "# Completely remove duplicates in \"Claim Identifier\" from train\n",
    "df_train = df_train[~df_train['Claim Identifier'].duplicated(keep=False)]"
   ]
  },
  {
   "cell_type": "markdown",
   "id": "fab6d1ce-ea66-4792-a072-c3293bd9ac1f",
   "metadata": {
    "id": "fab6d1ce-ea66-4792-a072-c3293bd9ac1f"
   },
   "source": [
    "**Covid indicator**: Replace Y/N Strings with 1 and 0"
   ]
  },
  {
   "cell_type": "code",
   "execution_count": 14,
   "id": "20169d44-bbc1-4ed2-b0da-745f4ce97ea8",
   "metadata": {
    "id": "20169d44-bbc1-4ed2-b0da-745f4ce97ea8",
    "outputId": "da10ca21-3e54-4eb9-d9e2-8c443fbfdd28"
   },
   "outputs": [
    {
     "name": "stderr",
     "output_type": "stream",
     "text": [
      "C:\\Users\\Louis\\AppData\\Local\\Temp\\ipykernel_14584\\4256513504.py:1: FutureWarning: Downcasting behavior in `replace` is deprecated and will be removed in a future version. To retain the old behavior, explicitly call `result.infer_objects(copy=False)`. To opt-in to the future behavior, set `pd.set_option('future.no_silent_downcasting', True)`\n",
      "  df_train['COVID-19 Indicator'] = df_train['COVID-19 Indicator'].replace({'Y': 1, 'N': 0})\n",
      "C:\\Users\\Louis\\AppData\\Local\\Temp\\ipykernel_14584\\4256513504.py:3: FutureWarning: Downcasting behavior in `replace` is deprecated and will be removed in a future version. To retain the old behavior, explicitly call `result.infer_objects(copy=False)`. To opt-in to the future behavior, set `pd.set_option('future.no_silent_downcasting', True)`\n",
      "  df_test['COVID-19 Indicator'] = df_test['COVID-19 Indicator'].replace({'Y': 1, 'N': 0})\n"
     ]
    }
   ],
   "source": [
    "df_train['COVID-19 Indicator'] = df_train['COVID-19 Indicator'].replace({'Y': 1, 'N': 0})\n",
    "\n",
    "df_test['COVID-19 Indicator'] = df_test['COVID-19 Indicator'].replace({'Y': 1, 'N': 0})\n"
   ]
  },
  {
   "cell_type": "markdown",
   "id": "e236cb05-9852-4166-aa07-0587c9e28a97",
   "metadata": {
    "id": "e236cb05-9852-4166-aa07-0587c9e28a97"
   },
   "source": [
    "**Average Weekly Wage**: Impossible wage of 0 replace with missing value (NaN)"
   ]
  },
  {
   "cell_type": "code",
   "execution_count": 15,
   "id": "f639e448-b5dc-4cb2-a7e7-af836b5fc2aa",
   "metadata": {
    "id": "f639e448-b5dc-4cb2-a7e7-af836b5fc2aa"
   },
   "outputs": [],
   "source": [
    "df_train[\"Average Weekly Wage\"] = df_train[\"Average Weekly Wage\"].replace(0, np.nan)\n",
    "df_test[\"Average Weekly Wage\"] = df_test[\"Average Weekly Wage\"].replace(0, np.nan)\n"
   ]
  },
  {
   "cell_type": "markdown",
   "id": "83d42cc2-768e-42b0-a47a-ee6b6e3e961a",
   "metadata": {
    "id": "83d42cc2-768e-42b0-a47a-ee6b6e3e961a"
   },
   "source": [
    "**Zip Code**: Setting placeholder ZIP codes as NaN to be treated by imputer."
   ]
  },
  {
   "cell_type": "code",
   "execution_count": 16,
   "id": "05d9865d-6aab-48c7-960e-4929d5ad535f",
   "metadata": {
    "id": "05d9865d-6aab-48c7-960e-4929d5ad535f",
    "outputId": "b4a2dc9b-fc36-4321-88c7-96bceaae933e"
   },
   "outputs": [
    {
     "name": "stdout",
     "output_type": "stream",
     "text": [
      "Replaced placeholder values with NaN in 'Zip Code'.\n"
     ]
    }
   ],
   "source": [
    "# Replace placeholder values with NaN in the original DataFrame\n",
    "df_train.loc[df_train[\"Zip Code\"].str.match(r'^0+$', na=False), \"Zip Code\"] = np.nan\n",
    "df_test.loc[df_test[\"Zip Code\"].str.match(r'^0+$', na=False), \"Zip Code\"] = np.nan\n",
    "print(\"Replaced placeholder values with NaN in 'Zip Code'.\")"
   ]
  },
  {
   "cell_type": "markdown",
   "id": "89f89701-ad24-4218-9f47-03657586cba8",
   "metadata": {
    "id": "89f89701-ad24-4218-9f47-03657586cba8"
   },
   "source": [
    "## Feature removal\n",
    "Some features are useless as they're either full of missing values, have no variance or not present in the test dataset."
   ]
  },
  {
   "cell_type": "code",
   "execution_count": 17,
   "id": "f85c776c-8a1e-4457-9a9c-2f6cd08fc123",
   "metadata": {
    "id": "f85c776c-8a1e-4457-9a9c-2f6cd08fc123"
   },
   "outputs": [],
   "source": [
    "# Function to display percentage distribution of values in a column if it exists\n",
    "def display_value_percentages(df, column_name):\n",
    "    if column_name in df.columns:\n",
    "        percentages = df[column_name].value_counts(normalize=True) * 100\n",
    "        print(f\"Percentage distribution in '{column_name}' - {df.name}:\")\n",
    "        print(percentages)\n",
    "        print(\"\\n\")\n",
    "    else:\n",
    "        print(f\"Column '{column_name}' does not exist in {df.name}.\\n\")\n",
    "\n",
    "# Assign names to the dataframes for display purposes\n",
    "df_train.name = 'df_train'\n",
    "df_test.name = 'df_test'"
   ]
  },
  {
   "cell_type": "markdown",
   "id": "ee2bd51e-11ea-4c16-8e33-d0c7c4bd7115",
   "metadata": {
    "id": "ee2bd51e-11ea-4c16-8e33-d0c7c4bd7115"
   },
   "source": [
    "**Feature OIICS Nature of Injury Description** is empty both in train and test"
   ]
  },
  {
   "cell_type": "code",
   "execution_count": 18,
   "id": "a7c80336-c36e-4c88-9678-52464fd1587f",
   "metadata": {
    "id": "a7c80336-c36e-4c88-9678-52464fd1587f",
    "outputId": "c874bbcb-e3b7-43d0-dd69-5775fd5a34c2"
   },
   "outputs": [
    {
     "name": "stdout",
     "output_type": "stream",
     "text": [
      "Percentage distribution in 'OIICS Nature of Injury Description' - df_train:\n",
      "Series([], Name: proportion, dtype: float64)\n",
      "\n",
      "\n",
      "Percentage distribution in 'OIICS Nature of Injury Description' - df_test:\n",
      "Series([], Name: proportion, dtype: float64)\n",
      "\n",
      "\n"
     ]
    }
   ],
   "source": [
    "# Check and display/drop \"OIICS Nature of Injury Description\" in df_train and df_test\n",
    "display_value_percentages(df_train, 'OIICS Nature of Injury Description')\n",
    "display_value_percentages(df_test, 'OIICS Nature of Injury Description')"
   ]
  },
  {
   "cell_type": "code",
   "execution_count": 19,
   "id": "f8bff5f1-0015-4af6-b26e-d69c2888b1d7",
   "metadata": {
    "id": "f8bff5f1-0015-4af6-b26e-d69c2888b1d7"
   },
   "outputs": [],
   "source": [
    "df_train = df_train.drop(['OIICS Nature of Injury Description'], axis=1, errors='ignore')\n",
    "df_test = df_test.drop(['OIICS Nature of Injury Description'], axis=1, errors='ignore')"
   ]
  },
  {
   "cell_type": "markdown",
   "id": "880ef839-1bca-4bae-8f3c-ac2f7094f44c",
   "metadata": {
    "id": "880ef839-1bca-4bae-8f3c-ac2f7094f44c"
   },
   "source": [
    "**Feature WCB Decision** is empty in test dataset."
   ]
  },
  {
   "cell_type": "code",
   "execution_count": 20,
   "id": "177e061d-e923-407b-8266-44647f47d7a8",
   "metadata": {
    "id": "177e061d-e923-407b-8266-44647f47d7a8",
    "outputId": "161f93fa-a168-4ae8-8ab9-23a9ed3015ce"
   },
   "outputs": [
    {
     "name": "stdout",
     "output_type": "stream",
     "text": [
      "Percentage distribution in 'WCB Decision' - df_train:\n",
      "WCB Decision\n",
      "Not Work Related    100.0\n",
      "Name: proportion, dtype: float64\n",
      "\n",
      "\n",
      "Column 'WCB Decision' does not exist in df_test.\n",
      "\n"
     ]
    }
   ],
   "source": [
    "# Assign names to the dataframes for display purposes\n",
    "df_train.name = 'df_train'\n",
    "df_test.name = 'df_test'\n",
    "# Check and display/drop \"WCB Decision\" in df_train and df_test\n",
    "display_value_percentages(df_train, 'WCB Decision')\n",
    "display_value_percentages(df_test, 'WCB Decision')"
   ]
  },
  {
   "cell_type": "code",
   "execution_count": 21,
   "id": "56499baf-5cf9-4bdb-a7ae-4ff43392e4d0",
   "metadata": {
    "id": "56499baf-5cf9-4bdb-a7ae-4ff43392e4d0"
   },
   "outputs": [],
   "source": [
    "# Column 'WCB Decision' does not exist in df_test, so we will drop this variable\n",
    "df_train = df_train.drop(['WCB Decision'], axis=1)"
   ]
  },
  {
   "cell_type": "markdown",
   "id": "f90232c2-b96b-4e2c-a01d-5cd98deeb92c",
   "metadata": {
    "id": "f90232c2-b96b-4e2c-a01d-5cd98deeb92c"
   },
   "source": [
    "**Feature Agreement Reached** doesn't exist in test dataset.\n",
    "\n",
    "- This could be a secondary target variable. So we won't drop it."
   ]
  },
  {
   "cell_type": "code",
   "execution_count": 22,
   "id": "129bba80-ef59-4506-a337-eb9cce7b137b",
   "metadata": {
    "id": "129bba80-ef59-4506-a337-eb9cce7b137b",
    "outputId": "35393872-d35d-41e0-d255-184d8e4d3777"
   },
   "outputs": [
    {
     "name": "stdout",
     "output_type": "stream",
     "text": [
      "Percentage distribution in 'Agreement Reached' - df_train:\n",
      "Agreement Reached\n",
      "0.0    95.333446\n",
      "1.0     4.666554\n",
      "Name: proportion, dtype: float64\n",
      "\n",
      "\n",
      "Column 'Agreement Reached' does not exist in df_test.\n",
      "\n"
     ]
    }
   ],
   "source": [
    "# Assign names to the dataframes for display purposes\n",
    "df_train.name = 'df_train'\n",
    "df_test.name = 'df_test'\n",
    "# Check and display/drop \"Agreement Reached\" in df_train and df_test\n",
    "display_value_percentages(df_train, 'Agreement Reached')\n",
    "display_value_percentages(df_test, 'Agreement Reached')"
   ]
  },
  {
   "cell_type": "markdown",
   "id": "543b0374-8cf6-4fa5-b405-d98a6561428b",
   "metadata": {
    "id": "543b0374-8cf6-4fa5-b405-d98a6561428b"
   },
   "source": [
    "## Row Removal\n",
    "Some rows (in TRAIN) can be dropped due to missing values in the target variable. NaN will never be a possible target category as it is invalid."
   ]
  },
  {
   "cell_type": "code",
   "execution_count": 23,
   "id": "4630e602-3565-4f40-876b-0fb4f780417c",
   "metadata": {
    "id": "4630e602-3565-4f40-876b-0fb4f780417c",
    "outputId": "dd6acbbb-cec3-43b1-f0ff-345c98bf8f42"
   },
   "outputs": [
    {
     "data": {
      "text/plain": [
       "array(['2. NON-COMP', '4. TEMPORARY', nan, '3. MED ONLY',\n",
       "       '5. PPD SCH LOSS', '6. PPD NSL', '1. CANCELLED', '8. DEATH',\n",
       "       '7. PTD'], dtype=object)"
      ]
     },
     "execution_count": 23,
     "metadata": {},
     "output_type": "execute_result"
    }
   ],
   "source": [
    "df_train[\"Claim Injury Type\"].unique()"
   ]
  },
  {
   "cell_type": "code",
   "execution_count": 24,
   "id": "6615c1fa-1bd4-4a36-a527-d0dc771e170b",
   "metadata": {
    "id": "6615c1fa-1bd4-4a36-a527-d0dc771e170b"
   },
   "outputs": [],
   "source": [
    "#Remove rows where the target variable is NaN\n",
    "df_train.dropna(axis = 0 , subset=[\"Claim Injury Type\"],inplace = True)"
   ]
  },
  {
   "cell_type": "markdown",
   "id": "4e89a60b-f672-4547-9375-372b74c81e53",
   "metadata": {
    "id": "4e89a60b-f672-4547-9375-372b74c81e53"
   },
   "source": [
    "## Feature Engineering"
   ]
  },
  {
   "cell_type": "markdown",
   "id": "0496e4cc-9924-4cae-91ce-974a8cb83d67",
   "metadata": {
    "id": "0496e4cc-9924-4cae-91ce-974a8cb83d67"
   },
   "source": [
    "**Accident date SPLIT**: Transform to four new features (day, month, year, weekday)\n",
    "\n",
    "- Why? E.g. Weekday vs weekend might impact decision as weekend is likely not work related"
   ]
  },
  {
   "cell_type": "code",
   "execution_count": 25,
   "id": "5c1efd09-fe2f-43e5-b844-4d0bf7a36262",
   "metadata": {
    "id": "5c1efd09-fe2f-43e5-b844-4d0bf7a36262"
   },
   "outputs": [],
   "source": [
    "# Extract accident year, month, day, and day of week for train\n",
    "df_train['Accident Year'] = df_train['Accident Date'].dt.year\n",
    "df_train['Accident Month'] = df_train['Accident Date'].dt.month\n",
    "df_train['Accident Day'] = df_train['Accident Date'].dt.day\n",
    "df_train['Accident DayOfWeek'] = df_train['Accident Date'].dt.dayofweek\n",
    "\n",
    "# Extract accident year, month, day, and day of week for test\n",
    "df_test['Accident Year'] = df_test['Accident Date'].dt.year\n",
    "df_test['Accident Month'] = df_test['Accident Date'].dt.month\n",
    "df_test['Accident Day'] = df_test['Accident Date'].dt.day\n",
    "df_test['Accident DayOfWeek'] = df_test['Accident Date'].dt.dayofweek"
   ]
  },
  {
   "cell_type": "markdown",
   "id": "77e0e46a-01c8-4eef-b83d-f6142dd756d9",
   "metadata": {
    "id": "77e0e46a-01c8-4eef-b83d-f6142dd756d9"
   },
   "source": [
    "**All Dates: Order** Make sure dates are in correct order and make NaN those that aren't"
   ]
  },
  {
   "cell_type": "code",
   "execution_count": 26,
   "id": "1ddd3dda-76fd-4098-a0fe-0d3a5b86ca10",
   "metadata": {
    "id": "1ddd3dda-76fd-4098-a0fe-0d3a5b86ca10"
   },
   "outputs": [],
   "source": [
    "def preprocess_dates(row):\n",
    "    # Extract dates from relevant columns\n",
    "    dates = {\n",
    "        'Accident Date': row['Accident Date'],\n",
    "        'C-2 Date': row['C-2 Date'],\n",
    "        'C-3 Date': row['C-3 Date'],\n",
    "        'Assembly Date': row['Assembly Date'],\n",
    "        'First Hearing Date': row['First Hearing Date']\n",
    "    }\n",
    "\n",
    "    # Sort dates by expected chronological order\n",
    "    date_keys = list(dates.keys())\n",
    "\n",
    "    # Loop through all pairs of dates in chronological order\n",
    "    for i in range(len(date_keys) - 1):\n",
    "        for j in range(i + 1, len(date_keys)):\n",
    "            date1_key, date2_key = date_keys[i], date_keys[j]\n",
    "            date1, date2 = dates[date1_key], dates[date2_key]\n",
    "\n",
    "            # If both dates are not NA, check their order\n",
    "            if pd.notna(date1) and pd.notna(date2) and date1 > date2:\n",
    "                # Set the later date to NaN if out of order\n",
    "                row[date2_key] = np.nan\n",
    "\n",
    "    return row"
   ]
  },
  {
   "cell_type": "code",
   "execution_count": 27,
   "id": "77ab0a29-a17e-43ec-ae8d-2c1d18f5ed98",
   "metadata": {
    "id": "77ab0a29-a17e-43ec-ae8d-2c1d18f5ed98"
   },
   "outputs": [],
   "source": [
    "df_train = df_train.apply(preprocess_dates, axis=1)\n",
    "df_test = df_test.apply(preprocess_dates, axis=1)"
   ]
  },
  {
   "cell_type": "code",
   "execution_count": 28,
   "id": "02743336-a0f1-4e07-a70f-8f85051e6a4d",
   "metadata": {
    "id": "02743336-a0f1-4e07-a70f-8f85051e6a4d",
    "outputId": "89e0da31-5e03-404d-ccc8-44a018f6ba02"
   },
   "outputs": [
    {
     "data": {
      "text/plain": [
       "Claim Identifier                  5393811\n",
       "Accident Date         2019-12-19 00:00:00\n",
       "C-2 Date              2020-01-01 00:00:00\n",
       "C-3 Date              2020-01-07 00:00:00\n",
       "Assembly Date                         NaT\n",
       "First Hearing Date    2020-08-13 00:00:00\n",
       "Name: 17, dtype: object"
      ]
     },
     "execution_count": 28,
     "metadata": {},
     "output_type": "execute_result"
    }
   ],
   "source": [
    "# Quality control - this rows order were wrong in EDA\n",
    "df_train.loc[17, ['Claim Identifier', 'Accident Date', 'C-2 Date', 'C-3 Date', 'Assembly Date', 'First Hearing Date']]"
   ]
  },
  {
   "cell_type": "markdown",
   "id": "d7a1481a-66ff-44a0-bd4c-eeffb2723eec",
   "metadata": {
    "id": "d7a1481a-66ff-44a0-bd4c-eeffb2723eec"
   },
   "source": [
    "**All Dates**: Days passed since accident\n",
    "\n",
    "- Why? We assume this holds predictive power and is easier to interpret for the model."
   ]
  },
  {
   "cell_type": "code",
   "execution_count": 29,
   "id": "c35f0532-693e-4e22-b892-2f14a831bbd2",
   "metadata": {
    "id": "c35f0532-693e-4e22-b892-2f14a831bbd2"
   },
   "outputs": [],
   "source": [
    "def add_days_since_accident(df, accident_date_col='Accident Date', date_columns=None):\n",
    "    \"\"\"\n",
    "    Add new columns to the DataFrame representing days since the accident date for each specified date column.\n",
    "\n",
    "    Parameters:\n",
    "        df (pd.DataFrame): The DataFrame containing the date columns.\n",
    "        accident_date_col (str): The column name for the accident date.\n",
    "        date_columns (list): List of date columns to calculate days since accident for. Accident date itself will be excluded.\n",
    "\n",
    "    Returns:\n",
    "        pd.DataFrame: The DataFrame with new 'Days Since Accident' columns added.\n",
    "    \"\"\"\n",
    "    if date_columns is None:\n",
    "        date_columns = []\n",
    "\n",
    "    for col in date_columns:\n",
    "        if col != accident_date_col:\n",
    "            dsa_col = f\"{col} DSA\"\n",
    "            df[dsa_col] = (df[col] - df[accident_date_col]).dt.days\n",
    "            print(f\"Column '{dsa_col}' created to represent days since '{accident_date_col}'.\")\n",
    "\n",
    "    return df"
   ]
  },
  {
   "cell_type": "code",
   "execution_count": 30,
   "id": "600a2d00-94bb-4417-a9c6-1511a1c750ed",
   "metadata": {
    "id": "600a2d00-94bb-4417-a9c6-1511a1c750ed",
    "outputId": "64ae7678-0dce-4973-d17e-47f740259b0b"
   },
   "outputs": [
    {
     "name": "stdout",
     "output_type": "stream",
     "text": [
      "Column 'Assembly Date DSA' created to represent days since 'Accident Date'.\n",
      "Column 'C-2 Date DSA' created to represent days since 'Accident Date'.\n",
      "Column 'C-3 Date DSA' created to represent days since 'Accident Date'.\n",
      "Column 'First Hearing Date DSA' created to represent days since 'Accident Date'.\n",
      "Column 'Assembly Date DSA' created to represent days since 'Accident Date'.\n",
      "Column 'C-2 Date DSA' created to represent days since 'Accident Date'.\n",
      "Column 'C-3 Date DSA' created to represent days since 'Accident Date'.\n",
      "Column 'First Hearing Date DSA' created to represent days since 'Accident Date'.\n"
     ]
    }
   ],
   "source": [
    "df_train = add_days_since_accident(df_train, accident_date_col='Accident Date', date_columns=date_columns)\n",
    "df_test = add_days_since_accident(df_test, accident_date_col='Accident Date', date_columns=date_columns)"
   ]
  },
  {
   "cell_type": "code",
   "execution_count": 31,
   "id": "575f96af-6cda-4426-952b-27c37692de4b",
   "metadata": {
    "id": "575f96af-6cda-4426-952b-27c37692de4b",
    "outputId": "f1116d66-2808-4a8b-a0fb-a65f1f61e41a"
   },
   "outputs": [
    {
     "data": {
      "text/plain": [
       "Claim Identifier                      5393811\n",
       "Accident Date             2019-12-19 00:00:00\n",
       "C-2 Date DSA                             13.0\n",
       "C-3 Date DSA                             19.0\n",
       "Assembly Date DSA                         NaN\n",
       "First Hearing Date DSA                  238.0\n",
       "Name: 17, dtype: object"
      ]
     },
     "execution_count": 31,
     "metadata": {},
     "output_type": "execute_result"
    }
   ],
   "source": [
    "# Quality control - this rows order was wrong in EDA\n",
    "df_train.loc[17, ['Claim Identifier', 'Accident Date', 'C-2 Date DSA', 'C-3 Date DSA', 'Assembly Date DSA', 'First Hearing Date DSA']]"
   ]
  },
  {
   "cell_type": "markdown",
   "id": "c7e46c85-ff19-4dd4-bc50-18f6212d5f02",
   "metadata": {
    "id": "c7e46c85-ff19-4dd4-bc50-18f6212d5f02"
   },
   "source": [
    "Adding a binary column for the dates since it might provide useful information that would be lost when the missing values are inputed\n"
   ]
  },
  {
   "cell_type": "code",
   "execution_count": 32,
   "id": "b6e176e9-73ba-4193-86de-d221f2f1d6fe",
   "metadata": {
    "id": "b6e176e9-73ba-4193-86de-d221f2f1d6fe"
   },
   "outputs": [],
   "source": [
    "#Missing values in dates can mean that it wasn't held yet\n",
    "date_columns = ['Accident Date', 'First Hearing Date', 'C-3 Date', 'Assembly Date', 'C-2 Date']\n",
    "\n",
    "for column in date_columns:\n",
    "    df_train[column + '_missing'] = df_train[column].isnull().astype(int)\n",
    "    df_test[column + '_missing'] = df_test[column].isnull().astype(int)"
   ]
  },
  {
   "cell_type": "markdown",
   "id": "c2d03384-a5d1-4a60-a3c7-3f632a3e9829",
   "metadata": {
    "id": "c2d03384-a5d1-4a60-a3c7-3f632a3e9829"
   },
   "source": [
    "**Age Category** - Split age into groups\n",
    "\n",
    "- Why? To give model a categorical feature for age that is has a low cardinality only highlighting big differences."
   ]
  },
  {
   "cell_type": "code",
   "execution_count": 33,
   "id": "d386f58a-012b-4bfa-9407-9a2b90a51393",
   "metadata": {
    "id": "d386f58a-012b-4bfa-9407-9a2b90a51393"
   },
   "outputs": [],
   "source": [
    "# Define age category mapping\n",
    "age_bins = [0, 19, 25, 40, 60, 120]  # Age ranges\n",
    "age_labels = ['Teen', 'Young Adult', 'Adult', 'Middle-Aged', 'Senior']  # Category labels\n",
    "age_column = 'Age at Injury'\n",
    "\n",
    "# Create 'Age At Injury Category' based on bins\n",
    "df_train['Age at Injury Category'] = pd.cut(df_train[age_column], bins=age_bins, labels=age_labels, right=False)\n",
    "df_test['Age at Injury Category'] = pd.cut(df_test[age_column], bins=age_bins, labels=age_labels, right=False)"
   ]
  },
  {
   "cell_type": "code",
   "execution_count": 34,
   "id": "b2b65f55-8c59-4f83-9c14-a95be91a5e99",
   "metadata": {
    "id": "b2b65f55-8c59-4f83-9c14-a95be91a5e99",
    "outputId": "10870a36-8d6f-40b4-8268-72ec3de58aaa"
   },
   "outputs": [
    {
     "data": {
      "text/plain": [
       "Age at Injury Category\n",
       "Middle-Aged    246136\n",
       "Adult          194844\n",
       "Senior          69166\n",
       "Young Adult     52715\n",
       "Teen             5696\n",
       "Name: count, dtype: int64"
      ]
     },
     "execution_count": 34,
     "metadata": {},
     "output_type": "execute_result"
    }
   ],
   "source": [
    "# Quality Control\n",
    "df_train['Age at Injury Category'].value_counts()"
   ]
  },
  {
   "cell_type": "code",
   "execution_count": 35,
   "id": "43bcb91a",
   "metadata": {
    "id": "43bcb91a"
   },
   "outputs": [],
   "source": [
    "# Converting to object type\n",
    "df_train['Age at Injury Category'] = df_train['Age at Injury Category'].astype('object')\n"
   ]
  },
  {
   "cell_type": "markdown",
   "id": "78e5e86c-c158-434c-b6fd-3ff601aea262",
   "metadata": {
    "id": "78e5e86c-c158-434c-b6fd-3ff601aea262"
   },
   "source": [
    "**Carrier Name** - Claim Category\n",
    "\n",
    "- To indicate if Carrier has a lot of claims, medium amount or low amount of them.\n",
    "- Why? Easier to interpret for the model than 2000 categories"
   ]
  },
  {
   "cell_type": "markdown",
   "id": "5c59c146-729d-473f-a9e4-5c9737eb4bdc",
   "metadata": {
    "id": "5c59c146-729d-473f-a9e4-5c9737eb4bdc"
   },
   "source": [
    "Decision:\n",
    "- Category HIGH (2) for State Fund \n",
    "- Category MEDIUM (1) for 5k to 50k claims\n",
    "- Category LOW (0) for 5k and below claims"
   ]
  },
  {
   "cell_type": "markdown",
   "id": "b1a64a8e-7ce9-4f44-9b13-398bb99e3978",
   "metadata": {},
   "source": [
    "But this feature will only be created on the models notebook since it will use information from X_train only to avoid data leakage."
   ]
  },
  {
   "cell_type": "markdown",
   "id": "2eb4ad56-f626-49f5-a340-0a0255852ad6",
   "metadata": {
    "id": "2eb4ad56-f626-49f5-a340-0a0255852ad6"
   },
   "source": [
    "**WCIO Part Of Body Code** - Group Body Sections/Regions to reduce cardinality"
   ]
  },
  {
   "cell_type": "markdown",
   "id": "ef549dba-9e8c-4f13-bebc-0e6fdfb852b9",
   "metadata": {
    "id": "ef549dba-9e8c-4f13-bebc-0e6fdfb852b9"
   },
   "source": [
    "Creating a map to map codes to section (body region)\n",
    "\n",
    "- Based on https://www.iaiabc.org/standard-references -> https://assets.noviams.com/novi-file-uploads/iaiabc/EDI_Documents/WCIO_InjuryDescriptionTableandHistory-4dadd33c.xls\n",
    "- The table contains different sub codes such as 14 -> \"head\" and 14A -> \"IAIABC\". Our dataset only has numerical codes, we will therefore only use purely numerical codes from the excel for the map."
   ]
  },
  {
   "cell_type": "code",
   "execution_count": 36,
   "id": "64c7001a-501a-4221-852c-7690039b4b54",
   "metadata": {
    "id": "64c7001a-501a-4221-852c-7690039b4b54"
   },
   "outputs": [],
   "source": [
    "# Load the 'Part' sheet from the Excel file\n",
    "file_path = '../../data/WCIO_InjuryDescriptionTableandHistory-4dadd33c.xlsx'\n",
    "df_part = pd.read_excel(file_path, sheet_name='Part')"
   ]
  },
  {
   "cell_type": "code",
   "execution_count": 37,
   "id": "39f84042-a24a-4f46-9dd9-162ca4a00606",
   "metadata": {
    "id": "39f84042-a24a-4f46-9dd9-162ca4a00606"
   },
   "outputs": [],
   "source": [
    "# Filter rows to include only those with purely numerical codes or ranges\n",
    "numeric_rows = df_part[df_part['Code'].astype(str).str.match(r'^\\d+(-\\d+)?$')]\n",
    "\n",
    "# Dictionary to store each code's Body Section\n",
    "code_to_section_mapping = {}\n",
    "\n",
    "for _, row in numeric_rows.dropna(subset=['Code', 'Section']).iterrows():\n",
    "    code = row['Code']\n",
    "    section = row['Section']\n",
    "\n",
    "    # If the code is a range like \"10-23\", expand it and map each number in the range\n",
    "    if '-' in str(code):\n",
    "        start, end = map(int, code.split('-'))\n",
    "        for i in range(start, end + 1):\n",
    "            # Map each code in the range to its section\n",
    "            code_to_section_mapping[float(i)] = section\n",
    "    else:\n",
    "        # For individual numeric codes, map them directly\n",
    "        numeric_code = float(code)\n",
    "        code_to_section_mapping[numeric_code] = section"
   ]
  },
  {
   "cell_type": "code",
   "execution_count": 38,
   "id": "404ffc66-64af-4df4-9e3e-980b8ec4d2ad",
   "metadata": {
    "id": "404ffc66-64af-4df4-9e3e-980b8ec4d2ad",
    "outputId": "33641388-233c-4814-cbdd-00e3fd93913e",
    "scrolled": true
   },
   "outputs": [
    {
     "data": {
      "text/plain": [
       "{1.0: 'Unassigned',\n",
       " 2.0: 'Unassigned',\n",
       " 3.0: 'Unassigned',\n",
       " 4.0: 'Unassigned',\n",
       " 5.0: 'Unassigned',\n",
       " 6.0: 'Unassigned',\n",
       " 7.0: 'Unassigned',\n",
       " 8.0: 'Unassigned',\n",
       " 9.0: 'Unassigned',\n",
       " 10.0: 'Head',\n",
       " 11.0: 'Head',\n",
       " 12.0: 'Head',\n",
       " 13.0: 'Head',\n",
       " 14.0: 'Head',\n",
       " 15.0: 'Head',\n",
       " 16.0: 'Head',\n",
       " 17.0: 'Head',\n",
       " 18.0: 'Head',\n",
       " 19.0: 'Head',\n",
       " 20.0: 'Neck',\n",
       " 21.0: 'Neck',\n",
       " 22.0: 'Neck',\n",
       " 23.0: 'Neck',\n",
       " 24.0: 'Neck',\n",
       " 25.0: 'Neck',\n",
       " 26.0: 'Neck',\n",
       " 27.0: 'Unassigned',\n",
       " 28.0: 'Unassigned',\n",
       " 29.0: 'Unassigned',\n",
       " 30.0: 'Upper Extremities',\n",
       " 31.0: 'Upper Extremities',\n",
       " 32.0: 'Upper Extremities',\n",
       " 33.0: 'Upper Extremities',\n",
       " 34.0: 'Upper Extremities',\n",
       " 35.0: 'Upper Extremities',\n",
       " 36.0: 'Upper Extremities',\n",
       " 37.0: 'Upper Extremities',\n",
       " 38.0: 'Upper Extremities',\n",
       " 39.0: 'Upper Extremities',\n",
       " 40.0: 'Trunk',\n",
       " 41.0: 'Trunk',\n",
       " 42.0: 'Trunk',\n",
       " 43.0: 'Trunk',\n",
       " 44.0: 'Trunk',\n",
       " 45.0: 'Trunk',\n",
       " 46.0: 'Trunk',\n",
       " 47.0: 'Trunk',\n",
       " 48.0: 'Trunk',\n",
       " 49.0: 'Trunk',\n",
       " 60.0: 'Trunk',\n",
       " 61.0: 'Trunk',\n",
       " 62.0: 'Trunk',\n",
       " 63.0: 'Trunk',\n",
       " 50.0: 'Lower Extremities',\n",
       " 51.0: 'Lower Extremities',\n",
       " 52.0: 'Lower Extremities',\n",
       " 53.0: 'Lower Extremities',\n",
       " 54.0: 'Lower Extremities',\n",
       " 55.0: 'Lower Extremities',\n",
       " 56.0: 'Lower Extremities',\n",
       " 57.0: 'Lower Extremities',\n",
       " 58.0: 'Lower Extremities',\n",
       " 59.0: 'Unassigned',\n",
       " 64.0: 'Multiple Body Parts',\n",
       " 65.0: 'Multiple Body Parts',\n",
       " 66.0: 'Multiple Body Parts',\n",
       " 67.0: 'Unassigned',\n",
       " 68.0: 'Unassigned',\n",
       " 69.0: 'Unassigned',\n",
       " 70.0: 'Unassigned',\n",
       " 71.0: 'Unassigned',\n",
       " 72.0: 'Unassigned',\n",
       " 73.0: 'Unassigned',\n",
       " 74.0: 'Unassigned',\n",
       " 75.0: 'Unassigned',\n",
       " 76.0: 'Unassigned',\n",
       " 77.0: 'Unassigned',\n",
       " 78.0: 'Unassigned',\n",
       " 79.0: 'Unassigned',\n",
       " 80.0: 'Unassigned',\n",
       " 81.0: 'Unassigned',\n",
       " 82.0: 'Unassigned',\n",
       " 83.0: 'Unassigned',\n",
       " 84.0: 'Unassigned',\n",
       " 85.0: 'Unassigned',\n",
       " 86.0: 'Unassigned',\n",
       " 87.0: 'Unassigned',\n",
       " 88.0: 'Unassigned',\n",
       " 89.0: 'Unassigned',\n",
       " 90.0: 'Multiple Body Parts',\n",
       " 91.0: 'Multiple Body Parts',\n",
       " 92.0: 'Unassigned',\n",
       " 93.0: 'Unassigned',\n",
       " 94.0: 'Unassigned',\n",
       " 95.0: 'Unassigned',\n",
       " 96.0: 'Unassigned',\n",
       " 97.0: 'Unassigned',\n",
       " 98.0: 'Unassigned',\n",
       " 99.0: 'Multiple Body Parts'}"
      ]
     },
     "execution_count": 38,
     "metadata": {},
     "output_type": "execute_result"
    }
   ],
   "source": [
    "code_to_section_mapping"
   ]
  },
  {
   "cell_type": "code",
   "execution_count": 39,
   "id": "5e877a83-28d2-42bd-9f7f-761ff417f1c0",
   "metadata": {
    "id": "5e877a83-28d2-42bd-9f7f-761ff417f1c0"
   },
   "outputs": [],
   "source": [
    "# Apply to df_train\n",
    "df_train[\"Body Section\"] = df_train[\"WCIO Part Of Body Code\"].map(code_to_section_mapping)\n",
    "df_train[\"Body Section\"] = df_train[\"Body Section\"].fillna(\"Unassigned\")\n",
    "# Apply to df_test\n",
    "df_test[\"Body Section\"] = df_test[\"WCIO Part Of Body Code\"].map(code_to_section_mapping)\n",
    "df_test[\"Body Section\"] = df_test[\"Body Section\"].fillna(\"Unassigned\")"
   ]
  },
  {
   "cell_type": "markdown",
   "id": "3d9ade92-118d-4600-8322-d58239e880e7",
   "metadata": {
    "id": "3d9ade92-118d-4600-8322-d58239e880e7"
   },
   "source": [
    "Quality Checks"
   ]
  },
  {
   "cell_type": "code",
   "execution_count": 40,
   "id": "0c875598-4a40-49f2-9039-43b16c472920",
   "metadata": {
    "id": "0c875598-4a40-49f2-9039-43b16c472920",
    "outputId": "057c383c-ab63-41fa-f207-b40ed0805516"
   },
   "outputs": [
    {
     "data": {
      "text/html": [
       "<div>\n",
       "<style scoped>\n",
       "    .dataframe tbody tr th:only-of-type {\n",
       "        vertical-align: middle;\n",
       "    }\n",
       "\n",
       "    .dataframe tbody tr th {\n",
       "        vertical-align: top;\n",
       "    }\n",
       "\n",
       "    .dataframe thead th {\n",
       "        text-align: right;\n",
       "    }\n",
       "</style>\n",
       "<table border=\"1\" class=\"dataframe\">\n",
       "  <thead>\n",
       "    <tr style=\"text-align: right;\">\n",
       "      <th></th>\n",
       "      <th>Body Section</th>\n",
       "      <th>WCIO Part Of Body Code</th>\n",
       "      <th>WCIO Part Of Body Description</th>\n",
       "    </tr>\n",
       "  </thead>\n",
       "  <tbody>\n",
       "    <tr>\n",
       "      <th>0</th>\n",
       "      <td>Trunk</td>\n",
       "      <td>62.0</td>\n",
       "      <td>BUTTOCKS</td>\n",
       "    </tr>\n",
       "    <tr>\n",
       "      <th>1</th>\n",
       "      <td>Upper Extremities</td>\n",
       "      <td>38.0</td>\n",
       "      <td>SHOULDER(S)</td>\n",
       "    </tr>\n",
       "    <tr>\n",
       "      <th>2</th>\n",
       "      <td>Head</td>\n",
       "      <td>10.0</td>\n",
       "      <td>MULTIPLE HEAD INJURY</td>\n",
       "    </tr>\n",
       "    <tr>\n",
       "      <th>4</th>\n",
       "      <td>Upper Extremities</td>\n",
       "      <td>36.0</td>\n",
       "      <td>FINGER(S)</td>\n",
       "    </tr>\n",
       "    <tr>\n",
       "      <th>5</th>\n",
       "      <td>Upper Extremities</td>\n",
       "      <td>38.0</td>\n",
       "      <td>SHOULDER(S)</td>\n",
       "    </tr>\n",
       "  </tbody>\n",
       "</table>\n",
       "</div>"
      ],
      "text/plain": [
       "        Body Section  WCIO Part Of Body Code WCIO Part Of Body Description\n",
       "0              Trunk                    62.0                      BUTTOCKS\n",
       "1  Upper Extremities                    38.0                   SHOULDER(S)\n",
       "2               Head                    10.0          MULTIPLE HEAD INJURY\n",
       "4  Upper Extremities                    36.0                     FINGER(S)\n",
       "5  Upper Extremities                    38.0                   SHOULDER(S)"
      ]
     },
     "execution_count": 40,
     "metadata": {},
     "output_type": "execute_result"
    }
   ],
   "source": [
    "# Optional: Display the resulting DataFrame to confirm the new feature\n",
    "df_train[[\"Body Section\",\"WCIO Part Of Body Code\",\"WCIO Part Of Body Description\"]].head()"
   ]
  },
  {
   "cell_type": "markdown",
   "id": "fcb5850e-5031-4b0a-9d38-46d495e748cb",
   "metadata": {
    "id": "fcb5850e-5031-4b0a-9d38-46d495e748cb"
   },
   "source": [
    "As comparison: WCIO Part of Body Description has a very high cardinality"
   ]
  },
  {
   "cell_type": "code",
   "execution_count": 41,
   "id": "31d24af1-33e3-4567-8a50-6808e941e52b",
   "metadata": {
    "id": "31d24af1-33e3-4567-8a50-6808e941e52b",
    "outputId": "2d2206cc-1924-4521-f5bb-5cfd9d2118e8"
   },
   "outputs": [
    {
     "data": {
      "text/plain": [
       "array(['BUTTOCKS', 'SHOULDER(S)', 'MULTIPLE HEAD INJURY', 'FINGER(S)',\n",
       "       'LUNGS', 'EYE(S)', 'ANKLE', 'KNEE', 'THUMB', 'LOWER BACK AREA',\n",
       "       'ABDOMEN INCLUDING GROIN', 'LOWER LEG', 'HIP', 'UPPER LEG',\n",
       "       'MOUTH', 'WRIST', 'SPINAL CORD', 'HAND', 'SOFT TISSUE',\n",
       "       'UPPER ARM', 'FOOT', 'ELBOW', 'MULTIPLE UPPER EXTREMITIES',\n",
       "       'MULTIPLE BODY PARTS (INCLUDING BODY',\n",
       "       'BODY SYSTEMS AND MULTIPLE BODY SYSTEMS', 'MULTIPLE NECK INJURY',\n",
       "       'CHEST', 'WRIST (S) & HAND(S)', 'EAR(S)',\n",
       "       'MULTIPLE LOWER EXTREMITIES', 'DISC', 'LOWER ARM', 'MULTIPLE',\n",
       "       'UPPER BACK AREA', 'SKULL', 'TOES', 'FACIAL BONES', nan, 'TEETH',\n",
       "       'NO PHYSICAL INJURY', 'MULTIPLE TRUNK', 'WHOLE BODY',\n",
       "       'INSUFFICIENT INFO TO PROPERLY IDENTIFY - UNCLASSIFIED', 'PELVIS',\n",
       "       'NOSE', 'GREAT TOE', 'INTERNAL ORGANS', 'HEART', 'VERTEBRAE',\n",
       "       'LUMBAR & OR SACRAL VERTEBRAE (VERTEBRA', 'BRAIN',\n",
       "       'SACRUM AND COCCYX', 'ARTIFICIAL APPLIANCE', 'LARYNX', 'TRACHEA'],\n",
       "      dtype=object)"
      ]
     },
     "execution_count": 41,
     "metadata": {},
     "output_type": "execute_result"
    }
   ],
   "source": [
    "df_train[\"WCIO Part Of Body Description\"].unique()"
   ]
  },
  {
   "cell_type": "code",
   "execution_count": 42,
   "id": "6ec3e46d-7b5f-407b-b7ad-191338af7a34",
   "metadata": {
    "id": "6ec3e46d-7b5f-407b-b7ad-191338af7a34",
    "outputId": "2c9847ff-f087-4fde-cd07-ebfacafd0fae"
   },
   "outputs": [
    {
     "data": {
      "text/plain": [
       "Body Section\n",
       "Upper Extremities      178380\n",
       "Lower Extremities      120212\n",
       "Trunk                  101260\n",
       "Unassigned              59088\n",
       "Head                    56885\n",
       "Multiple Body Parts     46274\n",
       "Neck                    11922\n",
       "Name: count, dtype: int64"
      ]
     },
     "execution_count": 42,
     "metadata": {},
     "output_type": "execute_result"
    }
   ],
   "source": [
    "df_train[\"Body Section\"].value_counts()"
   ]
  },
  {
   "cell_type": "markdown",
   "id": "8cb52fd6",
   "metadata": {
    "id": "8cb52fd6"
   },
   "source": [
    "## Making the id consistent with the submission"
   ]
  },
  {
   "cell_type": "code",
   "execution_count": 43,
   "id": "6bed0a6a",
   "metadata": {
    "id": "6bed0a6a"
   },
   "outputs": [],
   "source": [
    "#Defining Claim identifier as the index\n",
    "df_train.set_index('Claim Identifier', inplace = True)\n",
    "df_test.set_index('Claim Identifier', inplace = True)"
   ]
  },
  {
   "cell_type": "markdown",
   "id": "84642dc5-343a-4197-9551-085e237ffed2",
   "metadata": {},
   "source": [
    "### Save enriched data for multivariate analysis (pre-data numerical conversion)"
   ]
  },
  {
   "cell_type": "code",
   "execution_count": 44,
   "id": "82a0f12f-21a7-471f-9ea4-d0f88c9d8757",
   "metadata": {},
   "outputs": [],
   "source": [
    "# Save the enriched DataFrames with \"_enriched\" added to the filenames\n",
    "df_train.to_csv(\"../../data/train_data_enriched_multivar.csv\")\n",
    "df_test.to_csv(\"../../data/test_data_enriched_multivar.csv\")"
   ]
  },
  {
   "cell_type": "markdown",
   "id": "76e235d2-4ef6-4e98-b68f-e429f60af939",
   "metadata": {},
   "source": [
    "## Make vars usable for models"
   ]
  },
  {
   "cell_type": "markdown",
   "id": "ffa488c0-7138-4c95-a389-7ac33043effa",
   "metadata": {
    "id": "ffa488c0-7138-4c95-a389-7ac33043effa"
   },
   "source": [
    "Preparing our variables so they can be handled by the models (like converting the dates to numerical and preparing the categorical variables for proportional encoding in the models)\n",
    "<span style=\"color: red;\">This should not be executed when preprocessing data for multivariate_analysis.ipynb.</span>"
   ]
  },
  {
   "cell_type": "markdown",
   "id": "4c57a66a-f2dd-42ca-b6b1-6169550c13c1",
   "metadata": {
    "id": "4c57a66a-f2dd-42ca-b6b1-6169550c13c1"
   },
   "source": [
    "#### Converting dates into integers in miliseconds after 1970"
   ]
  },
  {
   "cell_type": "code",
   "execution_count": 45,
   "id": "9ac55971-a7ed-4970-bb92-c1938c4e9055",
   "metadata": {},
   "outputs": [],
   "source": [
    "# Train dataset\n",
    "for col in date_columns:\n",
    "    if df_train[col].dtype == 'datetime64[ns]':\n",
    "        df_train[col] = df_train[col].apply(\n",
    "            lambda v: v.value // 10**6 if pd.notnull(v) else pd.NA\n",
    "        )\n",
    "\n",
    "# Test dataset\n",
    "for col in date_columns:\n",
    "    if df_test[col].dtype == 'datetime64[ns]':\n",
    "        df_test[col] = df_test[col].apply(\n",
    "            lambda v: v.value // 10**6 if pd.notnull(v) else pd.NA\n",
    "        )"
   ]
  },
  {
   "cell_type": "code",
   "execution_count": 46,
   "id": "1c9c7086-e5ab-49a6-bb23-4ef37b5a518d",
   "metadata": {},
   "outputs": [
    {
     "name": "stdout",
     "output_type": "stream",
     "text": [
      "Negative values found in train dataset column: Accident Date\n",
      "                  Accident Date\n",
      "Claim Identifier               \n",
      "5439830            -23760000000\n",
      "5483928           -262569600000\n",
      "5665076           -104198400000\n",
      "5709762            -20995200000\n",
      "5750699            -68947200000\n",
      "5883889            -94694400000\n",
      "5946151            -86572800000\n",
      "6061985           -197337600000\n",
      "6061462           -113184000000\n",
      "Negative values found in test dataset column: Accident Date\n",
      "                  Accident Date\n",
      "Claim Identifier               \n",
      "6396017           -100310400000\n"
     ]
    }
   ],
   "source": [
    "# Check for inconsistencies in the train dataset\n",
    "for col in date_columns:\n",
    "    if col in df_train.columns:\n",
    "        negatives_train = df_train[df_train[col] < 0]\n",
    "        if not negatives_train.empty:\n",
    "            print(f\"Negative values found in train dataset column: {col}\")\n",
    "            print(negatives_train[[col]])\n",
    "\n",
    "# Check for inconsistencies in the test dataset\n",
    "for col in date_columns:\n",
    "    if col in df_test.columns:\n",
    "        negatives_test = df_test[df_test[col] < 0]\n",
    "        if not negatives_test.empty:\n",
    "            print(f\"Negative values found in test dataset column: {col}\")\n",
    "            print(negatives_test[[col]])"
   ]
  },
  {
   "cell_type": "markdown",
   "id": "3f292f7e-afa8-4d5c-96cd-dd707feb1e5a",
   "metadata": {},
   "source": [
    "Negative values found for the dates before 1970"
   ]
  },
  {
   "cell_type": "code",
   "execution_count": 47,
   "id": "f77c4da2",
   "metadata": {},
   "outputs": [],
   "source": [
    "cat_features = ['Carrier Name', 'Carrier Type','County of Injury',\n",
    "            'District Name', 'Gender','Industry Code',\n",
    "           'Industry Code Description','WCIO Cause of Injury Code',\n",
    "           'WCIO Cause of Injury Description', 'WCIO Nature of Injury Code',\n",
    "           'WCIO Nature of Injury Description', 'WCIO Part Of Body Code', \"Medical Fee Region\",\n",
    "           'WCIO Part Of Body Description',\"Age at Injury Category\",\"Body Section\"]\n",
    "   "
   ]
  },
  {
   "cell_type": "code",
   "execution_count": 48,
   "id": "10602697-b0f0-4f03-8163-789154389344",
   "metadata": {
    "id": "10602697-b0f0-4f03-8163-789154389344"
   },
   "outputs": [],
   "source": [
    "# Force conversion to object\n",
    "for col in cat_features:\n",
    "    df_train[col] = df_train[col].astype(str)\n",
    "    df_test[col] = df_test[col].astype(str)\n",
    "\n",
    "# Fill in missing values with \"Missing\" for when we use proportionate encoding in the models\n",
    "for col in cat_features:\n",
    "    df_train[col] = df_train[col].replace(\"nan\", \"Missing\").fillna(\"Missing\")\n",
    "    df_test[col] = df_test[col].replace(\"nan\", \"Missing\").fillna(\"Missing\")\n"
   ]
  },
  {
   "cell_type": "markdown",
   "id": "dd4ce725-6b02-4a64-bff2-6c29f5e05b46",
   "metadata": {
    "id": "dd4ce725-6b02-4a64-bff2-6c29f5e05b46"
   },
   "source": [
    "# Save enriched DF"
   ]
  },
  {
   "cell_type": "code",
   "execution_count": 49,
   "id": "fef12c10-3838-46a1-8c11-db12d529559a",
   "metadata": {
    "id": "fef12c10-3838-46a1-8c11-db12d529559a"
   },
   "outputs": [],
   "source": [
    "# Save the enriched DataFrames with \"_enriched\" added to the filenames\n",
    "df_train.to_csv(\"../../data/train_data_enriched.csv\")\n",
    "df_test.to_csv(\"../../data/test_data_enriched.csv\")"
   ]
  }
 ],
 "metadata": {
  "colab": {
   "provenance": []
  },
  "kernelspec": {
   "display_name": "Python 3 (ipykernel)",
   "language": "python",
   "name": "python3"
  },
  "language_info": {
   "codemirror_mode": {
    "name": "ipython",
    "version": 3
   },
   "file_extension": ".py",
   "mimetype": "text/x-python",
   "name": "python",
   "nbconvert_exporter": "python",
   "pygments_lexer": "ipython3",
   "version": "3.12.5"
  }
 },
 "nbformat": 4,
 "nbformat_minor": 5
}

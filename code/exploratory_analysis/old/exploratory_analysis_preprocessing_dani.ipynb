{
  "cells": [
    {
      "cell_type": "markdown",
      "id": "1a40531c-f295-43c3-98dc-3eea9a1355b4",
      "metadata": {
        "id": "1a40531c-f295-43c3-98dc-3eea9a1355b4"
      },
      "source": [
        "# 0. Data Loading and Libraries"
      ]
    },
    {
      "cell_type": "code",
      "execution_count": 125,
      "id": "691d3f4b-d832-49d5-92f2-5d080465fcb7",
      "metadata": {
        "id": "691d3f4b-d832-49d5-92f2-5d080465fcb7"
      },
      "outputs": [],
      "source": [
        "import pandas as pd\n",
        "import numpy as np\n",
        "import sklearn as sk\n",
        "import matplotlib.pyplot as plt\n",
        "import seaborn as sns\n",
        "from sklearn.impute import KNNImputer\n",
        "from scipy.stats import chi2_contingency\n",
        "from sklearn.model_selection import train_test_split"
      ]
    },
    {
      "cell_type": "code",
      "execution_count": 87,
      "id": "3c3ce6e7-f642-4eaf-9350-eb888aadfc93",
      "metadata": {
        "id": "3c3ce6e7-f642-4eaf-9350-eb888aadfc93",
        "outputId": "f1d4addb-b64b-4da9-bca8-33eab71c156c",
        "colab": {
          "base_uri": "https://localhost:8080/"
        }
      },
      "outputs": [
        {
          "output_type": "stream",
          "name": "stderr",
          "text": [
            "<ipython-input-87-d68ed3152127>:2: DtypeWarning: Columns (29) have mixed types. Specify dtype option on import or set low_memory=False.\n",
            "  df_train = pd.read_csv(\"/content/train_data.csv\")\n"
          ]
        }
      ],
      "source": [
        "# Loading data\n",
        "df_train = pd.read_csv(\"/content/train_data.csv\")\n",
        "df_test = pd.read_csv(\"/content/test_data.csv\")"
      ]
    },
    {
      "cell_type": "markdown",
      "id": "dd1a99c5-ddbe-40ab-b774-81817814de63",
      "metadata": {
        "id": "dd1a99c5-ddbe-40ab-b774-81817814de63"
      },
      "source": [
        "# 1. Exploratory Analysis"
      ]
    },
    {
      "cell_type": "markdown",
      "id": "a75c424a-f8ad-412d-924b-528b353e92dd",
      "metadata": {
        "id": "a75c424a-f8ad-412d-924b-528b353e92dd"
      },
      "source": [
        "## Helper functions"
      ]
    },
    {
      "cell_type": "code",
      "execution_count": 88,
      "id": "14f11558-e7ba-4c9f-8143-84f1a0e8115f",
      "metadata": {
        "id": "14f11558-e7ba-4c9f-8143-84f1a0e8115f"
      },
      "outputs": [],
      "source": [
        "def convert_dates(df, date_columns):\n",
        "    \"\"\"Convert specified columns to datetime.\"\"\"\n",
        "    for col in date_columns:\n",
        "        df[col] = pd.to_datetime(df[col], errors='coerce')"
      ]
    },
    {
      "cell_type": "code",
      "execution_count": 89,
      "id": "a5fcc01c-c0c6-4a49-80fa-6efb9f752bd6",
      "metadata": {
        "id": "a5fcc01c-c0c6-4a49-80fa-6efb9f752bd6"
      },
      "outputs": [],
      "source": [
        "def basic_descriptive_stats(df):\n",
        "    \"\"\"Display basic descriptive statistics for a DataFrame.\"\"\"\n",
        "    print(\"First 5 rows:\")\n",
        "    display(df.head())\n",
        "    print(\"\\nData Info:\")\n",
        "    display(df.info())\n",
        "    print(\"\\nNumerical Features Description:\")\n",
        "    display(df.describe())\n",
        "    print(\"\\nCategorical Features Description:\")\n",
        "    display(df.describe(include=['object', 'category']))\n",
        "    print(\"\\nMissing Values Summary:\")\n",
        "    print(df.isna().sum())\n",
        "    print(\"\\nDuplicate Check:\")\n",
        "    print(f\"Number of duplicates: {df.duplicated().sum()}\")\n"
      ]
    },
    {
      "cell_type": "code",
      "execution_count": 90,
      "id": "300da466-d292-489d-834e-51bb86311718",
      "metadata": {
        "id": "300da466-d292-489d-834e-51bb86311718",
        "outputId": "2442d749-9fe6-4ad6-fc3e-14bcfdeb9bd8",
        "colab": {
          "base_uri": "https://localhost:8080/"
        }
      },
      "outputs": [
        {
          "output_type": "stream",
          "name": "stdout",
          "text": [
            "Non-metric (Categorical) features: ['Accident Date', 'Alternative Dispute Resolution', 'Assembly Date', 'Attorney/Representative', 'C-2 Date', 'C-3 Date', 'Carrier Name', 'Carrier Type', 'Claim Injury Type', 'County of Injury', 'COVID-19 Indicator', 'District Name', 'First Hearing Date', 'Gender', 'Industry Code Description', 'Medical Fee Region', 'WCIO Cause of Injury Description', 'WCIO Nature of Injury Description', 'WCIO Part Of Body Description', 'Zip Code', 'WCB Decision']\n",
            "Non-metric (High Cardinality) features: ['Accident Date', 'Assembly Date', 'C-2 Date', 'C-3 Date', 'Carrier Name', 'County of Injury', 'First Hearing Date', 'WCIO Cause of Injury Description', 'WCIO Nature of Injury Description', 'WCIO Part Of Body Description', 'Zip Code']\n",
            "Metric (Numerical) features: ['Age at Injury', 'Average Weekly Wage', 'Birth Year', 'Claim Identifier', 'IME-4 Count', 'Industry Code', 'OIICS Nature of Injury Description', 'WCIO Cause of Injury Code', 'WCIO Nature of Injury Code', 'WCIO Part Of Body Code', 'Agreement Reached', 'Number of Dependents']\n"
          ]
        }
      ],
      "source": [
        "def feature_splitting(df, threshold=25):\n",
        "    \"\"\"Splits the DataFrame columns into date, categorical, high cardinality categorical, and numerical features.\"\"\"\n",
        "    date_features = [col for col in df.columns if 'Date' in col]\n",
        "    non_metric_features = df.select_dtypes(include=['object', 'category']).columns.tolist()\n",
        "    non_metric_high_cardinality = [col for col in non_metric_features if df[col].nunique() > threshold]\n",
        "    metric_features = df.select_dtypes(include=[np.number]).columns.tolist()\n",
        "\n",
        "    print(\"Non-metric (Categorical) features:\", non_metric_features)\n",
        "    print(\"Non-metric (High Cardinality) features:\", non_metric_high_cardinality)\n",
        "    print(\"Metric (Numerical) features:\", metric_features)\n",
        "\n",
        "    return date_features, non_metric_features, non_metric_high_cardinality, metric_features\n",
        "\n",
        "# Use for both train and test sets\n",
        "date_features, non_metric_features, non_metric_high_cardinality, metric_features = feature_splitting(df_train)\n"
      ]
    },
    {
      "cell_type": "code",
      "execution_count": 91,
      "id": "f1839d28-b59e-4ee5-879e-2bd33762f089",
      "metadata": {
        "id": "f1839d28-b59e-4ee5-879e-2bd33762f089"
      },
      "outputs": [],
      "source": [
        "def check_missing_patterns(df, columns_to_check):\n",
        "    \"\"\"Checks if certain variables have all their missing values in the same rows.\"\"\"\n",
        "    for col in columns_to_check:\n",
        "        missing_rows = df[df[col].isna()][columns_to_check]\n",
        "        display(missing_rows.info())\n"
      ]
    },
    {
      "cell_type": "code",
      "execution_count": 92,
      "id": "bbb0a347-97e1-44cd-b8f9-78a674fe00c8",
      "metadata": {
        "id": "bbb0a347-97e1-44cd-b8f9-78a674fe00c8"
      },
      "outputs": [],
      "source": [
        "def num_dist(df, metric_features, bins=30):\n",
        "    \"\"\"Display histograms of numerical features.\"\"\"\n",
        "    df[metric_features].hist(bins=bins, figsize=(15, 10))\n",
        "    plt.suptitle(\"Distribution of Numerical Variables\")\n",
        "    plt.show()\n"
      ]
    },
    {
      "cell_type": "code",
      "execution_count": 93,
      "id": "c10b5d2e-1410-4dd7-963e-9483e2ab2011",
      "metadata": {
        "id": "c10b5d2e-1410-4dd7-963e-9483e2ab2011"
      },
      "outputs": [],
      "source": [
        "def cat_counts_and_plots(df, excl_feat=[]):\n",
        "    \"\"\"Display value counts and plots for categorical features, excluding high cardinality features if needed.\"\"\"\n",
        "    for column in df.select_dtypes(include='object').columns:\n",
        "        if column not in excl_feat:\n",
        "            print(f\"Value counts for {column}:\")\n",
        "            print(df[column].value_counts())\n",
        "            print(\"\\n\")\n",
        "\n",
        "            plt.figure(figsize=(10, 6))\n",
        "            sns.countplot(data=df, x=column, order=df[column].value_counts().index)\n",
        "            plt.title(f\"Count of {column}\")\n",
        "            plt.xticks(rotation=90)\n",
        "            plt.show()\n"
      ]
    },
    {
      "cell_type": "code",
      "execution_count": 94,
      "id": "f2b5ceab-507b-4911-8b50-f1c0df20bdcc",
      "metadata": {
        "id": "f2b5ceab-507b-4911-8b50-f1c0df20bdcc"
      },
      "outputs": [],
      "source": [
        "def plot_bar(df, col, degrees=0):\n",
        "    \"\"\"Plot a bar chart for a specified column.\"\"\"\n",
        "    column = df[col].value_counts()\n",
        "    plt.figure(figsize=(6, 2))\n",
        "    sns.barplot(x=column.index.astype(str), y=column.values)\n",
        "    plt.xlabel(col)\n",
        "    plt.ylabel(\"Frequency\")\n",
        "    plt.xticks(rotation=degrees)\n",
        "    plt.show()\n",
        "\n",
        "def plot_hist(df, col, rotate=False):\n",
        "    \"\"\"Plot a histogram for a specified column with KDE.\"\"\"\n",
        "    plt.figure(figsize=(6, 2))\n",
        "    sns.histplot(df[col], bins=30, kde=True)\n",
        "    plt.xlabel(col)\n",
        "    plt.ylabel(\"Frequency\")\n",
        "    if rotate:\n",
        "        plt.xticks(rotation=45)\n",
        "    plt.show()\n",
        "\n",
        "def plot_box(df, col):\n",
        "    \"\"\"Plot a boxplot for a specified column.\"\"\"\n",
        "    plt.figure(figsize=(6, 2))\n",
        "    sns.boxplot(x=df[col])\n",
        "    plt.xlabel(col)\n",
        "    plt.show()\n",
        "\n",
        "def plot_pie(df, col):\n",
        "    \"\"\"Plot a pie chart for a specified column with percentage thresholds.\"\"\"\n",
        "    value_counts = df[col].value_counts()\n",
        "    total = value_counts.sum()\n",
        "    percentages = (value_counts / total) * 100\n",
        "\n",
        "    above_threshold = percentages[percentages >= 2]\n",
        "    below_threshold = percentages[percentages < 2]\n",
        "\n",
        "    if len(below_threshold) > 0:\n",
        "        other_percentage = below_threshold.sum()\n",
        "        above_threshold['Others'] = other_percentage\n",
        "\n",
        "    plt.figure(figsize=(8, 8))\n",
        "    above_threshold.plot.pie(autopct='%1.1f%%', startangle=90, labels=above_threshold.index)\n",
        "    plt.ylabel(\"\")\n",
        "    plt.xlabel(col)\n",
        "    plt.legend(title=\"Legend\", loc='upper left')\n",
        "    plt.show()\n",
        "\n",
        "def plot_heatmap(df, numerical_features):\n",
        "    \"\"\"Display heatmap of correlation among numerical features.\"\"\"\n",
        "    plt.figure(figsize=(12, 10))\n",
        "    sns.heatmap(data=df[numerical_features].corr(method='spearman'), annot=True, cmap=\"coolwarm\", fmt='.1f')\n",
        "    plt.show()\n"
      ]
    },
    {
      "cell_type": "code",
      "execution_count": 95,
      "id": "e058304e-f35d-47ce-8a6d-d57abb661c9a",
      "metadata": {
        "id": "e058304e-f35d-47ce-8a6d-d57abb661c9a"
      },
      "outputs": [],
      "source": [
        "def detect_outliers_in_column(df, column, threshold=1.5):\n",
        "    Q1 = df[column].quantile(0.25)\n",
        "    Q3 = df[column].quantile(0.75)\n",
        "    IQR = Q3 - Q1\n",
        "    lower_bound = Q1 - threshold * IQR\n",
        "    upper_bound = Q3 + threshold * IQR\n",
        "    outliers = df[(df[column] < lower_bound) | (df[column] > upper_bound)]\n",
        "    return outliers"
      ]
    },
    {
      "cell_type": "code",
      "execution_count": 96,
      "id": "797516ad-539f-48dd-8dd4-bb8618f5dd08",
      "metadata": {
        "id": "797516ad-539f-48dd-8dd4-bb8618f5dd08"
      },
      "outputs": [],
      "source": [
        "# Define date columns\n",
        "date_columns = ['Accident Date', 'Assembly Date', 'C-2 Date', 'C-3 Date', 'First Hearing Date']\n",
        "convert_dates(df_train, date_columns)\n",
        "convert_dates(df_test, date_columns)"
      ]
    },
    {
      "cell_type": "markdown",
      "id": "1c615de7-7c9b-49ca-b1a7-1cb9c010ae18",
      "metadata": {
        "id": "1c615de7-7c9b-49ca-b1a7-1cb9c010ae18"
      },
      "source": [
        "## Step 1: General descr. stats"
      ]
    },
    {
      "cell_type": "code",
      "execution_count": 97,
      "id": "c56f6dcc-9c92-4f3f-abe4-58a25c72b966",
      "metadata": {
        "scrolled": true,
        "id": "c56f6dcc-9c92-4f3f-abe4-58a25c72b966",
        "outputId": "dccf19f8-9cae-41bb-b3f9-4e96f74e5e6b",
        "colab": {
          "base_uri": "https://localhost:8080/",
          "height": 1000
        }
      },
      "outputs": [
        {
          "output_type": "stream",
          "name": "stdout",
          "text": [
            "First 5 rows:\n"
          ]
        },
        {
          "output_type": "display_data",
          "data": {
            "text/plain": [
              "  Accident Date  Age at Injury Alternative Dispute Resolution Assembly Date  \\\n",
              "0    2019-12-30           31.0                              N    2020-01-01   \n",
              "1    2019-08-30           46.0                              N    2020-01-01   \n",
              "2    2019-12-06           40.0                              N    2020-01-01   \n",
              "3           NaT            NaN                            NaN    2020-01-01   \n",
              "4    2019-12-30           61.0                              N    2020-01-01   \n",
              "\n",
              "  Attorney/Representative  Average Weekly Wage  Birth Year   C-2 Date  \\\n",
              "0                       N                 0.00      1988.0 2019-12-31   \n",
              "1                       Y              1745.93      1973.0 2020-01-01   \n",
              "2                       N              1434.80      1979.0 2020-01-01   \n",
              "3                     NaN                  NaN         NaN        NaT   \n",
              "4                       N                  NaN      1958.0 2019-12-31   \n",
              "\n",
              "    C-3 Date                  Carrier Name  ... WCIO Cause of Injury Code  \\\n",
              "0        NaT    NEW HAMPSHIRE INSURANCE CO  ...                      27.0   \n",
              "1 2020-01-14  ZURICH AMERICAN INSURANCE CO  ...                      97.0   \n",
              "2        NaT     INDEMNITY INSURANCE CO OF  ...                      79.0   \n",
              "3        NaT                           NaN  ...                       NaN   \n",
              "4        NaT          STATE INSURANCE FUND  ...                      16.0   \n",
              "\n",
              "   WCIO Cause of Injury Description WCIO Nature of Injury Code  \\\n",
              "0      FROM LIQUID OR GREASE SPILLS                       10.0   \n",
              "1                 REPETITIVE MOTION                       49.0   \n",
              "2    OBJECT BEING LIFTED OR HANDLED                        7.0   \n",
              "3                               NaN                        NaN   \n",
              "4   HAND TOOL, UTENSIL; NOT POWERED                       43.0   \n",
              "\n",
              "  WCIO Nature of Injury Description WCIO Part Of Body Code  \\\n",
              "0                         CONTUSION                   62.0   \n",
              "1                    SPRAIN OR TEAR                   38.0   \n",
              "2                        CONCUSSION                   10.0   \n",
              "3                               NaN                    NaN   \n",
              "4                          PUNCTURE                   36.0   \n",
              "\n",
              "  WCIO Part Of Body Description Zip Code Agreement Reached      WCB Decision  \\\n",
              "0                      BUTTOCKS    13662               0.0  Not Work Related   \n",
              "1                   SHOULDER(S)    14569               1.0  Not Work Related   \n",
              "2          MULTIPLE HEAD INJURY    12589               0.0  Not Work Related   \n",
              "3                           NaN      NaN               NaN               NaN   \n",
              "4                     FINGER(S)    12603               0.0  Not Work Related   \n",
              "\n",
              "   Number of Dependents  \n",
              "0                   1.0  \n",
              "1                   4.0  \n",
              "2                   6.0  \n",
              "3                   NaN  \n",
              "4                   1.0  \n",
              "\n",
              "[5 rows x 33 columns]"
            ],
            "text/html": [
              "\n",
              "  <div id=\"df-825db001-f9d5-40c4-a684-9016a0d398ac\" class=\"colab-df-container\">\n",
              "    <div>\n",
              "<style scoped>\n",
              "    .dataframe tbody tr th:only-of-type {\n",
              "        vertical-align: middle;\n",
              "    }\n",
              "\n",
              "    .dataframe tbody tr th {\n",
              "        vertical-align: top;\n",
              "    }\n",
              "\n",
              "    .dataframe thead th {\n",
              "        text-align: right;\n",
              "    }\n",
              "</style>\n",
              "<table border=\"1\" class=\"dataframe\">\n",
              "  <thead>\n",
              "    <tr style=\"text-align: right;\">\n",
              "      <th></th>\n",
              "      <th>Accident Date</th>\n",
              "      <th>Age at Injury</th>\n",
              "      <th>Alternative Dispute Resolution</th>\n",
              "      <th>Assembly Date</th>\n",
              "      <th>Attorney/Representative</th>\n",
              "      <th>Average Weekly Wage</th>\n",
              "      <th>Birth Year</th>\n",
              "      <th>C-2 Date</th>\n",
              "      <th>C-3 Date</th>\n",
              "      <th>Carrier Name</th>\n",
              "      <th>...</th>\n",
              "      <th>WCIO Cause of Injury Code</th>\n",
              "      <th>WCIO Cause of Injury Description</th>\n",
              "      <th>WCIO Nature of Injury Code</th>\n",
              "      <th>WCIO Nature of Injury Description</th>\n",
              "      <th>WCIO Part Of Body Code</th>\n",
              "      <th>WCIO Part Of Body Description</th>\n",
              "      <th>Zip Code</th>\n",
              "      <th>Agreement Reached</th>\n",
              "      <th>WCB Decision</th>\n",
              "      <th>Number of Dependents</th>\n",
              "    </tr>\n",
              "  </thead>\n",
              "  <tbody>\n",
              "    <tr>\n",
              "      <th>0</th>\n",
              "      <td>2019-12-30</td>\n",
              "      <td>31.0</td>\n",
              "      <td>N</td>\n",
              "      <td>2020-01-01</td>\n",
              "      <td>N</td>\n",
              "      <td>0.00</td>\n",
              "      <td>1988.0</td>\n",
              "      <td>2019-12-31</td>\n",
              "      <td>NaT</td>\n",
              "      <td>NEW HAMPSHIRE INSURANCE CO</td>\n",
              "      <td>...</td>\n",
              "      <td>27.0</td>\n",
              "      <td>FROM LIQUID OR GREASE SPILLS</td>\n",
              "      <td>10.0</td>\n",
              "      <td>CONTUSION</td>\n",
              "      <td>62.0</td>\n",
              "      <td>BUTTOCKS</td>\n",
              "      <td>13662</td>\n",
              "      <td>0.0</td>\n",
              "      <td>Not Work Related</td>\n",
              "      <td>1.0</td>\n",
              "    </tr>\n",
              "    <tr>\n",
              "      <th>1</th>\n",
              "      <td>2019-08-30</td>\n",
              "      <td>46.0</td>\n",
              "      <td>N</td>\n",
              "      <td>2020-01-01</td>\n",
              "      <td>Y</td>\n",
              "      <td>1745.93</td>\n",
              "      <td>1973.0</td>\n",
              "      <td>2020-01-01</td>\n",
              "      <td>2020-01-14</td>\n",
              "      <td>ZURICH AMERICAN INSURANCE CO</td>\n",
              "      <td>...</td>\n",
              "      <td>97.0</td>\n",
              "      <td>REPETITIVE MOTION</td>\n",
              "      <td>49.0</td>\n",
              "      <td>SPRAIN OR TEAR</td>\n",
              "      <td>38.0</td>\n",
              "      <td>SHOULDER(S)</td>\n",
              "      <td>14569</td>\n",
              "      <td>1.0</td>\n",
              "      <td>Not Work Related</td>\n",
              "      <td>4.0</td>\n",
              "    </tr>\n",
              "    <tr>\n",
              "      <th>2</th>\n",
              "      <td>2019-12-06</td>\n",
              "      <td>40.0</td>\n",
              "      <td>N</td>\n",
              "      <td>2020-01-01</td>\n",
              "      <td>N</td>\n",
              "      <td>1434.80</td>\n",
              "      <td>1979.0</td>\n",
              "      <td>2020-01-01</td>\n",
              "      <td>NaT</td>\n",
              "      <td>INDEMNITY INSURANCE CO OF</td>\n",
              "      <td>...</td>\n",
              "      <td>79.0</td>\n",
              "      <td>OBJECT BEING LIFTED OR HANDLED</td>\n",
              "      <td>7.0</td>\n",
              "      <td>CONCUSSION</td>\n",
              "      <td>10.0</td>\n",
              "      <td>MULTIPLE HEAD INJURY</td>\n",
              "      <td>12589</td>\n",
              "      <td>0.0</td>\n",
              "      <td>Not Work Related</td>\n",
              "      <td>6.0</td>\n",
              "    </tr>\n",
              "    <tr>\n",
              "      <th>3</th>\n",
              "      <td>NaT</td>\n",
              "      <td>NaN</td>\n",
              "      <td>NaN</td>\n",
              "      <td>2020-01-01</td>\n",
              "      <td>NaN</td>\n",
              "      <td>NaN</td>\n",
              "      <td>NaN</td>\n",
              "      <td>NaT</td>\n",
              "      <td>NaT</td>\n",
              "      <td>NaN</td>\n",
              "      <td>...</td>\n",
              "      <td>NaN</td>\n",
              "      <td>NaN</td>\n",
              "      <td>NaN</td>\n",
              "      <td>NaN</td>\n",
              "      <td>NaN</td>\n",
              "      <td>NaN</td>\n",
              "      <td>NaN</td>\n",
              "      <td>NaN</td>\n",
              "      <td>NaN</td>\n",
              "      <td>NaN</td>\n",
              "    </tr>\n",
              "    <tr>\n",
              "      <th>4</th>\n",
              "      <td>2019-12-30</td>\n",
              "      <td>61.0</td>\n",
              "      <td>N</td>\n",
              "      <td>2020-01-01</td>\n",
              "      <td>N</td>\n",
              "      <td>NaN</td>\n",
              "      <td>1958.0</td>\n",
              "      <td>2019-12-31</td>\n",
              "      <td>NaT</td>\n",
              "      <td>STATE INSURANCE FUND</td>\n",
              "      <td>...</td>\n",
              "      <td>16.0</td>\n",
              "      <td>HAND TOOL, UTENSIL; NOT POWERED</td>\n",
              "      <td>43.0</td>\n",
              "      <td>PUNCTURE</td>\n",
              "      <td>36.0</td>\n",
              "      <td>FINGER(S)</td>\n",
              "      <td>12603</td>\n",
              "      <td>0.0</td>\n",
              "      <td>Not Work Related</td>\n",
              "      <td>1.0</td>\n",
              "    </tr>\n",
              "  </tbody>\n",
              "</table>\n",
              "<p>5 rows × 33 columns</p>\n",
              "</div>\n",
              "    <div class=\"colab-df-buttons\">\n",
              "\n",
              "  <div class=\"colab-df-container\">\n",
              "    <button class=\"colab-df-convert\" onclick=\"convertToInteractive('df-825db001-f9d5-40c4-a684-9016a0d398ac')\"\n",
              "            title=\"Convert this dataframe to an interactive table.\"\n",
              "            style=\"display:none;\">\n",
              "\n",
              "  <svg xmlns=\"http://www.w3.org/2000/svg\" height=\"24px\" viewBox=\"0 -960 960 960\">\n",
              "    <path d=\"M120-120v-720h720v720H120Zm60-500h600v-160H180v160Zm220 220h160v-160H400v160Zm0 220h160v-160H400v160ZM180-400h160v-160H180v160Zm440 0h160v-160H620v160ZM180-180h160v-160H180v160Zm440 0h160v-160H620v160Z\"/>\n",
              "  </svg>\n",
              "    </button>\n",
              "\n",
              "  <style>\n",
              "    .colab-df-container {\n",
              "      display:flex;\n",
              "      gap: 12px;\n",
              "    }\n",
              "\n",
              "    .colab-df-convert {\n",
              "      background-color: #E8F0FE;\n",
              "      border: none;\n",
              "      border-radius: 50%;\n",
              "      cursor: pointer;\n",
              "      display: none;\n",
              "      fill: #1967D2;\n",
              "      height: 32px;\n",
              "      padding: 0 0 0 0;\n",
              "      width: 32px;\n",
              "    }\n",
              "\n",
              "    .colab-df-convert:hover {\n",
              "      background-color: #E2EBFA;\n",
              "      box-shadow: 0px 1px 2px rgba(60, 64, 67, 0.3), 0px 1px 3px 1px rgba(60, 64, 67, 0.15);\n",
              "      fill: #174EA6;\n",
              "    }\n",
              "\n",
              "    .colab-df-buttons div {\n",
              "      margin-bottom: 4px;\n",
              "    }\n",
              "\n",
              "    [theme=dark] .colab-df-convert {\n",
              "      background-color: #3B4455;\n",
              "      fill: #D2E3FC;\n",
              "    }\n",
              "\n",
              "    [theme=dark] .colab-df-convert:hover {\n",
              "      background-color: #434B5C;\n",
              "      box-shadow: 0px 1px 3px 1px rgba(0, 0, 0, 0.15);\n",
              "      filter: drop-shadow(0px 1px 2px rgba(0, 0, 0, 0.3));\n",
              "      fill: #FFFFFF;\n",
              "    }\n",
              "  </style>\n",
              "\n",
              "    <script>\n",
              "      const buttonEl =\n",
              "        document.querySelector('#df-825db001-f9d5-40c4-a684-9016a0d398ac button.colab-df-convert');\n",
              "      buttonEl.style.display =\n",
              "        google.colab.kernel.accessAllowed ? 'block' : 'none';\n",
              "\n",
              "      async function convertToInteractive(key) {\n",
              "        const element = document.querySelector('#df-825db001-f9d5-40c4-a684-9016a0d398ac');\n",
              "        const dataTable =\n",
              "          await google.colab.kernel.invokeFunction('convertToInteractive',\n",
              "                                                    [key], {});\n",
              "        if (!dataTable) return;\n",
              "\n",
              "        const docLinkHtml = 'Like what you see? Visit the ' +\n",
              "          '<a target=\"_blank\" href=https://colab.research.google.com/notebooks/data_table.ipynb>data table notebook</a>'\n",
              "          + ' to learn more about interactive tables.';\n",
              "        element.innerHTML = '';\n",
              "        dataTable['output_type'] = 'display_data';\n",
              "        await google.colab.output.renderOutput(dataTable, element);\n",
              "        const docLink = document.createElement('div');\n",
              "        docLink.innerHTML = docLinkHtml;\n",
              "        element.appendChild(docLink);\n",
              "      }\n",
              "    </script>\n",
              "  </div>\n",
              "\n",
              "\n",
              "<div id=\"df-7e75bc16-b5bd-46f6-8216-d214c6ef2c33\">\n",
              "  <button class=\"colab-df-quickchart\" onclick=\"quickchart('df-7e75bc16-b5bd-46f6-8216-d214c6ef2c33')\"\n",
              "            title=\"Suggest charts\"\n",
              "            style=\"display:none;\">\n",
              "\n",
              "<svg xmlns=\"http://www.w3.org/2000/svg\" height=\"24px\"viewBox=\"0 0 24 24\"\n",
              "     width=\"24px\">\n",
              "    <g>\n",
              "        <path d=\"M19 3H5c-1.1 0-2 .9-2 2v14c0 1.1.9 2 2 2h14c1.1 0 2-.9 2-2V5c0-1.1-.9-2-2-2zM9 17H7v-7h2v7zm4 0h-2V7h2v10zm4 0h-2v-4h2v4z\"/>\n",
              "    </g>\n",
              "</svg>\n",
              "  </button>\n",
              "\n",
              "<style>\n",
              "  .colab-df-quickchart {\n",
              "      --bg-color: #E8F0FE;\n",
              "      --fill-color: #1967D2;\n",
              "      --hover-bg-color: #E2EBFA;\n",
              "      --hover-fill-color: #174EA6;\n",
              "      --disabled-fill-color: #AAA;\n",
              "      --disabled-bg-color: #DDD;\n",
              "  }\n",
              "\n",
              "  [theme=dark] .colab-df-quickchart {\n",
              "      --bg-color: #3B4455;\n",
              "      --fill-color: #D2E3FC;\n",
              "      --hover-bg-color: #434B5C;\n",
              "      --hover-fill-color: #FFFFFF;\n",
              "      --disabled-bg-color: #3B4455;\n",
              "      --disabled-fill-color: #666;\n",
              "  }\n",
              "\n",
              "  .colab-df-quickchart {\n",
              "    background-color: var(--bg-color);\n",
              "    border: none;\n",
              "    border-radius: 50%;\n",
              "    cursor: pointer;\n",
              "    display: none;\n",
              "    fill: var(--fill-color);\n",
              "    height: 32px;\n",
              "    padding: 0;\n",
              "    width: 32px;\n",
              "  }\n",
              "\n",
              "  .colab-df-quickchart:hover {\n",
              "    background-color: var(--hover-bg-color);\n",
              "    box-shadow: 0 1px 2px rgba(60, 64, 67, 0.3), 0 1px 3px 1px rgba(60, 64, 67, 0.15);\n",
              "    fill: var(--button-hover-fill-color);\n",
              "  }\n",
              "\n",
              "  .colab-df-quickchart-complete:disabled,\n",
              "  .colab-df-quickchart-complete:disabled:hover {\n",
              "    background-color: var(--disabled-bg-color);\n",
              "    fill: var(--disabled-fill-color);\n",
              "    box-shadow: none;\n",
              "  }\n",
              "\n",
              "  .colab-df-spinner {\n",
              "    border: 2px solid var(--fill-color);\n",
              "    border-color: transparent;\n",
              "    border-bottom-color: var(--fill-color);\n",
              "    animation:\n",
              "      spin 1s steps(1) infinite;\n",
              "  }\n",
              "\n",
              "  @keyframes spin {\n",
              "    0% {\n",
              "      border-color: transparent;\n",
              "      border-bottom-color: var(--fill-color);\n",
              "      border-left-color: var(--fill-color);\n",
              "    }\n",
              "    20% {\n",
              "      border-color: transparent;\n",
              "      border-left-color: var(--fill-color);\n",
              "      border-top-color: var(--fill-color);\n",
              "    }\n",
              "    30% {\n",
              "      border-color: transparent;\n",
              "      border-left-color: var(--fill-color);\n",
              "      border-top-color: var(--fill-color);\n",
              "      border-right-color: var(--fill-color);\n",
              "    }\n",
              "    40% {\n",
              "      border-color: transparent;\n",
              "      border-right-color: var(--fill-color);\n",
              "      border-top-color: var(--fill-color);\n",
              "    }\n",
              "    60% {\n",
              "      border-color: transparent;\n",
              "      border-right-color: var(--fill-color);\n",
              "    }\n",
              "    80% {\n",
              "      border-color: transparent;\n",
              "      border-right-color: var(--fill-color);\n",
              "      border-bottom-color: var(--fill-color);\n",
              "    }\n",
              "    90% {\n",
              "      border-color: transparent;\n",
              "      border-bottom-color: var(--fill-color);\n",
              "    }\n",
              "  }\n",
              "</style>\n",
              "\n",
              "  <script>\n",
              "    async function quickchart(key) {\n",
              "      const quickchartButtonEl =\n",
              "        document.querySelector('#' + key + ' button');\n",
              "      quickchartButtonEl.disabled = true;  // To prevent multiple clicks.\n",
              "      quickchartButtonEl.classList.add('colab-df-spinner');\n",
              "      try {\n",
              "        const charts = await google.colab.kernel.invokeFunction(\n",
              "            'suggestCharts', [key], {});\n",
              "      } catch (error) {\n",
              "        console.error('Error during call to suggestCharts:', error);\n",
              "      }\n",
              "      quickchartButtonEl.classList.remove('colab-df-spinner');\n",
              "      quickchartButtonEl.classList.add('colab-df-quickchart-complete');\n",
              "    }\n",
              "    (() => {\n",
              "      let quickchartButtonEl =\n",
              "        document.querySelector('#df-7e75bc16-b5bd-46f6-8216-d214c6ef2c33 button');\n",
              "      quickchartButtonEl.style.display =\n",
              "        google.colab.kernel.accessAllowed ? 'block' : 'none';\n",
              "    })();\n",
              "  </script>\n",
              "</div>\n",
              "\n",
              "    </div>\n",
              "  </div>\n"
            ],
            "application/vnd.google.colaboratory.intrinsic+json": {
              "type": "dataframe"
            }
          },
          "metadata": {}
        },
        {
          "output_type": "stream",
          "name": "stdout",
          "text": [
            "\n",
            "Data Info:\n",
            "<class 'pandas.core.frame.DataFrame'>\n",
            "RangeIndex: 593471 entries, 0 to 593470\n",
            "Data columns (total 33 columns):\n",
            " #   Column                              Non-Null Count   Dtype         \n",
            "---  ------                              --------------   -----         \n",
            " 0   Accident Date                       570337 non-null  datetime64[ns]\n",
            " 1   Age at Injury                       574026 non-null  float64       \n",
            " 2   Alternative Dispute Resolution      574026 non-null  object        \n",
            " 3   Assembly Date                       593471 non-null  datetime64[ns]\n",
            " 4   Attorney/Representative             574026 non-null  object        \n",
            " 5   Average Weekly Wage                 545375 non-null  float64       \n",
            " 6   Birth Year                          544948 non-null  float64       \n",
            " 7   C-2 Date                            559466 non-null  datetime64[ns]\n",
            " 8   C-3 Date                            187245 non-null  datetime64[ns]\n",
            " 9   Carrier Name                        574026 non-null  object        \n",
            " 10  Carrier Type                        574026 non-null  object        \n",
            " 11  Claim Identifier                    593471 non-null  int64         \n",
            " 12  Claim Injury Type                   574026 non-null  object        \n",
            " 13  County of Injury                    574026 non-null  object        \n",
            " 14  COVID-19 Indicator                  574026 non-null  object        \n",
            " 15  District Name                       574026 non-null  object        \n",
            " 16  First Hearing Date                  150798 non-null  datetime64[ns]\n",
            " 17  Gender                              574026 non-null  object        \n",
            " 18  IME-4 Count                         132803 non-null  float64       \n",
            " 19  Industry Code                       564068 non-null  float64       \n",
            " 20  Industry Code Description           564068 non-null  object        \n",
            " 21  Medical Fee Region                  574026 non-null  object        \n",
            " 22  OIICS Nature of Injury Description  0 non-null       float64       \n",
            " 23  WCIO Cause of Injury Code           558386 non-null  float64       \n",
            " 24  WCIO Cause of Injury Description    558386 non-null  object        \n",
            " 25  WCIO Nature of Injury Code          558369 non-null  float64       \n",
            " 26  WCIO Nature of Injury Description   558369 non-null  object        \n",
            " 27  WCIO Part Of Body Code              556944 non-null  float64       \n",
            " 28  WCIO Part Of Body Description       556944 non-null  object        \n",
            " 29  Zip Code                            545389 non-null  object        \n",
            " 30  Agreement Reached                   574026 non-null  float64       \n",
            " 31  WCB Decision                        574026 non-null  object        \n",
            " 32  Number of Dependents                574026 non-null  float64       \n",
            "dtypes: datetime64[ns](5), float64(11), int64(1), object(16)\n",
            "memory usage: 149.4+ MB\n"
          ]
        },
        {
          "output_type": "display_data",
          "data": {
            "text/plain": [
              "None"
            ]
          },
          "metadata": {}
        },
        {
          "output_type": "stream",
          "name": "stdout",
          "text": [
            "\n",
            "Numerical Features Description:\n"
          ]
        },
        {
          "output_type": "display_data",
          "data": {
            "text/plain": [
              "                       Accident Date  Age at Injury  \\\n",
              "count                         570337  574026.000000   \n",
              "mean   2021-04-28 21:00:27.892982784      42.114270   \n",
              "min              1961-09-06 00:00:00       0.000000   \n",
              "25%              2020-09-14 00:00:00      31.000000   \n",
              "50%              2021-06-27 00:00:00      42.000000   \n",
              "75%              2022-03-21 00:00:00      54.000000   \n",
              "max              2023-09-29 00:00:00     117.000000   \n",
              "std                              NaN      14.256432   \n",
              "\n",
              "                       Assembly Date  Average Weekly Wage     Birth Year  \\\n",
              "count                         593471         5.453750e+05  544948.000000   \n",
              "mean   2021-07-19 03:25:38.260841728         4.910883e+02    1886.767604   \n",
              "min              2020-01-01 00:00:00         0.000000e+00       0.000000   \n",
              "25%              2020-10-26 00:00:00         0.000000e+00    1965.000000   \n",
              "50%              2021-07-29 00:00:00         0.000000e+00    1977.000000   \n",
              "75%              2022-04-19 00:00:00         8.410000e+02    1989.000000   \n",
              "max              2022-12-31 00:00:00         2.828079e+06    2018.000000   \n",
              "std                              NaN         6.092918e+03     414.644423   \n",
              "\n",
              "                            C-2 Date                       C-3 Date  \\\n",
              "count                         559466                         187245   \n",
              "mean   2021-07-16 20:11:19.865443328  2021-07-26 21:31:28.449891840   \n",
              "min              1996-01-12 00:00:00            1992-11-13 00:00:00   \n",
              "25%              2020-11-06 00:00:00            2020-10-27 00:00:00   \n",
              "50%              2021-08-09 00:00:00            2021-07-21 00:00:00   \n",
              "75%              2022-04-26 00:00:00            2022-04-20 00:00:00   \n",
              "max              2024-06-01 00:00:00            2024-05-31 00:00:00   \n",
              "std                              NaN                            NaN   \n",
              "\n",
              "       Claim Identifier             First Hearing Date    IME-4 Count  \\\n",
              "count      5.934710e+05                         150798  132803.000000   \n",
              "mean       2.366760e+07  2022-03-19 05:07:38.218278400       3.207337   \n",
              "min        5.393066e+06            2020-01-30 00:00:00       1.000000   \n",
              "25%        5.593414e+06            2021-06-01 00:00:00       1.000000   \n",
              "50%        5.791212e+06            2022-03-09 00:00:00       2.000000   \n",
              "75%        5.991000e+06            2023-01-11 00:00:00       4.000000   \n",
              "max        9.998917e+08            2024-06-07 00:00:00      73.000000   \n",
              "std        1.079271e+08                            NaN       2.832303   \n",
              "\n",
              "       Industry Code  OIICS Nature of Injury Description  \\\n",
              "count  564068.000000                                 0.0   \n",
              "mean       58.645305                                 NaN   \n",
              "min        11.000000                                 NaN   \n",
              "25%        45.000000                                 NaN   \n",
              "50%        61.000000                                 NaN   \n",
              "75%        71.000000                                 NaN   \n",
              "max        92.000000                                 NaN   \n",
              "std        19.644175                                 NaN   \n",
              "\n",
              "       WCIO Cause of Injury Code  WCIO Nature of Injury Code  \\\n",
              "count              558386.000000               558369.000000   \n",
              "mean                   54.381143                   41.013839   \n",
              "min                     1.000000                    1.000000   \n",
              "25%                    31.000000                   16.000000   \n",
              "50%                    56.000000                   49.000000   \n",
              "75%                    75.000000                   52.000000   \n",
              "max                    99.000000                   91.000000   \n",
              "std                    25.874281                   22.207521   \n",
              "\n",
              "       WCIO Part Of Body Code  Agreement Reached  Number of Dependents  \n",
              "count           556944.000000      574026.000000         574026.000000  \n",
              "mean                39.738146           0.046665              3.006559  \n",
              "min                 -9.000000           0.000000              0.000000  \n",
              "25%                 33.000000           0.000000              1.000000  \n",
              "50%                 38.000000           0.000000              3.000000  \n",
              "75%                 53.000000           0.000000              5.000000  \n",
              "max                 99.000000           1.000000              6.000000  \n",
              "std                 22.365940           0.210921              2.000801  "
            ],
            "text/html": [
              "\n",
              "  <div id=\"df-012a29c1-6dc8-46fb-b831-501bbef804cf\" class=\"colab-df-container\">\n",
              "    <div>\n",
              "<style scoped>\n",
              "    .dataframe tbody tr th:only-of-type {\n",
              "        vertical-align: middle;\n",
              "    }\n",
              "\n",
              "    .dataframe tbody tr th {\n",
              "        vertical-align: top;\n",
              "    }\n",
              "\n",
              "    .dataframe thead th {\n",
              "        text-align: right;\n",
              "    }\n",
              "</style>\n",
              "<table border=\"1\" class=\"dataframe\">\n",
              "  <thead>\n",
              "    <tr style=\"text-align: right;\">\n",
              "      <th></th>\n",
              "      <th>Accident Date</th>\n",
              "      <th>Age at Injury</th>\n",
              "      <th>Assembly Date</th>\n",
              "      <th>Average Weekly Wage</th>\n",
              "      <th>Birth Year</th>\n",
              "      <th>C-2 Date</th>\n",
              "      <th>C-3 Date</th>\n",
              "      <th>Claim Identifier</th>\n",
              "      <th>First Hearing Date</th>\n",
              "      <th>IME-4 Count</th>\n",
              "      <th>Industry Code</th>\n",
              "      <th>OIICS Nature of Injury Description</th>\n",
              "      <th>WCIO Cause of Injury Code</th>\n",
              "      <th>WCIO Nature of Injury Code</th>\n",
              "      <th>WCIO Part Of Body Code</th>\n",
              "      <th>Agreement Reached</th>\n",
              "      <th>Number of Dependents</th>\n",
              "    </tr>\n",
              "  </thead>\n",
              "  <tbody>\n",
              "    <tr>\n",
              "      <th>count</th>\n",
              "      <td>570337</td>\n",
              "      <td>574026.000000</td>\n",
              "      <td>593471</td>\n",
              "      <td>5.453750e+05</td>\n",
              "      <td>544948.000000</td>\n",
              "      <td>559466</td>\n",
              "      <td>187245</td>\n",
              "      <td>5.934710e+05</td>\n",
              "      <td>150798</td>\n",
              "      <td>132803.000000</td>\n",
              "      <td>564068.000000</td>\n",
              "      <td>0.0</td>\n",
              "      <td>558386.000000</td>\n",
              "      <td>558369.000000</td>\n",
              "      <td>556944.000000</td>\n",
              "      <td>574026.000000</td>\n",
              "      <td>574026.000000</td>\n",
              "    </tr>\n",
              "    <tr>\n",
              "      <th>mean</th>\n",
              "      <td>2021-04-28 21:00:27.892982784</td>\n",
              "      <td>42.114270</td>\n",
              "      <td>2021-07-19 03:25:38.260841728</td>\n",
              "      <td>4.910883e+02</td>\n",
              "      <td>1886.767604</td>\n",
              "      <td>2021-07-16 20:11:19.865443328</td>\n",
              "      <td>2021-07-26 21:31:28.449891840</td>\n",
              "      <td>2.366760e+07</td>\n",
              "      <td>2022-03-19 05:07:38.218278400</td>\n",
              "      <td>3.207337</td>\n",
              "      <td>58.645305</td>\n",
              "      <td>NaN</td>\n",
              "      <td>54.381143</td>\n",
              "      <td>41.013839</td>\n",
              "      <td>39.738146</td>\n",
              "      <td>0.046665</td>\n",
              "      <td>3.006559</td>\n",
              "    </tr>\n",
              "    <tr>\n",
              "      <th>min</th>\n",
              "      <td>1961-09-06 00:00:00</td>\n",
              "      <td>0.000000</td>\n",
              "      <td>2020-01-01 00:00:00</td>\n",
              "      <td>0.000000e+00</td>\n",
              "      <td>0.000000</td>\n",
              "      <td>1996-01-12 00:00:00</td>\n",
              "      <td>1992-11-13 00:00:00</td>\n",
              "      <td>5.393066e+06</td>\n",
              "      <td>2020-01-30 00:00:00</td>\n",
              "      <td>1.000000</td>\n",
              "      <td>11.000000</td>\n",
              "      <td>NaN</td>\n",
              "      <td>1.000000</td>\n",
              "      <td>1.000000</td>\n",
              "      <td>-9.000000</td>\n",
              "      <td>0.000000</td>\n",
              "      <td>0.000000</td>\n",
              "    </tr>\n",
              "    <tr>\n",
              "      <th>25%</th>\n",
              "      <td>2020-09-14 00:00:00</td>\n",
              "      <td>31.000000</td>\n",
              "      <td>2020-10-26 00:00:00</td>\n",
              "      <td>0.000000e+00</td>\n",
              "      <td>1965.000000</td>\n",
              "      <td>2020-11-06 00:00:00</td>\n",
              "      <td>2020-10-27 00:00:00</td>\n",
              "      <td>5.593414e+06</td>\n",
              "      <td>2021-06-01 00:00:00</td>\n",
              "      <td>1.000000</td>\n",
              "      <td>45.000000</td>\n",
              "      <td>NaN</td>\n",
              "      <td>31.000000</td>\n",
              "      <td>16.000000</td>\n",
              "      <td>33.000000</td>\n",
              "      <td>0.000000</td>\n",
              "      <td>1.000000</td>\n",
              "    </tr>\n",
              "    <tr>\n",
              "      <th>50%</th>\n",
              "      <td>2021-06-27 00:00:00</td>\n",
              "      <td>42.000000</td>\n",
              "      <td>2021-07-29 00:00:00</td>\n",
              "      <td>0.000000e+00</td>\n",
              "      <td>1977.000000</td>\n",
              "      <td>2021-08-09 00:00:00</td>\n",
              "      <td>2021-07-21 00:00:00</td>\n",
              "      <td>5.791212e+06</td>\n",
              "      <td>2022-03-09 00:00:00</td>\n",
              "      <td>2.000000</td>\n",
              "      <td>61.000000</td>\n",
              "      <td>NaN</td>\n",
              "      <td>56.000000</td>\n",
              "      <td>49.000000</td>\n",
              "      <td>38.000000</td>\n",
              "      <td>0.000000</td>\n",
              "      <td>3.000000</td>\n",
              "    </tr>\n",
              "    <tr>\n",
              "      <th>75%</th>\n",
              "      <td>2022-03-21 00:00:00</td>\n",
              "      <td>54.000000</td>\n",
              "      <td>2022-04-19 00:00:00</td>\n",
              "      <td>8.410000e+02</td>\n",
              "      <td>1989.000000</td>\n",
              "      <td>2022-04-26 00:00:00</td>\n",
              "      <td>2022-04-20 00:00:00</td>\n",
              "      <td>5.991000e+06</td>\n",
              "      <td>2023-01-11 00:00:00</td>\n",
              "      <td>4.000000</td>\n",
              "      <td>71.000000</td>\n",
              "      <td>NaN</td>\n",
              "      <td>75.000000</td>\n",
              "      <td>52.000000</td>\n",
              "      <td>53.000000</td>\n",
              "      <td>0.000000</td>\n",
              "      <td>5.000000</td>\n",
              "    </tr>\n",
              "    <tr>\n",
              "      <th>max</th>\n",
              "      <td>2023-09-29 00:00:00</td>\n",
              "      <td>117.000000</td>\n",
              "      <td>2022-12-31 00:00:00</td>\n",
              "      <td>2.828079e+06</td>\n",
              "      <td>2018.000000</td>\n",
              "      <td>2024-06-01 00:00:00</td>\n",
              "      <td>2024-05-31 00:00:00</td>\n",
              "      <td>9.998917e+08</td>\n",
              "      <td>2024-06-07 00:00:00</td>\n",
              "      <td>73.000000</td>\n",
              "      <td>92.000000</td>\n",
              "      <td>NaN</td>\n",
              "      <td>99.000000</td>\n",
              "      <td>91.000000</td>\n",
              "      <td>99.000000</td>\n",
              "      <td>1.000000</td>\n",
              "      <td>6.000000</td>\n",
              "    </tr>\n",
              "    <tr>\n",
              "      <th>std</th>\n",
              "      <td>NaN</td>\n",
              "      <td>14.256432</td>\n",
              "      <td>NaN</td>\n",
              "      <td>6.092918e+03</td>\n",
              "      <td>414.644423</td>\n",
              "      <td>NaN</td>\n",
              "      <td>NaN</td>\n",
              "      <td>1.079271e+08</td>\n",
              "      <td>NaN</td>\n",
              "      <td>2.832303</td>\n",
              "      <td>19.644175</td>\n",
              "      <td>NaN</td>\n",
              "      <td>25.874281</td>\n",
              "      <td>22.207521</td>\n",
              "      <td>22.365940</td>\n",
              "      <td>0.210921</td>\n",
              "      <td>2.000801</td>\n",
              "    </tr>\n",
              "  </tbody>\n",
              "</table>\n",
              "</div>\n",
              "    <div class=\"colab-df-buttons\">\n",
              "\n",
              "  <div class=\"colab-df-container\">\n",
              "    <button class=\"colab-df-convert\" onclick=\"convertToInteractive('df-012a29c1-6dc8-46fb-b831-501bbef804cf')\"\n",
              "            title=\"Convert this dataframe to an interactive table.\"\n",
              "            style=\"display:none;\">\n",
              "\n",
              "  <svg xmlns=\"http://www.w3.org/2000/svg\" height=\"24px\" viewBox=\"0 -960 960 960\">\n",
              "    <path d=\"M120-120v-720h720v720H120Zm60-500h600v-160H180v160Zm220 220h160v-160H400v160Zm0 220h160v-160H400v160ZM180-400h160v-160H180v160Zm440 0h160v-160H620v160ZM180-180h160v-160H180v160Zm440 0h160v-160H620v160Z\"/>\n",
              "  </svg>\n",
              "    </button>\n",
              "\n",
              "  <style>\n",
              "    .colab-df-container {\n",
              "      display:flex;\n",
              "      gap: 12px;\n",
              "    }\n",
              "\n",
              "    .colab-df-convert {\n",
              "      background-color: #E8F0FE;\n",
              "      border: none;\n",
              "      border-radius: 50%;\n",
              "      cursor: pointer;\n",
              "      display: none;\n",
              "      fill: #1967D2;\n",
              "      height: 32px;\n",
              "      padding: 0 0 0 0;\n",
              "      width: 32px;\n",
              "    }\n",
              "\n",
              "    .colab-df-convert:hover {\n",
              "      background-color: #E2EBFA;\n",
              "      box-shadow: 0px 1px 2px rgba(60, 64, 67, 0.3), 0px 1px 3px 1px rgba(60, 64, 67, 0.15);\n",
              "      fill: #174EA6;\n",
              "    }\n",
              "\n",
              "    .colab-df-buttons div {\n",
              "      margin-bottom: 4px;\n",
              "    }\n",
              "\n",
              "    [theme=dark] .colab-df-convert {\n",
              "      background-color: #3B4455;\n",
              "      fill: #D2E3FC;\n",
              "    }\n",
              "\n",
              "    [theme=dark] .colab-df-convert:hover {\n",
              "      background-color: #434B5C;\n",
              "      box-shadow: 0px 1px 3px 1px rgba(0, 0, 0, 0.15);\n",
              "      filter: drop-shadow(0px 1px 2px rgba(0, 0, 0, 0.3));\n",
              "      fill: #FFFFFF;\n",
              "    }\n",
              "  </style>\n",
              "\n",
              "    <script>\n",
              "      const buttonEl =\n",
              "        document.querySelector('#df-012a29c1-6dc8-46fb-b831-501bbef804cf button.colab-df-convert');\n",
              "      buttonEl.style.display =\n",
              "        google.colab.kernel.accessAllowed ? 'block' : 'none';\n",
              "\n",
              "      async function convertToInteractive(key) {\n",
              "        const element = document.querySelector('#df-012a29c1-6dc8-46fb-b831-501bbef804cf');\n",
              "        const dataTable =\n",
              "          await google.colab.kernel.invokeFunction('convertToInteractive',\n",
              "                                                    [key], {});\n",
              "        if (!dataTable) return;\n",
              "\n",
              "        const docLinkHtml = 'Like what you see? Visit the ' +\n",
              "          '<a target=\"_blank\" href=https://colab.research.google.com/notebooks/data_table.ipynb>data table notebook</a>'\n",
              "          + ' to learn more about interactive tables.';\n",
              "        element.innerHTML = '';\n",
              "        dataTable['output_type'] = 'display_data';\n",
              "        await google.colab.output.renderOutput(dataTable, element);\n",
              "        const docLink = document.createElement('div');\n",
              "        docLink.innerHTML = docLinkHtml;\n",
              "        element.appendChild(docLink);\n",
              "      }\n",
              "    </script>\n",
              "  </div>\n",
              "\n",
              "\n",
              "<div id=\"df-0f8da580-e4b4-4892-9e83-53bc7e3a3d53\">\n",
              "  <button class=\"colab-df-quickchart\" onclick=\"quickchart('df-0f8da580-e4b4-4892-9e83-53bc7e3a3d53')\"\n",
              "            title=\"Suggest charts\"\n",
              "            style=\"display:none;\">\n",
              "\n",
              "<svg xmlns=\"http://www.w3.org/2000/svg\" height=\"24px\"viewBox=\"0 0 24 24\"\n",
              "     width=\"24px\">\n",
              "    <g>\n",
              "        <path d=\"M19 3H5c-1.1 0-2 .9-2 2v14c0 1.1.9 2 2 2h14c1.1 0 2-.9 2-2V5c0-1.1-.9-2-2-2zM9 17H7v-7h2v7zm4 0h-2V7h2v10zm4 0h-2v-4h2v4z\"/>\n",
              "    </g>\n",
              "</svg>\n",
              "  </button>\n",
              "\n",
              "<style>\n",
              "  .colab-df-quickchart {\n",
              "      --bg-color: #E8F0FE;\n",
              "      --fill-color: #1967D2;\n",
              "      --hover-bg-color: #E2EBFA;\n",
              "      --hover-fill-color: #174EA6;\n",
              "      --disabled-fill-color: #AAA;\n",
              "      --disabled-bg-color: #DDD;\n",
              "  }\n",
              "\n",
              "  [theme=dark] .colab-df-quickchart {\n",
              "      --bg-color: #3B4455;\n",
              "      --fill-color: #D2E3FC;\n",
              "      --hover-bg-color: #434B5C;\n",
              "      --hover-fill-color: #FFFFFF;\n",
              "      --disabled-bg-color: #3B4455;\n",
              "      --disabled-fill-color: #666;\n",
              "  }\n",
              "\n",
              "  .colab-df-quickchart {\n",
              "    background-color: var(--bg-color);\n",
              "    border: none;\n",
              "    border-radius: 50%;\n",
              "    cursor: pointer;\n",
              "    display: none;\n",
              "    fill: var(--fill-color);\n",
              "    height: 32px;\n",
              "    padding: 0;\n",
              "    width: 32px;\n",
              "  }\n",
              "\n",
              "  .colab-df-quickchart:hover {\n",
              "    background-color: var(--hover-bg-color);\n",
              "    box-shadow: 0 1px 2px rgba(60, 64, 67, 0.3), 0 1px 3px 1px rgba(60, 64, 67, 0.15);\n",
              "    fill: var(--button-hover-fill-color);\n",
              "  }\n",
              "\n",
              "  .colab-df-quickchart-complete:disabled,\n",
              "  .colab-df-quickchart-complete:disabled:hover {\n",
              "    background-color: var(--disabled-bg-color);\n",
              "    fill: var(--disabled-fill-color);\n",
              "    box-shadow: none;\n",
              "  }\n",
              "\n",
              "  .colab-df-spinner {\n",
              "    border: 2px solid var(--fill-color);\n",
              "    border-color: transparent;\n",
              "    border-bottom-color: var(--fill-color);\n",
              "    animation:\n",
              "      spin 1s steps(1) infinite;\n",
              "  }\n",
              "\n",
              "  @keyframes spin {\n",
              "    0% {\n",
              "      border-color: transparent;\n",
              "      border-bottom-color: var(--fill-color);\n",
              "      border-left-color: var(--fill-color);\n",
              "    }\n",
              "    20% {\n",
              "      border-color: transparent;\n",
              "      border-left-color: var(--fill-color);\n",
              "      border-top-color: var(--fill-color);\n",
              "    }\n",
              "    30% {\n",
              "      border-color: transparent;\n",
              "      border-left-color: var(--fill-color);\n",
              "      border-top-color: var(--fill-color);\n",
              "      border-right-color: var(--fill-color);\n",
              "    }\n",
              "    40% {\n",
              "      border-color: transparent;\n",
              "      border-right-color: var(--fill-color);\n",
              "      border-top-color: var(--fill-color);\n",
              "    }\n",
              "    60% {\n",
              "      border-color: transparent;\n",
              "      border-right-color: var(--fill-color);\n",
              "    }\n",
              "    80% {\n",
              "      border-color: transparent;\n",
              "      border-right-color: var(--fill-color);\n",
              "      border-bottom-color: var(--fill-color);\n",
              "    }\n",
              "    90% {\n",
              "      border-color: transparent;\n",
              "      border-bottom-color: var(--fill-color);\n",
              "    }\n",
              "  }\n",
              "</style>\n",
              "\n",
              "  <script>\n",
              "    async function quickchart(key) {\n",
              "      const quickchartButtonEl =\n",
              "        document.querySelector('#' + key + ' button');\n",
              "      quickchartButtonEl.disabled = true;  // To prevent multiple clicks.\n",
              "      quickchartButtonEl.classList.add('colab-df-spinner');\n",
              "      try {\n",
              "        const charts = await google.colab.kernel.invokeFunction(\n",
              "            'suggestCharts', [key], {});\n",
              "      } catch (error) {\n",
              "        console.error('Error during call to suggestCharts:', error);\n",
              "      }\n",
              "      quickchartButtonEl.classList.remove('colab-df-spinner');\n",
              "      quickchartButtonEl.classList.add('colab-df-quickchart-complete');\n",
              "    }\n",
              "    (() => {\n",
              "      let quickchartButtonEl =\n",
              "        document.querySelector('#df-0f8da580-e4b4-4892-9e83-53bc7e3a3d53 button');\n",
              "      quickchartButtonEl.style.display =\n",
              "        google.colab.kernel.accessAllowed ? 'block' : 'none';\n",
              "    })();\n",
              "  </script>\n",
              "</div>\n",
              "\n",
              "    </div>\n",
              "  </div>\n"
            ],
            "application/vnd.google.colaboratory.intrinsic+json": {
              "type": "dataframe",
              "summary": "{\n  \"name\": \"basic_descriptive_stats(df_train)\",\n  \"rows\": 8,\n  \"fields\": [\n    {\n      \"column\": \"Accident Date\",\n      \"properties\": {\n        \"dtype\": \"date\",\n        \"min\": \"1961-09-06 00:00:00\",\n        \"max\": \"2023-09-29 00:00:00\",\n        \"num_unique_values\": 7,\n        \"samples\": [\n          \"570337\",\n          \"2021-04-28 21:00:27.892982784\",\n          \"2022-03-21 00:00:00\"\n        ],\n        \"semantic_type\": \"\",\n        \"description\": \"\"\n      }\n    },\n    {\n      \"column\": \"Age at Injury\",\n      \"properties\": {\n        \"dtype\": \"number\",\n        \"std\": 202933.67054018367,\n        \"min\": 0.0,\n        \"max\": 574026.0,\n        \"num_unique_values\": 8,\n        \"samples\": [\n          42.11427008532714,\n          54.0,\n          574026.0\n        ],\n        \"semantic_type\": \"\",\n        \"description\": \"\"\n      }\n    },\n    {\n      \"column\": \"Assembly Date\",\n      \"properties\": {\n        \"dtype\": \"date\",\n        \"min\": \"1970-01-01 00:00:00.000593471\",\n        \"max\": \"2022-12-31 00:00:00\",\n        \"num_unique_values\": 7,\n        \"samples\": [\n          \"593471\",\n          \"2021-07-19 03:25:38.260841728\",\n          \"2022-04-19 00:00:00\"\n        ],\n        \"semantic_type\": \"\",\n        \"description\": \"\"\n      }\n    },\n    {\n      \"column\": \"Average Weekly Wage\",\n      \"properties\": {\n        \"dtype\": \"number\",\n        \"std\": 990433.5223917806,\n        \"min\": 0.0,\n        \"max\": 2828079.0,\n        \"num_unique_values\": 6,\n        \"samples\": [\n          545375.0,\n          491.08832067843224,\n          6092.9181203761655\n        ],\n        \"semantic_type\": \"\",\n        \"description\": \"\"\n      }\n    },\n    {\n      \"column\": \"Birth Year\",\n      \"properties\": {\n        \"dtype\": \"number\",\n        \"std\": 192152.16928827405,\n        \"min\": 0.0,\n        \"max\": 544948.0,\n        \"num_unique_values\": 8,\n        \"samples\": [\n          1886.7676035144639,\n          1989.0,\n          544948.0\n        ],\n        \"semantic_type\": \"\",\n        \"description\": \"\"\n      }\n    },\n    {\n      \"column\": \"C-2 Date\",\n      \"properties\": {\n        \"dtype\": \"date\",\n        \"min\": \"1970-01-01 00:00:00.000559466\",\n        \"max\": \"2024-06-01 00:00:00\",\n        \"num_unique_values\": 7,\n        \"samples\": [\n          \"559466\",\n          \"2021-07-16 20:11:19.865443328\",\n          \"2022-04-26 00:00:00\"\n        ],\n        \"semantic_type\": \"\",\n        \"description\": \"\"\n      }\n    },\n    {\n      \"column\": \"C-3 Date\",\n      \"properties\": {\n        \"dtype\": \"date\",\n        \"min\": \"1970-01-01 00:00:00.000187245\",\n        \"max\": \"2024-05-31 00:00:00\",\n        \"num_unique_values\": 7,\n        \"samples\": [\n          \"187245\",\n          \"2021-07-26 21:31:28.449891840\",\n          \"2022-04-20 00:00:00\"\n        ],\n        \"semantic_type\": \"\",\n        \"description\": \"\"\n      }\n    },\n    {\n      \"column\": \"Claim Identifier\",\n      \"properties\": {\n        \"dtype\": \"number\",\n        \"std\": 347524412.3292552,\n        \"min\": 593471.0,\n        \"max\": 999891667.0,\n        \"num_unique_values\": 8,\n        \"samples\": [\n          23667598.792812116,\n          5991000.5,\n          593471.0\n        ],\n        \"semantic_type\": \"\",\n        \"description\": \"\"\n      }\n    },\n    {\n      \"column\": \"First Hearing Date\",\n      \"properties\": {\n        \"dtype\": \"date\",\n        \"min\": \"1970-01-01 00:00:00.000150798\",\n        \"max\": \"2024-06-07 00:00:00\",\n        \"num_unique_values\": 7,\n        \"samples\": [\n          \"150798\",\n          \"2022-03-19 05:07:38.218278400\",\n          \"2023-01-11 00:00:00\"\n        ],\n        \"semantic_type\": \"\",\n        \"description\": \"\"\n      }\n    },\n    {\n      \"column\": \"IME-4 Count\",\n      \"properties\": {\n        \"dtype\": \"number\",\n        \"std\": 46948.56128763449,\n        \"min\": 1.0,\n        \"max\": 132803.0,\n        \"num_unique_values\": 7,\n        \"samples\": [\n          132803.0,\n          3.20733718364796,\n          73.0\n        ],\n        \"semantic_type\": \"\",\n        \"description\": \"\"\n      }\n    },\n    {\n      \"column\": \"Industry Code\",\n      \"properties\": {\n        \"dtype\": \"number\",\n        \"std\": 199410.05931396224,\n        \"min\": 11.0,\n        \"max\": 564068.0,\n        \"num_unique_values\": 8,\n        \"samples\": [\n          58.64530517597169,\n          71.0,\n          564068.0\n        ],\n        \"semantic_type\": \"\",\n        \"description\": \"\"\n      }\n    },\n    {\n      \"column\": \"OIICS Nature of Injury Description\",\n      \"properties\": {\n        \"dtype\": \"number\",\n        \"std\": null,\n        \"min\": 0.0,\n        \"max\": 0.0,\n        \"num_unique_values\": 1,\n        \"samples\": [\n          0.0\n        ],\n        \"semantic_type\": \"\",\n        \"description\": \"\"\n      }\n    },\n    {\n      \"column\": \"WCIO Cause of Injury Code\",\n      \"properties\": {\n        \"dtype\": \"number\",\n        \"std\": 197401.97937224575,\n        \"min\": 1.0,\n        \"max\": 558386.0,\n        \"num_unique_values\": 8,\n        \"samples\": [\n          54.38114315186986\n        ],\n        \"semantic_type\": \"\",\n        \"description\": \"\"\n      }\n    },\n    {\n      \"column\": \"WCIO Nature of Injury Code\",\n      \"properties\": {\n        \"dtype\": \"number\",\n        \"std\": 197399.50579040925,\n        \"min\": 1.0,\n        \"max\": 558369.0,\n        \"num_unique_values\": 8,\n        \"samples\": [\n          41.01383851897222\n        ],\n        \"semantic_type\": \"\",\n        \"description\": \"\"\n      }\n    },\n    {\n      \"column\": \"WCIO Part Of Body Code\",\n      \"properties\": {\n        \"dtype\": \"number\",\n        \"std\": 196895.49653474116,\n        \"min\": -9.0,\n        \"max\": 556944.0,\n        \"num_unique_values\": 8,\n        \"samples\": [\n          39.73814602545319\n        ],\n        \"semantic_type\": \"\",\n        \"description\": \"\"\n      }\n    },\n    {\n      \"column\": \"Agreement Reached\",\n      \"properties\": {\n        \"dtype\": \"number\",\n        \"std\": 202948.77507130278,\n        \"min\": 0.0,\n        \"max\": 574026.0,\n        \"num_unique_values\": 5,\n        \"samples\": [\n          0.04666513363506183\n        ],\n        \"semantic_type\": \"\",\n        \"description\": \"\"\n      }\n    },\n    {\n      \"column\": \"Number of Dependents\",\n      \"properties\": {\n        \"dtype\": \"number\",\n        \"std\": 202947.82807385304,\n        \"min\": 0.0,\n        \"max\": 574026.0,\n        \"num_unique_values\": 8,\n        \"samples\": [\n          3.006558936354799\n        ],\n        \"semantic_type\": \"\",\n        \"description\": \"\"\n      }\n    }\n  ]\n}"
            }
          },
          "metadata": {}
        },
        {
          "output_type": "stream",
          "name": "stdout",
          "text": [
            "\n",
            "Categorical Features Description:\n"
          ]
        },
        {
          "output_type": "display_data",
          "data": {
            "text/plain": [
              "       Alternative Dispute Resolution Attorney/Representative  \\\n",
              "count                          574026                  574026   \n",
              "unique                              3                       2   \n",
              "top                                 N                       N   \n",
              "freq                           571412                  392291   \n",
              "\n",
              "                Carrier Name Carrier Type Claim Injury Type County of Injury  \\\n",
              "count                 574026       574026            574026           574026   \n",
              "unique                  2046            8                 8               63   \n",
              "top     STATE INSURANCE FUND  1A. PRIVATE       2. NON-COMP          SUFFOLK   \n",
              "freq                  111144       285368            291078            60430   \n",
              "\n",
              "       COVID-19 Indicator District Name  Gender  \\\n",
              "count              574026        574026  574026   \n",
              "unique                  2             8       4   \n",
              "top                     N           NYC       M   \n",
              "freq               546505        270779  335218   \n",
              "\n",
              "                Industry Code Description Medical Fee Region  \\\n",
              "count                              564068             574026   \n",
              "unique                                 20                  5   \n",
              "top     HEALTH CARE AND SOCIAL ASSISTANCE                 IV   \n",
              "freq                               114339             265981   \n",
              "\n",
              "       WCIO Cause of Injury Description WCIO Nature of Injury Description  \\\n",
              "count                            558386                            558369   \n",
              "unique                               74                                56   \n",
              "top                             LIFTING                    STRAIN OR TEAR   \n",
              "freq                              46610                            153373   \n",
              "\n",
              "       WCIO Part Of Body Description Zip Code      WCB Decision  \n",
              "count                         556944   545389            574026  \n",
              "unique                            54    10060                 1  \n",
              "top                  LOWER BACK AREA    11236  Not Work Related  \n",
              "freq                           51862     3302            574026  "
            ],
            "text/html": [
              "\n",
              "  <div id=\"df-ac1e3a44-2512-4a9d-b232-6c952e11883e\" class=\"colab-df-container\">\n",
              "    <div>\n",
              "<style scoped>\n",
              "    .dataframe tbody tr th:only-of-type {\n",
              "        vertical-align: middle;\n",
              "    }\n",
              "\n",
              "    .dataframe tbody tr th {\n",
              "        vertical-align: top;\n",
              "    }\n",
              "\n",
              "    .dataframe thead th {\n",
              "        text-align: right;\n",
              "    }\n",
              "</style>\n",
              "<table border=\"1\" class=\"dataframe\">\n",
              "  <thead>\n",
              "    <tr style=\"text-align: right;\">\n",
              "      <th></th>\n",
              "      <th>Alternative Dispute Resolution</th>\n",
              "      <th>Attorney/Representative</th>\n",
              "      <th>Carrier Name</th>\n",
              "      <th>Carrier Type</th>\n",
              "      <th>Claim Injury Type</th>\n",
              "      <th>County of Injury</th>\n",
              "      <th>COVID-19 Indicator</th>\n",
              "      <th>District Name</th>\n",
              "      <th>Gender</th>\n",
              "      <th>Industry Code Description</th>\n",
              "      <th>Medical Fee Region</th>\n",
              "      <th>WCIO Cause of Injury Description</th>\n",
              "      <th>WCIO Nature of Injury Description</th>\n",
              "      <th>WCIO Part Of Body Description</th>\n",
              "      <th>Zip Code</th>\n",
              "      <th>WCB Decision</th>\n",
              "    </tr>\n",
              "  </thead>\n",
              "  <tbody>\n",
              "    <tr>\n",
              "      <th>count</th>\n",
              "      <td>574026</td>\n",
              "      <td>574026</td>\n",
              "      <td>574026</td>\n",
              "      <td>574026</td>\n",
              "      <td>574026</td>\n",
              "      <td>574026</td>\n",
              "      <td>574026</td>\n",
              "      <td>574026</td>\n",
              "      <td>574026</td>\n",
              "      <td>564068</td>\n",
              "      <td>574026</td>\n",
              "      <td>558386</td>\n",
              "      <td>558369</td>\n",
              "      <td>556944</td>\n",
              "      <td>545389</td>\n",
              "      <td>574026</td>\n",
              "    </tr>\n",
              "    <tr>\n",
              "      <th>unique</th>\n",
              "      <td>3</td>\n",
              "      <td>2</td>\n",
              "      <td>2046</td>\n",
              "      <td>8</td>\n",
              "      <td>8</td>\n",
              "      <td>63</td>\n",
              "      <td>2</td>\n",
              "      <td>8</td>\n",
              "      <td>4</td>\n",
              "      <td>20</td>\n",
              "      <td>5</td>\n",
              "      <td>74</td>\n",
              "      <td>56</td>\n",
              "      <td>54</td>\n",
              "      <td>10060</td>\n",
              "      <td>1</td>\n",
              "    </tr>\n",
              "    <tr>\n",
              "      <th>top</th>\n",
              "      <td>N</td>\n",
              "      <td>N</td>\n",
              "      <td>STATE INSURANCE FUND</td>\n",
              "      <td>1A. PRIVATE</td>\n",
              "      <td>2. NON-COMP</td>\n",
              "      <td>SUFFOLK</td>\n",
              "      <td>N</td>\n",
              "      <td>NYC</td>\n",
              "      <td>M</td>\n",
              "      <td>HEALTH CARE AND SOCIAL ASSISTANCE</td>\n",
              "      <td>IV</td>\n",
              "      <td>LIFTING</td>\n",
              "      <td>STRAIN OR TEAR</td>\n",
              "      <td>LOWER BACK AREA</td>\n",
              "      <td>11236</td>\n",
              "      <td>Not Work Related</td>\n",
              "    </tr>\n",
              "    <tr>\n",
              "      <th>freq</th>\n",
              "      <td>571412</td>\n",
              "      <td>392291</td>\n",
              "      <td>111144</td>\n",
              "      <td>285368</td>\n",
              "      <td>291078</td>\n",
              "      <td>60430</td>\n",
              "      <td>546505</td>\n",
              "      <td>270779</td>\n",
              "      <td>335218</td>\n",
              "      <td>114339</td>\n",
              "      <td>265981</td>\n",
              "      <td>46610</td>\n",
              "      <td>153373</td>\n",
              "      <td>51862</td>\n",
              "      <td>3302</td>\n",
              "      <td>574026</td>\n",
              "    </tr>\n",
              "  </tbody>\n",
              "</table>\n",
              "</div>\n",
              "    <div class=\"colab-df-buttons\">\n",
              "\n",
              "  <div class=\"colab-df-container\">\n",
              "    <button class=\"colab-df-convert\" onclick=\"convertToInteractive('df-ac1e3a44-2512-4a9d-b232-6c952e11883e')\"\n",
              "            title=\"Convert this dataframe to an interactive table.\"\n",
              "            style=\"display:none;\">\n",
              "\n",
              "  <svg xmlns=\"http://www.w3.org/2000/svg\" height=\"24px\" viewBox=\"0 -960 960 960\">\n",
              "    <path d=\"M120-120v-720h720v720H120Zm60-500h600v-160H180v160Zm220 220h160v-160H400v160Zm0 220h160v-160H400v160ZM180-400h160v-160H180v160Zm440 0h160v-160H620v160ZM180-180h160v-160H180v160Zm440 0h160v-160H620v160Z\"/>\n",
              "  </svg>\n",
              "    </button>\n",
              "\n",
              "  <style>\n",
              "    .colab-df-container {\n",
              "      display:flex;\n",
              "      gap: 12px;\n",
              "    }\n",
              "\n",
              "    .colab-df-convert {\n",
              "      background-color: #E8F0FE;\n",
              "      border: none;\n",
              "      border-radius: 50%;\n",
              "      cursor: pointer;\n",
              "      display: none;\n",
              "      fill: #1967D2;\n",
              "      height: 32px;\n",
              "      padding: 0 0 0 0;\n",
              "      width: 32px;\n",
              "    }\n",
              "\n",
              "    .colab-df-convert:hover {\n",
              "      background-color: #E2EBFA;\n",
              "      box-shadow: 0px 1px 2px rgba(60, 64, 67, 0.3), 0px 1px 3px 1px rgba(60, 64, 67, 0.15);\n",
              "      fill: #174EA6;\n",
              "    }\n",
              "\n",
              "    .colab-df-buttons div {\n",
              "      margin-bottom: 4px;\n",
              "    }\n",
              "\n",
              "    [theme=dark] .colab-df-convert {\n",
              "      background-color: #3B4455;\n",
              "      fill: #D2E3FC;\n",
              "    }\n",
              "\n",
              "    [theme=dark] .colab-df-convert:hover {\n",
              "      background-color: #434B5C;\n",
              "      box-shadow: 0px 1px 3px 1px rgba(0, 0, 0, 0.15);\n",
              "      filter: drop-shadow(0px 1px 2px rgba(0, 0, 0, 0.3));\n",
              "      fill: #FFFFFF;\n",
              "    }\n",
              "  </style>\n",
              "\n",
              "    <script>\n",
              "      const buttonEl =\n",
              "        document.querySelector('#df-ac1e3a44-2512-4a9d-b232-6c952e11883e button.colab-df-convert');\n",
              "      buttonEl.style.display =\n",
              "        google.colab.kernel.accessAllowed ? 'block' : 'none';\n",
              "\n",
              "      async function convertToInteractive(key) {\n",
              "        const element = document.querySelector('#df-ac1e3a44-2512-4a9d-b232-6c952e11883e');\n",
              "        const dataTable =\n",
              "          await google.colab.kernel.invokeFunction('convertToInteractive',\n",
              "                                                    [key], {});\n",
              "        if (!dataTable) return;\n",
              "\n",
              "        const docLinkHtml = 'Like what you see? Visit the ' +\n",
              "          '<a target=\"_blank\" href=https://colab.research.google.com/notebooks/data_table.ipynb>data table notebook</a>'\n",
              "          + ' to learn more about interactive tables.';\n",
              "        element.innerHTML = '';\n",
              "        dataTable['output_type'] = 'display_data';\n",
              "        await google.colab.output.renderOutput(dataTable, element);\n",
              "        const docLink = document.createElement('div');\n",
              "        docLink.innerHTML = docLinkHtml;\n",
              "        element.appendChild(docLink);\n",
              "      }\n",
              "    </script>\n",
              "  </div>\n",
              "\n",
              "\n",
              "<div id=\"df-1ed46ae0-47ea-4014-88cd-cc9d28fca552\">\n",
              "  <button class=\"colab-df-quickchart\" onclick=\"quickchart('df-1ed46ae0-47ea-4014-88cd-cc9d28fca552')\"\n",
              "            title=\"Suggest charts\"\n",
              "            style=\"display:none;\">\n",
              "\n",
              "<svg xmlns=\"http://www.w3.org/2000/svg\" height=\"24px\"viewBox=\"0 0 24 24\"\n",
              "     width=\"24px\">\n",
              "    <g>\n",
              "        <path d=\"M19 3H5c-1.1 0-2 .9-2 2v14c0 1.1.9 2 2 2h14c1.1 0 2-.9 2-2V5c0-1.1-.9-2-2-2zM9 17H7v-7h2v7zm4 0h-2V7h2v10zm4 0h-2v-4h2v4z\"/>\n",
              "    </g>\n",
              "</svg>\n",
              "  </button>\n",
              "\n",
              "<style>\n",
              "  .colab-df-quickchart {\n",
              "      --bg-color: #E8F0FE;\n",
              "      --fill-color: #1967D2;\n",
              "      --hover-bg-color: #E2EBFA;\n",
              "      --hover-fill-color: #174EA6;\n",
              "      --disabled-fill-color: #AAA;\n",
              "      --disabled-bg-color: #DDD;\n",
              "  }\n",
              "\n",
              "  [theme=dark] .colab-df-quickchart {\n",
              "      --bg-color: #3B4455;\n",
              "      --fill-color: #D2E3FC;\n",
              "      --hover-bg-color: #434B5C;\n",
              "      --hover-fill-color: #FFFFFF;\n",
              "      --disabled-bg-color: #3B4455;\n",
              "      --disabled-fill-color: #666;\n",
              "  }\n",
              "\n",
              "  .colab-df-quickchart {\n",
              "    background-color: var(--bg-color);\n",
              "    border: none;\n",
              "    border-radius: 50%;\n",
              "    cursor: pointer;\n",
              "    display: none;\n",
              "    fill: var(--fill-color);\n",
              "    height: 32px;\n",
              "    padding: 0;\n",
              "    width: 32px;\n",
              "  }\n",
              "\n",
              "  .colab-df-quickchart:hover {\n",
              "    background-color: var(--hover-bg-color);\n",
              "    box-shadow: 0 1px 2px rgba(60, 64, 67, 0.3), 0 1px 3px 1px rgba(60, 64, 67, 0.15);\n",
              "    fill: var(--button-hover-fill-color);\n",
              "  }\n",
              "\n",
              "  .colab-df-quickchart-complete:disabled,\n",
              "  .colab-df-quickchart-complete:disabled:hover {\n",
              "    background-color: var(--disabled-bg-color);\n",
              "    fill: var(--disabled-fill-color);\n",
              "    box-shadow: none;\n",
              "  }\n",
              "\n",
              "  .colab-df-spinner {\n",
              "    border: 2px solid var(--fill-color);\n",
              "    border-color: transparent;\n",
              "    border-bottom-color: var(--fill-color);\n",
              "    animation:\n",
              "      spin 1s steps(1) infinite;\n",
              "  }\n",
              "\n",
              "  @keyframes spin {\n",
              "    0% {\n",
              "      border-color: transparent;\n",
              "      border-bottom-color: var(--fill-color);\n",
              "      border-left-color: var(--fill-color);\n",
              "    }\n",
              "    20% {\n",
              "      border-color: transparent;\n",
              "      border-left-color: var(--fill-color);\n",
              "      border-top-color: var(--fill-color);\n",
              "    }\n",
              "    30% {\n",
              "      border-color: transparent;\n",
              "      border-left-color: var(--fill-color);\n",
              "      border-top-color: var(--fill-color);\n",
              "      border-right-color: var(--fill-color);\n",
              "    }\n",
              "    40% {\n",
              "      border-color: transparent;\n",
              "      border-right-color: var(--fill-color);\n",
              "      border-top-color: var(--fill-color);\n",
              "    }\n",
              "    60% {\n",
              "      border-color: transparent;\n",
              "      border-right-color: var(--fill-color);\n",
              "    }\n",
              "    80% {\n",
              "      border-color: transparent;\n",
              "      border-right-color: var(--fill-color);\n",
              "      border-bottom-color: var(--fill-color);\n",
              "    }\n",
              "    90% {\n",
              "      border-color: transparent;\n",
              "      border-bottom-color: var(--fill-color);\n",
              "    }\n",
              "  }\n",
              "</style>\n",
              "\n",
              "  <script>\n",
              "    async function quickchart(key) {\n",
              "      const quickchartButtonEl =\n",
              "        document.querySelector('#' + key + ' button');\n",
              "      quickchartButtonEl.disabled = true;  // To prevent multiple clicks.\n",
              "      quickchartButtonEl.classList.add('colab-df-spinner');\n",
              "      try {\n",
              "        const charts = await google.colab.kernel.invokeFunction(\n",
              "            'suggestCharts', [key], {});\n",
              "      } catch (error) {\n",
              "        console.error('Error during call to suggestCharts:', error);\n",
              "      }\n",
              "      quickchartButtonEl.classList.remove('colab-df-spinner');\n",
              "      quickchartButtonEl.classList.add('colab-df-quickchart-complete');\n",
              "    }\n",
              "    (() => {\n",
              "      let quickchartButtonEl =\n",
              "        document.querySelector('#df-1ed46ae0-47ea-4014-88cd-cc9d28fca552 button');\n",
              "      quickchartButtonEl.style.display =\n",
              "        google.colab.kernel.accessAllowed ? 'block' : 'none';\n",
              "    })();\n",
              "  </script>\n",
              "</div>\n",
              "\n",
              "    </div>\n",
              "  </div>\n"
            ],
            "application/vnd.google.colaboratory.intrinsic+json": {
              "type": "dataframe",
              "summary": "{\n  \"name\": \"basic_descriptive_stats(df_train)\",\n  \"rows\": 4,\n  \"fields\": [\n    {\n      \"column\": \"Alternative Dispute Resolution\",\n      \"properties\": {\n        \"dtype\": \"string\",\n        \"num_unique_values\": 4,\n        \"samples\": [\n          3,\n          \"571412\",\n          \"574026\"\n        ],\n        \"semantic_type\": \"\",\n        \"description\": \"\"\n      }\n    },\n    {\n      \"column\": \"Attorney/Representative\",\n      \"properties\": {\n        \"dtype\": \"string\",\n        \"num_unique_values\": 4,\n        \"samples\": [\n          2,\n          \"392291\",\n          \"574026\"\n        ],\n        \"semantic_type\": \"\",\n        \"description\": \"\"\n      }\n    },\n    {\n      \"column\": \"Carrier Name\",\n      \"properties\": {\n        \"dtype\": \"string\",\n        \"num_unique_values\": 4,\n        \"samples\": [\n          2046,\n          \"111144\",\n          \"574026\"\n        ],\n        \"semantic_type\": \"\",\n        \"description\": \"\"\n      }\n    },\n    {\n      \"column\": \"Carrier Type\",\n      \"properties\": {\n        \"dtype\": \"string\",\n        \"num_unique_values\": 4,\n        \"samples\": [\n          8,\n          \"285368\",\n          \"574026\"\n        ],\n        \"semantic_type\": \"\",\n        \"description\": \"\"\n      }\n    },\n    {\n      \"column\": \"Claim Injury Type\",\n      \"properties\": {\n        \"dtype\": \"string\",\n        \"num_unique_values\": 4,\n        \"samples\": [\n          8,\n          \"291078\",\n          \"574026\"\n        ],\n        \"semantic_type\": \"\",\n        \"description\": \"\"\n      }\n    },\n    {\n      \"column\": \"County of Injury\",\n      \"properties\": {\n        \"dtype\": \"string\",\n        \"num_unique_values\": 4,\n        \"samples\": [\n          63,\n          \"60430\",\n          \"574026\"\n        ],\n        \"semantic_type\": \"\",\n        \"description\": \"\"\n      }\n    },\n    {\n      \"column\": \"COVID-19 Indicator\",\n      \"properties\": {\n        \"dtype\": \"string\",\n        \"num_unique_values\": 4,\n        \"samples\": [\n          2,\n          \"546505\",\n          \"574026\"\n        ],\n        \"semantic_type\": \"\",\n        \"description\": \"\"\n      }\n    },\n    {\n      \"column\": \"District Name\",\n      \"properties\": {\n        \"dtype\": \"string\",\n        \"num_unique_values\": 4,\n        \"samples\": [\n          8,\n          \"270779\",\n          \"574026\"\n        ],\n        \"semantic_type\": \"\",\n        \"description\": \"\"\n      }\n    },\n    {\n      \"column\": \"Gender\",\n      \"properties\": {\n        \"dtype\": \"string\",\n        \"num_unique_values\": 4,\n        \"samples\": [\n          4,\n          \"335218\",\n          \"574026\"\n        ],\n        \"semantic_type\": \"\",\n        \"description\": \"\"\n      }\n    },\n    {\n      \"column\": \"Industry Code Description\",\n      \"properties\": {\n        \"dtype\": \"string\",\n        \"num_unique_values\": 4,\n        \"samples\": [\n          20,\n          \"114339\",\n          \"564068\"\n        ],\n        \"semantic_type\": \"\",\n        \"description\": \"\"\n      }\n    },\n    {\n      \"column\": \"Medical Fee Region\",\n      \"properties\": {\n        \"dtype\": \"string\",\n        \"num_unique_values\": 4,\n        \"samples\": [\n          5,\n          \"265981\",\n          \"574026\"\n        ],\n        \"semantic_type\": \"\",\n        \"description\": \"\"\n      }\n    },\n    {\n      \"column\": \"WCIO Cause of Injury Description\",\n      \"properties\": {\n        \"dtype\": \"string\",\n        \"num_unique_values\": 4,\n        \"samples\": [\n          74,\n          \"46610\",\n          \"558386\"\n        ],\n        \"semantic_type\": \"\",\n        \"description\": \"\"\n      }\n    },\n    {\n      \"column\": \"WCIO Nature of Injury Description\",\n      \"properties\": {\n        \"dtype\": \"string\",\n        \"num_unique_values\": 4,\n        \"samples\": [\n          56,\n          \"153373\",\n          \"558369\"\n        ],\n        \"semantic_type\": \"\",\n        \"description\": \"\"\n      }\n    },\n    {\n      \"column\": \"WCIO Part Of Body Description\",\n      \"properties\": {\n        \"dtype\": \"string\",\n        \"num_unique_values\": 4,\n        \"samples\": [\n          54,\n          \"51862\",\n          \"556944\"\n        ],\n        \"semantic_type\": \"\",\n        \"description\": \"\"\n      }\n    },\n    {\n      \"column\": \"Zip Code\",\n      \"properties\": {\n        \"dtype\": \"string\",\n        \"num_unique_values\": 4,\n        \"samples\": [\n          10060,\n          \"3302\",\n          \"545389\"\n        ],\n        \"semantic_type\": \"\",\n        \"description\": \"\"\n      }\n    },\n    {\n      \"column\": \"WCB Decision\",\n      \"properties\": {\n        \"dtype\": \"string\",\n        \"num_unique_values\": 3,\n        \"samples\": [\n          \"574026\",\n          1,\n          \"Not Work Related\"\n        ],\n        \"semantic_type\": \"\",\n        \"description\": \"\"\n      }\n    }\n  ]\n}"
            }
          },
          "metadata": {}
        },
        {
          "output_type": "stream",
          "name": "stdout",
          "text": [
            "\n",
            "Missing Values Summary:\n",
            "Accident Date                          23134\n",
            "Age at Injury                          19445\n",
            "Alternative Dispute Resolution         19445\n",
            "Assembly Date                              0\n",
            "Attorney/Representative                19445\n",
            "Average Weekly Wage                    48096\n",
            "Birth Year                             48523\n",
            "C-2 Date                               34005\n",
            "C-3 Date                              406226\n",
            "Carrier Name                           19445\n",
            "Carrier Type                           19445\n",
            "Claim Identifier                           0\n",
            "Claim Injury Type                      19445\n",
            "County of Injury                       19445\n",
            "COVID-19 Indicator                     19445\n",
            "District Name                          19445\n",
            "First Hearing Date                    442673\n",
            "Gender                                 19445\n",
            "IME-4 Count                           460668\n",
            "Industry Code                          29403\n",
            "Industry Code Description              29403\n",
            "Medical Fee Region                     19445\n",
            "OIICS Nature of Injury Description    593471\n",
            "WCIO Cause of Injury Code              35085\n",
            "WCIO Cause of Injury Description       35085\n",
            "WCIO Nature of Injury Code             35102\n",
            "WCIO Nature of Injury Description      35102\n",
            "WCIO Part Of Body Code                 36527\n",
            "WCIO Part Of Body Description          36527\n",
            "Zip Code                               48082\n",
            "Agreement Reached                      19445\n",
            "WCB Decision                           19445\n",
            "Number of Dependents                   19445\n",
            "dtype: int64\n",
            "\n",
            "Duplicate Check:\n",
            "Number of duplicates: 0\n"
          ]
        }
      ],
      "source": [
        "basic_descriptive_stats(df_train)"
      ]
    },
    {
      "cell_type": "markdown",
      "id": "6c4236d0-3b0b-486d-ab87-83bb8e151d3b",
      "metadata": {
        "id": "6c4236d0-3b0b-486d-ab87-83bb8e151d3b"
      },
      "source": [
        "## Step 2: Single Feature analysis"
      ]
    },
    {
      "cell_type": "markdown",
      "source": [
        "### Accident Date variable"
      ],
      "metadata": {
        "id": "x3rZhJv91pKY"
      },
      "id": "x3rZhJv91pKY"
    },
    {
      "cell_type": "markdown",
      "source": [
        "First, we need to ensure that this variable is in the correct date format."
      ],
      "metadata": {
        "id": "yJVN-9EP6mQF"
      },
      "id": "yJVN-9EP6mQF"
    },
    {
      "cell_type": "code",
      "source": [
        "df_train['Accident Date'] = pd.to_datetime(df_train['Accident Date'])"
      ],
      "metadata": {
        "id": "AfF9UXTR6lSz"
      },
      "id": "AfF9UXTR6lSz",
      "execution_count": 98,
      "outputs": []
    },
    {
      "cell_type": "markdown",
      "source": [
        "Let's examine the key statistics for this variable:"
      ],
      "metadata": {
        "id": "codgacac7yDM"
      },
      "id": "codgacac7yDM"
    },
    {
      "cell_type": "code",
      "source": [
        "df_train['Accident Date'].describe()"
      ],
      "metadata": {
        "id": "Rs2wDOs_1ttB",
        "outputId": "c74edc81-cb27-4534-e499-0bd1f8138d07",
        "colab": {
          "base_uri": "https://localhost:8080/",
          "height": 304
        }
      },
      "id": "Rs2wDOs_1ttB",
      "execution_count": 99,
      "outputs": [
        {
          "output_type": "execute_result",
          "data": {
            "text/plain": [
              "count                           570337\n",
              "mean     2021-04-28 21:00:27.892982784\n",
              "min                1961-09-06 00:00:00\n",
              "25%                2020-09-14 00:00:00\n",
              "50%                2021-06-27 00:00:00\n",
              "75%                2022-03-21 00:00:00\n",
              "max                2023-09-29 00:00:00\n",
              "Name: Accident Date, dtype: object"
            ],
            "text/html": [
              "<div>\n",
              "<style scoped>\n",
              "    .dataframe tbody tr th:only-of-type {\n",
              "        vertical-align: middle;\n",
              "    }\n",
              "\n",
              "    .dataframe tbody tr th {\n",
              "        vertical-align: top;\n",
              "    }\n",
              "\n",
              "    .dataframe thead th {\n",
              "        text-align: right;\n",
              "    }\n",
              "</style>\n",
              "<table border=\"1\" class=\"dataframe\">\n",
              "  <thead>\n",
              "    <tr style=\"text-align: right;\">\n",
              "      <th></th>\n",
              "      <th>Accident Date</th>\n",
              "    </tr>\n",
              "  </thead>\n",
              "  <tbody>\n",
              "    <tr>\n",
              "      <th>count</th>\n",
              "      <td>570337</td>\n",
              "    </tr>\n",
              "    <tr>\n",
              "      <th>mean</th>\n",
              "      <td>2021-04-28 21:00:27.892982784</td>\n",
              "    </tr>\n",
              "    <tr>\n",
              "      <th>min</th>\n",
              "      <td>1961-09-06 00:00:00</td>\n",
              "    </tr>\n",
              "    <tr>\n",
              "      <th>25%</th>\n",
              "      <td>2020-09-14 00:00:00</td>\n",
              "    </tr>\n",
              "    <tr>\n",
              "      <th>50%</th>\n",
              "      <td>2021-06-27 00:00:00</td>\n",
              "    </tr>\n",
              "    <tr>\n",
              "      <th>75%</th>\n",
              "      <td>2022-03-21 00:00:00</td>\n",
              "    </tr>\n",
              "    <tr>\n",
              "      <th>max</th>\n",
              "      <td>2023-09-29 00:00:00</td>\n",
              "    </tr>\n",
              "  </tbody>\n",
              "</table>\n",
              "</div><br><label><b>dtype:</b> object</label>"
            ]
          },
          "metadata": {},
          "execution_count": 99
        }
      ]
    },
    {
      "cell_type": "code",
      "source": [
        "plot_hist(df_train, 'Accident Date')"
      ],
      "metadata": {
        "id": "x_TUayOtObN2",
        "outputId": "38bfc3e1-4031-4bd9-d3be-9fcb73f37900",
        "colab": {
          "base_uri": "https://localhost:8080/",
          "height": 234
        }
      },
      "id": "x_TUayOtObN2",
      "execution_count": 100,
      "outputs": [
        {
          "output_type": "display_data",
          "data": {
            "text/plain": [
              "<Figure size 600x200 with 1 Axes>"
            ],
            "image/png": "[encoded data removed]"
          },
          "metadata": {}
        }
      ]
    },
    {
      "cell_type": "code",
      "source": [
        "plot_box(df_train, 'Accident Date')"
      ],
      "metadata": {
        "id": "rrf5EbCmOmuN",
        "outputId": "d252bfb7-6465-4690-893d-7fc6b271840b",
        "colab": {
          "base_uri": "https://localhost:8080/",
          "height": 234
        }
      },
      "id": "rrf5EbCmOmuN",
      "execution_count": 101,
      "outputs": [
        {
          "output_type": "display_data",
          "data": {
            "text/plain": [
              "<Figure size 600x200 with 1 Axes>"
            ],
            "image/png": "[encoded data removed]"
          },
          "metadata": {}
        }
      ]
    },
    {
      "cell_type": "markdown",
      "source": [
        "We can see by the histogram, that this variable is very assimetric probably due to having a big number of outliers as we can see in the boxplot. To get better visualisations we will omit this outliers in some visualisations"
      ],
      "metadata": {
        "id": "VOGyLkD3Ox2h"
      },
      "id": "VOGyLkD3Ox2h"
    },
    {
      "cell_type": "markdown",
      "source": [
        "Now we will analyze the situation regarding the missing values:"
      ],
      "metadata": {
        "id": "lrncB7BSS0Im"
      },
      "id": "lrncB7BSS0Im"
    },
    {
      "cell_type": "code",
      "source": [
        "print('The Accident Date variable has ' + str(df_train['Accident Date'].isna().mean()*100) + '% of missing values')\n",
        "print('The Accident Date variable has ' + str(df_test['Accident Date'].isna().mean()*100) + '% of missing values')"
      ],
      "metadata": {
        "id": "P35j70g1VIoZ",
        "outputId": "4bc430b2-af48-4f2a-c66c-3d435c8cbeb5",
        "colab": {
          "base_uri": "https://localhost:8080/"
        }
      },
      "id": "P35j70g1VIoZ",
      "execution_count": 102,
      "outputs": [
        {
          "output_type": "stream",
          "name": "stdout",
          "text": [
            "The Accident Date variable has 3.898084320885098% of missing values\n",
            "The Accident Date variable has 0.6299374959726787% of missing values\n"
          ]
        }
      ]
    },
    {
      "cell_type": "code",
      "source": [
        "detect_outliers_in_column(df_train, 'Accident Date')['Accident Date'].max()"
      ],
      "metadata": {
        "id": "NUGT2JYPOaFY",
        "outputId": "08bb332e-663f-4bfd-ce5c-65c102e15f73",
        "colab": {
          "base_uri": "https://localhost:8080/"
        }
      },
      "id": "NUGT2JYPOaFY",
      "execution_count": 104,
      "outputs": [
        {
          "output_type": "execute_result",
          "data": {
            "text/plain": [
              "Timestamp('2018-07-21 00:00:00')"
            ]
          },
          "metadata": {},
          "execution_count": 104
        }
      ]
    },
    {
      "cell_type": "markdown",
      "source": [
        "Let`s extract some adicional date-related columns"
      ],
      "metadata": {
        "id": "hsqofaZm8pnp"
      },
      "id": "hsqofaZm8pnp"
    },
    {
      "cell_type": "code",
      "source": [
        "df_train['Accident Year'] = df_train['Accident Date'].dt.year\n",
        "df_train['Accident Month'] = df_train['Accident Date'].dt.month\n",
        "df_train['Accident DayOfWeek'] = df_train['Accident Date'].dt.dayofweek"
      ],
      "metadata": {
        "id": "xGFf09sL9yx5"
      },
      "id": "xGFf09sL9yx5",
      "execution_count": 105,
      "outputs": []
    },
    {
      "cell_type": "markdown",
      "source": [
        "This next bar plot show us the number of accidents by day of th week:"
      ],
      "metadata": {
        "id": "IgpoNJ9tSt2z"
      },
      "id": "IgpoNJ9tSt2z"
    },
    {
      "cell_type": "code",
      "source": [
        "dayofweek_accidents = df_train['Accident DayOfWeek'].value_counts().sort_index()\n",
        "sns.barplot(x=dayofweek_accidents.index, y=dayofweek_accidents.values)\n",
        "plt.title(\"Accidents by Day of the Week\")\n",
        "plt.xlabel(\"Day of the Week (0=Monday, 6=Sunday)\")\n",
        "plt.ylabel(\"Number of Accidents\")\n",
        "plt.show()"
      ],
      "metadata": {
        "id": "oySgd5TS-W8o",
        "outputId": "3a6fa1a1-513b-4929-f189-ee10dd1e8cf7",
        "colab": {
          "base_uri": "https://localhost:8080/",
          "height": 472
        }
      },
      "id": "oySgd5TS-W8o",
      "execution_count": 106,
      "outputs": [
        {
          "output_type": "display_data",
          "data": {
            "text/plain": [
              "<Figure size 640x480 with 1 Axes>"
            ],
            "image/png": "[encoded data removed]"
          },
          "metadata": {}
        }
      ]
    },
    {
      "cell_type": "markdown",
      "source": [
        "This plot shows that workplace accidents occur more frequently during weekdays, likely because most people work Monday through Friday, resulting in fewer incidents over the weekend when fewer people are on-site"
      ],
      "metadata": {
        "id": "rvRZTZw3TiqZ"
      },
      "id": "rvRZTZw3TiqZ"
    },
    {
      "cell_type": "code",
      "source": [
        "dayofweek_accidents = df_train['Accident Month'].value_counts().sort_index()\n",
        "sns.barplot(x=dayofweek_accidents.index, y=dayofweek_accidents.values)\n",
        "plt.title(\"Accidents by Month\")\n",
        "plt.xlabel(\"Months (1.0=January, 12.0=December)\")\n",
        "plt.ylabel(\"Number of Accidents\")\n",
        "plt.show()"
      ],
      "metadata": {
        "id": "-vOGm5XFRZwb",
        "outputId": "2aa9b5a8-9e2d-4699-fcd0-522e8ef83cf1",
        "colab": {
          "base_uri": "https://localhost:8080/",
          "height": 472
        }
      },
      "id": "-vOGm5XFRZwb",
      "execution_count": 107,
      "outputs": [
        {
          "output_type": "display_data",
          "data": {
            "text/plain": [
              "<Figure size 640x480 with 1 Axes>"
            ],
            "image/png": "[encoded data removed]"
          },
          "metadata": {}
        }
      ]
    },
    {
      "cell_type": "markdown",
      "source": [
        "From the graph, we notice a decrease in workplace accidents in April and May. What could explain this trend?"
      ],
      "metadata": {
        "id": "yHp5kpe0UvtO"
      },
      "id": "yHp5kpe0UvtO"
    },
    {
      "cell_type": "code",
      "source": [
        "plot_bar(df_train[df_train['Accident Year']>2018], 'Accident Year')"
      ],
      "metadata": {
        "id": "PoPUJ8Z0QYuy",
        "outputId": "107fcd19-3a50-4efc-8433-69d62d25a11b",
        "colab": {
          "base_uri": "https://localhost:8080/",
          "height": 234
        }
      },
      "id": "PoPUJ8Z0QYuy",
      "execution_count": 108,
      "outputs": [
        {
          "output_type": "display_data",
          "data": {
            "text/plain": [
              "<Figure size 600x200 with 1 Axes>"
            ],
            "image/png": "[encoded data removed]"
          },
          "metadata": {}
        }
      ]
    },
    {
      "cell_type": "markdown",
      "source": [
        "### Age at injury variable"
      ],
      "metadata": {
        "id": "407zmArKZJ9V"
      },
      "id": "407zmArKZJ9V"
    },
    {
      "cell_type": "markdown",
      "source": [
        "Let's examine the key statistics for this variable:"
      ],
      "metadata": {
        "id": "XMeFeCzAZgY4"
      },
      "id": "XMeFeCzAZgY4"
    },
    {
      "cell_type": "code",
      "source": [
        "df_train['Age at Injury'].describe()"
      ],
      "metadata": {
        "id": "Eyx_eek_ZPn0",
        "outputId": "a288f1c6-d85a-4d21-c702-e965b7928173",
        "colab": {
          "base_uri": "https://localhost:8080/",
          "height": 335
        }
      },
      "id": "Eyx_eek_ZPn0",
      "execution_count": 109,
      "outputs": [
        {
          "output_type": "execute_result",
          "data": {
            "text/plain": [
              "count    574026.000000\n",
              "mean         42.114270\n",
              "std          14.256432\n",
              "min           0.000000\n",
              "25%          31.000000\n",
              "50%          42.000000\n",
              "75%          54.000000\n",
              "max         117.000000\n",
              "Name: Age at Injury, dtype: float64"
            ],
            "text/html": [
              "<div>\n",
              "<style scoped>\n",
              "    .dataframe tbody tr th:only-of-type {\n",
              "        vertical-align: middle;\n",
              "    }\n",
              "\n",
              "    .dataframe tbody tr th {\n",
              "        vertical-align: top;\n",
              "    }\n",
              "\n",
              "    .dataframe thead th {\n",
              "        text-align: right;\n",
              "    }\n",
              "</style>\n",
              "<table border=\"1\" class=\"dataframe\">\n",
              "  <thead>\n",
              "    <tr style=\"text-align: right;\">\n",
              "      <th></th>\n",
              "      <th>Age at Injury</th>\n",
              "    </tr>\n",
              "  </thead>\n",
              "  <tbody>\n",
              "    <tr>\n",
              "      <th>count</th>\n",
              "      <td>574026.000000</td>\n",
              "    </tr>\n",
              "    <tr>\n",
              "      <th>mean</th>\n",
              "      <td>42.114270</td>\n",
              "    </tr>\n",
              "    <tr>\n",
              "      <th>std</th>\n",
              "      <td>14.256432</td>\n",
              "    </tr>\n",
              "    <tr>\n",
              "      <th>min</th>\n",
              "      <td>0.000000</td>\n",
              "    </tr>\n",
              "    <tr>\n",
              "      <th>25%</th>\n",
              "      <td>31.000000</td>\n",
              "    </tr>\n",
              "    <tr>\n",
              "      <th>50%</th>\n",
              "      <td>42.000000</td>\n",
              "    </tr>\n",
              "    <tr>\n",
              "      <th>75%</th>\n",
              "      <td>54.000000</td>\n",
              "    </tr>\n",
              "    <tr>\n",
              "      <th>max</th>\n",
              "      <td>117.000000</td>\n",
              "    </tr>\n",
              "  </tbody>\n",
              "</table>\n",
              "</div><br><label><b>dtype:</b> float64</label>"
            ]
          },
          "metadata": {},
          "execution_count": 109
        }
      ]
    },
    {
      "cell_type": "code",
      "source": [
        "plot_hist(df_train, 'Age at Injury')"
      ],
      "metadata": {
        "id": "xbvQeoKmaHfF",
        "outputId": "5b6a8866-3664-4282-ccf1-5d74ad5dfd26",
        "colab": {
          "base_uri": "https://localhost:8080/",
          "height": 234
        }
      },
      "id": "xbvQeoKmaHfF",
      "execution_count": 110,
      "outputs": [
        {
          "output_type": "display_data",
          "data": {
            "text/plain": [
              "<Figure size 600x200 with 1 Axes>"
            ],
            "image/png": "[encoded data removed]"
          },
          "metadata": {}
        }
      ]
    },
    {
      "cell_type": "code",
      "source": [
        "print(df_train[df_train['Age at Injury']==0]['Age at Injury'].count())\n",
        "print(df_test[df_test['Age at Injury']==0]['Age at Injury'].count())"
      ],
      "metadata": {
        "id": "oLZNBvNCbp8I",
        "outputId": "dc9dda6f-4cb5-4c0c-a77c-f53fe64096ff",
        "colab": {
          "base_uri": "https://localhost:8080/"
        }
      },
      "id": "oLZNBvNCbp8I",
      "execution_count": 111,
      "outputs": [
        {
          "output_type": "stream",
          "name": "stdout",
          "text": [
            "5464\n",
            "3248\n"
          ]
        }
      ]
    },
    {
      "cell_type": "markdown",
      "source": [
        "There is in this variable at the two dataframes null values, we will fill them with NAN values because they are probably due to some data coleting problem."
      ],
      "metadata": {
        "id": "WnCOUwYsgZRo"
      },
      "id": "WnCOUwYsgZRo"
    },
    {
      "cell_type": "code",
      "source": [
        "df_train['Age at Injury'] = df_train['Age at Injury'].replace(0, np.nan)\n",
        "df_test['Age at Injury'] = df_test['Age at Injury'].replace(0, np.nan)"
      ],
      "metadata": {
        "id": "lt049GW_d2Wi"
      },
      "id": "lt049GW_d2Wi",
      "execution_count": 112,
      "outputs": []
    },
    {
      "cell_type": "markdown",
      "source": [
        "Another issue is the presence of incorrect values in this variable. Specifically, ages below 14 are invalid, as the minimum working age in the U.S. is 14 years. Additionally, ages exceeding 80 are also considered erroneous."
      ],
      "metadata": {
        "id": "te9MlNY8d_w0"
      },
      "id": "te9MlNY8d_w0"
    },
    {
      "cell_type": "code",
      "source": [
        "print(df_train[(df_train['Age at Injury'] < 14) | (df_train['Age at Injury'] > 80)]['Age at Injury'].count())\n",
        "print(df_test[(df_test['Age at Injury'] < 14) | (df_test['Age at Injury'] > 80)]['Age at Injury'].count())"
      ],
      "metadata": {
        "id": "Z19lj1gGeujI",
        "outputId": "3ca19a82-0c0e-4709-ffc8-73b946d629f2",
        "colab": {
          "base_uri": "https://localhost:8080/"
        }
      },
      "id": "Z19lj1gGeujI",
      "execution_count": 113,
      "outputs": [
        {
          "output_type": "stream",
          "name": "stdout",
          "text": [
            "838\n",
            "900\n"
          ]
        }
      ]
    },
    {
      "cell_type": "markdown",
      "source": [
        "As there is a small number of rows with these problem, we will just eliminate them"
      ],
      "metadata": {
        "id": "zut1pstMfQSA"
      },
      "id": "zut1pstMfQSA"
    },
    {
      "cell_type": "code",
      "source": [
        "df_train = df_train[(df_train['Age at Injury'] >= 14) & (df_train['Age at Injury'] <= 80)]\n",
        "df_test = df_test[(df_test['Age at Injury'] >= 14) & (df_test['Age at Injury'] <= 80)]"
      ],
      "metadata": {
        "id": "_pkBT4DYfeZQ"
      },
      "id": "_pkBT4DYfeZQ",
      "execution_count": 114,
      "outputs": []
    },
    {
      "cell_type": "code",
      "source": [
        "plot_hist(df_train, 'Age at Injury')\n",
        "plot_box(df_train, 'Age at Injury')"
      ],
      "metadata": {
        "id": "G9_Xy-xQfjsq",
        "outputId": "ac9742d9-2e6e-4480-8730-ad89bc24aeb1",
        "colab": {
          "base_uri": "https://localhost:8080/",
          "height": 451
        }
      },
      "id": "G9_Xy-xQfjsq",
      "execution_count": 115,
      "outputs": [
        {
          "output_type": "display_data",
          "data": {
            "text/plain": [
              "<Figure size 600x200 with 1 Axes>"
            ],
            "image/png": "[encoded data removed]"
          },
          "metadata": {}
        },
        {
          "output_type": "display_data",
          "data": {
            "text/plain": [
              "<Figure size 600x200 with 1 Axes>"
            ],
            "image/png": "[encoded data removed]"
          },
          "metadata": {}
        }
      ]
    },
    {
      "cell_type": "code",
      "source": [
        "plot_hist(df_test, 'Age at Injury')\n",
        "plot_box(df_test, 'Age at Injury')"
      ],
      "metadata": {
        "id": "Eurzj1T4fs1U",
        "outputId": "9e3e4a23-f797-426e-801c-7ccf30003bac",
        "colab": {
          "base_uri": "https://localhost:8080/",
          "height": 451
        }
      },
      "id": "Eurzj1T4fs1U",
      "execution_count": 116,
      "outputs": [
        {
          "output_type": "display_data",
          "data": {
            "text/plain": [
              "<Figure size 600x200 with 1 Axes>"
            ],
            "image/png": "[encoded data removed]"
          },
          "metadata": {}
        },
        {
          "output_type": "display_data",
          "data": {
            "text/plain": [
              "<Figure size 600x200 with 1 Axes>"
            ],
            "image/png": "[encoded data removed]"
          },
          "metadata": {}
        }
      ]
    },
    {
      "cell_type": "markdown",
      "source": [
        "### Assembly date variable"
      ],
      "metadata": {
        "id": "nk55aBsbnt-H"
      },
      "id": "nk55aBsbnt-H"
    },
    {
      "cell_type": "markdown",
      "source": [
        "First, we need to ensure that this variable is in the correct date format."
      ],
      "metadata": {
        "id": "GB3KdV12n_uU"
      },
      "id": "GB3KdV12n_uU"
    },
    {
      "cell_type": "code",
      "source": [
        "df_train['Assembly Date'] = pd.to_datetime(df_train['Assembly Date'])"
      ],
      "metadata": {
        "id": "B_c447zfn4y1"
      },
      "id": "B_c447zfn4y1",
      "execution_count": 129,
      "outputs": []
    },
    {
      "cell_type": "markdown",
      "source": [
        "Let's examine the key statistics for this variable:"
      ],
      "metadata": {
        "id": "qN7ZJUORo3WJ"
      },
      "id": "qN7ZJUORo3WJ"
    },
    {
      "cell_type": "code",
      "source": [
        "df_train['Assembly Date'].describe()"
      ],
      "metadata": {
        "id": "eFNKiVjXo5et",
        "outputId": "30e4ce42-95cc-406e-ca65-f9e5cc5b6090",
        "colab": {
          "base_uri": "https://localhost:8080/",
          "height": 304
        }
      },
      "id": "eFNKiVjXo5et",
      "execution_count": 130,
      "outputs": [
        {
          "output_type": "execute_result",
          "data": {
            "text/plain": [
              "count                           567724\n",
              "mean     2021-07-20 06:54:45.861439744\n",
              "min                2020-01-01 00:00:00\n",
              "25%                2020-10-27 00:00:00\n",
              "50%                2021-08-02 00:00:00\n",
              "75%                2022-04-20 00:00:00\n",
              "max                2022-12-31 00:00:00\n",
              "Name: Assembly Date, dtype: object"
            ],
            "text/html": [
              "<div>\n",
              "<style scoped>\n",
              "    .dataframe tbody tr th:only-of-type {\n",
              "        vertical-align: middle;\n",
              "    }\n",
              "\n",
              "    .dataframe tbody tr th {\n",
              "        vertical-align: top;\n",
              "    }\n",
              "\n",
              "    .dataframe thead th {\n",
              "        text-align: right;\n",
              "    }\n",
              "</style>\n",
              "<table border=\"1\" class=\"dataframe\">\n",
              "  <thead>\n",
              "    <tr style=\"text-align: right;\">\n",
              "      <th></th>\n",
              "      <th>Assembly Date</th>\n",
              "    </tr>\n",
              "  </thead>\n",
              "  <tbody>\n",
              "    <tr>\n",
              "      <th>count</th>\n",
              "      <td>567724</td>\n",
              "    </tr>\n",
              "    <tr>\n",
              "      <th>mean</th>\n",
              "      <td>2021-07-20 06:54:45.861439744</td>\n",
              "    </tr>\n",
              "    <tr>\n",
              "      <th>min</th>\n",
              "      <td>2020-01-01 00:00:00</td>\n",
              "    </tr>\n",
              "    <tr>\n",
              "      <th>25%</th>\n",
              "      <td>2020-10-27 00:00:00</td>\n",
              "    </tr>\n",
              "    <tr>\n",
              "      <th>50%</th>\n",
              "      <td>2021-08-02 00:00:00</td>\n",
              "    </tr>\n",
              "    <tr>\n",
              "      <th>75%</th>\n",
              "      <td>2022-04-20 00:00:00</td>\n",
              "    </tr>\n",
              "    <tr>\n",
              "      <th>max</th>\n",
              "      <td>2022-12-31 00:00:00</td>\n",
              "    </tr>\n",
              "  </tbody>\n",
              "</table>\n",
              "</div><br><label><b>dtype:</b> object</label>"
            ]
          },
          "metadata": {},
          "execution_count": 130
        }
      ]
    },
    {
      "cell_type": "code",
      "source": [
        "print('The Assembly Date variable has ' + str(df_train['Assembly Date'].isna().mean()*100) + '% of missing values in the train data')\n",
        "print('The Assembly Date variable has ' + str(df_test['Assembly Date'].isna().mean()*100) + '% of missing values in the test data')"
      ],
      "metadata": {
        "id": "IkwBeKWTrkAZ",
        "outputId": "a13b7dc7-e4ca-471c-b59e-8661be24e694",
        "colab": {
          "base_uri": "https://localhost:8080/"
        }
      },
      "id": "IkwBeKWTrkAZ",
      "execution_count": 133,
      "outputs": [
        {
          "output_type": "stream",
          "name": "stdout",
          "text": [
            "The Assembly Date variable has 0.0% of missing values in the train data\n",
            "The Assembly Date variable has 0.0% of missing values in the test data\n"
          ]
        }
      ]
    },
    {
      "cell_type": "code",
      "source": [
        "plot_hist(df_train, 'Assembly Date')"
      ],
      "metadata": {
        "id": "kZE3idrmpvNI",
        "outputId": "c2a15155-61ee-49de-957b-82ec6b919f49",
        "colab": {
          "base_uri": "https://localhost:8080/",
          "height": 234
        }
      },
      "id": "kZE3idrmpvNI",
      "execution_count": 131,
      "outputs": [
        {
          "output_type": "display_data",
          "data": {
            "text/plain": [
              "<Figure size 600x200 with 1 Axes>"
            ],
            "image/png": "[encoded data removed]"
          },
          "metadata": {}
        }
      ]
    },
    {
      "cell_type": "code",
      "source": [
        "plot_box(df_train, 'Assembly Date')"
      ],
      "metadata": {
        "id": "3EqdmjNfr4i4",
        "outputId": "dbf9ceb6-20c8-496a-8f87-7ffd187438c1",
        "colab": {
          "base_uri": "https://localhost:8080/",
          "height": 234
        }
      },
      "id": "3EqdmjNfr4i4",
      "execution_count": 134,
      "outputs": [
        {
          "output_type": "display_data",
          "data": {
            "text/plain": [
              "<Figure size 600x200 with 1 Axes>"
            ],
            "image/png": "[encoded data removed]"
          },
          "metadata": {}
        }
      ]
    },
    {
      "cell_type": "markdown",
      "source": [
        "From this table, we see that the first assembly date in this dataframe occurred on 2020-01-01 and the last one on 2022-12-31."
      ],
      "metadata": {
        "id": "r2cmmTokpa-2"
      },
      "id": "r2cmmTokpa-2"
    },
    {
      "cell_type": "markdown",
      "source": [
        "### C-2 Date variable"
      ],
      "metadata": {
        "id": "BtDqGOdGsUUs"
      },
      "id": "BtDqGOdGsUUs"
    },
    {
      "cell_type": "markdown",
      "source": [
        "First, we need to ensure that this variable is in the correct date format."
      ],
      "metadata": {
        "id": "A2M7PIDRssiY"
      },
      "id": "A2M7PIDRssiY"
    },
    {
      "cell_type": "code",
      "source": [
        "df_train['C-2 Date'] = pd.to_datetime(df_train['C-2 Date'])\n",
        "df_test['C-2 Date'] = pd.to_datetime(df_test['C-2 Date'])"
      ],
      "metadata": {
        "id": "FwDQRf2asgKs"
      },
      "id": "FwDQRf2asgKs",
      "execution_count": 144,
      "outputs": []
    },
    {
      "cell_type": "markdown",
      "source": [
        "Let's examine the key statistics for this variable:"
      ],
      "metadata": {
        "id": "RavM9I2Ls0fH"
      },
      "id": "RavM9I2Ls0fH"
    },
    {
      "cell_type": "code",
      "source": [
        "df_train['C-2 Date'].describe()"
      ],
      "metadata": {
        "id": "XXALT68Lszyw",
        "outputId": "a042d98f-4059-49c4-dac5-7f865a1e34b6",
        "colab": {
          "base_uri": "https://localhost:8080/",
          "height": 304
        }
      },
      "id": "XXALT68Lszyw",
      "execution_count": 145,
      "outputs": [
        {
          "output_type": "execute_result",
          "data": {
            "text/plain": [
              "count                           555555\n",
              "mean     2021-07-16 22:31:25.409725184\n",
              "min                1996-01-12 00:00:00\n",
              "25%                2020-11-06 00:00:00\n",
              "50%                2021-08-09 00:00:00\n",
              "75%                2022-04-26 00:00:00\n",
              "max                2024-06-01 00:00:00\n",
              "Name: C-2 Date, dtype: object"
            ],
            "text/html": [
              "<div>\n",
              "<style scoped>\n",
              "    .dataframe tbody tr th:only-of-type {\n",
              "        vertical-align: middle;\n",
              "    }\n",
              "\n",
              "    .dataframe tbody tr th {\n",
              "        vertical-align: top;\n",
              "    }\n",
              "\n",
              "    .dataframe thead th {\n",
              "        text-align: right;\n",
              "    }\n",
              "</style>\n",
              "<table border=\"1\" class=\"dataframe\">\n",
              "  <thead>\n",
              "    <tr style=\"text-align: right;\">\n",
              "      <th></th>\n",
              "      <th>C-2 Date</th>\n",
              "    </tr>\n",
              "  </thead>\n",
              "  <tbody>\n",
              "    <tr>\n",
              "      <th>count</th>\n",
              "      <td>555555</td>\n",
              "    </tr>\n",
              "    <tr>\n",
              "      <th>mean</th>\n",
              "      <td>2021-07-16 22:31:25.409725184</td>\n",
              "    </tr>\n",
              "    <tr>\n",
              "      <th>min</th>\n",
              "      <td>1996-01-12 00:00:00</td>\n",
              "    </tr>\n",
              "    <tr>\n",
              "      <th>25%</th>\n",
              "      <td>2020-11-06 00:00:00</td>\n",
              "    </tr>\n",
              "    <tr>\n",
              "      <th>50%</th>\n",
              "      <td>2021-08-09 00:00:00</td>\n",
              "    </tr>\n",
              "    <tr>\n",
              "      <th>75%</th>\n",
              "      <td>2022-04-26 00:00:00</td>\n",
              "    </tr>\n",
              "    <tr>\n",
              "      <th>max</th>\n",
              "      <td>2024-06-01 00:00:00</td>\n",
              "    </tr>\n",
              "  </tbody>\n",
              "</table>\n",
              "</div><br><label><b>dtype:</b> object</label>"
            ]
          },
          "metadata": {},
          "execution_count": 145
        }
      ]
    },
    {
      "cell_type": "code",
      "source": [
        "print('The C-2 Date variable has ' + str(df_train['C-2 Date'].isna().mean()*100) + '% of missing values in the train data')\n",
        "print('The C-2 Date variable has ' + str(df_test['C-2 Date'].isna().mean()*100) + '% of missing values in the test data')"
      ],
      "metadata": {
        "id": "b4E5cdDnvdKf",
        "outputId": "435c5966-249e-44de-e400-facd6066097e",
        "colab": {
          "base_uri": "https://localhost:8080/"
        }
      },
      "id": "b4E5cdDnvdKf",
      "execution_count": 148,
      "outputs": [
        {
          "output_type": "stream",
          "name": "stdout",
          "text": [
            "The C-2 Date variable has 2.1434711232923043% of missing values in the train data\n",
            "The C-2 Date variable has 2.117620698908623% of missing values in the test data\n"
          ]
        }
      ]
    },
    {
      "cell_type": "code",
      "source": [
        "plot_hist(df_train, 'C-2 Date')"
      ],
      "metadata": {
        "id": "NJyRvsM0tRlE",
        "outputId": "d1b3b964-af85-4f8a-91c3-bb03f385dbd7",
        "colab": {
          "base_uri": "https://localhost:8080/",
          "height": 236
        }
      },
      "id": "NJyRvsM0tRlE",
      "execution_count": 146,
      "outputs": [
        {
          "output_type": "display_data",
          "data": {
            "text/plain": [
              "<Figure size 600x200 with 1 Axes>"
            ],
            "image/png": "[encoded data removed]"
          },
          "metadata": {}
        }
      ]
    },
    {
      "cell_type": "code",
      "source": [
        "plot_box(df_train, 'C-2 Date')"
      ],
      "metadata": {
        "id": "TMWKeyiNvLUJ",
        "outputId": "936027d7-a7f1-4a16-bf6f-e30b4638fbcc",
        "colab": {
          "base_uri": "https://localhost:8080/",
          "height": 234
        }
      },
      "id": "TMWKeyiNvLUJ",
      "execution_count": 147,
      "outputs": [
        {
          "output_type": "display_data",
          "data": {
            "text/plain": [
              "<Figure size 600x200 with 1 Axes>"
            ],
            "image/png": "[encoded data removed]"
          },
          "metadata": {}
        }
      ]
    },
    {
      "cell_type": "markdown",
      "source": [
        "### C-3 Date"
      ],
      "metadata": {
        "id": "wb9QqbDXvkgF"
      },
      "id": "wb9QqbDXvkgF"
    },
    {
      "cell_type": "markdown",
      "source": [
        "First, we need to ensure that this variable is in the correct date format."
      ],
      "metadata": {
        "id": "SsoFiQRXvrQo"
      },
      "id": "SsoFiQRXvrQo"
    },
    {
      "cell_type": "code",
      "source": [
        "df_train['C-3 Date'] = pd.to_datetime(df_train['C-3 Date'])\n",
        "df_test['C-3 Date'] = pd.to_datetime(df_test['C-3 Date'])"
      ],
      "metadata": {
        "id": "BRpcrAn_voRI"
      },
      "id": "BRpcrAn_voRI",
      "execution_count": 149,
      "outputs": []
    },
    {
      "cell_type": "markdown",
      "source": [
        "Let's examine the key statistics for this variable:"
      ],
      "metadata": {
        "id": "1IV5aH4lvz4R"
      },
      "id": "1IV5aH4lvz4R"
    },
    {
      "cell_type": "code",
      "source": [
        "df_train['C-3 Date'].describe()"
      ],
      "metadata": {
        "id": "JoDdSvp8v1zr",
        "outputId": "8740c5cd-2083-4e5c-ab6a-e09a86f1094d",
        "colab": {
          "base_uri": "https://localhost:8080/",
          "height": 304
        }
      },
      "id": "JoDdSvp8v1zr",
      "execution_count": 150,
      "outputs": [
        {
          "output_type": "execute_result",
          "data": {
            "text/plain": [
              "count                           183294\n",
              "mean     2021-07-28 10:41:46.059118592\n",
              "min                2010-07-29 00:00:00\n",
              "25%                2020-10-28 00:00:00\n",
              "50%                2021-07-22 00:00:00\n",
              "75%                2022-04-20 00:00:00\n",
              "max                2024-05-31 00:00:00\n",
              "Name: C-3 Date, dtype: object"
            ],
            "text/html": [
              "<div>\n",
              "<style scoped>\n",
              "    .dataframe tbody tr th:only-of-type {\n",
              "        vertical-align: middle;\n",
              "    }\n",
              "\n",
              "    .dataframe tbody tr th {\n",
              "        vertical-align: top;\n",
              "    }\n",
              "\n",
              "    .dataframe thead th {\n",
              "        text-align: right;\n",
              "    }\n",
              "</style>\n",
              "<table border=\"1\" class=\"dataframe\">\n",
              "  <thead>\n",
              "    <tr style=\"text-align: right;\">\n",
              "      <th></th>\n",
              "      <th>C-3 Date</th>\n",
              "    </tr>\n",
              "  </thead>\n",
              "  <tbody>\n",
              "    <tr>\n",
              "      <th>count</th>\n",
              "      <td>183294</td>\n",
              "    </tr>\n",
              "    <tr>\n",
              "      <th>mean</th>\n",
              "      <td>2021-07-28 10:41:46.059118592</td>\n",
              "    </tr>\n",
              "    <tr>\n",
              "      <th>min</th>\n",
              "      <td>2010-07-29 00:00:00</td>\n",
              "    </tr>\n",
              "    <tr>\n",
              "      <th>25%</th>\n",
              "      <td>2020-10-28 00:00:00</td>\n",
              "    </tr>\n",
              "    <tr>\n",
              "      <th>50%</th>\n",
              "      <td>2021-07-22 00:00:00</td>\n",
              "    </tr>\n",
              "    <tr>\n",
              "      <th>75%</th>\n",
              "      <td>2022-04-20 00:00:00</td>\n",
              "    </tr>\n",
              "    <tr>\n",
              "      <th>max</th>\n",
              "      <td>2024-05-31 00:00:00</td>\n",
              "    </tr>\n",
              "  </tbody>\n",
              "</table>\n",
              "</div><br><label><b>dtype:</b> object</label>"
            ]
          },
          "metadata": {},
          "execution_count": 150
        }
      ]
    },
    {
      "cell_type": "code",
      "source": [
        "print('The C-3 Date variable has ' + str(df_train['C-3 Date'].isna().mean()*100) + '% of missing values in the train data')\n",
        "print('The C-3 Date variable has ' + str(df_test['C-3 Date'].isna().mean()*100) + '% of missing values in the test data')"
      ],
      "metadata": {
        "id": "wSGbp34hv5N4",
        "outputId": "d73dc7f7-1092-41b4-8b00-64c77a2636a0",
        "colab": {
          "base_uri": "https://localhost:8080/"
        }
      },
      "id": "wSGbp34hv5N4",
      "execution_count": 151,
      "outputs": [
        {
          "output_type": "stream",
          "name": "stdout",
          "text": [
            "The C-3 Date variable has 67.71424142717237% of missing values in the train data\n",
            "The C-3 Date variable has 78.44601864902677% of missing values in the test data\n"
          ]
        }
      ]
    },
    {
      "cell_type": "markdown",
      "source": [
        "This variable is highly composed of missing values, so we will probably exclude her"
      ],
      "metadata": {
        "id": "ANrhYK33wYtm"
      },
      "id": "ANrhYK33wYtm"
    },
    {
      "cell_type": "code",
      "source": [
        "plot_hist(df_train, 'C-3 Date')"
      ],
      "metadata": {
        "id": "IWmf10sFwKqT",
        "outputId": "4cbf79c9-a17c-4123-ed75-962c42676561",
        "colab": {
          "base_uri": "https://localhost:8080/",
          "height": 234
        }
      },
      "id": "IWmf10sFwKqT",
      "execution_count": 152,
      "outputs": [
        {
          "output_type": "display_data",
          "data": {
            "text/plain": [
              "<Figure size 600x200 with 1 Axes>"
            ],
            "image/png": "[encoded data removed]"
          },
          "metadata": {}
        }
      ]
    },
    {
      "cell_type": "code",
      "source": [
        "plot_box(df_train, 'C-3 Date')"
      ],
      "metadata": {
        "id": "_R3CUFAWwOYz",
        "outputId": "76bba2f2-e903-4533-c3b9-06b403109e1b",
        "colab": {
          "base_uri": "https://localhost:8080/",
          "height": 234
        }
      },
      "id": "_R3CUFAWwOYz",
      "execution_count": 153,
      "outputs": [
        {
          "output_type": "display_data",
          "data": {
            "text/plain": [
              "<Figure size 600x200 with 1 Axes>"
            ],
            "image/png": "[encoded data removed]"
          },
          "metadata": {}
        }
      ]
    },
    {
      "cell_type": "markdown",
      "source": [
        "### First Hearing Date variable"
      ],
      "metadata": {
        "id": "ZeIReMV0wbGf"
      },
      "id": "ZeIReMV0wbGf"
    },
    {
      "cell_type": "markdown",
      "source": [
        "First, we need to ensure that this variable is in the correct date format."
      ],
      "metadata": {
        "id": "o-s8kqjowq2-"
      },
      "id": "o-s8kqjowq2-"
    },
    {
      "cell_type": "code",
      "source": [
        "df_train['First Hearing Date'] = pd.to_datetime(df_train['First Hearing Date'])\n",
        "df_test['First Hearing Date'] = pd.to_datetime(df_test['First Hearing Date'])"
      ],
      "metadata": {
        "id": "USGKc8JxwiG_"
      },
      "id": "USGKc8JxwiG_",
      "execution_count": 154,
      "outputs": []
    },
    {
      "cell_type": "markdown",
      "source": [
        "Let's examine the key statistics for this variable:"
      ],
      "metadata": {
        "id": "nEu8JiQ6wx2o"
      },
      "id": "nEu8JiQ6wx2o"
    },
    {
      "cell_type": "code",
      "source": [
        "df_train['First Hearing Date'].describe()"
      ],
      "metadata": {
        "id": "8ETtOdUywzwu",
        "outputId": "34d96fe2-2892-4707-ecd4-84676c2ac82b",
        "colab": {
          "base_uri": "https://localhost:8080/",
          "height": 304
        }
      },
      "id": "8ETtOdUywzwu",
      "execution_count": 155,
      "outputs": [
        {
          "output_type": "execute_result",
          "data": {
            "text/plain": [
              "count                           148951\n",
              "mean     2022-03-20 05:29:29.486609664\n",
              "min                2020-01-30 00:00:00\n",
              "25%                2021-06-02 00:00:00\n",
              "50%                2022-03-10 00:00:00\n",
              "75%                2023-01-11 00:00:00\n",
              "max                2024-06-07 00:00:00\n",
              "Name: First Hearing Date, dtype: object"
            ],
            "text/html": [
              "<div>\n",
              "<style scoped>\n",
              "    .dataframe tbody tr th:only-of-type {\n",
              "        vertical-align: middle;\n",
              "    }\n",
              "\n",
              "    .dataframe tbody tr th {\n",
              "        vertical-align: top;\n",
              "    }\n",
              "\n",
              "    .dataframe thead th {\n",
              "        text-align: right;\n",
              "    }\n",
              "</style>\n",
              "<table border=\"1\" class=\"dataframe\">\n",
              "  <thead>\n",
              "    <tr style=\"text-align: right;\">\n",
              "      <th></th>\n",
              "      <th>First Hearing Date</th>\n",
              "    </tr>\n",
              "  </thead>\n",
              "  <tbody>\n",
              "    <tr>\n",
              "      <th>count</th>\n",
              "      <td>148951</td>\n",
              "    </tr>\n",
              "    <tr>\n",
              "      <th>mean</th>\n",
              "      <td>2022-03-20 05:29:29.486609664</td>\n",
              "    </tr>\n",
              "    <tr>\n",
              "      <th>min</th>\n",
              "      <td>2020-01-30 00:00:00</td>\n",
              "    </tr>\n",
              "    <tr>\n",
              "      <th>25%</th>\n",
              "      <td>2021-06-02 00:00:00</td>\n",
              "    </tr>\n",
              "    <tr>\n",
              "      <th>50%</th>\n",
              "      <td>2022-03-10 00:00:00</td>\n",
              "    </tr>\n",
              "    <tr>\n",
              "      <th>75%</th>\n",
              "      <td>2023-01-11 00:00:00</td>\n",
              "    </tr>\n",
              "    <tr>\n",
              "      <th>max</th>\n",
              "      <td>2024-06-07 00:00:00</td>\n",
              "    </tr>\n",
              "  </tbody>\n",
              "</table>\n",
              "</div><br><label><b>dtype:</b> object</label>"
            ]
          },
          "metadata": {},
          "execution_count": 155
        }
      ]
    },
    {
      "cell_type": "code",
      "source": [
        "print('The First Hearing Date variable has ' + str(df_train['First Hearing Date'].isna().mean()*100) + '% of missing values in the train data')\n",
        "print('The First Hearing Date has ' + str(df_test['First Hearing Date'].isna().mean()*100) + '% of missing values in the test data')"
      ],
      "metadata": {
        "id": "xhDEU9l8w4it",
        "outputId": "bb8388ac-7ed3-4733-8c64-540449de0646",
        "colab": {
          "base_uri": "https://localhost:8080/"
        }
      },
      "id": "xhDEU9l8w4it",
      "execution_count": 156,
      "outputs": [
        {
          "output_type": "stream",
          "name": "stdout",
          "text": [
            "The First Hearing Date variable has 73.76348366459759% of missing values in the train data\n",
            "The First Hearing Date has 89.03047466697235% of missing values in the test data\n"
          ]
        }
      ]
    },
    {
      "cell_type": "markdown",
      "source": [
        "This variable is highly composed of missing values, so we will probably exclude her"
      ],
      "metadata": {
        "id": "q9ToKhE4xUZG"
      },
      "id": "q9ToKhE4xUZG"
    },
    {
      "cell_type": "code",
      "source": [
        "plot_hist(df_train, 'First Hearing Date')"
      ],
      "metadata": {
        "id": "ZLtWm5uxxXDy",
        "outputId": "4f822a5a-7041-4e26-8c79-04e5b0d8d461",
        "colab": {
          "base_uri": "https://localhost:8080/",
          "height": 239
        }
      },
      "id": "ZLtWm5uxxXDy",
      "execution_count": 157,
      "outputs": [
        {
          "output_type": "display_data",
          "data": {
            "text/plain": [
              "<Figure size 600x200 with 1 Axes>"
            ],
            "image/png": "[encoded data removed]"
          },
          "metadata": {}
        }
      ]
    },
    {
      "cell_type": "code",
      "source": [
        "plot_box(df_train, 'First Hearing Date')"
      ],
      "metadata": {
        "id": "_nDLWIMRxdNK",
        "outputId": "f60a0b4d-6975-45c9-fda1-4893394fad68",
        "colab": {
          "base_uri": "https://localhost:8080/",
          "height": 234
        }
      },
      "id": "_nDLWIMRxdNK",
      "execution_count": 158,
      "outputs": [
        {
          "output_type": "display_data",
          "data": {
            "text/plain": [
              "<Figure size 600x200 with 1 Axes>"
            ],
            "image/png": "[encoded data removed]"
          },
          "metadata": {}
        }
      ]
    },
    {
      "cell_type": "code",
      "execution_count": 117,
      "id": "bcba0041-9baf-45b9-a6d6-d92a510acfd5",
      "metadata": {
        "id": "bcba0041-9baf-45b9-a6d6-d92a510acfd5"
      },
      "outputs": [],
      "source": [
        "# For each column\n",
        "    # Descriptive stats\n",
        "    # Visualization (Bar, hist, boxplot, .., whatever makes sense)\n",
        "        # Use above helper function\n",
        "    # Problems (missing values, invalid values etc.)\n",
        "        # show examples etc.\n",
        "    # how to deal with the problems\n",
        "        # remove rows? replace with null? what happens to null values (replace with median, knN, mode etc)?\n",
        "        # analyse and find solution with train -> apply solution to train and test"
      ]
    },
    {
      "cell_type": "code",
      "execution_count": 118,
      "id": "258d04a7-c04e-4923-be96-79c04b19cda5",
      "metadata": {
        "id": "258d04a7-c04e-4923-be96-79c04b19cda5"
      },
      "outputs": [],
      "source": [
        "# Empty columns: WCB Decision (in test), OIICS Nature of Injury Description, Agreement Reached\n",
        "    # Ignore those"
      ]
    },
    {
      "cell_type": "code",
      "execution_count": 119,
      "id": "144c2367-09ee-4eaf-8ebe-02eb25169735",
      "metadata": {
        "id": "144c2367-09ee-4eaf-8ebe-02eb25169735",
        "outputId": "51640a9b-61ad-4a55-ed79-600d86d1abdd",
        "colab": {
          "base_uri": "https://localhost:8080/",
          "height": 105
        }
      },
      "outputs": [
        {
          "output_type": "execute_result",
          "data": {
            "text/plain": [
              "'\\n 0   Accident Date                       570337 non-null  datetime64[ns]\\n 1   Age at Injury                       574026 non-null  float64    \\n 3   Assembly Date                       593471 non-null  datetime64[ns]\\n 6   Birth Year                          544948 non-null  float64    \\n 7   C-2 Date                            559466 non-null  datetime64[ns] \\n 8   C-3 Date                            187245 non-null  datetime64[ns]\\n 16  First Hearing Date                  150798 non-null  datetime64[ns]\\n 2   Alternative Dispute Resolution      574026 non-null  object    \\n 4   Attorney/Representative             574026 non-null  object       \\n 10  Carrier Type                        574026 non-null  object        \\n 13  County of Injury                    574026 non-null  object         \\n '"
            ],
            "application/vnd.google.colaboratory.intrinsic+json": {
              "type": "string"
            }
          },
          "metadata": {},
          "execution_count": 119
        }
      ],
      "source": [
        "# Daniel:\n",
        "\"\"\"\n",
        " 0   Accident Date                       570337 non-null  datetime64[ns]\n",
        " 1   Age at Injury                       574026 non-null  float64\n",
        " 3   Assembly Date                       593471 non-null  datetime64[ns]\n",
        " 6   Birth Year                          544948 non-null  float64\n",
        " 7   C-2 Date                            559466 non-null  datetime64[ns]\n",
        " 8   C-3 Date                            187245 non-null  datetime64[ns]\n",
        " 16  First Hearing Date                  150798 non-null  datetime64[ns]\n",
        " 2   Alternative Dispute Resolution      574026 non-null  object\n",
        " 4   Attorney/Representative             574026 non-null  object\n",
        " 10  Carrier Type                        574026 non-null  object\n",
        " 13  County of Injury                    574026 non-null  object\n",
        " \"\"\""
      ]
    },
    {
      "cell_type": "code",
      "execution_count": 120,
      "id": "25c3693e-be22-4d91-bc12-9ead21219488",
      "metadata": {
        "id": "25c3693e-be22-4d91-bc12-9ead21219488",
        "outputId": "06ce5ed2-c1ee-4254-b220-39d161d1fbae",
        "colab": {
          "base_uri": "https://localhost:8080/",
          "height": 105
        }
      },
      "outputs": [
        {
          "output_type": "execute_result",
          "data": {
            "text/plain": [
              "'\\n 19  Industry Code                       564068 non-null  float64       \\n 20  Industry Code Description           564068 non-null  object        \\n 21  Medical Fee Region                  574026 non-null  object     \\n 23  WCIO Cause of Injury Code           558386 non-null  float64       \\n 24  WCIO Cause of Injury Description    558386 non-null  object        \\n 25  WCIO Nature of Injury Code          558369 non-null  float64       \\n 26  WCIO Nature of Injury Description   558369 non-null  object        \\n 27  WCIO Part Of Body Code              556944 non-null  float64       \\n 28  WCIO Part Of Body Description       556944 non-null  object        \\n 29  Zip Code                            545389 non-null  object \\n 12  Claim Injury Type                   574026 non-null  object\\n 17  Gender                              574026 non-null  object        \\n'"
            ],
            "application/vnd.google.colaboratory.intrinsic+json": {
              "type": "string"
            }
          },
          "metadata": {},
          "execution_count": 120
        }
      ],
      "source": [
        "# Louis:\n",
        "\"\"\"\n",
        " 19  Industry Code                       564068 non-null  float64\n",
        " 20  Industry Code Description           564068 non-null  object\n",
        " 21  Medical Fee Region                  574026 non-null  object\n",
        " 23  WCIO Cause of Injury Code           558386 non-null  float64\n",
        " 24  WCIO Cause of Injury Description    558386 non-null  object\n",
        " 25  WCIO Nature of Injury Code          558369 non-null  float64\n",
        " 26  WCIO Nature of Injury Description   558369 non-null  object\n",
        " 27  WCIO Part Of Body Code              556944 non-null  float64\n",
        " 28  WCIO Part Of Body Description       556944 non-null  object\n",
        " 29  Zip Code                            545389 non-null  object\n",
        " 12  Claim Injury Type                   574026 non-null  object\n",
        " 17  Gender                              574026 non-null  object\n",
        "\"\"\""
      ]
    },
    {
      "cell_type": "code",
      "execution_count": 121,
      "id": "19981b7c-bd7a-4ac1-878c-7f1da87e9e39",
      "metadata": {
        "id": "19981b7c-bd7a-4ac1-878c-7f1da87e9e39",
        "outputId": "7091c09a-40cb-4327-d369-bab29b7e1067",
        "colab": {
          "base_uri": "https://localhost:8080/",
          "height": 70
        }
      },
      "outputs": [
        {
          "output_type": "execute_result",
          "data": {
            "text/plain": [
              "'\\n 5   Average Weekly Wage                 545375 non-null  float64       \\n 9   Carrier Name                        574026 non-null  object        \\n 11  Claim Identifier                    593471 non-null  int64         \\n 14  COVID-19 Indicator                  574026 non-null  object        \\n 15  District Name                       574026 non-null  object        \\n 18  IME-4 Count                         132803 non-null  float64       \\n 22  Number of Dependents                574026 non-null  float64       \\n'"
            ],
            "application/vnd.google.colaboratory.intrinsic+json": {
              "type": "string"
            }
          },
          "metadata": {},
          "execution_count": 121
        }
      ],
      "source": [
        "# Rita:\n",
        "\"\"\"\n",
        " 5   Average Weekly Wage                 545375 non-null  float64\n",
        " 9   Carrier Name                        574026 non-null  object\n",
        " 11  Claim Identifier                    593471 non-null  int64\n",
        " 14  COVID-19 Indicator                  574026 non-null  object\n",
        " 15  District Name                       574026 non-null  object\n",
        " 18  IME-4 Count                         132803 non-null  float64\n",
        " 22  Number of Dependents                574026 non-null  float64\n",
        "\"\"\""
      ]
    },
    {
      "cell_type": "markdown",
      "id": "14dc1098-7784-4392-80e8-c5b9fc4014a8",
      "metadata": {
        "id": "14dc1098-7784-4392-80e8-c5b9fc4014a8"
      },
      "source": [
        "## Step 3: Cross-Feature analysis"
      ]
    },
    {
      "cell_type": "code",
      "execution_count": 122,
      "id": "20025781-9ff3-4a8e-8b39-82b61ab096ab",
      "metadata": {
        "id": "20025781-9ff3-4a8e-8b39-82b61ab096ab"
      },
      "outputs": [],
      "source": [
        "# cross-feature inconsistencies\n",
        "    # all dates have to be after incident date\n",
        "    # if covid code -> covid has to be true\n",
        "    # code vs description (just check, we will ignore the descriptions later)\n",
        "    # How to deal with inconsistencies\n",
        "# cross-feature visualisations\n",
        "    # Write down Visualisation insights"
      ]
    },
    {
      "cell_type": "markdown",
      "id": "e90a48dd-fed9-4097-af68-3a4bf235bc22",
      "metadata": {
        "id": "e90a48dd-fed9-4097-af68-3a4bf235bc22"
      },
      "source": [
        "# Re-Run of Exploratory Analysis"
      ]
    },
    {
      "cell_type": "code",
      "execution_count": 122,
      "id": "89f06148-9583-43c2-92db-72baa7367117",
      "metadata": {
        "id": "89f06148-9583-43c2-92db-72baa7367117"
      },
      "outputs": [],
      "source": []
    }
  ],
  "metadata": {
    "kernelspec": {
      "display_name": "Python 3 (ipykernel)",
      "language": "python",
      "name": "python3"
    },
    "language_info": {
      "codemirror_mode": {
        "name": "ipython",
        "version": 3
      },
      "file_extension": ".py",
      "mimetype": "text/x-python",
      "name": "python",
      "nbconvert_exporter": "python",
      "pygments_lexer": "ipython3",
      "version": "3.12.5"
    },
    "colab": {
      "provenance": [],
      "toc_visible": true
    }
  },
  "nbformat": 4,
  "nbformat_minor": 5
}
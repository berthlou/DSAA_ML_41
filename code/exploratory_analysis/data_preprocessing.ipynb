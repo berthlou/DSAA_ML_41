{
 "cells": [
  {
   "cell_type": "markdown",
   "id": "e75793a0-91fe-4a25-bb66-e5f66111ef87",
   "metadata": {},
   "source": [
    "# Preprocessing\n",
    "This notebook contains code to preprocess the dataset (problem solving, outlier handling, missing values etc.) and the feature creation."
   ]
  },
  {
   "cell_type": "markdown",
   "id": "39a6f12d-25e1-429b-a0d3-f5d1ff7db900",
   "metadata": {},
   "source": [
    "## Data Loading"
   ]
  },
  {
   "cell_type": "markdown",
   "id": "00278c8b-b3b5-4a7d-82ee-6faade9f297a",
   "metadata": {},
   "source": [
    "## Individual Features\n",
    "- Unifying missing data with NaN\n",
    "- Removing outliers\n",
    "- etc.\n",
    "\n",
    "Missing data will be handled in a later step (Imputer)"
   ]
  },
  {
   "cell_type": "markdown",
   "id": "0c76e6be-9275-43d1-b2d5-91082cb99ec6",
   "metadata": {},
   "source": [
    "**Age at injury**"
   ]
  },
  {
   "cell_type": "code",
   "execution_count": null,
   "id": "614c05ee-2736-4316-a708-318038414046",
   "metadata": {},
   "outputs": [],
   "source": [
    "df_train['Age at Injury'] = df_train['Age at Injury'].replace(0, np.nan)\n",
    "df_test['Age at Injury'] = df_test['Age at Injury'].replace(0, np.nan)"
   ]
  },
  {
   "cell_type": "code",
   "execution_count": null,
   "id": "7d55f68d-5e56-484b-8a43-59b6e1062f3e",
   "metadata": {},
   "outputs": [],
   "source": [
    "df_train = df_train.drop(df_train[(df_train['Age at Injury'] < 14) | (df_train['Age at Injury'] > 80)].index)"
   ]
  },
  {
   "cell_type": "markdown",
   "id": "9ede0004-bdf0-4b26-8ae1-326841acba29",
   "metadata": {},
   "source": [
    "**Birth year**"
   ]
  },
  {
   "cell_type": "code",
   "execution_count": null,
   "id": "1045b4cb-c44f-4abb-975b-282ae3257b33",
   "metadata": {},
   "outputs": [],
   "source": [
    "df_train['by'] = df_train['by'].replace(0, np.nan)"
   ]
  },
  {
   "cell_type": "markdown",
   "id": "bf09cbaf-c43b-4380-83d6-f1c108f64dc9",
   "metadata": {},
   "source": [
    "**Carrier type**"
   ]
  },
  {
   "cell_type": "code",
   "execution_count": null,
   "id": "9152aae2-5499-453e-a2aa-731cfaa61e88",
   "metadata": {},
   "outputs": [],
   "source": [
    "# Replace UNKNOWN with Nan\n",
    "df_train['Carrier Type'] = df_train['Carrier Type'].replace(\"UNKNOWN\", np.nan)\n",
    "df_test['Carrier Type'] = df_test['Carrier Type'].replace(\"UNKNOWN\", np.nan)"
   ]
  },
  {
   "cell_type": "markdown",
   "id": "49f32f76-fcb8-44a7-8ad3-c703285c4187",
   "metadata": {},
   "source": [
    "**Attorney representation**"
   ]
  },
  {
   "cell_type": "code",
   "execution_count": null,
   "id": "d8b61b6c-6b38-43d4-b4fb-ebe575b46f70",
   "metadata": {},
   "outputs": [],
   "source": [
    "# Replace 'Y' with True, 'N' with False, and preserve NaNs\n",
    "df_train['Attorney/Representative'] = df_train['Attorney/Representative'].replace({'Y': True, 'N': False})\n",
    "\n",
    "# Now convert to nullable boolean type\n",
    "df_train['Attorney/Representative'] = df_train['Attorney/Representative'].astype(\"boolean\")"
   ]
  },
  {
   "cell_type": "code",
   "execution_count": null,
   "id": "26f9407d-1d20-41a9-8e1e-b0bafc37fc3d",
   "metadata": {},
   "outputs": [],
   "source": [
    "# Replace 'Y' with True, 'N' with False, and preserve NaNs\n",
    "df_test['Attorney/Representative'] = df_test['Attorney/Representative'].replace({'Y': True, 'N': False})\n",
    "\n",
    "# Now convert to nullable boolean type\n",
    "df_test['Attorney/Representative'] = df_test['Attorney/Representative'].astype(\"boolean\")"
   ]
  },
  {
   "cell_type": "markdown",
   "id": "3ec29580-a2c6-46ba-b1b6-4838d517d5d9",
   "metadata": {},
   "source": [
    "**Alternative Dispute Resolution**"
   ]
  },
  {
   "cell_type": "code",
   "execution_count": null,
   "id": "61a3802d-fc50-41ca-ada1-1319d1a109bc",
   "metadata": {},
   "outputs": [],
   "source": [
    "df_train['Alternative Dispute Resolution'] = df_train['Alternative Dispute Resolution'].replace(\"U\", np.nan)"
   ]
  },
  {
   "cell_type": "code",
   "execution_count": null,
   "id": "e8b0cab1-888e-4e15-977b-e7c15778cf5f",
   "metadata": {},
   "outputs": [],
   "source": [
    "df_train['Alternative Dispute Resolution'] = df_train['Alternative Dispute Resolution'].replace({'Y': True, 'N': False})\n",
    "df_train['Alternative Dispute Resolution'] = df_train['Alternative Dispute Resolution'].astype(\"boolean\")"
   ]
  },
  {
   "cell_type": "code",
   "execution_count": null,
   "id": "1e760a14-7cc5-42a3-a380-093585337ef3",
   "metadata": {},
   "outputs": [],
   "source": [
    "df_test['Alternative Dispute Resolution'] = df_test['Alternative Dispute Resolution'].replace(\"U\", np.nan)\n",
    "df_test['Alternative Dispute Resolution'] = df_test['Alternative Dispute Resolution'].replace({'Y': True, 'N': False})\n",
    "df_test['Alternative Dispute Resolution'] = df_test['Alternative Dispute Resolution'].astype(\"boolean\")"
   ]
  },
  {
   "cell_type": "markdown",
   "id": "286b4443-a4f3-4d15-b11a-ca375ed2aeaf",
   "metadata": {},
   "source": [
    "**Carrier Name**"
   ]
  },
  {
   "cell_type": "code",
   "execution_count": null,
   "id": "186b8e3f-b762-4752-8ef2-0185e4a0a471",
   "metadata": {},
   "outputs": [],
   "source": [
    "# Replace unknowns with \"others\"?"
   ]
  },
  {
   "cell_type": "markdown",
   "id": "ce4ffee6-b521-4cd7-8719-fa287a4ffce1",
   "metadata": {},
   "source": [
    "**Claim Identifier**"
   ]
  },
  {
   "cell_type": "code",
   "execution_count": null,
   "id": "243325aa-f1fc-4875-8330-35aa716365b5",
   "metadata": {},
   "outputs": [],
   "source": [
    "# Completely remove duplicates in \"Claim Identifier\" from train\n",
    "df_train = df_train[~df_train['Claim Identifier'].duplicated(keep=False)]"
   ]
  },
  {
   "cell_type": "markdown",
   "id": "069db2c0-7a88-4eaf-9877-0b3271d40c45",
   "metadata": {},
   "source": [
    "**IME-4 Count**"
   ]
  },
  {
   "cell_type": "code",
   "execution_count": null,
   "id": "6d3b5ac0-f397-4ccc-9f93-4e8aec0b9756",
   "metadata": {},
   "outputs": [],
   "source": [
    "# Cap high values to 10\n",
    "lower_bound = 0\n",
    "upper_bound = 10\n",
    "df_train['IME-4 Count'] = df_train['IME-4 Count'].apply(lambda x: min(max(x, lower_bound), upper_bound))"
   ]
  },
  {
   "cell_type": "markdown",
   "id": "fab6d1ce-ea66-4792-a072-c3293bd9ac1f",
   "metadata": {},
   "source": [
    "**Covid indicator**"
   ]
  },
  {
   "cell_type": "code",
   "execution_count": null,
   "id": "20169d44-bbc1-4ed2-b0da-745f4ce97ea8",
   "metadata": {},
   "outputs": [],
   "source": [
    "df_train['COVID-19 Indicator'] = df_train['COVID-19 Indicator'].replace({'Y': True, 'N': False})\n",
    "\n",
    "# Now convert to nullable boolean type\n",
    "df_train['COVID-19 Indicator'] = df_train['COVID-19 Indicator'].astype(\"boolean\")\n",
    "\n",
    "df_test['COVID-19 Indicator'] = df_test['COVID-19 Indicator'].replace({'Y': True, 'N': False})\n",
    "\n",
    "# Now convert to nullable boolean type\n",
    "df_test['COVID-19 Indicator'] = df_test['COVID-19 Indicator'].astype(\"boolean\")"
   ]
  },
  {
   "cell_type": "markdown",
   "id": "e236cb05-9852-4166-aa07-0587c9e28a97",
   "metadata": {},
   "source": [
    "**Average Weekly Wage**"
   ]
  },
  {
   "cell_type": "code",
   "execution_count": null,
   "id": "f639e448-b5dc-4cb2-a7e7-af836b5fc2aa",
   "metadata": {},
   "outputs": [],
   "source": [
    "upper_bound = 3.0e+04\n",
    "lower_bound = 0\n",
    "df_train['Average Weekly Wage'] = df_train['Average Weekly Wage'].apply(lambda x: min(max(x, lower_bound), upper_bound))"
   ]
  },
  {
   "cell_type": "markdown",
   "id": "8e4d8667-ec23-48a1-b73a-acb2b34acfaf",
   "metadata": {},
   "source": [
    "**Medical Fee Region**"
   ]
  },
  {
   "cell_type": "code",
   "execution_count": null,
   "id": "c685eaf4-4dd8-408e-8bd9-d9d88464c468",
   "metadata": {},
   "outputs": [],
   "source": [
    "df_train['Medical Fee Region'] = df_train['Medical Fee Region'].replace(\"UK\", np.nan)\n",
    "df_test['Medical Fee Region'] = df_test['Medical Fee Region'].replace(\"UK\", np.nan)"
   ]
  },
  {
   "cell_type": "markdown",
   "id": "498da336-eb07-47ac-bbad-5cde57b2c98d",
   "metadata": {},
   "source": [
    "**WCIO Part Of Body Code**"
   ]
  },
  {
   "cell_type": "code",
   "execution_count": null,
   "id": "1b8f9e7c-246e-4e97-a4e6-b148642a8f7c",
   "metadata": {},
   "outputs": [],
   "source": [
    "# Temporarily convert to numeric to apply absolute value, then convert back to category\n",
    "df_train[\"WCIO Part Of Body Code\"] = pd.to_numeric(df_train[\"WCIO Part Of Body Code\"], errors='coerce').abs().astype('category')\n",
    "df_test[\"WCIO Part Of Body Code\"] = pd.to_numeric(df_test[\"WCIO Part Of Body Code\"], errors='coerce').abs().astype('category')\n",
    "\n",
    "print(\"Converted all 'WCIO Part Of Body Code' values to positive and restored as categorical.\")"
   ]
  },
  {
   "cell_type": "markdown",
   "id": "83d42cc2-768e-42b0-a47a-ee6b6e3e961a",
   "metadata": {},
   "source": [
    "**Zip Code**"
   ]
  },
  {
   "cell_type": "code",
   "execution_count": null,
   "id": "05d9865d-6aab-48c7-960e-4929d5ad535f",
   "metadata": {},
   "outputs": [],
   "source": [
    "# Replace placeholder values with NaN in the original DataFrame\n",
    "df_train.loc[df_train[\"Zip Code\"].str.match(r'^0+$', na=False), \"Zip Code\"] = np.nan\n",
    "print(\"Replaced placeholder values with NaN in 'Zip Code'.\")"
   ]
  },
  {
   "cell_type": "markdown",
   "id": "814d5052-2454-4cdc-b534-ddd154621710",
   "metadata": {},
   "source": [
    "**Gender**"
   ]
  },
  {
   "cell_type": "code",
   "execution_count": null,
   "id": "18a2976d-ad84-4769-b80f-4336cee21265",
   "metadata": {},
   "outputs": [],
   "source": [
    "# Replace unknown with NaN\n",
    "df_train['Gender'] = df_train['Gender'].replace(\"U\", np.nan)\n",
    "df_test['Gender'] = df_test['Gender'].replace(\"U\", np.nan)"
   ]
  },
  {
   "cell_type": "code",
   "execution_count": null,
   "id": "f3990b7a-9e0e-4663-a0b7-4ec738321ef3",
   "metadata": {},
   "outputs": [],
   "source": []
  },
  {
   "cell_type": "markdown",
   "id": "f0aeabea-3e69-4646-b793-c556eec20e96",
   "metadata": {},
   "source": [
    "## Dates"
   ]
  },
  {
   "cell_type": "code",
   "execution_count": null,
   "id": "6aef5603-a6b4-492a-b1ff-d4ac5abc4657",
   "metadata": {},
   "outputs": [],
   "source": []
  },
  {
   "cell_type": "markdown",
   "id": "b913cb33-22a5-4b5e-b47f-b9c8475769fc",
   "metadata": {},
   "source": [
    "## Imputing Missing Data"
   ]
  },
  {
   "cell_type": "code",
   "execution_count": null,
   "id": "b73bf526-9097-4a25-88aa-9f863f8803d8",
   "metadata": {},
   "outputs": [],
   "source": []
  },
  {
   "cell_type": "code",
   "execution_count": null,
   "id": "47323dc7-a434-4388-b97d-a1534672a563",
   "metadata": {},
   "outputs": [],
   "source": []
  },
  {
   "cell_type": "code",
   "execution_count": null,
   "id": "57c350c5-fc54-4242-9030-9cb221e465eb",
   "metadata": {},
   "outputs": [],
   "source": []
  },
  {
   "cell_type": "code",
   "execution_count": null,
   "id": "82319abc-31e0-41fb-bbb6-f7da81f84616",
   "metadata": {},
   "outputs": [],
   "source": []
  },
  {
   "cell_type": "markdown",
   "id": "4e89a60b-f672-4547-9375-372b74c81e53",
   "metadata": {},
   "source": [
    "## Feature Creation\n",
    "### General Strategy\n",
    "#### Dates\n",
    "- Extract Day, Month, Year and Weekday (weekday vs weekend might impact decision as weekend is likely not work related) from accident date (most important date)\n",
    "- Other dates: Create feature \"days passed since accident date\"\n",
    "\n",
    "#### Ages\n",
    "- make age categories (teen, young adult, adult etc.)\n",
    "\n",
    "#### Carrier Name (?)\n",
    "- Only regard carriers with 10k+ cases.\n",
    "- Rest: \"other\""
   ]
  },
  {
   "cell_type": "markdown",
   "id": "0496e4cc-9924-4cae-91ce-974a8cb83d67",
   "metadata": {},
   "source": [
    "**Accident date**: Transform to four new features (day, month, year, weekday)"
   ]
  },
  {
   "cell_type": "code",
   "execution_count": null,
   "id": "5c1efd09-fe2f-43e5-b844-4d0bf7a36262",
   "metadata": {},
   "outputs": [],
   "source": [
    "df_accident_time['Accident Year'] = df_acident_time['Accident Date'].dt.year\n",
    "df_accident_time['Accident Month'] = df_acident_time['Accident Date'].dt.month\n",
    "df_accident_time['Accident DayOfWeek'] = df_acident_time['Accident Date'].dt.dayofweek"
   ]
  },
  {
   "cell_type": "markdown",
   "id": "d7a1481a-66ff-44a0-bd4c-eeffb2723eec",
   "metadata": {},
   "source": [
    "**All Dates**: Days passed since accident"
   ]
  },
  {
   "cell_type": "code",
   "execution_count": null,
   "id": "3f547483-86d7-4dae-bc9a-80f887d7da24",
   "metadata": {},
   "outputs": [],
   "source": []
  },
  {
   "cell_type": "code",
   "execution_count": null,
   "id": "6ec3e46d-7b5f-407b-b7ad-191338af7a34",
   "metadata": {},
   "outputs": [],
   "source": []
  }
 ],
 "metadata": {
  "kernelspec": {
   "display_name": "Python 3 (ipykernel)",
   "language": "python",
   "name": "python3"
  },
  "language_info": {
   "codemirror_mode": {
    "name": "ipython",
    "version": 3
   },
   "file_extension": ".py",
   "mimetype": "text/x-python",
   "name": "python",
   "nbconvert_exporter": "python",
   "pygments_lexer": "ipython3",
   "version": "3.12.5"
  }
 },
 "nbformat": 4,
 "nbformat_minor": 5
}

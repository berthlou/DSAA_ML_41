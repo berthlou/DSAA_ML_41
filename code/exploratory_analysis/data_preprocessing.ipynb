{
 "cells": [
  {
   "cell_type": "markdown",
   "id": "e75793a0-91fe-4a25-bb66-e5f66111ef87",
   "metadata": {},
   "source": [
    "# Preprocessing\n",
    "This notebook contains code to preprocess the dataset (problem solving, outlier handling, missing values etc.) and the feature creation."
   ]
  },
  {
   "cell_type": "markdown",
   "id": "39a6f12d-25e1-429b-a0d3-f5d1ff7db900",
   "metadata": {},
   "source": [
    "## Data Loading"
   ]
  },
  {
   "cell_type": "markdown",
   "id": "00278c8b-b3b5-4a7d-82ee-6faade9f297a",
   "metadata": {},
   "source": [
    "## Individual Features\n",
    "- Unifying missing data with NaN\n",
    "- Removing outliers\n",
    "- etc.\n",
    "\n",
    "Missing data will be handled in a later step (Imputer)"
   ]
  },
  {
   "cell_type": "markdown",
   "id": "b913cb33-22a5-4b5e-b47f-b9c8475769fc",
   "metadata": {},
   "source": [
    "## Imputing Missing Data"
   ]
  },
  {
   "cell_type": "markdown",
   "id": "4e89a60b-f672-4547-9375-372b74c81e53",
   "metadata": {},
   "source": [
    "## Feature Creation\n",
    "### General Strategy\n",
    "#### Dates\n",
    "- Extract Day, Month, Year and Weekday (weekday vs weekend might impact decision as weekend is likely not work related) from accident date (most important date)\n",
    "- Other dates: Create feature \"days passed since accident date\"\n",
    "\n",
    "#### Ages\n",
    "- make age categories (teen, young adult, adult etc.)\n",
    "\n",
    "#### Carrier Name (?)\n",
    "- Only regard carriers with 10k+ cases.\n",
    "- Rest: \"other\""
   ]
  },
  {
   "cell_type": "code",
   "execution_count": null,
   "id": "0517b9e2-a77d-4d9d-9d30-ba2db3af4b53",
   "metadata": {},
   "outputs": [],
   "source": []
  }
 ],
 "metadata": {
  "kernelspec": {
   "display_name": "Python 3 (ipykernel)",
   "language": "python",
   "name": "python3"
  },
  "language_info": {
   "codemirror_mode": {
    "name": "ipython",
    "version": 3
   },
   "file_extension": ".py",
   "mimetype": "text/x-python",
   "name": "python",
   "nbconvert_exporter": "python",
   "pygments_lexer": "ipython3",
   "version": "3.12.5"
  }
 },
 "nbformat": 4,
 "nbformat_minor": 5
}
